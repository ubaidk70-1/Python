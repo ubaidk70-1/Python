{
 "cells": [
  {
   "cell_type": "markdown",
   "id": "53944ec5",
   "metadata": {},
   "source": [
    "## THEORY QUESTION"
   ]
  },
  {
   "cell_type": "markdown",
   "id": "390b2637",
   "metadata": {},
   "source": [
    "Q1. What is the difference between interpreted and compiled languages?\n",
    "\n",
    "Programming languages can be broadly classified into compiled and interpreted languages based on how their source code is converted into machine code (the low-level code the computer understands).\n",
    "\n",
    "**Compiled Languages**\n",
    "In compiled languages, the entire source code is translated into machine code before execution, using a program called a compiler.\n",
    "\n",
    "**Characteristics:**\n",
    "1. Compilation is done once, and then the machine code (often called a binary or executable) can be run many times.\n",
    "\n",
    "2. Faster execution speed since the code is already translated into machine language.\n",
    "\n",
    "3. Errors are caught at compile-time, i.e., before execution.\n",
    "\n",
    "**Examples:**\n",
    "C, C++, Go, Rust, Java (partially compiled)\n",
    "\n",
    "\n"
   ]
  },
  {
   "cell_type": "markdown",
   "id": "fda4889c",
   "metadata": {},
   "source": [
    "The compiler translates program.c into machine code stored in the program file."
   ]
  },
  {
   "cell_type": "markdown",
   "id": "08a39fec",
   "metadata": {},
   "source": [
    "**Interpreted Languages**\n",
    "In interpreted languages, the source code is read and executed line-by-line by an interpreter at runtime.\n",
    "\n",
    "**Characteristics:**\n",
    "1. No separate compilation step—code runs directly from the source.\n",
    "\n",
    "2. Slower execution compared to compiled languages.\n",
    "\n",
    "3. Easier to debug and test small code snippets.\n",
    "\n",
    "4. Errors are caught at runtime, which can be later in execution.\n",
    "\n",
    "**Examples:**\n",
    "Python, JavaScript, Ruby, PHP\n",
    "\n",
    "**Example:**"
   ]
  },
  {
   "cell_type": "code",
   "execution_count": null,
   "id": "7ca006b5",
   "metadata": {},
   "outputs": [],
   "source": [
    "# Python code\n",
    "print(\"Hello, world!\")\n"
   ]
  },
  {
   "cell_type": "markdown",
   "id": "eeaab638",
   "metadata": {},
   "source": [
    "The Python interpreter reads and runs the code line-by-line."
   ]
  },
  {
   "cell_type": "markdown",
   "id": "f920e873",
   "metadata": {},
   "source": [
    "### Q2. What is exception handling in Python?\n",
    "\n",
    "Exception handling in Python is a mechanism to gracefully handle runtime errors or exceptions, so your program doesn’t crash abruptly.\n",
    "\n",
    "**Why It’s Important:**\n",
    "When something goes wrong during execution (like dividing by zero or opening a missing file), Python raises an exception. If not handled, the program will terminate with an error message.\n",
    "\n",
    "Exception handling allows you to catch these errors and respond appropriately, keeping your program running smoothly.\n",
    "\n",
    "**Basic Structure of Exception Handling**\n",
    "Python uses the try, except, else, and finally blocks for handling exceptions.\n",
    "\n",
    "**Syntax:**"
   ]
  },
  {
   "cell_type": "code",
   "execution_count": null,
   "id": "47e9a040",
   "metadata": {},
   "outputs": [],
   "source": [
    "try:\n",
    "    # Code that might raise an exception\n",
    "except ExceptionType:\n",
    "    # Code that runs if an exception occurs\n",
    "else:\n",
    "    # Code that runs if NO exception occurs (optional)\n",
    "finally:\n",
    "    # Code that runs NO MATTER WHAT (optional)\n"
   ]
  },
  {
   "cell_type": "markdown",
   "id": "929b4e47",
   "metadata": {},
   "source": [
    "**Example 1: Simple Exception Handling**"
   ]
  },
  {
   "cell_type": "code",
   "execution_count": 1,
   "id": "47e7b047",
   "metadata": {},
   "outputs": [
    {
     "name": "stdout",
     "output_type": "stream",
     "text": [
      "Result: 0.3125\n"
     ]
    }
   ],
   "source": [
    "try:\n",
    "    x = int(input(\"Enter a number: \"))\n",
    "    result = 10 / x\n",
    "    print(\"Result:\", result)\n",
    "except ZeroDivisionError:\n",
    "    print(\"You can't divide by zero!\")\n",
    "except ValueError:\n",
    "    print(\"Invalid input! Please enter a number.\")"
   ]
  },
  {
   "cell_type": "markdown",
   "id": "9594b0b4",
   "metadata": {},
   "source": [
    "**Output Scenarios:**\n",
    " + If input is 0: prints \"You can't divide by zero!\"\n",
    "\n",
    " + If input is abc: prints \"Invalid input!\"\n",
    "\n",
    " + If input is 2: prints \"Result: 5.0\""
   ]
  },
  {
   "cell_type": "markdown",
   "id": "4965381e",
   "metadata": {},
   "source": [
    "**Example 2: Using else and finally**"
   ]
  },
  {
   "cell_type": "code",
   "execution_count": 2,
   "id": "1b28c2c3",
   "metadata": {},
   "outputs": [
    {
     "name": "stdout",
     "output_type": "stream",
     "text": [
      "Square is: 0\n",
      "No errors occurred.\n",
      "Execution completed.\n"
     ]
    }
   ],
   "source": [
    "try:\n",
    "    num = int(input(\"Enter a number: \"))\n",
    "    print(\"Square is:\", num * num)\n",
    "except ValueError:\n",
    "    print(\"That's not a valid number!\")\n",
    "else:\n",
    "    print(\"No errors occurred.\")\n",
    "finally:\n",
    "    print(\"Execution completed.\")\n"
   ]
  },
  {
   "cell_type": "markdown",
   "id": "4fb682ed",
   "metadata": {},
   "source": [
    "  + else: runs only if no exception occurs.\n",
    "\n",
    "  + finally: runs regardless of whether an exception occurs."
   ]
  },
  {
   "cell_type": "markdown",
   "id": "5abb5e10",
   "metadata": {},
   "source": [
    "### Q3. What is the purpose of the finally block in exception handling?\n",
    "\n",
    "The finally block is used to define cleanup actions that must be executed, no matter what happens in the try or except blocks.\n",
    "\n",
    "Purpose:\n",
    "To ensure that important code runs whether an exception occurs or not — for example, closing files, releasing resources, disconnecting from a database, etc.\n",
    "\n",
    "The finally block will:\n",
    "\n",
    "   + Run if there is no exception\n",
    "\n",
    "   + Run if an exception is caught\n",
    "\n",
    "   + Run even if an exception is not caught\n",
    "\n",
    "   + Run even if the program returns early using return or break\n"
   ]
  },
  {
   "cell_type": "markdown",
   "id": "d8612d8e",
   "metadata": {},
   "source": [
    "### Q4. What is logging in Python?\n",
    "\n",
    "Logging in Python is a way to track events that happen when your program runs. It helps developers record information like:\n",
    "\n",
    "   + Errors and exceptions\n",
    "\n",
    "   + Program flow (what's happening where)\n",
    "\n",
    "   + Warnings and debug info\n",
    "\n",
    "   + User actions or system events\n",
    "\n",
    "Instead of using print() (which is okay for small scripts), logging gives you flexibility, better formatting, levels of importance, and options to write messages to files, not just the console.\n",
    "\n",
    "**Example:**\n",
    "\n"
   ]
  },
  {
   "cell_type": "code",
   "execution_count": 3,
   "id": "01c045aa",
   "metadata": {},
   "outputs": [
    {
     "name": "stderr",
     "output_type": "stream",
     "text": [
      "INFO:root:This is an info message.\n"
     ]
    }
   ],
   "source": [
    "import logging\n",
    "\n",
    "logging.basicConfig(level=logging.INFO)\n",
    "logging.info(\"This is an info message.\")"
   ]
  },
  {
   "cell_type": "markdown",
   "id": "fb800cf4",
   "metadata": {},
   "source": [
    "**Example with All Levels**"
   ]
  },
  {
   "cell_type": "code",
   "execution_count": 4,
   "id": "78d6748f",
   "metadata": {},
   "outputs": [
    {
     "name": "stderr",
     "output_type": "stream",
     "text": [
      "INFO:root:Program started\n",
      "WARNING:root:Low disk space\n",
      "ERROR:root:File not found\n",
      "CRITICAL:root:System crash\n"
     ]
    }
   ],
   "source": [
    "import logging\n",
    "\n",
    "logging.basicConfig(level=logging.DEBUG)\n",
    "\n",
    "logging.debug(\"Debugging info\")\n",
    "logging.info(\"Program started\")\n",
    "logging.warning(\"Low disk space\")\n",
    "logging.error(\"File not found\")\n",
    "logging.critical(\"System crash\")\n"
   ]
  },
  {
   "cell_type": "markdown",
   "id": "54ba782d",
   "metadata": {},
   "source": [
    "### Q5. What is the significance of the __del__ method in Python?\n",
    "\n",
    "The __del__ method is a special method (also called a destructor) that is automatically called when an object is about to be destroyed.\n",
    "\n",
    "It allows you to define cleanup actions—like closing files, releasing memory, or disconnecting from a network—when an object is garbage collected.\n",
    "\n",
    "**Syntax:**\n",
    "\n"
   ]
  },
  {
   "cell_type": "code",
   "execution_count": null,
   "id": "c61312fd",
   "metadata": {},
   "outputs": [],
   "source": [
    "class MyClass:\n",
    "    def __del__(self):\n",
    "        print(\"Destructor called. Object deleted.\")"
   ]
  },
  {
   "cell_type": "markdown",
   "id": "831b491d",
   "metadata": {},
   "source": [
    "**How It Works**\n",
    "   + Python uses automatic garbage collection to manage memory.\n",
    "\n",
    "   + When the reference count of an object drops to zero (i.e., no variable refers to it), Python deletes the object and calls its __del__ method, if defined.\n",
    "\n",
    "Example:   "
   ]
  },
  {
   "cell_type": "code",
   "execution_count": 5,
   "id": "aba6ddae",
   "metadata": {},
   "outputs": [
    {
     "name": "stdout",
     "output_type": "stream",
     "text": [
      "Object created\n",
      "Destructor called. Cleaning up...\n"
     ]
    }
   ],
   "source": [
    "class Demo:\n",
    "    def __init__(self):\n",
    "        print(\"Object created\")\n",
    "    \n",
    "    def __del__(self):\n",
    "        print(\"Destructor called. Cleaning up...\")\n",
    "\n",
    "obj = Demo()\n",
    "del obj  # Explicitly delete the object\n"
   ]
  },
  {
   "cell_type": "markdown",
   "id": "3ee1297a",
   "metadata": {},
   "source": [
    "**Cautions & Best Practices**\n",
    "   + Don't rely on __del__ for critical cleanup in complex programs, especially if other objects are still referencing it.\n",
    "\n",
    "   + The exact timing of __del__ is unpredictable in some cases (especially with circular references or in some environments like Jupyter notebooks).\n",
    "\n",
    "   + Prefer using context managers (with statement) for resource management"
   ]
  },
  {
   "cell_type": "markdown",
   "id": "460957ce",
   "metadata": {},
   "source": [
    "### Q6. What is the difference between import and from ... import in Python?\n",
    "\n",
    "**import**\n",
    "\n",
    "The import statement imports the entire module, and you access its functions, classes, or variables using the module name as a prefix.\n",
    "\n",
    "**Syntax:**"
   ]
  },
  {
   "cell_type": "code",
   "execution_count": null,
   "id": "b1a67eda",
   "metadata": {},
   "outputs": [],
   "source": [
    "import module_name"
   ]
  },
  {
   "cell_type": "markdown",
   "id": "4a00fb46",
   "metadata": {},
   "source": [
    "**Example:**"
   ]
  },
  {
   "cell_type": "code",
   "execution_count": 6,
   "id": "bd682284",
   "metadata": {},
   "outputs": [
    {
     "name": "stdout",
     "output_type": "stream",
     "text": [
      "4.0\n"
     ]
    }
   ],
   "source": [
    "import math\n",
    "\n",
    "print(math.sqrt(16))"
   ]
  },
  {
   "cell_type": "markdown",
   "id": "6372c91d",
   "metadata": {},
   "source": [
    "Here, you import the whole math module, and you access sqrt using math.sqrt"
   ]
  },
  {
   "cell_type": "markdown",
   "id": "f6296d0b",
   "metadata": {},
   "source": [
    "**from ... import**\n",
    "\n",
    "The from ... import statement imports specific functions, classes, or variables directly from a module into your namespace.\n",
    "\n",
    "**Syntax:**"
   ]
  },
  {
   "cell_type": "code",
   "execution_count": null,
   "id": "08ce1c51",
   "metadata": {},
   "outputs": [],
   "source": [
    "from module_name import function_name"
   ]
  },
  {
   "cell_type": "markdown",
   "id": "865f7403",
   "metadata": {},
   "source": [
    "**Example:**"
   ]
  },
  {
   "cell_type": "code",
   "execution_count": 7,
   "id": "c9283a01",
   "metadata": {},
   "outputs": [
    {
     "name": "stdout",
     "output_type": "stream",
     "text": [
      "4.0\n"
     ]
    }
   ],
   "source": [
    "from math import sqrt\n",
    "\n",
    "print(sqrt(16))"
   ]
  },
  {
   "cell_type": "markdown",
   "id": "09021043",
   "metadata": {},
   "source": [
    "Here, only sqrt is imported directly, so you can use it without the math. prefix."
   ]
  },
  {
   "cell_type": "markdown",
   "id": "fb9dcea3",
   "metadata": {},
   "source": [
    "**Best Practices**\n",
    "+ Use import module when you want clarity and control.\n",
    "\n",
    "+ Use from module import name when:\n",
    "\n",
    "    + You only need a few items\n",
    "\n",
    "    + You want simpler code syntax"
   ]
  },
  {
   "cell_type": "markdown",
   "id": "c4065155",
   "metadata": {},
   "source": [
    "### Q7. How can you handle multiple exceptions in Python?\n",
    "\n",
    "There are three main ways to handle multiple exceptions:\n",
    "\n",
    "1. Multiple except Blocks (Recommended)\n",
    "\n",
    "    You can write separate except blocks for different exception types."
   ]
  },
  {
   "cell_type": "code",
   "execution_count": 8,
   "id": "143c540f",
   "metadata": {},
   "outputs": [],
   "source": [
    "try:\n",
    "    num = int(input(\"Enter a number: \"))\n",
    "    result = 10 / num\n",
    "except ValueError:\n",
    "    print(\"Invalid input! Please enter a number.\")\n",
    "except ZeroDivisionError:\n",
    "    print(\"You can't divide by zero.\")\n"
   ]
  },
  {
   "cell_type": "markdown",
   "id": "972cf037",
   "metadata": {},
   "source": [
    "+ This way, each error is handled specifically, and you can give a meaningful message."
   ]
  },
  {
   "cell_type": "markdown",
   "id": "eed6eec6",
   "metadata": {},
   "source": [
    "2. Single except Block for Multiple Exceptions\n",
    "    \n",
    "    You can group multiple exceptions using parentheses."
   ]
  },
  {
   "cell_type": "code",
   "execution_count": 9,
   "id": "b184cfc8",
   "metadata": {},
   "outputs": [],
   "source": [
    "try:\n",
    "    num = int(input(\"Enter a number: \"))\n",
    "    result = 10 / num\n",
    "except (ValueError, ZeroDivisionError) as e:\n",
    "    print(f\"An error occurred: {e}\")\n"
   ]
  },
  {
   "cell_type": "markdown",
   "id": "37b1045d",
   "metadata": {},
   "source": [
    "This is useful when you want the same response for several exceptions."
   ]
  },
  {
   "cell_type": "markdown",
   "id": "0f945f50",
   "metadata": {},
   "source": [
    "3. Catch All Exceptions (Use with Caution)\n",
    "   \n",
    "    You can catch any kind of exception using a general except: block or except Exception"
   ]
  },
  {
   "cell_type": "code",
   "execution_count": null,
   "id": "cf199633",
   "metadata": {},
   "outputs": [],
   "source": [
    "try:\n",
    "    num = int(input(\"Enter a number: \"))\n",
    "    result = 10 / num\n",
    "except Exception as e:\n",
    "    print(f\"An unexpected error occurred: {e}\")\n"
   ]
  },
  {
   "cell_type": "markdown",
   "id": "eaa08190",
   "metadata": {},
   "source": [
    " + Only use this for logging or fallback mechanisms, not for silently ignoring errors.\n",
    "\n"
   ]
  },
  {
   "cell_type": "markdown",
   "id": "574e4e8c",
   "metadata": {},
   "source": [
    "### Q8. What is the purpose of the with statement when handling files in Python?\n",
    "\n",
    "The with statement is used to simplify file handling by automatically managing resource cleanup, such as closing files, even if an error occurs during file operations.\n",
    "\n",
    "**Purpose:**\n",
    "\n",
    "To ensure that files are properly opened and safely closed without needing to explicitly call file.close().\n",
    "\n",
    "**Basic Syntax:**"
   ]
  },
  {
   "cell_type": "code",
   "execution_count": null,
   "id": "1bd86238",
   "metadata": {},
   "outputs": [],
   "source": [
    "with open('filename.txt', 'r') as file:\n",
    "    content = file.read()\n",
    "# file is automatically closed here"
   ]
  },
  {
   "cell_type": "markdown",
   "id": "cc493b8f",
   "metadata": {},
   "source": [
    "**Without with Statement:**"
   ]
  },
  {
   "cell_type": "code",
   "execution_count": null,
   "id": "265f93b6",
   "metadata": {},
   "outputs": [],
   "source": [
    "file = open('filename.txt', 'r')\n",
    "try:\n",
    "    content = file.read()\n",
    "finally:\n",
    "    file.close()  # You must remember to close it\n"
   ]
  },
  {
   "cell_type": "markdown",
   "id": "5f555c25",
   "metadata": {},
   "source": [
    "If an error happens before file.close(), the file might remain open — leading to memory leaks or file lock issues."
   ]
  },
  {
   "cell_type": "markdown",
   "id": "52172d43",
   "metadata": {},
   "source": [
    "### Q9. What is the difference between multithreading and multiprocessing?\n",
    "\n",
    "**Multithreading**\n",
    "  + Threads share the same memory space.\n",
    "\n",
    "  + Useful for I/O-bound tasks (e.g., file read/write, web requests).\n",
    "\n",
    "  + Python has a Global Interpreter Lock (GIL), which prevents multiple threads from executing Python bytecode in parallel, limiting CPU-bound performance.\n",
    "\n",
    "**Best for:**\n",
    "  + Waiting tasks (e.g., downloading data, reading files)\n",
    "\n",
    "  + Responsive UI (in desktop apps)\n",
    "\n",
    "**Example:**\n"
   ]
  },
  {
   "cell_type": "code",
   "execution_count": 10,
   "id": "f4d660c5",
   "metadata": {},
   "outputs": [
    {
     "name": "stdout",
     "output_type": "stream",
     "text": [
      "Hello from thread\n"
     ]
    }
   ],
   "source": [
    "import threading\n",
    "\n",
    "def greet():\n",
    "    print(\"Hello from thread\")\n",
    "\n",
    "t1 = threading.Thread(target=greet)\n",
    "t1.start()\n"
   ]
  },
  {
   "cell_type": "markdown",
   "id": "91af1ad0",
   "metadata": {},
   "source": [
    "**Multiprocessing**\n",
    "  + Each process runs in its own memory space.\n",
    "\n",
    "  + Great for CPU-bound tasks (e.g., calculations, data processing).\n",
    "\n",
    "  + Not limited by the GIL—true parallelism on multi-core CPUs.\n",
    "\n",
    "**Best for:**\n",
    "  + Heavy computations (math, ML, large data processing)\n",
    "\n",
    "  + Leveraging multiple CPU cores\n",
    "\n",
    "**Example:**"
   ]
  },
  {
   "cell_type": "code",
   "execution_count": 11,
   "id": "a055c0e9",
   "metadata": {},
   "outputs": [],
   "source": [
    "import multiprocessing\n",
    "\n",
    "def compute():\n",
    "    print(\"Hello from process\")\n",
    "\n",
    "p1 = multiprocessing.Process(target=compute)\n",
    "p1.start()\n"
   ]
  },
  {
   "cell_type": "markdown",
   "id": "53c5b636",
   "metadata": {},
   "source": [
    "### Q10. What are the advantages of using logging in a program?\n",
    "\n",
    "Logging is the process of recording messages (e.g., errors, warnings, status updates) that describe what a program is doing while it runs.\n",
    "\n",
    "You typically use Python’s built-in logging module to handle this.\n",
    "\n",
    "**Advantages of Using Logging in a Program**\n",
    "\n",
    "1. Records Program Execution History\n",
    "    + Logs provide a chronological record of program execution.\n",
    "\n",
    "    + Helps trace what happened and when.\n",
    "\n",
    "2. Debugging Support\n",
    "    + Much better than using print() for finding bugs.\n",
    "\n",
    "    + You can log variable values, flow, or errors without cluttering output. \n",
    "\n",
    "3. Captures Errors and Exceptions\n",
    "    + Logs can automatically capture stack traces when an error occurs.\n",
    "\n",
    "    + Useful for troubleshooting after a crash. \n",
    "\n",
    "4. Improves Testing and Monitoring\n",
    "    + Logs can help track test failures or issues in production.\n",
    "\n",
    "    Critical in large applications where manual debugging is hard.\n",
    "          "
   ]
  },
  {
   "cell_type": "markdown",
   "id": "6b50c6f5",
   "metadata": {},
   "source": [
    "### Q11. What is memory management in Python?\n",
    "\n",
    "Memory management refers to the process of allocating, using, and freeing up memory used by your program during its execution.\n",
    "\n",
    "Python handles most of this automatically, thanks to its built-in memory manager and garbage collector.\n",
    "\n",
    "**Key Components of Python's Memory Management**\n",
    "\n",
    "1. Automatic Memory Allocation\n",
    "   + When you create objects (like integers, lists, strings), Python automatically allocates memory for them.\n",
    "\n",
    "   + The Python memory manager handles the low-level details.\n",
    "\n",
    "2. Garbage Collection (GC)\n",
    "   + Python has a built-in garbage collector that frees memory by deleting objects no longer in use.\n",
    "\n",
    "   + It mainly uses reference counting and handles circular references with a cyclic GC.  \n",
    "\n",
    "3. Reference Counting\n",
    "   + Every Python object has a reference count, i.e., how many variables point to it.\n",
    "\n",
    "   + When the reference count reaches zero, the object’s memory is freed.    \n",
    "\n",
    "   \n",
    "\n",
    "\n",
    "\n"
   ]
  },
  {
   "cell_type": "code",
   "execution_count": 12,
   "id": "ace6892b",
   "metadata": {},
   "outputs": [],
   "source": [
    "a = [1, 2, 3]  # reference count = 1\n",
    "b = a          # reference count = 2\n",
    "del a          # reference count = 1\n",
    "del b          # reference count = 0 → memory freed\n"
   ]
  },
  {
   "cell_type": "markdown",
   "id": "e34ecb19",
   "metadata": {},
   "source": [
    "4. Private Heap Space\n",
    "   + All Python objects and data structures are stored in a private heap.\n",
    "\n",
    "   + Managed by the interpreter — not directly accessible to the programmer\n",
    "\n",
    "5. Memory Pools\n",
    "   + Python uses a system called pymalloc for memory allocation.\n",
    "\n",
    "   + It organizes memory into pools to improve performance, especially for small objects.\n",
    "\n",
    "6. The __del__() Method (Destructor)\n",
    "   + This is called when an object is about to be destroyed.\n",
    "\n",
    "   + Useful for releasing resources like files or network connections.      "
   ]
  },
  {
   "cell_type": "code",
   "execution_count": 13,
   "id": "b93712ed",
   "metadata": {},
   "outputs": [],
   "source": [
    "class MyClass:\n",
    "    def __del__(self):\n",
    "        print(\"Object destroyed\")\n"
   ]
  },
  {
   "cell_type": "markdown",
   "id": "1760457a",
   "metadata": {},
   "source": [
    "### Q12. What are the basic steps involved in exception handling in Python?\n",
    "\n",
    "Python provides a structured way to handle exceptions using the following blocks:\n",
    "\n",
    "1. try Block – \"Try to run this code\"\n",
    "\n",
    "   This is where you write the code that might raise an exception.\n"
   ]
  },
  {
   "cell_type": "markdown",
   "id": "e8f0f2d3",
   "metadata": {},
   "source": [
    "2. except Block – \"If an error occurs, do this\"\n",
    "\n",
    "    This catches and handles specific exceptions (like ZeroDivisionError, ValueError, etc.)."
   ]
  },
  {
   "cell_type": "markdown",
   "id": "278ecb04",
   "metadata": {},
   "source": [
    "3. else Block – \"If no error occurs, do this\" (optional)\n",
    "    \n",
    "    This block runs only if the try block succeeds without any exception."
   ]
  },
  {
   "cell_type": "markdown",
   "id": "7cd95436",
   "metadata": {},
   "source": [
    "4. finally Block – \"Do this no matter what\" (optional)\n",
    "\n",
    "    This block runs no matter what happens — whether there’s an error or not. Useful for clean-up operations (like closing a file or releasing a resource)."
   ]
  },
  {
   "cell_type": "markdown",
   "id": "da2f00c5",
   "metadata": {},
   "source": [
    "**Full Example:**"
   ]
  },
  {
   "cell_type": "code",
   "execution_count": 14,
   "id": "dbfe55ce",
   "metadata": {},
   "outputs": [
    {
     "name": "stdout",
     "output_type": "stream",
     "text": [
      "Result is: 0.9090909090909091\n",
      "This block always executes.\n"
     ]
    }
   ],
   "source": [
    "try:\n",
    "    x = int(input(\"Enter a number: \"))\n",
    "    result = 10 / x\n",
    "except ZeroDivisionError:\n",
    "    print(\"Cannot divide by zero.\")\n",
    "except ValueError:\n",
    "    print(\"Invalid input! Enter a number.\")\n",
    "else:\n",
    "    print(f\"Result is: {result}\")\n",
    "finally:\n",
    "    print(\"This block always executes.\")\n"
   ]
  },
  {
   "cell_type": "markdown",
   "id": "256a5343",
   "metadata": {},
   "source": [
    "### 13. Why is memory management important in Python?\n",
    "\n",
    "1. **Prevents Memory Leaks**\n",
    "   + Memory leaks occur when unused objects are never freed.\n",
    "\n",
    "   + Python's garbage collector removes unreachable objects to reclaim memory.\n",
    "\n",
    "   Example: Without proper memory management, unused objects could accumulate, consuming RAM and slowing down or crashing the system.\n",
    "\n",
    "2. **Improves Performance**\n",
    "   + Efficient memory use ensures the program runs faster and more smoothly.\n",
    "\n",
    "   + Poor memory handling can cause slowdowns, especially in large applications or data-heavy tasks.\n",
    "\n",
    "3. **Supports Scalability**\n",
    "   + Memory-efficient programs can scale better, handling more data or more users without needing extra hardware.\n",
    "\n",
    "4. **Automatic Garbage Collection**\n",
    "   + Python automatically deletes unused objects using reference counting and cyclic garbage collection.\n",
    "\n",
    "   + This reduces the programmer's burden to manually manage memory (as you might need to in C/C++).\n",
    "\n",
    "5. **Prevents Crashes and Instability**\n",
    "   + When memory is not managed properly, programs may crash due to out-of-memory errors.\n",
    "\n",
    "   + Python helps avoid this by cleaning up objects that are no longer in use.\n",
    "\n",
    "6. **Safe and Secure Code**\n",
    "   + Memory bugs (like accessing freed memory) are common in languages without automatic memory management.\n",
    "\n",
    "   + Python avoids such bugs, making your programs safer and more robust.\n",
    "\n",
    "7. **Developer Productivity**\n",
    "   + Since Python manages memory automatically, you can focus more on logic and functionality than on low-level memory handling."
   ]
  },
  {
   "cell_type": "markdown",
   "id": "dadd9499",
   "metadata": {},
   "source": [
    "### Q14.What is the role of try and except in exception handling?\n",
    "\n",
    "They form a structure that allows you to attempt code that might raise an error, and then catch and handle that error without crashing the program.\n",
    "\n",
    "1. **try** Block — \"Try to execute this risky code\"\n",
    "\n",
    "   + This block contains code that might cause an error (like dividing by zero or opening a non-existent file).\n",
    "\n",
    "   + If no error occurs, Python skips the except block\n",
    "\n",
    "2. **except** Block — \"If an error occurs, handle it here\"\n",
    "   + This block catches the specific exception raised in the try block.\n",
    "\n",
    "   + It prevents the program from crashing and allows you to provide a custom error message or take corrective actions.   "
   ]
  },
  {
   "cell_type": "code",
   "execution_count": null,
   "id": "157ffa11",
   "metadata": {},
   "outputs": [
    {
     "name": "stdout",
     "output_type": "stream",
     "text": [
      "Result is: 10.0\n"
     ]
    }
   ],
   "source": [
    "try:\n",
    "    num = int(input(\"Enter a number: \"))\n",
    "    result = 10 / num\n",
    "except ZeroDivisionError:\n",
    "    print(\"Cannot divide by zero.\")\n",
    "except ValueError:\n",
    "    print(\"Please enter a valid number.\")\n",
    "else:\n",
    "    print(\"Result is:\", result)\n"
   ]
  },
  {
   "cell_type": "markdown",
   "id": "c05ce317",
   "metadata": {},
   "source": [
    "**Flowchart:**\n",
    "1. Python runs the try block.\n",
    "\n",
    "2. If no error: except is skipped, else (if present) runs.\n",
    "\n",
    "3. If an error occurs:\n",
    "\n",
    "    + Python jumps to the except block that matches the error type.\n",
    "\n",
    "    + The rest of the try block is skipped.\n",
    "\n",
    "4. finally (if present) always runs."
   ]
  },
  {
   "cell_type": "markdown",
   "id": "ad265d48",
   "metadata": {},
   "source": [
    "### Q15. How does Python's garbage collection system work?\n",
    "\n",
    "Python uses a combination of:\n",
    "\n",
    "1. Reference Counting\n",
    "2. Cycle Detection (Generational Garbage Collector)\n",
    "Let’s break these down:\n",
    "\n",
    "1. **Reference Counting (Primary Method)**\n",
    "   + Every object in Python has an internal reference count.\n",
    "\n",
    "   + This count increases when a new reference is made and decreases when a reference is deleted.\n",
    "\n",
    "   + When the count drops to zero, the object is automatically deleted.\n",
    "\n",
    "Example:"
   ]
  },
  {
   "cell_type": "code",
   "execution_count": 16,
   "id": "5d9c5d68",
   "metadata": {},
   "outputs": [
    {
     "name": "stdout",
     "output_type": "stream",
     "text": [
      "2\n"
     ]
    }
   ],
   "source": [
    "import sys\n",
    "\n",
    "a = [1, 2, 3]\n",
    "print(sys.getrefcount(a))  # Shows how many references point to 'a'\n",
    "\n",
    "b = a  # New reference\n",
    "del a  # Ref count decreases\n",
    "del b  # Now ref count = 0 → object is deleted\n"
   ]
  },
  {
   "cell_type": "markdown",
   "id": "1a4bc030",
   "metadata": {},
   "source": [
    "2. **Cyclic Garbage Collection**\n",
    "   + Reference counting fails with circular references (e.g., two objects referencing each other).\n",
    "\n",
    "   + Python uses a cyclic garbage collector to detect and clean up these reference cycles.\n",
    "\n",
    "Example of a circular reference:"
   ]
  },
  {
   "cell_type": "code",
   "execution_count": 17,
   "id": "c040b3b1",
   "metadata": {},
   "outputs": [],
   "source": [
    "class Node:\n",
    "    def __init__(self):\n",
    "        self.ref = self\n",
    "\n",
    "n = Node()  # Creates a self-reference (cycle)\n"
   ]
  },
  {
   "cell_type": "markdown",
   "id": "cc5a0ba4",
   "metadata": {},
   "source": [
    "Even if you delete n, Python may not immediately reclaim the memory, so it uses cycle detection."
   ]
  },
  {
   "cell_type": "markdown",
   "id": "360068b7",
   "metadata": {},
   "source": [
    "### Q16. What is the purpose of the else block in exception handling?\n",
    "\n",
    "  + It separates error-handling logic from success logic, making the code cleaner and easier to read.\n",
    "\n",
    "  + It ensures that the \"success path\" is only executed when no error has occurred in the try block.\n",
    "\n",
    " How It Works:\n",
    "\n",
    "  + If no exception occurs in the try block → else block runs.\n",
    "\n",
    "  + If an exception occurs → except block runs and else is skipped.\n",
    "\n",
    "\n",
    "\n",
    "\n",
    "\n",
    "\n",
    "\n"
   ]
  },
  {
   "cell_type": "markdown",
   "id": "1e1cbba6",
   "metadata": {},
   "source": [
    "### Q17. What are the common logging levels in Python?\n",
    "\n",
    "The logging module provides a flexible framework for tracking events in your code. It defines five standard logging levels, each indicating the severity of an event or message.\n",
    "\n",
    "1. DEBUG: Used for internal testing and diagnostics.   Usually only needed during development.\n",
    "\n",
    "    Example: logging.debug(\"User ID is: %s\", user_id)\n",
    "\n",
    "2. INFO: Used to confirm things are working as expected.\n",
    "\n",
    "    Example: logging.info(\"User successfully logged in.\")\n",
    "\n",
    "3. WARNING: Indicates something went wrong, but it's not critical.\n",
    "\n",
    "     Example: logging.warning(\"Disk space running low.\")\n",
    "\n",
    "4. ERROR: Indicates a failure in a part of the program.\n",
    "\n",
    "      Example: logging.error(\"Failed to connect to database.\")\n",
    "\n",
    "5. CRITICAL: Indicates a serious failure that may require immediate attention.\n",
    "\n",
    "      Example: logging.critical(\"System shutdown due to overheating!\")\n",
    "\n"
   ]
  },
  {
   "cell_type": "markdown",
   "id": "4ab72f18",
   "metadata": {},
   "source": [
    "### Q18. What is the difference between os.fork() and multiprocessing in Python?\n",
    "\n",
    "1. os.fork()\n",
    "    + A low-level system call used to create a child process.\n",
    "\n",
    "    + Available only on Unix/Linux systems.\n",
    "\n",
    "    + The child process is a copy of the parent.\n",
    "\n",
    "    + Requires manual handling of communication between processes.\n",
    "\n",
    "2. multiprocessing Module\n",
    "    + A high-level Python module that provides a platform-independent interface for creating and managing separate processes.\n",
    "\n",
    "    + Works on both Windows and Unix.\n",
    "\n",
    "    + Provides easy-to-use APIs for process creation, synchronization, and communication.\n",
    "\n",
    "\n",
    "\n"
   ]
  },
  {
   "cell_type": "markdown",
   "id": "8d3af76a",
   "metadata": {},
   "source": [
    "### Q19. What is the importance of closing a file in Python?\n",
    "\n",
    "Closing a file in Python is important because it ensures that all resources used by the file are properly released and that any data written to the file is safely saved. When a file is open, the operating system allocates resources like memory buffers and file descriptors to manage file operations. If the file is not closed properly, it can lead to several problems such as:\n",
    "\n",
    "1. Data Loss: Data may remain in memory buffers and not be fully written to the file unless the file is closed, leading to incomplete or lost data.\n",
    "\n",
    "2. Resource Leaks: Open files consume system resources. Not closing files can lead to resource leaks, especially in long-running programs, potentially exhausting system file descriptors.\n",
    "\n",
    "3. File Locking Issues: Some systems lock files during writing. If the file is not closed, other programs or parts of the code might not be able to access the file.\n",
    "\n",
    "4. Corruption of File Content: Especially in write or append modes, failing to close the file can corrupt the file due to incomplete operations or flushing errors.\n",
    "\n",
    "5. Improved Program Stability: Explicitly closing files makes the code more predictable, safer, and easier to debug and maintain.\n",
    "\n",
    "Therefore, always closing files is a best practice in file handling to ensure program reliability, efficiency, and data integrity.\n",
    "\n"
   ]
  },
  {
   "cell_type": "markdown",
   "id": "9463aee0",
   "metadata": {},
   "source": [
    "### Q20.What is the difference between file.read() and file.readline() in Python\n",
    "\n",
    "1. file.read()\n",
    "    + Reads the entire file or a specified number of characters.\n",
    "\n",
    "   + Returns a single string containing all the content.\n",
    "\n",
    "   + Useful when you want to load the whole file into memory at once.\n",
    "\n",
    "\n",
    "\n",
    "2. file.readline()\n",
    "   + Reads only one line at a time from the file.\n",
    "\n",
    "   + Returns that line as a string, including the newline character \\n.\n",
    "\n",
    "   + Useful for reading large files line-by-line, conserving memory."
   ]
  },
  {
   "cell_type": "markdown",
   "id": "d1d540e3",
   "metadata": {},
   "source": [
    "###  Q21.What is the logging module in Python used for?\n",
    "\n",
    "The logging module in Python is used for tracking events that happen while a program runs. It provides a standardized way to report messages, such as errors, warnings, or informational events, which can help in:\n",
    "\n",
    "**Main Uses of the logging Module:**\n",
    "\n",
    "1. Debugging\n",
    "\n",
    "   Helps developers trace and identify bugs or unexpected behavior by recording program flow and variable states.\n",
    "\n",
    "2. Monitoring\n",
    "\n",
    "   Useful for tracking the application's status in real-time or over time, especially in production environments.\n",
    "\n",
    "3. Error Reporting\n",
    "\n",
    "   Captures exceptions and errors in a structured format, which can be stored in log files for later review.\n",
    "\n",
    "4. Audit Trails\n",
    "\n",
    "   Keeps a record of system events or user actions, which is essential for security, compliance, or investigation purposes.\n",
    "\n",
    "5. Custom Messaging\n",
    "\n",
    "   Allows custom messages to be logged at different levels (e.g., info, warning, error), offering flexibility in how information is recorded and displayed.\n",
    "\n"
   ]
  },
  {
   "cell_type": "markdown",
   "id": "093776fd",
   "metadata": {},
   "source": [
    "### Q22.  What is the os module in Python used for in file handling?\n",
    "\n",
    "The os module in Python is used in file handling to interact with the operating system. It provides functions that allow you to perform low-level file system operations, such as creating, deleting, renaming, and navigating files and directories.\n",
    "\n",
    "**Uses of the os Module in File Handling**\n",
    "\n",
    "1. Working with Files and Directories\n",
    "\n",
    "    + os.remove(path): Deletes a file.\n",
    "\n",
    "    + os.rename(src, dst): Renames a file or directory.\n",
    "\n",
    "    + os.path.exists(path): Checks if a file or directory exists.\n",
    "\n",
    "    + os.path.isfile(path): Checks if the path is a file.\n",
    "\n",
    "    + os.path.isdir(path): Checks if the path is a directory.\n",
    "\n",
    "2. Directory Operations\n",
    "\n",
    "    + os.mkdir(path): Creates a new directory.\n",
    "\n",
    "    + os.makedirs(path): Creates directories recursively.\n",
    "\n",
    "    + os.rmdir(path): Removes an empty directory.\n",
    "\n",
    "    + os.listdir(path): Lists files and directories in the given path.\n",
    "\n",
    "    + os.getcwd(): Returns the current working directory.\n",
    "\n",
    "    + os.chdir(path): Changes the current working directory.\n",
    "\n",
    "3. Path Handling\n",
    "\n",
    "    + os.path.join(path1, path2): Joins path components in a platform-independent way.\n",
    "\n",
    "    + os.path.abspath(path): Returns the absolute path.\n",
    "\n",
    "    + os.path.basename(path): Returns the file name from a path.\n",
    "\n",
    "    + os.path.dirname(path): Returns the directory part of a path.\n",
    "\n",
    "\n",
    "\n"
   ]
  },
  {
   "cell_type": "markdown",
   "id": "de9425ca",
   "metadata": {},
   "source": [
    "### Q23. What are the challenges associated with memory management in Python?\n",
    "\n",
    "1. **Memory Leaks**\n",
    "    + Occur when objects that are no longer needed are not released from memory.\n",
    "\n",
    "    + Common causes include:\n",
    "\n",
    "        + Global variables\n",
    "\n",
    "        + Circular references not handled by the garbage collector\n",
    "\n",
    "        + C extensions or third-party libraries that mismanage memory\n",
    "\n",
    "2. **Circular References**\n",
    "    + Happens when two or more objects reference each other, forming a cycle.\n",
    "\n",
    "    + Example: A refers to B, and B refers back to A.\n",
    "\n",
    "    + Python’s default reference counting won't clean them up; the garbage collector has to detect and remove them.\n",
    "\n",
    "3. **Unpredictable Garbage Collection Timing**\n",
    "    + The gc module handles cyclic garbage collection, but its timing is not always predictable.\n",
    "\n",
    "    + This may cause performance issues or delayed release of memory in long-running applications.\n",
    "\n",
    "4. **High Memory Usage in Large Programs**\n",
    "   + Python’s dynamic typing and internal object structure (like dictionaries for objects) can consume more memory compared to statically-typed languages.\n",
    "\n",
    "   + Large data structures or inefficient code can lead to excessive memory consumption.\n",
    "\n",
    "5. **Fragmentation of Memory**\n",
    "   + Memory fragmentation can occur in long-running Python applications, especially when large objects are repeatedly allocated and deallocated.\n",
    "\n",
    "   + This leads to inefficient use of memory blocks.\n",
    "\n",
    "6. **Lack of Fine-Grained Control**\n",
    "   + Unlike lower-level languages (e.g., C/C++), Python doesn’t provide manual memory allocation or deallocation, which can be a limitation in memory-constrained environments.\n",
    "\n",
    "7. **Hidden References**\n",
    "    + Sometimes references to objects are kept unintentionally (e.g., in caches, closures, or data structures), preventing them from being garbage collected.\n",
    "\n",
    "8. **Multithreading and Memory Overhead**\n",
    "    + The Global Interpreter Lock (GIL) can prevent true memory sharing across threads.\n",
    "\n",
    "    + Memory overhead increases if multiple threads or processes are used inefficiently.\n",
    "\n",
    "\n",
    "\n",
    "\n",
    "\n",
    "\n",
    "\n",
    "\n",
    "\n",
    "\n",
    "\n"
   ]
  },
  {
   "cell_type": "markdown",
   "id": "a354061d",
   "metadata": {},
   "source": [
    "### Q24. How do you raise an exception manually in Python?\n",
    "\n",
    "In Python, you can raise an exception manually using the raise keyword. This is useful when you want to signal that an error or an exceptional condition has occurred in your code.\n",
    "\n",
    "\n",
    "**Steps to Raise an Exception:**\n",
    "1. Choose an appropriate built-in exception class (like ValueError, TypeError, ZeroDivisionError) or define a custom exception.\n",
    "\n",
    "2. Use the raise statement followed by the exception.\n",
    "\n",
    "**Examples:**"
   ]
  },
  {
   "cell_type": "code",
   "execution_count": null,
   "id": "4afb9a92",
   "metadata": {},
   "outputs": [],
   "source": [
    "raise ValueError(\"Invalid input provided\")\n",
    "raise TypeError(\"Expected a string but got an integer\")\n",
    "raise ZeroDivisionError(\"Cannot divide by zero\")"
   ]
  },
  {
   "cell_type": "markdown",
   "id": "23905f11",
   "metadata": {},
   "source": [
    "### Q25. Why is it important to use multithreading in certain applications?\n",
    "\n",
    "1. **Improves Application Responsiveness**\n",
    "\n",
    "    + In GUI-based or network applications, multithreading allows the main thread to remain responsive (e.g., to user inputs) while background tasks (like loading data or downloading files) run in separate threads.\n",
    "\n",
    "2. **Handles Multiple Tasks Simultaneously**\n",
    "    + Multithreading allows an application to perform multiple operations at once, such as reading data, processing it, and writing output — all in parallel.\n",
    "\n",
    "3. **Efficient Use of CPU Resources**\n",
    "\n",
    "    + For I/O-bound tasks (like file operations, web requests, database access), threads can wait independently without blocking the entire program, making better use of the CPU during idle time.\n",
    "\n",
    "4. **Faster Execution for I/O-bound Operations**\n",
    "\n",
    "    + In I/O-heavy applications, multithreading can speed up execution by allowing the program to continue running other tasks while waiting for slow operations to complete.\n",
    "\n",
    "5. **Simplifies Program Design for Certain Use Cases**\n",
    "    + In real-time systems (e.g., games, simulations, or monitoring systems), multithreading makes it easier to design systems where components (like UI, background data fetch, and processing) operate concurrently.\n",
    "\n",
    "6. Better User Experience\n",
    "    + Multithreaded applications avoid \"freezing\" or delays in user interfaces, resulting in smoother performance and improved user satisfaction."
   ]
  },
  {
   "cell_type": "markdown",
   "id": "7020fdbf",
   "metadata": {},
   "source": [
    "## Practical Questions"
   ]
  },
  {
   "cell_type": "markdown",
   "id": "8d74afe7",
   "metadata": {},
   "source": [
    "### Q1. How can you open a file for writing in Python and write a string to it?"
   ]
  },
  {
   "cell_type": "code",
   "execution_count": 19,
   "id": "658c931f",
   "metadata": {},
   "outputs": [],
   "source": [
    "with open(\"output.txt\", \"w\") as file:\n",
    "    file.write(\"Hello, this is a sample string.\")\n"
   ]
  },
  {
   "cell_type": "markdown",
   "id": "3894055f",
   "metadata": {},
   "source": [
    "### Q2. Write a Python program to read the contents of a file and print each line."
   ]
  },
  {
   "cell_type": "code",
   "execution_count": 20,
   "id": "a7a7f09b",
   "metadata": {},
   "outputs": [
    {
     "name": "stdout",
     "output_type": "stream",
     "text": [
      "Hello, this is a sample string.\n"
     ]
    }
   ],
   "source": [
    "with open(\"output.txt\", \"r\") as file:\n",
    "    for line in file:\n",
    "        print(line.strip())\n"
   ]
  },
  {
   "cell_type": "markdown",
   "id": "85685545",
   "metadata": {},
   "source": [
    "### Q3. How would you handle a case where the file doesn't exist while trying to open it for reading?"
   ]
  },
  {
   "cell_type": "code",
   "execution_count": 21,
   "id": "3d05a08b",
   "metadata": {},
   "outputs": [
    {
     "name": "stdout",
     "output_type": "stream",
     "text": [
      "The file does not exist.\n"
     ]
    }
   ],
   "source": [
    "try:\n",
    "    with open(\"nonexistent.txt\", \"r\") as file:\n",
    "        print(file.read())\n",
    "except FileNotFoundError:\n",
    "    print(\"The file does not exist.\")\n"
   ]
  },
  {
   "cell_type": "markdown",
   "id": "5f38d2f1",
   "metadata": {},
   "source": [
    "### Q4. Write a Python script that reads from one file and writes its content to another file"
   ]
  },
  {
   "cell_type": "code",
   "execution_count": 22,
   "id": "eea5a0ae",
   "metadata": {},
   "outputs": [],
   "source": [
    "with open(\"output.txt\", \"r\") as src, open(\"destination.txt\", \"w\") as dest:\n",
    "    for line in src:\n",
    "        dest.write(line)\n"
   ]
  },
  {
   "cell_type": "markdown",
   "id": "7019c121",
   "metadata": {},
   "source": [
    "### Q5.  How would you catch and handle division by zero error in Python?"
   ]
  },
  {
   "cell_type": "code",
   "execution_count": 23,
   "id": "2a8f1480",
   "metadata": {},
   "outputs": [
    {
     "name": "stdout",
     "output_type": "stream",
     "text": [
      "You can't divide by zero!\n"
     ]
    }
   ],
   "source": [
    "try:\n",
    "    result = 10 / 0\n",
    "except ZeroDivisionError:\n",
    "    print(\"You can't divide by zero!\")\n"
   ]
  },
  {
   "cell_type": "markdown",
   "id": "4b745c5b",
   "metadata": {},
   "source": [
    "### Q6.  Write a Python program that logs an error message to a log file when a division by zero exception occurs."
   ]
  },
  {
   "cell_type": "code",
   "execution_count": 24,
   "id": "57cd8f1e",
   "metadata": {},
   "outputs": [
    {
     "name": "stderr",
     "output_type": "stream",
     "text": [
      "ERROR:root:Division by zero occurred: division by zero\n"
     ]
    }
   ],
   "source": [
    "import logging\n",
    "\n",
    "logging.basicConfig(filename=\"errors.log\", level=logging.ERROR)\n",
    "\n",
    "try:\n",
    "    result = 10 / 0\n",
    "except ZeroDivisionError as e:\n",
    "    logging.error(\"Division by zero occurred: %s\", e)\n"
   ]
  },
  {
   "cell_type": "markdown",
   "id": "861373fe",
   "metadata": {},
   "source": [
    "### Q7. How do you log information at different levels (INFO, ERROR, WARNING) in Python using the logging module. "
   ]
  },
  {
   "cell_type": "code",
   "execution_count": 25,
   "id": "fa30ad2d",
   "metadata": {},
   "outputs": [
    {
     "name": "stderr",
     "output_type": "stream",
     "text": [
      "INFO:root:This is an info message.\n",
      "WARNING:root:This is a warning message.\n",
      "ERROR:root:This is an error message.\n"
     ]
    }
   ],
   "source": [
    "import logging\n",
    "\n",
    "logging.basicConfig(level=logging.DEBUG)\n",
    "\n",
    "logging.info(\"This is an info message.\")\n",
    "logging.warning(\"This is a warning message.\")\n",
    "logging.error(\"This is an error message.\")\n"
   ]
  },
  {
   "cell_type": "markdown",
   "id": "30ded87e",
   "metadata": {},
   "source": [
    "### Q8.  Write a program to handle a file opening error using exception handling."
   ]
  },
  {
   "cell_type": "code",
   "execution_count": 26,
   "id": "fa5a76d4",
   "metadata": {},
   "outputs": [
    {
     "name": "stdout",
     "output_type": "stream",
     "text": [
      "File opening error handled.\n"
     ]
    }
   ],
   "source": [
    "try:\n",
    "    with open(\"missing.txt\", \"r\") as file:\n",
    "        print(file.read())\n",
    "except FileNotFoundError:\n",
    "    print(\"File opening error handled.\")\n"
   ]
  },
  {
   "cell_type": "markdown",
   "id": "e8c5155a",
   "metadata": {},
   "source": [
    "### Q9.  How can you read a file line by line and store its content in a list in Python?"
   ]
  },
  {
   "cell_type": "code",
   "execution_count": 28,
   "id": "7951142e",
   "metadata": {},
   "outputs": [
    {
     "name": "stdout",
     "output_type": "stream",
     "text": [
      "['Hello, this is a sample string.']\n"
     ]
    }
   ],
   "source": [
    "with open(\"output.txt\", \"r\") as file:\n",
    "    lines = file.readlines()\n",
    "print(lines)\n"
   ]
  },
  {
   "cell_type": "markdown",
   "id": "dd7bc733",
   "metadata": {},
   "source": [
    "### Q10.  How can you append data to an existing file in Python?"
   ]
  },
  {
   "cell_type": "code",
   "execution_count": 29,
   "id": "fe11d259",
   "metadata": {},
   "outputs": [],
   "source": [
    "with open(\"output.txt\", \"a\") as file:\n",
    "    file.write(\"\\nThis line is appended.\")\n"
   ]
  },
  {
   "cell_type": "markdown",
   "id": "3c99164a",
   "metadata": {},
   "source": [
    "### Q11.  Write a Python program that uses a try-except block to handle an error when attempting to access a dictionary key that doesn't exist"
   ]
  },
  {
   "cell_type": "code",
   "execution_count": 30,
   "id": "c2f1829b",
   "metadata": {},
   "outputs": [
    {
     "name": "stdout",
     "output_type": "stream",
     "text": [
      "Key not found in the dictionary.\n"
     ]
    }
   ],
   "source": [
    "data = {\"name\": \"Ubaid\"}\n",
    "try:\n",
    "    print(data[\"age\"])\n",
    "except KeyError:\n",
    "    print(\"Key not found in the dictionary.\")\n"
   ]
  },
  {
   "cell_type": "markdown",
   "id": "4e12f6d8",
   "metadata": {},
   "source": [
    "### Q12. Write a program that demonstrates using multiple except blocks to handle different types of exceptions."
   ]
  },
  {
   "cell_type": "code",
   "execution_count": 31,
   "id": "c6920d00",
   "metadata": {},
   "outputs": [
    {
     "name": "stdout",
     "output_type": "stream",
     "text": [
      "Index out of range.\n"
     ]
    }
   ],
   "source": [
    "try:\n",
    "    my_list = [1, 2, 3]\n",
    "    print(my_list[5])\n",
    "    print(10 / 0)\n",
    "except IndexError:\n",
    "    print(\"Index out of range.\")\n",
    "except ZeroDivisionError:\n",
    "    print(\"Cannot divide by zero.\")\n"
   ]
  },
  {
   "cell_type": "markdown",
   "id": "7ca61bd9",
   "metadata": {},
   "source": [
    "### Q13.  How would you check if a file exists before attempting to read it in Python?"
   ]
  },
  {
   "cell_type": "code",
   "execution_count": 32,
   "id": "d049b568",
   "metadata": {},
   "outputs": [
    {
     "name": "stdout",
     "output_type": "stream",
     "text": [
      "File does not exist.\n"
     ]
    }
   ],
   "source": [
    "import os\n",
    "\n",
    "if os.path.exists(\"input.txt\"):\n",
    "    with open(\"input.txt\", \"r\") as file:\n",
    "        print(file.read())\n",
    "else:\n",
    "    print(\"File does not exist.\")\n"
   ]
  },
  {
   "cell_type": "markdown",
   "id": "90dfa780",
   "metadata": {},
   "source": [
    "### Q14.  Write a program that uses the logging module to log both informational and error messages."
   ]
  },
  {
   "cell_type": "code",
   "execution_count": 33,
   "id": "887dcf6d",
   "metadata": {},
   "outputs": [
    {
     "name": "stderr",
     "output_type": "stream",
     "text": [
      "INFO:root:Program started\n",
      "ERROR:root:An error occurred: division by zero\n"
     ]
    }
   ],
   "source": [
    "import logging\n",
    "\n",
    "logging.basicConfig(filename=\"app.log\", level=logging.INFO)\n",
    "\n",
    "logging.info(\"Program started\")\n",
    "try:\n",
    "    1 / 0\n",
    "except ZeroDivisionError as e:\n",
    "    logging.error(\"An error occurred: %s\", e)\n"
   ]
  },
  {
   "cell_type": "markdown",
   "id": "d1ef8af8",
   "metadata": {},
   "source": [
    "### Q15.  Write a Python program that prints the content of a file and handles the case when the file is empty."
   ]
  },
  {
   "cell_type": "code",
   "execution_count": 34,
   "id": "6be7f7f0",
   "metadata": {},
   "outputs": [
    {
     "name": "stdout",
     "output_type": "stream",
     "text": [
      "Hello, this is a sample string.\n",
      "This line is appended.\n"
     ]
    }
   ],
   "source": [
    "with open(\"output.txt\", \"r\") as file:\n",
    "    content = file.read()\n",
    "    if content:\n",
    "        print(content)\n",
    "    else:\n",
    "        print(\"The file is empty.\")\n"
   ]
  },
  {
   "cell_type": "markdown",
   "id": "2d96356f",
   "metadata": {},
   "source": [
    "### Q16.  Demonstrate how to use memory profiling to check the memory usage of a small program."
   ]
  },
  {
   "cell_type": "code",
   "execution_count": 47,
   "id": "2364ab92",
   "metadata": {},
   "outputs": [
    {
     "name": "stdout",
     "output_type": "stream",
     "text": [
      "ERROR: Could not find file C:\\Users\\uk601\\AppData\\Local\\Temp\\ipykernel_33688\\4199835883.py\n"
     ]
    },
    {
     "data": {
      "text/plain": [
       "4999950000"
      ]
     },
     "execution_count": 47,
     "metadata": {},
     "output_type": "execute_result"
    }
   ],
   "source": [
    "# Install memory profiler first: pip install memory-profiler\n",
    "from memory_profiler import profile\n",
    "\n",
    "@profile\n",
    "def my_func():\n",
    "    data = [i for i in range(100000)]\n",
    "    return sum(data)\n",
    "\n",
    "my_func()\n"
   ]
  },
  {
   "cell_type": "markdown",
   "id": "91ff9c4d",
   "metadata": {},
   "source": [
    "### Q17. Write a Python program to create and write a list of numbers to a file, one number per line."
   ]
  },
  {
   "cell_type": "code",
   "execution_count": 38,
   "id": "489dd89d",
   "metadata": {},
   "outputs": [],
   "source": [
    "numbers = [1, 2, 3, 4, 5]\n",
    "with open(\"numbers.txt\", \"w\") as file:\n",
    "    for number in numbers:\n",
    "        file.write(f\"{number}\\n\")\n"
   ]
  },
  {
   "cell_type": "markdown",
   "id": "98248ef7",
   "metadata": {},
   "source": [
    "### Q18.  How would you implement a basic logging setup that logs to a file with rotation after 1MB?"
   ]
  },
  {
   "cell_type": "code",
   "execution_count": 39,
   "id": "3a0e690d",
   "metadata": {},
   "outputs": [
    {
     "name": "stderr",
     "output_type": "stream",
     "text": [
      "INFO:root:This is a rotating log entry.\n"
     ]
    }
   ],
   "source": [
    "import logging\n",
    "from logging.handlers import RotatingFileHandler\n",
    "\n",
    "handler = RotatingFileHandler(\"rotated.log\", maxBytes=1024 * 1024, backupCount=3)\n",
    "logging.basicConfig(handlers=[handler], level=logging.INFO)\n",
    "\n",
    "logging.info(\"This is a rotating log entry.\")\n"
   ]
  },
  {
   "cell_type": "markdown",
   "id": "0efd2718",
   "metadata": {},
   "source": [
    "### Q19. Write a program that handles both IndexError and KeyError using a try-except block "
   ]
  },
  {
   "cell_type": "code",
   "execution_count": 40,
   "id": "38647f5a",
   "metadata": {},
   "outputs": [
    {
     "name": "stdout",
     "output_type": "stream",
     "text": [
      "List index out of range.\n"
     ]
    }
   ],
   "source": [
    "try:\n",
    "    lst = [1, 2]\n",
    "    print(lst[3])\n",
    "    d = {\"a\": 1}\n",
    "    print(d[\"b\"])\n",
    "except IndexError:\n",
    "    print(\"List index out of range.\")\n",
    "except KeyError:\n",
    "    print(\"Dictionary key not found.\")\n"
   ]
  },
  {
   "cell_type": "markdown",
   "id": "e0484142",
   "metadata": {},
   "source": [
    "### Q20.  How would you open a file and read its contents using a context manager in Python"
   ]
  },
  {
   "cell_type": "code",
   "execution_count": 42,
   "id": "08c6c962",
   "metadata": {},
   "outputs": [
    {
     "name": "stdout",
     "output_type": "stream",
     "text": [
      "Hello, this is a sample string.\n",
      "This line is appended.\n"
     ]
    }
   ],
   "source": [
    "with open(\"output.txt\", \"r\") as file:\n",
    "    content = file.read()\n",
    "    print(content)\n"
   ]
  },
  {
   "cell_type": "markdown",
   "id": "3a38e35d",
   "metadata": {},
   "source": [
    "### Q21.Write a Python program that reads a file and prints the number of occurrences of a specific word."
   ]
  },
  {
   "cell_type": "code",
   "execution_count": 44,
   "id": "e6b64f85",
   "metadata": {},
   "outputs": [
    {
     "name": "stdout",
     "output_type": "stream",
     "text": [
      "'python' occurred 0 times.\n"
     ]
    }
   ],
   "source": [
    "word_to_count = \"python\"\n",
    "count = 0\n",
    "with open(\"output.txt\", \"r\") as file:\n",
    "    for line in file:\n",
    "        count += line.lower().split().count(word_to_count.lower())\n",
    "print(f\"'{word_to_count}' occurred {count} times.\")\n"
   ]
  },
  {
   "cell_type": "markdown",
   "id": "038d8d14",
   "metadata": {},
   "source": [
    "### Q22. How can you check if a file is empty before attempting to read its contents?"
   ]
  },
  {
   "cell_type": "code",
   "execution_count": 45,
   "id": "8b49cdaa",
   "metadata": {},
   "outputs": [
    {
     "name": "stdout",
     "output_type": "stream",
     "text": [
      "Hello, this is a sample string.\n",
      "This line is appended.\n"
     ]
    }
   ],
   "source": [
    "import os\n",
    "\n",
    "if os.path.getsize(\"output.txt\") == 0:\n",
    "    print(\"File is empty.\")\n",
    "else:\n",
    "    with open(\"output.txt\", \"r\") as file:\n",
    "        print(file.read())\n"
   ]
  },
  {
   "cell_type": "markdown",
   "id": "f23ce14e",
   "metadata": {},
   "source": [
    "### Q23. Write a Python program that writes to a log file when an error occurs during file handling."
   ]
  },
  {
   "cell_type": "code",
   "execution_count": null,
   "id": "f7e6d893",
   "metadata": {},
   "outputs": [],
   "source": []
  },
  {
   "cell_type": "code",
   "execution_count": 46,
   "id": "20fce6b1",
   "metadata": {},
   "outputs": [
    {
     "name": "stderr",
     "output_type": "stream",
     "text": [
      "ERROR:root:File handling error: [Errno 2] No such file or directory: 'data.txt'\n"
     ]
    }
   ],
   "source": [
    "import logging\n",
    "\n",
    "logging.basicConfig(filename=\"file_errors.log\", level=logging.ERROR)\n",
    "\n",
    "try:\n",
    "    with open(\"data.txt\", \"r\") as file:\n",
    "        print(file.read())\n",
    "except Exception as e:\n",
    "    logging.error(\"File handling error: %s\", e)\n"
   ]
  }
 ],
 "metadata": {
  "kernelspec": {
   "display_name": "base",
   "language": "python",
   "name": "python3"
  },
  "language_info": {
   "codemirror_mode": {
    "name": "ipython",
    "version": 3
   },
   "file_extension": ".py",
   "mimetype": "text/x-python",
   "name": "python",
   "nbconvert_exporter": "python",
   "pygments_lexer": "ipython3",
   "version": "3.12.4"
  }
 },
 "nbformat": 4,
 "nbformat_minor": 5
}
