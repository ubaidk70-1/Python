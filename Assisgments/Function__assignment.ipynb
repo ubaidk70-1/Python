{
 "cells": [
  {
   "cell_type": "markdown",
   "id": "432785db",
   "metadata": {},
   "source": [
    "## Theory Questions:"
   ]
  },
  {
   "cell_type": "markdown",
   "id": "efa1afd7",
   "metadata": {},
   "source": [
    "**Q1. What is the difference between a function and a method in Python?**\n",
    "\n",
    "A function is an independent block of reusable code that performs a specific task and is defined using the def keyword. It is not tied to any object.\n",
    "\n",
    "A method is a function that is defined inside a class and is associated with an object (instance) or the class itself. Methods typically operate on the data contained within the object.\n",
    "\n",
    "Key Differences:\n",
    "\n",
    "1. Definition:\n",
    "\n",
    "    + A function is defined independently using the def keyword.\n",
    "\n",
    "    + A method is a function defined within a class.\n",
    "\n",
    "2. Association:\n",
    "\n",
    "    + A function is not associated with any object.\n",
    "\n",
    "    + A method is tied to an object or class instance.\n",
    "\n",
    "3. Invocation:\n",
    "\n",
    "    + A function is called directly: function_name(arguments).\n",
    "\n",
    "    + A method is called on an instance: object.method_name(arguments).\n",
    "\n",
    "4. First Argument:\n",
    "\n",
    "    + A function does not require self or cls as its first argument.\n",
    "\n",
    "    + A method typically has self (for instance methods) or cls (for class methods) as its first parameter.\n",
    "\n",
    "\n",
    "\n"
   ]
  },
  {
   "cell_type": "markdown",
   "id": "d3adcf29",
   "metadata": {},
   "source": [
    "**Example of a Function:**"
   ]
  },
  {
   "cell_type": "code",
   "execution_count": 1,
   "id": "e678d4c5",
   "metadata": {},
   "outputs": [
    {
     "name": "stdout",
     "output_type": "stream",
     "text": [
      "8\n"
     ]
    }
   ],
   "source": [
    "def add(a, b):\n",
    "    return a + b\n",
    "\n",
    "# Function call\n",
    "result = add(5, 3)\n",
    "print(result)"
   ]
  },
  {
   "cell_type": "markdown",
   "id": "5ed75280",
   "metadata": {},
   "source": [
    "**Example of a Method:**"
   ]
  },
  {
   "cell_type": "code",
   "execution_count": 2,
   "id": "92e72693",
   "metadata": {},
   "outputs": [
    {
     "name": "stdout",
     "output_type": "stream",
     "text": [
      "8\n"
     ]
    }
   ],
   "source": [
    "class Calculator:\n",
    "    def add(self, a, b):\n",
    "        return a + b\n",
    "\n",
    "# Create an instance\n",
    "calc = Calculator()\n",
    "\n",
    "# Method call\n",
    "result = calc.add(5, 3)\n",
    "print(result)"
   ]
  },
  {
   "cell_type": "markdown",
   "id": "a18f4627",
   "metadata": {},
   "source": [
    "**Q2. Explain the concept of function arguments and parameters in Python.**\n",
    "\n",
    "Parameters are the placeholders defined in a function signature — they are the variable names listed inside the parentheses during function definition.\n",
    "\n",
    "Arguments are the actual values you pass to a function when calling it.\n",
    "\n",
    "In short:\n",
    "Parameters = During function definition\n",
    "Arguments = During function call\n",
    "\n",
    "Detailed Points:\n",
    "\n",
    "1. Function Parameters:\n",
    "\n",
    "    + Declared inside the parentheses when defining a function.\n",
    "\n",
    "    + They act as variables that hold the data passed into the function.\n",
    "\n",
    "2. Function Arguments:\n",
    "\n",
    "   + Provided inside the parentheses when calling the function.\n",
    "\n",
    "   + These are the real values assigned to the parameters.\n",
    "\n",
    "3. Types of Arguments:\n",
    "\n",
    "   + Positional Arguments: Passed in the same order as parameters are defined.\n",
    "\n",
    "   + Keyword Arguments: Passed using parameter names explicitly.\n",
    "\n",
    "   + Default Arguments: Parameters can have default values.\n",
    "\n",
    "   + Variable-length Arguments:\n",
    "\n",
    "       - *args: Accepts any number of positional arguments as a tuple.\n",
    "\n",
    "       - **kwargs: Accepts any number of keyword arguments as a dictionary\n",
    "\n"
   ]
  },
  {
   "cell_type": "markdown",
   "id": "56b4a174",
   "metadata": {},
   "source": [
    "**Example: Basic Parameters and Arguments**"
   ]
  },
  {
   "cell_type": "code",
   "execution_count": 3,
   "id": "98bc732b",
   "metadata": {},
   "outputs": [
    {
     "name": "stdout",
     "output_type": "stream",
     "text": [
      "Good Morning, Asad!\n"
     ]
    }
   ],
   "source": [
    "def greet(name, message):\n",
    "    print(f\"{message}, {name}!\")\n",
    "\n",
    "# 'name' and 'message' are parameters\n",
    "greet(\"Asad\", \"Good Morning\")  \n",
    "# \"Asad\" and \"Good Morning\" are arguments"
   ]
  },
  {
   "cell_type": "markdown",
   "id": "5c08b096",
   "metadata": {},
   "source": [
    "**Q3. What are the different ways to define and call a function in Python?**\n",
    "\n",
    "1. Regular Function using def:\n",
    "\n",
    "   + Defined using the def keyword.\n",
    "   + Can have parameters or no parameters.\n",
    "   + Simply call the function by its name and pass required arguments.\n",
    "\n",
    "\n"
   ]
  },
  {
   "cell_type": "markdown",
   "id": "85d44965",
   "metadata": {},
   "source": [
    "**Example**"
   ]
  },
  {
   "cell_type": "code",
   "execution_count": 4,
   "id": "7c4737f3",
   "metadata": {},
   "outputs": [
    {
     "data": {
      "text/plain": [
       "'Hello, ubaid khan!'"
      ]
     },
     "execution_count": 4,
     "metadata": {},
     "output_type": "execute_result"
    }
   ],
   "source": [
    "def greet(name):\n",
    "    return f\"Hello, {name}!\"\n",
    "\n",
    "greet(\"ubaid khan\")  # \"ubaid khan\" is an argument"
   ]
  },
  {
   "cell_type": "markdown",
   "id": "37c822c8",
   "metadata": {},
   "source": [
    "2. Function with Default Parameters:\n",
    "\n",
    "   + Some parameters can have default values.\n",
    "   + They make parameters optional during function call.\n",
    "\n",
    "   + If an argument is provided, it overrides the default.\n",
    "\n",
    "   + Default parameters must appear after non-default parameters in the function signature.\n",
    "\n",
    "**Example**\n",
    "\n"
   ]
  },
  {
   "cell_type": "code",
   "execution_count": 5,
   "id": "6df28184",
   "metadata": {},
   "outputs": [
    {
     "name": "stdout",
     "output_type": "stream",
     "text": [
      "Hello, Uday!\n",
      "Good Morning, Ubaid!\n"
     ]
    }
   ],
   "source": [
    "def greet(name, message=\"Hello\"):\n",
    "    print(f\"{message}, {name}!\")\n",
    "\n",
    "# Calling with one argument (uses default message)\n",
    "greet(\"Uday\")\n",
    "\n",
    "# Calling with both arguments (overrides default)\n",
    "greet(\"Ubaid\", \"Good Morning\")"
   ]
  },
  {
   "cell_type": "markdown",
   "id": "3834ef31",
   "metadata": {},
   "source": [
    "3. Functions with Variable-length Arguments\n",
    "\n",
    "   + *args allows a function to accept any number of positional arguments (packed as a tuple).\n",
    "\n",
    "   + **kwargs allows a function to accept any number of keyword arguments (packed as a dictionary).\n",
    "\n",
    "   + You can use both *args and **kwargs together in a function.\n",
    "\n",
    "   + *args must come before **kwargs if both are used.\n",
    "\n",
    "**Example**   "
   ]
  },
  {
   "cell_type": "code",
   "execution_count": 6,
   "id": "f9d1d583",
   "metadata": {},
   "outputs": [
    {
     "name": "stdout",
     "output_type": "stream",
     "text": [
      "Positional arguments: (1, 2, 3)\n",
      "Keyword arguments: {'name': 'Uday', 'age': 23}\n"
     ]
    }
   ],
   "source": [
    "def show_details(*args, **kwargs):\n",
    "    print(\"Positional arguments:\", args)\n",
    "    print(\"Keyword arguments:\", kwargs)\n",
    "\n",
    "show_details(1, 2, 3, name=\"Uday\", age=23) "
   ]
  },
  {
   "cell_type": "markdown",
   "id": "0181645a",
   "metadata": {},
   "source": [
    "4. Lambda (Anonymous) Function:\n",
    "\n",
    "   + Small, one-line function defined using lambda keyword.\n",
    "\n",
    "   + Typically used for short operations.\n",
    "\n",
    "**Example**\n",
    "\n"
   ]
  },
  {
   "cell_type": "code",
   "execution_count": 7,
   "id": "65b37713",
   "metadata": {},
   "outputs": [
    {
     "name": "stdout",
     "output_type": "stream",
     "text": [
      "8\n"
     ]
    }
   ],
   "source": [
    "add = lambda x, y: x + y\n",
    "print(add(3, 5))  # Output: 8\n"
   ]
  },
  {
   "cell_type": "markdown",
   "id": "5ad9dceb",
   "metadata": {},
   "source": [
    "5.Nested Functions\n",
    "   + A nested function is created by defining a function inside another function.\n",
    "\n",
    "   + The inner function is accessible only inside the outer function.\n",
    "\n",
    "   + Useful for:\n",
    "\n",
    "        - Encapsulating functionality.\n",
    "\n",
    "        - Hiding helper functions.\n",
    "\n",
    "        - Implementing closures (functions that remember values).\n",
    "\n",
    "**Example**       "
   ]
  },
  {
   "cell_type": "code",
   "execution_count": 8,
   "id": "7166f014",
   "metadata": {},
   "outputs": [
    {
     "name": "stdout",
     "output_type": "stream",
     "text": [
      "Hello, Ubaid Khan!\n"
     ]
    }
   ],
   "source": [
    "def greet(name):\n",
    "    def get_message():\n",
    "        return \"Hello\"\n",
    "    \n",
    "    print(f\"{get_message()}, {name}!\")\n",
    "\n",
    "greet(\"Ubaid Khan\")  # Output: Hello, ubaid"
   ]
  },
  {
   "cell_type": "markdown",
   "id": "8efd19e9",
   "metadata": {},
   "source": [
    "**Q4. What is the purpose of the return statement in a Python function?**\n",
    "\n",
    "The return statement is used to send a value back from a function to the caller.\n",
    "It ends the function execution and outputs a result.\n",
    "\n",
    "Key Points:\n",
    "  + Returns a value from a function to the caller.\n",
    "\n",
    "  + Ends the execution of the function immediately.\n",
    "\n",
    "  + Without a return, a function returns None by default.\n",
    "\n",
    "  + You can return:\n",
    "\n",
    "       - Single value\n",
    "\n",
    "       - Multiple values (as a tuple)\n",
    "\n",
    "       - Expressions\n",
    "\n",
    "       - Data structures (list, dict, etc.)\n",
    "\n",
    "**Example**      \n",
    "\n"
   ]
  },
  {
   "cell_type": "code",
   "execution_count": 9,
   "id": "f1a24cbb",
   "metadata": {},
   "outputs": [
    {
     "name": "stdout",
     "output_type": "stream",
     "text": [
      "8\n"
     ]
    }
   ],
   "source": [
    "def add(a, b):\n",
    "    return a + b\n",
    "\n",
    "result = add(3, 5)\n",
    "print(result)"
   ]
  },
  {
   "cell_type": "markdown",
   "id": "3ba4528c",
   "metadata": {},
   "source": [
    "**Q5.What are iterators in Python and how do they differ from iterables**\n",
    "\n",
    "An iterator is an object in Python that allows you to traverse through all the elements of a collection (like a list, tuple, or string) one item at a time, without needing to know how many elements are there.\n",
    "\n",
    "Key Points about Iterators:\n",
    "\n",
    "   + An iterator implements two methods:\n",
    "\n",
    "      * __iter__() returns the iterator object itself.\n",
    "\n",
    "      * '__next__()' returns the next value and raises StopIteration when finished.\n",
    "\n",
    "   + Produced by calling iter() on an iterable.\n",
    "\n",
    "   + Used with next() function to get elements one by one.\n",
    "\n",
    "   + Saves memory because it processes elements one at a time (especially useful with large datasets).\n",
    "   + Can get exhausted once all elements are accessed.\n",
    "\n",
    "An iterable is something you can loop over (e.g., a list or string), while an iterator is the object responsible for retrieving elements from that iterable, one by one, through the next() function. All iterators are iterables, but not all iterables are iterators. To use an iterable in an iteration, it must first be converted into an iterator using the iter() function.\n",
    "\n",
    "**Example**\n",
    "\n"
   ]
  },
  {
   "cell_type": "code",
   "execution_count": 10,
   "id": "3dc9ca6e",
   "metadata": {},
   "outputs": [
    {
     "name": "stdout",
     "output_type": "stream",
     "text": [
      "1\n",
      "2\n",
      "3\n"
     ]
    }
   ],
   "source": [
    "# Iterable example (list)\n",
    "my_list = [1, 2, 3]  # This is an Iterable\n",
    "it = iter(my_list)   # Now 'it' is an Iterator\n",
    "\n",
    "print(next(it))  # 1\n",
    "print(next(it))  # 2\n",
    "print(next(it))  # 3\n"
   ]
  },
  {
   "cell_type": "markdown",
   "id": "2675d5b8",
   "metadata": {},
   "source": [
    "**Q6. Explain the concept of generators in Python and how they are defined.**\n",
    "\n",
    "A generator in Python is a special type of iterator that allows you to create an iterable sequence of items lazily, i.e., one item at a time, without storing the entire sequence in memory. This makes generators memory-efficient, especially when dealing with large datasets.\n",
    "\n",
    "How Generators Work:\n",
    "  + Generators use the yield keyword instead of return to produce a sequence of values.\n",
    "\n",
    "  + When a generator function is called, it returns an iterator, not a value.\n",
    "\n",
    "  + Each time the generator's __next__() method is called, it resumes execution from where it last left off (after the yield statement).\n",
    "\n",
    "  + Once all values are yielded, the generator raises a StopIteration exception to indicate the end of the sequence.\n",
    "\n",
    "**Defining a Generator Function:**\n",
    "A generator function is defined just like a regular function, but it uses yield instead of return to return values one at a time.\n",
    "\n",
    "**Example of a Generator Function:**\n"
   ]
  },
  {
   "cell_type": "code",
   "execution_count": 11,
   "id": "e7421e22",
   "metadata": {},
   "outputs": [
    {
     "name": "stdout",
     "output_type": "stream",
     "text": [
      "1\n",
      "2\n",
      "3\n",
      "4\n",
      "5\n"
     ]
    }
   ],
   "source": [
    "def count_up_to(max):\n",
    "    count = 1\n",
    "    while count <= max:\n",
    "        yield count  # Yield the current count\n",
    "        count += 1\n",
    "        \n",
    "counter = count_up_to(5)\n",
    "for num in counter:\n",
    "    print(num)    "
   ]
  },
  {
   "cell_type": "markdown",
   "id": "832387dd",
   "metadata": {},
   "source": [
    "**Q7. What are the advantages of using generators over regular functions?**\n",
    "\n",
    "Advantages of Generators:\n",
    "  1. Memory Efficiency:\n",
    "\n",
    "      + Generators do not store the entire sequence in memory at once. Instead, they generate values on the fly, one at a time, when requested.\n",
    "\n",
    "      + This makes them ideal for working with large datasets or infinite sequences, as they use much less memory than a regular function that returns a large collection (like a list).\n",
    "\n",
    "      Example:\n",
    "\n",
    "        + In a regular function, if you return a large list, all the elements are stored in memory at once. With a generator, only the current element is in memory.\n",
    "\n",
    "  2. Laziness (On-demand Evaluation):\n",
    "\n",
    "      + Generators compute values only when needed (i.e., lazily). This means that you can start processing large data before the entire sequence is ready, which is particularly useful in streaming or real-time data processing.\n",
    "\n",
    "      Example:\n",
    "\n",
    "        + If you are reading lines from a file, a generator will only read the line when requested (e.g., inside a for loop or next()).\n",
    "\n",
    "   3. State Preservation:\n",
    "\n",
    "      + Unlike regular functions, generators preserve their state between calls. After each yield, the state of the generator (local variables and the position in the function) is saved, and when next() is called again, the generator resumes execution from where it left off.\n",
    "\n",
    "      Example:\n",
    "\n",
    "        + A generator allows maintaining the state of an ongoing operation without needing external variables.\n",
    "\n",
    "  4. Improved Performance:\n",
    "\n",
    "      + Generators can improve performance by eliminating the need for constructing large intermediate collections. Since only the required value is generated, it reduces the computational overhead and speeds up the program, especially for large or infinite datasets.\n",
    "\n",
    "      Example:\n",
    "\n",
    "        + In cases where you need to filter or process data one item at a time, using a generator avoids creating an intermediate data structure, thus improving speed.\n",
    "\n",
    "  5. Supports Infinite Sequences:\n",
    "\n",
    "      + Generators can be used to generate infinite sequences, which is not possible with regular functions that return lists or other collections. Since a  generator produces values one at a time and only when requested, it can generate an infinite series without running out of memory.\n",
    "\n",
    "      Example:\n",
    "\n",
    "        + A generator can generate an infinite sequence of numbers without ever exhausting memory.\n",
    "\n",
    "\n",
    "\n",
    "\n",
    "\n"
   ]
  },
  {
   "cell_type": "markdown",
   "id": "b5a7c209",
   "metadata": {},
   "source": [
    "**Q8. What is a lambda function in Python and when is it typically used?**\n",
    "\n",
    "+ A lambda function in Python is a small, anonymous function that is defined using the lambda keyword instead of the regular def keyword.\n",
    "\n",
    "+ It can have any number of arguments, but only one expression.\n",
    "\n",
    "+ The expression is evaluated and returned automatically — no need to use an explicit return statement.\n",
    "\n",
    "+ Lambda functions are often called anonymous functions because they are usually not given a name unless assigned to a variable.\n",
    "\n",
    "**When is a Lambda Function Typically Used?**\n",
    "\n",
    "Lambda functions are typically used:\n",
    "\n",
    "1. When a simple function is needed for a short period of time.\n",
    "\n",
    "    + Example: Temporary functions passed to higher-order functions like map(), filter(), or sorted().\n",
    "\n",
    "2. When defining small functions inline.\n",
    "\n",
    "    + Instead of writing a full def function, you can use a lambda to keep the code short and readable.\n",
    "\n",
    "3. For simple operations where writing a full function would be unnecessary.\n",
    "\n",
    "    + Example: quick mathematical operations, key functions for sorting, custom filters.\n",
    "\n",
    "**Example**\n"
   ]
  },
  {
   "cell_type": "code",
   "execution_count": 12,
   "id": "2b634bed",
   "metadata": {},
   "outputs": [
    {
     "name": "stdout",
     "output_type": "stream",
     "text": [
      "8\n"
     ]
    }
   ],
   "source": [
    "# Lambda function to add two numbers\n",
    "add = lambda x, y: x + y\n",
    "\n",
    "# Calling the lambda function\n",
    "print(add(5, 3))  # Output: 8"
   ]
  },
  {
   "cell_type": "markdown",
   "id": "4d9168a9",
   "metadata": {},
   "source": [
    "**Q9. Explain the purpose and usage of the map() function in Python.**\n",
    "\n",
    "Purpose of map() Function:\n",
    "   + The map() function is used to apply a given function to each item of an iterable (like a list, tuple, etc.) and returns a map object (which is an iterator).\n",
    "\n",
    "   + It transforms the elements of the iterable one by one according to the function provided.\n",
    "\n",
    "   + It is a quick and efficient way to perform element-wise operations without writing explicit loops.\n",
    "\n",
    "**Example 1: Using map() with a Regular Function**\n",
    "\n",
    "\n",
    "\n"
   ]
  },
  {
   "cell_type": "code",
   "execution_count": 13,
   "id": "6e961b55",
   "metadata": {},
   "outputs": [
    {
     "name": "stdout",
     "output_type": "stream",
     "text": [
      "[1, 4, 9, 16, 25]\n"
     ]
    }
   ],
   "source": [
    "def square(x):\n",
    "    return x * x\n",
    "\n",
    "numbers = [1, 2, 3, 4, 5]\n",
    "squared_numbers = map(square, numbers)\n",
    "\n",
    "print(list(squared_numbers))  # Output: [1, 4, 9, 16, 25]\n"
   ]
  },
  {
   "cell_type": "markdown",
   "id": "5366cf3f",
   "metadata": {},
   "source": [
    "**Example 2: Using map() with a Lambda Function**"
   ]
  },
  {
   "cell_type": "code",
   "execution_count": 14,
   "id": "018a1e8a",
   "metadata": {},
   "outputs": [
    {
     "name": "stdout",
     "output_type": "stream",
     "text": [
      "[1, 4, 9, 16, 25]\n"
     ]
    }
   ],
   "source": [
    "numbers = [1, 2, 3, 4, 5]\n",
    "squared_numbers = map(lambda x: x * x, numbers)\n",
    "\n",
    "print(list(squared_numbers))  # Output: [1, 4, 9, 16, 25]\n"
   ]
  },
  {
   "cell_type": "markdown",
   "id": "5a6095f4",
   "metadata": {},
   "source": [
    "**Example 3: Using map() with Multiple Iterables**\n",
    "\n",
    "You can also pass multiple iterables to map(), and the function must accept that many arguments."
   ]
  },
  {
   "cell_type": "code",
   "execution_count": 15,
   "id": "2b79217f",
   "metadata": {},
   "outputs": [
    {
     "name": "stdout",
     "output_type": "stream",
     "text": [
      "[5, 7, 9]\n"
     ]
    }
   ],
   "source": [
    "nums1 = [1, 2, 3]\n",
    "nums2 = [4, 5, 6]\n",
    "\n",
    "result = map(lambda x, y: x + y, nums1, nums2)\n",
    "print(list(result))  # Output: [5, 7, 9]\n"
   ]
  },
  {
   "cell_type": "markdown",
   "id": "4ef99548",
   "metadata": {},
   "source": [
    "**Q10.What is the difference between map(), reduce(), and filter() functions in Python?**\n",
    "\n",
    "1. map() Function\n",
    "    + Applies a function to every item of an iterable.\n",
    "\n",
    "    + Returns a new iterable with the modified items.\n",
    "\n",
    "   Example:\n"
   ]
  },
  {
   "cell_type": "code",
   "execution_count": 16,
   "id": "06d1a004",
   "metadata": {},
   "outputs": [
    {
     "name": "stdout",
     "output_type": "stream",
     "text": [
      "[2, 4, 6, 8]\n"
     ]
    }
   ],
   "source": [
    "numbers = [1, 2, 3, 4]\n",
    "result = map(lambda x: x * 2, numbers)\n",
    "print(list(result))  # Output: [2, 4, 6, 8]\n"
   ]
  },
  {
   "cell_type": "markdown",
   "id": "a89a3c8c",
   "metadata": {},
   "source": [
    "2. filter() Function\n",
    "   + Applies a function that returns True or False to each item.\n",
    "\n",
    "   + Keeps only the items where the function returns True.\n",
    "\n",
    "   Example:"
   ]
  },
  {
   "cell_type": "code",
   "execution_count": 17,
   "id": "ae00973b",
   "metadata": {},
   "outputs": [
    {
     "name": "stdout",
     "output_type": "stream",
     "text": [
      "[2, 4]\n"
     ]
    }
   ],
   "source": [
    "numbers = [1, 2, 3, 4]\n",
    "result = filter(lambda x: x % 2 == 0, numbers)\n",
    "print(list(result))  # Output: [2, 4]\n"
   ]
  },
  {
   "cell_type": "markdown",
   "id": "06164eed",
   "metadata": {},
   "source": [
    "3. reduce() Function\n",
    "    + Repeatedly applies a function to pairs of items, reducing the iterable to a single cumulative value.\n",
    "\n",
    "    + reduce() needs to be imported from functools.\n",
    "\n",
    "    Example:"
   ]
  },
  {
   "cell_type": "code",
   "execution_count": 18,
   "id": "96182bb2",
   "metadata": {},
   "outputs": [
    {
     "name": "stdout",
     "output_type": "stream",
     "text": [
      "10\n"
     ]
    }
   ],
   "source": [
    "from functools import reduce\n",
    "\n",
    "numbers = [1, 2, 3, 4]\n",
    "result = reduce(lambda x, y: x + y, numbers)\n",
    "print(result)  # Output: 10\n"
   ]
  },
  {
   "cell_type": "markdown",
   "id": "1542fe61",
   "metadata": {},
   "source": [
    "**Q11. Using pen & Paper, write the internal mechanism for the sum operation using the reduce function on this given  list:[47,11,42,13]** \n",
    "\n"
   ]
  },
  {
   "cell_type": "code",
   "execution_count": 23,
   "id": "b1158b19",
   "metadata": {},
   "outputs": [
    {
     "data": {
      "text/html": [
       "<img src=\"Answer_to_11.jpg\" width=\"500\" height=\"500\"/>"
      ],
      "text/plain": [
       "<IPython.core.display.Image object>"
      ]
     },
     "execution_count": 23,
     "metadata": {},
     "output_type": "execute_result"
    }
   ],
   "source": [
    "# import image module \n",
    "from IPython.display import Image \n",
    "  \n",
    "# get the image \n",
    "Image(url=\"Answer_to_11.jpg\", width=500, height=500)"
   ]
  },
  {
   "cell_type": "markdown",
   "id": "463a417f",
   "metadata": {},
   "source": [
    "## Practical Questions:"
   ]
  },
  {
   "cell_type": "markdown",
   "id": "817b8d25",
   "metadata": {},
   "source": [
    "**Q1. Write a Python function that takes a list of numbers as input and returns the sum of all even numbers in \n",
    "the list.**"
   ]
  },
  {
   "cell_type": "code",
   "execution_count": 25,
   "id": "f4b63346",
   "metadata": {},
   "outputs": [
    {
     "name": "stdout",
     "output_type": "stream",
     "text": [
      "Sum of even numbers: 12\n"
     ]
    }
   ],
   "source": [
    "def sum_of_even_numbers(numbers):\n",
    "    total = 0\n",
    "    for num in numbers:\n",
    "        if num % 2 == 0:\n",
    "            total += num\n",
    "    return total\n",
    "\n",
    "\n",
    "my_list = [1, 2, 3, 4, 5, 6]\n",
    " \n",
    "print(\"Sum of even numbers:\", sum_of_even_numbers(my_list))"
   ]
  },
  {
   "cell_type": "markdown",
   "id": "c66ed2c4",
   "metadata": {},
   "source": [
    "**Q2. Create a Python function that accepts a string and returns the reverse of that string.**"
   ]
  },
  {
   "cell_type": "code",
   "execution_count": 26,
   "id": "8dbb337c",
   "metadata": {},
   "outputs": [
    {
     "name": "stdout",
     "output_type": "stream",
     "text": [
      "Reversed String: !dlroW ,olleH\n"
     ]
    }
   ],
   "source": [
    "def reverse_string(s):\n",
    "    return s[::-1]\n",
    "\n",
    "string = \"Hello, World!\"\n",
    "print(\"Reversed String:\",reverse_string(string)) "
   ]
  },
  {
   "cell_type": "markdown",
   "id": "2a1b8c83",
   "metadata": {},
   "source": [
    "**Q3. Implement a Python function that takes a list of integers and returns a new list containing the squares of \n",
    "each number.**"
   ]
  },
  {
   "cell_type": "code",
   "execution_count": 27,
   "id": "eeeb4efa",
   "metadata": {},
   "outputs": [
    {
     "name": "stdout",
     "output_type": "stream",
     "text": [
      "Squares: [1, 4, 9, 16, 25]\n"
     ]
    }
   ],
   "source": [
    "def Square_numbers(numbers):\n",
    "    squares =[]\n",
    "    for x in numbers:\n",
    "        squares.append(x**2)\n",
    "    return squares\n",
    "\n",
    "numbers = [1, 2, 3, 4, 5]\n",
    "print(\"Squares:\", Square_numbers(numbers))"
   ]
  },
  {
   "cell_type": "markdown",
   "id": "8ce73ec4",
   "metadata": {},
   "source": [
    "**Q4.Write a Python function that checks if a given number is prime or not from 1 to 200.**"
   ]
  },
  {
   "cell_type": "code",
   "execution_count": 30,
   "id": "86ac3e29",
   "metadata": {},
   "outputs": [
    {
     "name": "stdout",
     "output_type": "stream",
     "text": [
      "2 is a prime number\n",
      "3 is a prime number\n",
      "5 is a prime number\n",
      "7 is a prime number\n",
      "11 is a prime number\n",
      "13 is a prime number\n",
      "17 is a prime number\n",
      "19 is a prime number\n",
      "23 is a prime number\n",
      "29 is a prime number\n",
      "31 is a prime number\n",
      "37 is a prime number\n",
      "41 is a prime number\n",
      "43 is a prime number\n",
      "47 is a prime number\n",
      "53 is a prime number\n",
      "59 is a prime number\n",
      "61 is a prime number\n",
      "67 is a prime number\n",
      "71 is a prime number\n",
      "73 is a prime number\n",
      "79 is a prime number\n",
      "83 is a prime number\n",
      "89 is a prime number\n",
      "97 is a prime number\n",
      "101 is a prime number\n",
      "103 is a prime number\n",
      "107 is a prime number\n",
      "109 is a prime number\n",
      "113 is a prime number\n",
      "127 is a prime number\n",
      "131 is a prime number\n",
      "137 is a prime number\n",
      "139 is a prime number\n",
      "149 is a prime number\n",
      "151 is a prime number\n",
      "157 is a prime number\n",
      "163 is a prime number\n",
      "167 is a prime number\n",
      "173 is a prime number\n",
      "179 is a prime number\n",
      "181 is a prime number\n",
      "191 is a prime number\n",
      "193 is a prime number\n",
      "197 is a prime number\n",
      "199 is a prime number\n"
     ]
    }
   ],
   "source": [
    "def is_prime(number):\n",
    "    if number < 2:\n",
    "        return False\n",
    "    for i in range(2, int(number**0.5) + 1):\n",
    "        if number % i == 0:\n",
    "            return False\n",
    "    return True\n",
    "\n",
    "# Example usage: Check numbers from 1 to 200\n",
    "for num in range(1, 201):\n",
    "    if is_prime(num):\n",
    "       print(num, \"is a prime number\")"
   ]
  },
  {
   "cell_type": "markdown",
   "id": "6f5f5745",
   "metadata": {},
   "source": [
    "**Q5. Create an iterator class in Python that generates the Fibonacci sequence up to a specified number of \n",
    "terms.**"
   ]
  },
  {
   "cell_type": "code",
   "execution_count": 38,
   "id": "47f1ba6f",
   "metadata": {},
   "outputs": [
    {
     "name": "stdout",
     "output_type": "stream",
     "text": [
      "0\n",
      "1\n",
      "1\n",
      "2\n",
      "3\n",
      "5\n",
      "8\n"
     ]
    }
   ],
   "source": [
    "class FibonacciIterator:\n",
    "    def __init__(self, n):\n",
    "        self.n = n\n",
    "        self.a, self.b = 0, 1\n",
    "\n",
    "    def __iter__(self):\n",
    "        return self\n",
    "\n",
    "    def __next__(self):\n",
    "        if self.a >= self.n:\n",
    "            raise StopIteration\n",
    "        else:\n",
    "            result = self.a\n",
    "            self.a, self.b = self.b, self.a + self.b\n",
    "            return result\n",
    "\n",
    "fib = FibonacciIterator(10)\n",
    "for num in fib:\n",
    "    print(num)            "
   ]
  },
  {
   "cell_type": "markdown",
   "id": "7f966916",
   "metadata": {},
   "source": [
    "**Q6. Write a generator function in Python that yields the powers of 2 up to a given exponent.**"
   ]
  },
  {
   "cell_type": "code",
   "execution_count": 39,
   "id": "ff70cbca",
   "metadata": {},
   "outputs": [
    {
     "name": "stdout",
     "output_type": "stream",
     "text": [
      "1\n",
      "2\n",
      "4\n",
      "8\n",
      "16\n",
      "32\n",
      "64\n",
      "128\n",
      "256\n",
      "512\n"
     ]
    }
   ],
   "source": [
    "def Power_of_two(n):\n",
    "    for i in range(n):\n",
    "        yield 2 ** i\n",
    "    \n",
    "for power in Power_of_two(10):\n",
    "    print(power)      "
   ]
  },
  {
   "cell_type": "markdown",
   "id": "b799c479",
   "metadata": {},
   "source": [
    "**Q7.Implement a generator function that reads a file line by line and yields each line as a string.**"
   ]
  },
  {
   "cell_type": "code",
   "execution_count": 40,
   "id": "dd9f7e13",
   "metadata": {},
   "outputs": [
    {
     "name": "stdout",
     "output_type": "stream",
     "text": [
      "hello I am Ubaid khan\n",
      "I am learning python\n"
     ]
    }
   ],
   "source": [
    "def read_file_lines_by_line(file_path):\n",
    "    with open(file_path, 'r') as file:\n",
    "        for line in file:\n",
    "            yield line.strip()\n",
    "\n",
    "for line in read_file_lines_by_line('geerting.txt'):\n",
    "    print(line)             "
   ]
  },
  {
   "cell_type": "markdown",
   "id": "a4c4f8f3",
   "metadata": {},
   "source": [
    "**Q8.Use a lambda function in Python to sort a list of tuples based on the second element of each tuple.**"
   ]
  },
  {
   "cell_type": "code",
   "execution_count": 41,
   "id": "d45d426f",
   "metadata": {},
   "outputs": [
    {
     "name": "stdout",
     "output_type": "stream",
     "text": [
      "Sorted list: [(3, 1), (2, 3), (1, 5), (4, 7)]\n"
     ]
    }
   ],
   "source": [
    "data = [(1, 5), (3, 1), (4, 7), (2, 3)]\n",
    "\n",
    "\n",
    "sorted_data = sorted(data, key=lambda x: x[1])\n",
    "\n",
    "print(\"Sorted list:\", sorted_data)"
   ]
  },
  {
   "cell_type": "markdown",
   "id": "de4920b5",
   "metadata": {},
   "source": [
    "**Q9. Write a Python program that uses `map()` to convert a list of temperatures from Celsius to Fahrenheit.**"
   ]
  },
  {
   "cell_type": "code",
   "execution_count": 42,
   "id": "ee72870d",
   "metadata": {},
   "outputs": [
    {
     "name": "stdout",
     "output_type": "stream",
     "text": [
      "Temperatures in Fahrenheit: [32.0, 50.0, 68.0, 86.0, 104.0]\n"
     ]
    }
   ],
   "source": [
    "celsius = [0, 10, 20, 30, 40]\n",
    "\n",
    "\n",
    "fahrenheit = list(map(lambda c: (c * 9/5) + 32, celsius))\n",
    "\n",
    "print(\"Temperatures in Fahrenheit:\", fahrenheit)"
   ]
  },
  {
   "cell_type": "markdown",
   "id": "b49c1e9d",
   "metadata": {},
   "source": [
    "**Q10. Create a Python program that uses `filter()` to remove all the vowels from a given string.**"
   ]
  },
  {
   "cell_type": "code",
   "execution_count": 47,
   "id": "bd762b6b",
   "metadata": {},
   "outputs": [
    {
     "name": "stdout",
     "output_type": "stream",
     "text": [
      "Text without vowels: Hll, Wrld\n"
     ]
    }
   ],
   "source": [
    "vowels = 'aeiouAEIOU'\n",
    "text = \"Hello, World\"\n",
    "\n",
    "result =\"\".join(filter(lambda char:char not in vowels, text))\n",
    "print(\"Text without vowels:\", result) \n",
    "\n",
    "\n",
    "\n"
   ]
  },
  {
   "cell_type": "markdown",
   "id": "c0ae08a4",
   "metadata": {},
   "source": [
    "**Q11.Imagine an accounting routine used in a book shop. It works on a list with sublists, which look like this:\n",
    " Write a Python program, which returns a list with 2-tuples. Each tuple consists of the order number and the \n",
    "product of the price per item and the quantity. The product should be increased by 10,- € if the value of the \n",
    "order is smaller than 100,00 €.\n",
    " Write a Python program using lambda and map**"
   ]
  },
  {
   "cell_type": "code",
   "execution_count": null,
   "id": "cbdeb030",
   "metadata": {},
   "outputs": [
    {
     "name": "stdout",
     "output_type": "stream",
     "text": [
      "[(34587, 163.8), (98762, 284.0), (77226, 108.85000000000001), (88112, 84.97)]\n"
     ]
    }
   ],
   "source": [
    "# Given data\n",
    "orders = [\n",
    "    [34587, \"Learning Python, Mark Lutz\", 4, 40.95],\n",
    "    [98762, \"Programming Python, Mark Lutz\", 5, 56.80],\n",
    "    [77226, \"Head First Python, Paul Barry\", 3, 32.95],\n",
    "    [88112, \"Einführung in Python3, Bernd Klein\", 3, 24.99]\n",
    "]\n",
    "\n",
    "# Using lambda and map\n",
    "final_orders = list(map(lambda order: (order[0], order[2] * order[3] if order[2] * order[3] >= 100 else order[2] * order[3] + 10),\n",
    "                        orders))\n",
    "\n",
    "# Output\n",
    "print(final_orders)\n"
   ]
  },
  {
   "cell_type": "code",
   "execution_count": null,
   "id": "e66ebbda",
   "metadata": {},
   "outputs": [],
   "source": [
    " "
   ]
  }
 ],
 "metadata": {
  "kernelspec": {
   "display_name": "base",
   "language": "python",
   "name": "python3"
  },
  "language_info": {
   "codemirror_mode": {
    "name": "ipython",
    "version": 3
   },
   "file_extension": ".py",
   "mimetype": "text/x-python",
   "name": "python",
   "nbconvert_exporter": "python",
   "pygments_lexer": "ipython3",
   "version": "3.12.4"
  }
 },
 "nbformat": 4,
 "nbformat_minor": 5
}
