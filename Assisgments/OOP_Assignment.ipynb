{
 "cells": [
  {
   "cell_type": "markdown",
   "id": "bac0ea81",
   "metadata": {},
   "source": [
    "## THEORY QUESTION\n"
   ]
  },
  {
   "cell_type": "markdown",
   "id": "baa5bd77",
   "metadata": {},
   "source": [
    "**Q1.What is Object-Oriented Programming (OOP)**\n",
    "\n",
    "Object-Oriented Programming (OOP) is a programming paradigm based on the concept of \"objects\", which are instances of classes. These objects can contain data (fields, often called attributes or properties) and code (methods, which are functions associated with the object) that operate on the data.\n",
    "\n",
    "Real-Time Example: Bank Account Opening Form (OOP Perspective)\n",
    "\n",
    "Class: The master form template that the bank has — it defines what information needs to be collected (like Name, Address, Mobile Number, PAN Number, etc.) and what operations can be done (like validate details, approve/reject application).\n",
    "\n",
    "Object: Each individual form given to a customer is an object created from the master form (class). When you, your friend, and others fill out their forms, each filled form is a separate object with their own data."
   ]
  },
  {
   "cell_type": "markdown",
   "id": "964386d4",
   "metadata": {},
   "source": [
    "**Q2. What is a class in OOP?**\n",
    "\n",
    "Class is a user-defined data type which definesits properties and its functions. Class is the only logical representationof the data. For example, Human being is a class. The body parts ofa human being are its properties, and the actionsperformed by the bodyparts are known as functions. The class does not occupy anymemory spacetill the time an object is instantiated.\n",
    "\n",
    "Example:The master form template that the bank has — it defines what information needs to be collected (like Name, Address, Mobile Number, PAN Number, etc.) and what operations can be done (like validate details, approve/reject application)."
   ]
  },
  {
   "cell_type": "code",
   "execution_count": null,
   "id": "cbbde725",
   "metadata": {},
   "outputs": [],
   "source": [
    "# Syntax of class \n",
    "\n",
    "class ClassName:\n",
    "    # attributes (variables)\n",
    "    \n",
    "    # constructor method\n",
    "    def __init__(self, parameters):\n",
    "        self.attribute1 = value1\n",
    "        self.attribute2 = value2\n",
    "        # etc.\n",
    "\n",
    "    # method (function inside class)\n",
    "    def method1(self, parameters):\n",
    "        # code for method1\n",
    "\n",
    "    def method2(self, parameters):\n",
    "        # code for method2"
   ]
  },
  {
   "cell_type": "markdown",
   "id": "f87eea30",
   "metadata": {},
   "source": [
    "**Q3.What is an object in OOP?**\n",
    "\n",
    "An instance of a class is an object. It consists of a set of methods and attributes. Actions are carried out using a class's object. Objects have two qualities: They exhibit states and actions. (The object is equipped with properties and methods) Methods represent its behaviour, while attributes represent its state. We can alter its status by using its techniques.\n",
    "\n",
    "   - Identity: Any object needs to have unique identification.\n",
    "   - State: An attribute of an object reflects both the properties and the state of the object.\n",
    "Behaviour: Methods represent the behaviour of an object.\n",
    "\n",
    "Example: Each individual form given to a customer is an object created from the master form (class). When you, your friend, and others fill out their forms, each filled form is a separate object with their own data.\n",
    "\n",
    "\n",
    "\n"
   ]
  },
  {
   "cell_type": "code",
   "execution_count": null,
   "id": "27b7b3f5",
   "metadata": {},
   "outputs": [],
   "source": [
    "# Syntax of object instantiation\n",
    "object_name = ClassName(parameters)"
   ]
  },
  {
   "cell_type": "markdown",
   "id": "87830f34",
   "metadata": {},
   "source": [
    "**Q4. What is the difference between abstraction and encapsulation**\n",
    "\n",
    "Abstraction\n",
    "   + Hides unnecessary implementation details from the user.\n",
    "\n",
    "   + Focuses on what an object does rather than how it does it.\n",
    "\n",
    "   + Helps to reduce complexity and make systems easier to understand.\n",
    "\n",
    "   + Achieved using abstract classes and interfaces.\n",
    "\n",
    "   + Example: You use a washing machine by selecting a program, without knowing the internal working.\n",
    "\n",
    "Encapsulation\n",
    "   + Hides the internal data and only allows access through controlled methods.\n",
    "\n",
    "   + Focuses on protecting and securing the data.\n",
    "\n",
    "   + Helps to protect data integrity and prevent unauthorized access.\n",
    "\n",
    "   + Achieved by making variables private and providing public getter/setter methods.\n",
    "\n",
    "   + Example: In a bank account, you cannot directly access the balance; you must use deposit or withdraw functions.\n",
    "\n"
   ]
  },
  {
   "cell_type": "code",
   "execution_count": 2,
   "id": "7ab9bd0b",
   "metadata": {},
   "outputs": [
    {
     "name": "stdout",
     "output_type": "stream",
     "text": [
      "Car has started.\n"
     ]
    }
   ],
   "source": [
    "# Example of Abstraction \n",
    "\n",
    "from abc import ABC, abstractmethod\n",
    "\n",
    "class Vehicle(ABC):\n",
    "    @abstractmethod\n",
    "    def start(self):\n",
    "        pass\n",
    "\n",
    "class Car(Vehicle):\n",
    "    def start(self):\n",
    "        print(\"Car has started.\")\n",
    "\n",
    "# Using abstraction: We don't worry *how* the car starts internally.\n",
    "my_car = Car()\n",
    "my_car.start()"
   ]
  },
  {
   "cell_type": "code",
   "execution_count": 3,
   "id": "ec92582c",
   "metadata": {},
   "outputs": [
    {
     "name": "stdout",
     "output_type": "stream",
     "text": [
      "1500\n"
     ]
    }
   ],
   "source": [
    "# Example of Encapsulation\n",
    "\n",
    "class BankAccount:\n",
    "    def __init__(self, balance):\n",
    "        self.__balance = balance  # Private attribute\n",
    "\n",
    "    def deposit(self, amount):\n",
    "        self.__balance += amount\n",
    "\n",
    "    def get_balance(self):\n",
    "        return self.__balance\n",
    "\n",
    "# Using encapsulation\n",
    "account = BankAccount(1000)\n",
    "account.deposit(500)\n",
    "print(account.get_balance())"
   ]
  },
  {
   "cell_type": "markdown",
   "id": "4904b9db",
   "metadata": {},
   "source": [
    "**Q5. What are dunder methods in Python?**\n",
    "\n",
    "Dunder methods, also known as magic methods or special methods, in Python are special reserved methods that are surrounded by double underscores \n",
    "(i.e., __method__). These methods allow you to define how instances of your classes behave when they are used with built-in Python functions or operators. Understanding dunder methods is crucial for creating custom objects that behave like built-in types or implementing operator overloading in Python. Here's a detailed explanation of some commonly used dunder methods:\n",
    "\n",
    "1. __init__(self, ...): This method is called when an instance of the class is initialized. It is used to initialize instance variables and perform any setup required for the object.\n",
    "\n",
    "Example: "
   ]
  },
  {
   "cell_type": "code",
   "execution_count": 4,
   "id": "462bd511",
   "metadata": {},
   "outputs": [
    {
     "name": "stdout",
     "output_type": "stream",
     "text": [
      "John\n"
     ]
    }
   ],
   "source": [
    "class Myclass:\n",
    "    def __init__(self,name):\n",
    "        self.name=name\n",
    "\n",
    "obj =Myclass(\"John\") \n",
    "print(obj.name)       "
   ]
  },
  {
   "cell_type": "markdown",
   "id": "b6a1c2bd",
   "metadata": {},
   "source": [
    "2. __str__(self): This method is called when the str() function is used on an instance of the class. It should return a string representation of the object.\n",
    "\n",
    "Example:"
   ]
  },
  {
   "cell_type": "code",
   "execution_count": 5,
   "id": "c67e405a",
   "metadata": {},
   "outputs": [
    {
     "name": "stdout",
     "output_type": "stream",
     "text": [
      "MyClass with x=10\n"
     ]
    }
   ],
   "source": [
    "class MyClass:\n",
    "    def __init__(self,x):\n",
    "        self.x=x\n",
    "\n",
    "    def __str__(self):\n",
    "        return f\"MyClass with x={self.x}\"\n",
    "\n",
    "obj = MyClass(10)\n",
    "print(obj)  #      "
   ]
  },
  {
   "cell_type": "markdown",
   "id": "936a2858",
   "metadata": {},
   "source": [
    "3. __add__(self, other):This method is called when the + operator is used with instances of the class. It should return the result of addition\n",
    "\n",
    "Example:\n"
   ]
  },
  {
   "cell_type": "code",
   "execution_count": 6,
   "id": "e6cf6ea6",
   "metadata": {},
   "outputs": [
    {
     "name": "stdout",
     "output_type": "stream",
     "text": [
      "10 9\n"
     ]
    }
   ],
   "source": [
    "class point:\n",
    "    def __init__(self,x,y):\n",
    "        self.x=x\n",
    "        self.y=y\n",
    "\n",
    "    def __add__(self,other):\n",
    "        return point(self.x+other.x,self.y+other.y)\n",
    "\n",
    "p1=point(2,5)\n",
    "p2=point(8,4)  \n",
    "p3=p1+p2\n",
    "print(p3.x,p3.y)      "
   ]
  },
  {
   "cell_type": "markdown",
   "id": "b5f525cc",
   "metadata": {},
   "source": [
    "**Q6. Explain the concept of inheritance in OOP.**\n",
    "\n",
    "Inheritance plays a signification role in an object-oriented programming language. Inheritance in Python refers to the process of a child class receiving the parent class's properties.\n",
    "\n",
    "The reuse of code is inheritance's main goal. Instead of starting from scratch when developing a new class, we can use the existing class instead of re-creating it from scractch.\n",
    "\n"
   ]
  },
  {
   "cell_type": "code",
   "execution_count": null,
   "id": "951ee527",
   "metadata": {},
   "outputs": [],
   "source": [
    "#syntax of inheritance\n",
    "class ParentClass:\n",
    "    # Parent class attributes and methods\n",
    "    pass\n",
    "\n",
    "class ChildClass(ParentClass):\n",
    "    # Child class inherits from ParentClass\n",
    "    # Child can add new attributes and methods\n",
    "    pass\n"
   ]
  },
  {
   "cell_type": "markdown",
   "id": "e34e5b52",
   "metadata": {},
   "source": [
    "Type of Inheritance:\n",
    "\n",
    "1.  Single Inheritance: When a class has only one parent, it is said to have a single inheritance. One class for child and one class for parents are shown here:\n",
    "\n",
    "      \n"
   ]
  },
  {
   "cell_type": "code",
   "execution_count": 7,
   "id": "08ded5eb",
   "metadata": {},
   "outputs": [
    {
     "name": "stdout",
     "output_type": "stream",
     "text": [
      "This is a fruit.\n",
      "This is an apple.\n"
     ]
    }
   ],
   "source": [
    "class Fruit:\n",
    "    def Fruit_info(self):\n",
    "        print(\"This is a fruit.\")\n",
    "\n",
    "class Apple(Fruit):\n",
    "    def Apple_info(self):\n",
    "        print(\"This is an apple.\")\n",
    "\n",
    "obj = Apple()\n",
    "obj.Fruit_info(),\n",
    "obj.Apple_info()               "
   ]
  },
  {
   "cell_type": "markdown",
   "id": "52d2990a",
   "metadata": {},
   "source": [
    "2. Multiple inheritance : One child class may inherit from several parent classes when there is multiple\n",
    "inheritance"
   ]
  },
  {
   "cell_type": "code",
   "execution_count": 8,
   "id": "ccba288f",
   "metadata": {},
   "outputs": [
    {
     "name": "stdout",
     "output_type": "stream",
     "text": [
      "This is the Father class.\n",
      "This is an Mother class.\n",
      "This is the Child class.\n"
     ]
    }
   ],
   "source": [
    "class Father:\n",
    "    def father_info(self):\n",
    "        print(\"This is the Father class.\")\n",
    "\n",
    "class Mother():\n",
    "    def Mother_info(self):\n",
    "        print(\"This is an Mother class.\")\n",
    "\n",
    "class Child(Father,Mother):  \n",
    "    def Child_info(self):\n",
    "        print(\"This is the Child class.\")\n",
    "\n",
    "obj = Child()\n",
    "obj.father_info()   \n",
    "obj.Mother_info()\n",
    "obj.Child_info()      "
   ]
  },
  {
   "cell_type": "markdown",
   "id": "31282d50",
   "metadata": {},
   "source": [
    "3. Multilevel Inheritance : A class inherits from a child class or derived class under multilevel inheritance. Think of three classes: A, B, and C. Superclass A, child class B, and child class C are all subclasses of A. In other words, multilevel inheritance is the term used to describe a set of classes."
   ]
  },
  {
   "cell_type": "code",
   "execution_count": 9,
   "id": "d85d88c1",
   "metadata": {},
   "outputs": [
    {
     "name": "stdout",
     "output_type": "stream",
     "text": [
      "This is a property of GrandParent.\n",
      "This is a property of Parent.\n",
      "This is a property of Child.\n"
     ]
    }
   ],
   "source": [
    "class GrandParent:\n",
    "    def Property_gran(self):\n",
    "        print(\"This is a property of GrandParent.\")\n",
    "\n",
    "class Parent(GrandParent):\n",
    "    def Property_par(self):\n",
    "        print(\"This is a property of Parent.\")\n",
    "\n",
    "class Child(Parent):\n",
    "    def Property_child(self):\n",
    "        print(\"This is a property of Child.\")    \n",
    "\n",
    "obj = Child()\n",
    "obj.Property_gran()\n",
    "obj.Property_par()\n",
    "obj.Property_child()            "
   ]
  },
  {
   "cell_type": "markdown",
   "id": "96545714",
   "metadata": {},
   "source": [
    "4. Hierarchical Inheritance : A single parent class gives rise to multiple child classes under hierarchical inheritance. To put it another way, we can say that there is one parent class and several child classes."
   ]
  },
  {
   "cell_type": "code",
   "execution_count": 10,
   "id": "6e6f8256",
   "metadata": {},
   "outputs": [
    {
     "name": "stdout",
     "output_type": "stream",
     "text": [
      "This is a vehicle.\n",
      "This is a car.\n",
      "This is a vehicle.\n",
      "This is a truck.\n"
     ]
    }
   ],
   "source": [
    "class Vehicle:\n",
    "    def Vehicle_info(self):\n",
    "        print(\"This is a vehicle.\")\n",
    "\n",
    "class Car(Vehicle):\n",
    "    def car_info(self):\n",
    "        print(\"This is a car.\")  \n",
    "\n",
    "class Truck(Vehicle):\n",
    "    def truck_info(self):\n",
    "        print(\"This is a truck.\")\n",
    "\n",
    "obj1 = Car()\n",
    "obj1.Vehicle_info()\n",
    "obj1.car_info()\n",
    "\n",
    "obj2 = Truck()\n",
    "obj2.Vehicle_info() \n",
    "obj2.truck_info()"
   ]
  },
  {
   "cell_type": "markdown",
   "id": "03f90309",
   "metadata": {},
   "source": [
    "5. Hybrid inheritance : When inheritance consists of multiple types or a combination of different inheritance is called hybrid inheritance."
   ]
  },
  {
   "cell_type": "code",
   "execution_count": 11,
   "id": "8af70aba",
   "metadata": {},
   "outputs": [
    {
     "name": "stdout",
     "output_type": "stream",
     "text": [
      "This is a vehicle.\n",
      "This is a car.\n",
      "This is a sports car.\n"
     ]
    }
   ],
   "source": [
    "class Vehicle:\n",
    "    def Vehicle_info(self):\n",
    "        print(\"This is a vehicle.\")\n",
    "\n",
    "class Car(Vehicle):\n",
    "    def car_info(self):\n",
    "        print(\"This is a car.\")  \n",
    "\n",
    "class Truck(Vehicle):\n",
    "    def truck_info(self):\n",
    "        print(\"This is a truck.\")\n",
    "\n",
    "class SportsCar(Car):\n",
    "    def sports_car_info(self):\n",
    "        print(\"This is a sports car.\")\n",
    "\n",
    "\n",
    "obj = SportsCar()\n",
    "obj.Vehicle_info()\n",
    "obj.car_info()\n",
    "obj.sports_car_info()\n",
    "                \n"
   ]
  },
  {
   "cell_type": "markdown",
   "id": "f5bd8521",
   "metadata": {},
   "source": [
    "**Q7.  What is polymorphism in OOP?**"
   ]
  },
  {
   "cell_type": "markdown",
   "id": "16d348ed",
   "metadata": {},
   "source": [
    "In OOP, polymorphism refers to an object's capacity to assume several forms. Simply said, polymorphism enables us to carry out a single activity in a variety of ways\n",
    "\n",
    "From the Greek words poly (many) and morphism (forms), we get polymorphism. Polymorphism is the capacity to assume several shapes.\n",
    "\n",
    "Working:\n",
    "   + Different classes can have methods with the same name, but different behavior.\n",
    "\n",
    "   + You can call the same method on objects of different classes, and Python will decide which method to run at runtime.\n",
    "\n",
    "Example of Polymorphism\n"
   ]
  },
  {
   "cell_type": "code",
   "execution_count": 12,
   "id": "c6ca355a",
   "metadata": {},
   "outputs": [
    {
     "name": "stdout",
     "output_type": "stream",
     "text": [
      "Meow\n",
      "Bark\n"
     ]
    }
   ],
   "source": [
    "class Cat:\n",
    "    def sound(self):\n",
    "        print(\"Meow\")\n",
    "\n",
    "class Dog:\n",
    "    def sound(self):\n",
    "        print(\"Bark\")\n",
    "\n",
    "# Function showing polymorphism\n",
    "def make_sound(animal):\n",
    "    animal.sound()\n",
    "\n",
    "# Creating objects\n",
    "cat1 = Cat()\n",
    "dog1 = Dog()\n",
    "\n",
    "# Using same function for different objects\n",
    "make_sound(cat1)  # Output: Meow\n",
    "make_sound(dog1)  # Output: Bark\n"
   ]
  },
  {
   "cell_type": "markdown",
   "id": "3fd89281",
   "metadata": {},
   "source": [
    "**Q8. How is encapsulation achieved in Python?**\n",
    "\n",
    "Encapsulation is a Python technique for combining data and functions into a single object. A class, for instance, contains all the data (methods and variables). Encapsulation refers to the broad concealment of an object's internal representation from areas outside of its specification.\n",
    "\n",
    "Encapsulation is achieved by restricting access to variables and methods by:\n",
    "\n",
    "Making attributes private:By designating class variables as private, we may protect them. Add two underscores as\n",
    "a prefix to the beginning of a variable name to define it as a private variable.\n",
    "\n",
    "Private members can only be accessed within the class; they are not directly available from class objects.\n",
    "We can access private members from outside of a class using the following two approaches\n",
    "   + Create a public method to access private members of a class\n",
    "   + By using name mangling\n"
   ]
  },
  {
   "cell_type": "code",
   "execution_count": 13,
   "id": "87c55698",
   "metadata": {},
   "outputs": [
    {
     "name": "stdout",
     "output_type": "stream",
     "text": [
      "Degree BSc\n"
     ]
    }
   ],
   "source": [
    "class Student:\n",
    "    def __init__(self, name, degree):\n",
    "        self.name = name\n",
    "        self.__degree = degree\n",
    "\n",
    "student1 = Student(\"John\", \"BSc\")\n",
    "print(\"Degree\", student1._Student__degree)"
   ]
  },
  {
   "cell_type": "markdown",
   "id": "38b5875f",
   "metadata": {},
   "source": [
    "**Q9.What is a constructor in Python?**\n",
    "\n",
    "A constructor is a particular method used in object-oriented programming to generate and initialise an object of a class. In the class, this method is defined.\n",
    "When an object is created, the constructor is automatically run.Declaring and initialising a class's instance and data member variables is the main function of the constructor. An object's attributes are initialised by the constructor, which is a collection of statements (i.e., instructions) that run when an object is created.\n",
    "\n"
   ]
  },
  {
   "cell_type": "code",
   "execution_count": null,
   "id": "8187e805",
   "metadata": {},
   "outputs": [],
   "source": [
    "#Syntax of constructor\n",
    " def __init__(self):\n",
    "    # Body of constructor\n",
    "    pass"
   ]
  },
  {
   "cell_type": "markdown",
   "id": "9b02e4ad",
   "metadata": {},
   "source": [
    "**Type Of Constructor:**\n",
    "\n",
    "1. **Default Constructor:** If no constructor is defined, Python will provide a default constructor. When we\n",
    "forget to define or include a constructor in a class, Python automatically adds a default constructor. While\n",
    "initialising the items, it does nothing else. It has no body and is an empty constructor."
   ]
  },
  {
   "cell_type": "code",
   "execution_count": 14,
   "id": "bf14f550",
   "metadata": {},
   "outputs": [
    {
     "name": "stdout",
     "output_type": "stream",
     "text": [
      "This is a person.\n"
     ]
    }
   ],
   "source": [
    "class Person:\n",
    "\n",
    "    def display(self):\n",
    "        print(\"This is a person.\")\n",
    "\n",
    "man = Person()\n",
    "man.display() "
   ]
  },
  {
   "cell_type": "markdown",
   "id": "2565740e",
   "metadata": {},
   "source": [
    "2. **Non-Parameterized Constructor:** Non-parameterized constructors are those that take no parameters. Each object is given default settings when it is initialised using this kind of constructor. When creating an object, this constructor doesn't accept any arguments. It initialises each object with the same set of data instead."
   ]
  },
  {
   "cell_type": "code",
   "execution_count": 15,
   "id": "9e8dcf63",
   "metadata": {},
   "outputs": [
    {
     "name": "stdout",
     "output_type": "stream",
     "text": [
      "Model: Toyota, Year: 2020\n"
     ]
    }
   ],
   "source": [
    "class Car:\n",
    "    def __init__(self):\n",
    "        self.model = \"Toyota\"\n",
    "        self.year = 2020\n",
    "\n",
    "    def display(self):\n",
    "        print(f\"Model: {self.model}, Year: {self.year}\")\n",
    "\n",
    "car1 = Car()\n",
    "car1.display()"
   ]
  },
  {
   "cell_type": "markdown",
   "id": "6c4e889b",
   "metadata": {},
   "source": [
    "3. **Parameterized Constructor:** A parameterized constructor is one with specified arguments or parameters. By utilising a parameterized constructor, we may give each object a different value when it is created. Self, a reference to the thing being produced, is the constructor's initial parameter. The\n",
    "programmer supplies the other arguments. Any number of arguments can be passed to a parameterized constructor."
   ]
  },
  {
   "cell_type": "code",
   "execution_count": 16,
   "id": "5eeb07f1",
   "metadata": {},
   "outputs": [
    {
     "name": "stdout",
     "output_type": "stream",
     "text": [
      "Company Name: TCS, Location: Nagpur\n"
     ]
    }
   ],
   "source": [
    "class Company:\n",
    "    def __init__(self,name,location):\n",
    "        self.name=name\n",
    "        self.location=location\n",
    "\n",
    "    def display(self):\n",
    "        print(f\"Company Name: {self.name}, Location: {self.location}\")\n",
    "\n",
    "obj=Company(\"TCS\",\"Nagpur\")\n",
    "obj.display()"
   ]
  },
  {
   "cell_type": "markdown",
   "id": "4391124b",
   "metadata": {},
   "source": [
    "**Q10. What are class and static methods in Python?**\n",
    "\n",
    "**Class Mehtod:** Class methods are methods that are bound to the class and not the instance of the class. They can access or modify class state that applies across all instances of the class. Class methods are defined using the @classmethod decorator.\n",
    "\n",
    "**Key points of class methods**\n",
    "\n",
    "  + Belongs to the Class: Class methods are associated with the class rather than a specific instance. They\n",
    "operate on class-level data that applies to all instances of the class.\n",
    "\n",
    "  + Access to Class Variables: Class methods can access and modify class variables, which are shared by all\n",
    "instances of the class. This makes them useful for tasks that involve manipulating shared data.\n",
    "\n",
    "  +  Use Cases: Class methods are often used to create utility functions that perform operations related to the\n",
    "class but don't depend on specific instance data.\n",
    "\n",
    "**Example:**"
   ]
  },
  {
   "cell_type": "code",
   "execution_count": 17,
   "id": "18e94efe",
   "metadata": {},
   "outputs": [
    {
     "name": "stdout",
     "output_type": "stream",
     "text": [
      "Google\n",
      "Microsoft\n"
     ]
    }
   ],
   "source": [
    "class Employee:\n",
    "    company = \"Google\"  # class variable\n",
    "    \n",
    "    def __init__(self, name):\n",
    "        self.name = name  # instance variable\n",
    "\n",
    "    @classmethod\n",
    "    def change_company(cls, new_company):\n",
    "        cls.company = new_company  # modifies class variable\n",
    "\n",
    "\n",
    "emp1 = Employee(\"John\")\n",
    "\n",
    "print(emp1.company)\n",
    "\n",
    "# Using class method to change company for all employees\n",
    "Employee.change_company(\"Microsoft\")\n",
    "\n",
    "print(emp1.company)"
   ]
  },
  {
   "cell_type": "markdown",
   "id": "d818ed52",
   "metadata": {},
   "source": [
    "**Static Methodds:** \n",
    "Static methods are methods that belong to the class and don't access or modify class or instance state. They\n",
    "are defined using the @staticmethod decorator.\n",
    "\n",
    "Static methods are used when you don't need access to class or instance state, and class methods are used when you need to access or modify class-level attributes. Comprehending these ideas is crucial to writing Python programs that are well-structured and productive. Recall that in Python, class methods are defined with @classmethod decorators and static methods with @staticmethod decorators.\n",
    "\n",
    "**Example:**"
   ]
  },
  {
   "cell_type": "code",
   "execution_count": 18,
   "id": "5be96d9a",
   "metadata": {},
   "outputs": [
    {
     "name": "stdout",
     "output_type": "stream",
     "text": [
      "Sum: 8\n",
      "Difference: 6\n",
      "Product: 12\n"
     ]
    }
   ],
   "source": [
    "class Calculator:\n",
    "    @staticmethod\n",
    "    def add(a, b):\n",
    "        return a + b\n",
    "\n",
    "    @staticmethod\n",
    "    def subtract(a, b):\n",
    "        return a - b\n",
    "\n",
    "    @staticmethod\n",
    "    def multiply( a, b):\n",
    "        return a * b  \n",
    "\n",
    "sum = Calculator.add(5, 3)  \n",
    "diff = Calculator.subtract(10, 4)\n",
    "product = Calculator.multiply(2, 6)\n",
    "print(\"Sum:\", sum)\n",
    "print(\"Difference:\", diff)\n",
    "print(\"Product:\", product)        "
   ]
  },
  {
   "cell_type": "markdown",
   "id": "e68fc053",
   "metadata": {},
   "source": [
    "**Q11. What is method overloading in Python?**\n",
    "\n",
    "Method overloading is the practice of invoking the same method more than once with different parameters. Method overloading is not supported by Python. Even if you overload the method, Python only takes into account the most recent definition. If you overload a method in Python, a TypeError will be raised.\n",
    "\n",
    "**Example:**"
   ]
  },
  {
   "cell_type": "code",
   "execution_count": 19,
   "id": "2d2e0eb0",
   "metadata": {},
   "outputs": [
    {
     "name": "stdout",
     "output_type": "stream",
     "text": [
      "Sum: 18\n"
     ]
    }
   ],
   "source": [
    "def add(a, b):\n",
    "    z = a + b\n",
    "    print(\"Sum:\", z)\n",
    "\n",
    "def add(a, b, c):\n",
    "    s= a + b + c\n",
    "    print(\"Sum:\", s)\n",
    "\n",
    "#add(5,6)  # Error \n",
    "add(5,6,7)  \n",
    " \n"
   ]
  },
  {
   "cell_type": "markdown",
   "id": "9f2cba84",
   "metadata": {},
   "source": [
    "**Q12. What is method overriding in OOP?**\n",
    "\n",
    "In Python, method overriding is the process of providing a different implementation for a method that is already defined in the superclass within a subclass. It enables the subclass to define its own version of a method with the same name and parameters as the method in the superclass. When a method is overridden, the subclass implements the method in its own way, which overrides the behaviour defined in the superclass. The subclass can then alter or expand the functionality of the inherited method.\n",
    "\n",
    "The name, parameters, and return type of the overridden method in the subclass must match those of the method in the superclass. Method overriding occurs only when the subclass has a method with the same name and signature as the superclass method.\n",
    "\n",
    "When a subclass object is used to call the overridden method during runtime, the subclass implementation is invoked rather than the superclass implementation. A crucial element of polymorphism is the dynamic dispatch of methods based on the actual object type.\n",
    "\n",
    "**Example:**\n",
    "\n"
   ]
  },
  {
   "cell_type": "code",
   "execution_count": 20,
   "id": "c095334d",
   "metadata": {},
   "outputs": [
    {
     "name": "stdout",
     "output_type": "stream",
     "text": [
      "Animal sound\n",
      "Meow\n"
     ]
    }
   ],
   "source": [
    "class Animal:\n",
    "    def sound(self):\n",
    "        print(\"Animal sound\")\n",
    "\n",
    "class Cat(Animal):\n",
    "    def sound(self):\n",
    "        print(\"Meow\")\n",
    "\n",
    "animal = Animal()\n",
    "cat = Cat()\n",
    "\n",
    "animal.sound() \n",
    "cat.sound()  \n"
   ]
  },
  {
   "cell_type": "markdown",
   "id": "a5ad52c9",
   "metadata": {},
   "source": [
    "**Q13. What is a property decorator in Python?**\n",
    "\n",
    "  + @property is used to turn a method into an attribute.\n",
    "\n",
    "  + It allows you to access methods like attributes  without writing parentheses ().\n",
    "\n",
    "  + Mainly used for encapsulation: controlling read-only, write-only, or calculated values easily.\n",
    "\n",
    "1. **Getter Method - @property:**\n",
    "\n",
    "Imagine you have a class representing a circle, and you want to calculate its area based on its radius. But you\n",
    "don't want users to directly access the radius attribute; instead, you want them to call a method that computes and returns the area. Here's how you can achieve that using @property:\n",
    "\n",
    "**Example:**\n",
    "\n"
   ]
  },
  {
   "cell_type": "code",
   "execution_count": 21,
   "id": "821cdf6f",
   "metadata": {},
   "outputs": [
    {
     "name": "stdout",
     "output_type": "stream",
     "text": [
      "Area of circle: 78.5\n",
      "Radius of circle: 5\n"
     ]
    }
   ],
   "source": [
    "class Circle:\n",
    "    def __init__(self, radius):\n",
    "        self._radius = radius\n",
    "\n",
    "    @property\n",
    "    def radius(self):\n",
    "        return self._radius\n",
    "\n",
    "    def area(self):\n",
    "        return 3.14 * self._radius * self._radius\n",
    "\n",
    "\n",
    "circle = Circle(5)\n",
    "print(\"Area of circle:\", circle.area()) \n",
    "print(\"Radius of circle:\", circle.radius)        "
   ]
  },
  {
   "cell_type": "markdown",
   "id": "bbdfcb1e",
   "metadata": {},
   "source": [
    "this example, @property decorator allows you to define a method (radius) that behaves like an attribute. So when you access circle.radius, it internally calls the radius method and returns the value."
   ]
  },
  {
   "cell_type": "markdown",
   "id": "7c261571",
   "metadata": {},
   "source": [
    "2. **Setter Method - @<property_name>.setter :**\n",
    "\n",
    "Now, suppose you also want to allow users to change the radius but with some validation, ensuring the radius is always positive. You can use the @<property_name>.setter decorator for that:\n"
   ]
  },
  {
   "cell_type": "code",
   "execution_count": 22,
   "id": "f7dccc4d",
   "metadata": {},
   "outputs": [
    {
     "name": "stdout",
     "output_type": "stream",
     "text": [
      "10\n"
     ]
    }
   ],
   "source": [
    "class Circle:\n",
    "\n",
    "    def __init__(self, radius):\n",
    "      self._radius = radius\n",
    "    \n",
    "    @property\n",
    "    def radius(self):\n",
    "        return self._radius\n",
    "\n",
    "    @radius.setter\n",
    "    def radius(self, value):\n",
    "        if value <= 0:\n",
    "            raise ValueError(\"Radius must be positive.\")\n",
    "        self._radius = value\n",
    "# Usage\n",
    "circle = Circle(5)\n",
    "circle.radius = 10 # Change radius\n",
    "print(circle.radius)"
   ]
  },
  {
   "cell_type": "markdown",
   "id": "7c94e42e",
   "metadata": {},
   "source": [
    "Here, @radius.setter decorator allows you to define a method (radius) that will be called when you try to assign a value to circle.radius. It ensures that the new value meets certain criteria (in this case, it must be positive)."
   ]
  },
  {
   "cell_type": "markdown",
   "id": "3b217856",
   "metadata": {},
   "source": [
    "3. **Deleter Method - @<property_name>.deleter:**\n",
    "\n",
    "Lastly, let's say you want to allow users to delete the radius attribute altogether. Maybe you want to reset the circle. You can use @<property_name>.deleter for this purpose:\n",
    "\n",
    "**Example:**\n",
    "\n"
   ]
  },
  {
   "cell_type": "code",
   "execution_count": 23,
   "id": "c4aa052e",
   "metadata": {},
   "outputs": [
    {
     "ename": "AttributeError",
     "evalue": "'Circle' object has no attribute '_radius'",
     "output_type": "error",
     "traceback": [
      "\u001b[1;31m---------------------------------------------------------------------------\u001b[0m",
      "\u001b[1;31mAttributeError\u001b[0m                            Traceback (most recent call last)",
      "Cell \u001b[1;32mIn[23], line 16\u001b[0m\n\u001b[0;32m     13\u001b[0m circle \u001b[38;5;241m=\u001b[39m Circle(\u001b[38;5;241m5\u001b[39m)\n\u001b[0;32m     14\u001b[0m \u001b[38;5;28;01mdel\u001b[39;00m circle\u001b[38;5;241m.\u001b[39mradius             \n\u001b[1;32m---> 16\u001b[0m \u001b[38;5;28mprint\u001b[39m(circle\u001b[38;5;241m.\u001b[39mradius)\n",
      "Cell \u001b[1;32mIn[23], line 7\u001b[0m, in \u001b[0;36mCircle.radius\u001b[1;34m(self)\u001b[0m\n\u001b[0;32m      5\u001b[0m \u001b[38;5;129m@property\u001b[39m\n\u001b[0;32m      6\u001b[0m \u001b[38;5;28;01mdef\u001b[39;00m \u001b[38;5;21mradius\u001b[39m(\u001b[38;5;28mself\u001b[39m):\n\u001b[1;32m----> 7\u001b[0m     \u001b[38;5;28;01mreturn\u001b[39;00m \u001b[38;5;28mself\u001b[39m\u001b[38;5;241m.\u001b[39m_radius\n",
      "\u001b[1;31mAttributeError\u001b[0m: 'Circle' object has no attribute '_radius'"
     ]
    }
   ],
   "source": [
    "class Circle:\n",
    "    def __init__(self, radius):\n",
    "        self._radius = radius\n",
    "    \n",
    "    @property\n",
    "    def radius(self):\n",
    "        return self._radius\n",
    "\n",
    "    @radius.deleter\n",
    "    def radius(self):\n",
    "        del self._radius\n",
    "\n",
    "circle = Circle(5)\n",
    "del circle.radius             \n",
    "\n",
    "print(circle.radius)  # Raises AttributeError: 'Circle' object has no attribute '_radius'"
   ]
  },
  {
   "cell_type": "markdown",
   "id": "648d04f4",
   "metadata": {},
   "source": [
    "Lastly, let's say you want to allow users to delete the radius attribute altogether. Maybe you want to reset the circle. You can use @<property_name>.deleter for this purpose:"
   ]
  },
  {
   "cell_type": "markdown",
   "id": "b7b62e97",
   "metadata": {},
   "source": [
    "**Q14.Why is polymorphism important in OOP?**\n",
    "\n",
    "1. Code Reusability\n",
    "\n",
    "    + Same function or method name can work for different classes.\n",
    "\n",
    "    + Reduces duplication and improves efficiency.\n",
    "\n",
    "2. Flexibility\n",
    "\n",
    "    + Allows writing generic code that can work with different object types.\n",
    "\n",
    "    + Easier to extend and maintain.\n",
    "\n",
    "3. Simplifies Code\n",
    "\n",
    "    + You don't need to check object types manually (if-else conditions).\n",
    "\n",
    "    + Just call the method, and the correct one runs automatically.\n",
    "\n",
    "4. Promotes Scalability\n",
    "\n",
    "    + New classes can be added easily without changing existing code.\n",
    "\n",
    "    + Supports open-closed principle: Open for extension, closed for modification.\n",
    "\n",
    "5. Supports Dynamic Behavior\n",
    "\n",
    "    + Decision of which method to call is made at runtime (dynamic binding).\n",
    "\n",
    "    + Useful in real-world scenarios like GUI buttons, shape drawing apps, payment methods, etc.\n",
    "\n",
    "6. Improves Readability and Maintainability\n",
    "\n",
    "   + Cleaner and more understandable code because behavior is uniform across different types.\n"
   ]
  },
  {
   "cell_type": "markdown",
   "id": "9460a8fb",
   "metadata": {},
   "source": [
    "**Q15. What is an abstract class in Python?**\n",
    "\n",
    "In Python, abstraction is a key idea in object-oriented programming (OOP) that allows you to describe complicated systems by hiding unneeded details and exposing just essential aspects. It aids in the management of programme complexity by breaking it down into smaller, more manageable sections.\n",
    "\n",
    "Classes and objects are used to accomplish abstraction. A class is a blueprint for constructing objects, whereas an object is a class instance. \n",
    "\n",
    "The class defines the properties (attributes) and behaviours (methods) of the class's objects.Abstraction allows you to construct abstract classes and methods that give a high-level interface without providing the implementation specifics.\n",
    "\n",
    "Abstract classes cannot be instantiated and must be subclassed. They may contain abstract methods that are declared but not implemented in the abstract class itself. Subclasses are in charge of implementing these\n",
    "abstract methods.\n",
    "\n",
    "To declare an Abstract class, we firstly need to import the abc module. Let us look at an example."
   ]
  },
  {
   "cell_type": "code",
   "execution_count": null,
   "id": "98289f7a",
   "metadata": {},
   "outputs": [],
   "source": [
    "from abc import ABC\n",
    "\n",
    "class abs_class(ABC):\n",
    "    # abstract method"
   ]
  },
  {
   "cell_type": "markdown",
   "id": "afbc9e46",
   "metadata": {},
   "source": [
    "Here, abs_class is the abstract class inside which abstract methods or any other sort of methods can be defined.\n",
    "\n",
    "As a property, abstract classes can have any number of abstract methods coexisting with any number of other methods. For example we can see below."
   ]
  },
  {
   "cell_type": "code",
   "execution_count": null,
   "id": "f9e54a86",
   "metadata": {},
   "outputs": [],
   "source": [
    "from abc import ABC, abstractmethod\n",
    "\n",
    "class abs_class(ABC):\n",
    "    \n",
    "    def method(self):\n",
    "        pass\n",
    "\n",
    "    @abstractmethod\n",
    "    def Abs_metho(self):\n",
    "        pass"
   ]
  },
  {
   "cell_type": "markdown",
   "id": "c33ac1d8",
   "metadata": {},
   "source": [
    "Here, method() is a normal method whereas Abs_method() is an abstract method implementing @abstractmethod from the abc module."
   ]
  },
  {
   "cell_type": "markdown",
   "id": "59c47164",
   "metadata": {},
   "source": [
    "**Q16. What are the advantages of OOP?**\n",
    "\n",
    "1. Modularity\n",
    "\n",
    "   + Code is divided into small, independent units called classes.\n",
    "\n",
    "   + Makes development, testing, and maintenance easier.\n",
    "\n",
    "2. Reusability\n",
    "\n",
    "   + Once a class is written, it can be reused in other programs.\n",
    "\n",
    "   + Helps avoid repetition and saves time.\n",
    "\n",
    "3. Data Hiding (Encapsulation)\n",
    "\n",
    "   + Critical data is hidden inside classes.\n",
    "\n",
    "   + Only allowed parts of the program can access or modify it — improves security.\n",
    "\n",
    "4. Improved Maintainability\n",
    "\n",
    "   + Changes can be made easily without affecting the entire system.\n",
    "\n",
    "   + You only update the specific class or method.\n",
    "\n",
    "5. Extensibility\n",
    "\n",
    "   + Easily add new features by creating new classes or extending existing ones (inheritance).\n",
    "\n",
    "6. Polymorphism\n",
    "\n",
    "   + Same interface, different behavior — makes coding flexible and dynamic.\n",
    "\n",
    "7. Problem-Solving Approach\n",
    "\n",
    "    + OOP models real-world entities (like Bank, Car, Student) — making it closer to human thinking.\n",
    "\n",
    "    + Easier to design and plan large systems.\n",
    "\n",
    "8. Scalability\n",
    "\n",
    "    + OOP systems can grow easily without breaking existing code.\n",
    "\n",
    "    + Good for long-term, big projects.\n",
    "\n",
    "9. Better Productivity\n",
    "\n",
    "   + Because of reusability, modularity, and easier debugging, overall development speed increases.\n",
    "\n",
    "10. Security\n",
    "\n",
    "    + Sensitive data and critical parts of code are better protected.\n",
    "\n",
    "    + Only trusted parts of the system interact with sensitive components."
   ]
  },
  {
   "cell_type": "markdown",
   "id": "1b0909d4",
   "metadata": {},
   "source": [
    "**Q17. What is the difference between a class variable and an instance variable?**\n",
    "\n",
    "**Class Variable:**\n",
    "   + Defined inside the class but outside any methods.\n",
    "\n",
    "   + Shared by all objects of the class.\n",
    "\n",
    "   + Changes made to it are reflected across all instances (unless overridden).\n",
    "\n",
    "   + Stored in class memory.\n",
    "\n",
    "   + Accessed using class name or object name.\n",
    "\n",
    "   + Used for common properties (e.g., company name, school name).\n",
    "\n",
    "**Instance Variable:**\n",
    "\n",
    "   + Defined inside a method (usually inside __init__ using self).\n",
    "\n",
    "   + Unique to each object (each instance has its own copy).\n",
    "\n",
    "   + Changes made affect only that particular instance.\n",
    "\n",
    "   + Stored in object (instance) memory.\n",
    "\n",
    "   + Accessed using only the object name.\n",
    "\n",
    "   + Used for individual properties (e.g., employee name, student roll number).\n",
    "\n",
    "\n",
    "**Example:**   "
   ]
  },
  {
   "cell_type": "code",
   "execution_count": null,
   "id": "d6d565e3",
   "metadata": {},
   "outputs": [],
   "source": [
    "class Student:\n",
    "    school = \"ABC School\"  # Class variable\n",
    "\n",
    "    def __init__(self, name):\n",
    "        self.name = name    # Instance variable\n"
   ]
  },
  {
   "cell_type": "markdown",
   "id": "8898e6d9",
   "metadata": {},
   "source": [
    "**Q18. What is multiple inheritance in Python?**\n",
    "\n",
    "One child class may inherit from several parent classes when there is multiple inheritance\n",
    "\n",
    "**Synatax**\n"
   ]
  },
  {
   "cell_type": "code",
   "execution_count": null,
   "id": "62be5342",
   "metadata": {},
   "outputs": [],
   "source": [
    "class Parent1:\n",
    "    # Parent1 methods and properties\n",
    "    pass\n",
    "\n",
    "class Parent2:\n",
    "    # Parent2 methods and properties\n",
    "    pass\n",
    "\n",
    "class Child(Parent1, Parent2):\n",
    "    # Child class inherits from both Parent1 and Parent2\n",
    "    pass"
   ]
  },
  {
   "cell_type": "code",
   "execution_count": null,
   "id": "5612a328",
   "metadata": {},
   "outputs": [
    {
     "name": "stdout",
     "output_type": "stream",
     "text": [
      "Father: Singing, Cooking\n",
      "Mother: Painting, Dancing\n",
      "Child: Coding, Football\n"
     ]
    }
   ],
   "source": [
    "# Example of multiple inheritance\n",
    "\n",
    "class Father:\n",
    "    def skills(self):\n",
    "        print(\"Father: Singing, Cooking\")\n",
    "\n",
    "class Mother:\n",
    "    def skills(self):\n",
    "        print(\"Mother: Painting, Dancing\")\n",
    "\n",
    "class Child(Father, Mother):\n",
    "    def skills(self):\n",
    "        Father.skills(self)  # Call Father's skills\n",
    "        Mother.skills(self)  # Call Mother's skills\n",
    "        print(\"Child: Coding, Football\")\n",
    "\n",
    "# Create object\n",
    "c = Child()\n",
    "c.skills()"
   ]
  },
  {
   "cell_type": "markdown",
   "id": "c64778e8",
   "metadata": {},
   "source": [
    "**Q19. Explain the purpose of ‘’__str__’ and ‘__repr__’ methods in Python.**\n",
    "\n",
    "1. __str__(self): This method is called when the str() function is used on an instance of the class. It should return a string representation of the object.\n",
    "\n",
    "**Example:**\n"
   ]
  },
  {
   "cell_type": "code",
   "execution_count": null,
   "id": "f731c449",
   "metadata": {},
   "outputs": [
    {
     "name": "stdout",
     "output_type": "stream",
     "text": [
      "MyClass with num: 5\n"
     ]
    }
   ],
   "source": [
    "class MyClass:\n",
    "    def __init__(self, num):\n",
    "        self.num = num\n",
    "\n",
    "    def __str__(self):\n",
    "        return f\"MyClass with num: {self.num}\"\n",
    "\n",
    "obj = MyClass(5)\n",
    "print(str(obj)) "
   ]
  },
  {
   "cell_type": "markdown",
   "id": "9dd75451",
   "metadata": {},
   "source": [
    "2. __repr__(self): This method is called when the repr() function is used on an instance of the class. It should return an unambiguous string representation of the object, which can be used to recreate the object.\n",
    "\n",
    "**Example:**"
   ]
  },
  {
   "cell_type": "code",
   "execution_count": null,
   "id": "e7e2b961",
   "metadata": {},
   "outputs": [
    {
     "name": "stdout",
     "output_type": "stream",
     "text": [
      "MyClass with: 5\n"
     ]
    }
   ],
   "source": [
    "class MyClass:\n",
    "    def __init__(self, num):\n",
    "        self.num = num\n",
    "\n",
    "    def __repr__(self):\n",
    "        return f\"MyClass with: {self.num}\"\n",
    "\n",
    "obj = MyClass(5)\n",
    "print(repr(obj)) "
   ]
  },
  {
   "cell_type": "markdown",
   "id": "c604e27c",
   "metadata": {},
   "source": [
    "**Q20.What is the significance of the ‘super()’ function in Python.**\n",
    "\n",
    "+  super() is a built-in function used to call methods of a parent (super) class.\n",
    "\n",
    "+ It is mainly used in inheritance to reuse the parent class’s methods without referring to the parent class name directly.\n",
    "\n",
    "**Significance of super()**\n",
    "\n",
    "1. Access Parent Class Methods Easily\n",
    "\n",
    "    + Calls methods (like __init__, __str__, etc.) of the parent class without needing to mention the class name.\n",
    "\n",
    "2. Avoid Hardcoding Parent Class Name\n",
    "\n",
    "    + Helps make code future-proof — if parent class names change, you don’t need to update the method calls.\n",
    "\n",
    "3. Support for Multiple Inheritance\n",
    "\n",
    "    + super() works correctly with multiple inheritance by following MRO (Method Resolution Order).\n",
    "\n",
    "4. Promotes Code Reusability\n",
    "\n",
    "    + You can extend functionality of the parent class without rewriting its code.\n",
    "\n",
    "5. Cleaner and Maintainable Code\n",
    "\n",
    "    + Makes the code shorter, readable, and more maintainable.\n",
    "\n",
    "6. Helps Initialize Parent Classes\n",
    "\n",
    "    + Useful in constructors (__init__) to ensure that parent classes are properly initialized.\n",
    "\n"
   ]
  },
  {
   "cell_type": "code",
   "execution_count": null,
   "id": "4786de55",
   "metadata": {},
   "outputs": [
    {
     "name": "stdout",
     "output_type": "stream",
     "text": [
      "Parent class constructor called\n",
      "Child class constructor called\n"
     ]
    }
   ],
   "source": [
    "# Example of Super() class in Inheritance\n",
    "class Parent:\n",
    "    def __init__(self):\n",
    "        print(\"Parent class constructor called\")\n",
    "\n",
    "class Child(Parent):\n",
    "    def __init__(self):\n",
    "        super().__init__()   # Calling parent constructor\n",
    "        print(\"Child class constructor called\")\n",
    "\n",
    "# Create object\n",
    "c = Child()"
   ]
  },
  {
   "cell_type": "markdown",
   "id": "43bdecf2",
   "metadata": {},
   "source": [
    "**Q21.What is the significance of the __del__ method in Python?**\n",
    "\n",
    "+  __del__ is a special method (also called a destructor) in Python.\n",
    "\n",
    "+ It is automatically called when an object is about to be destroyed.\n",
    "\n",
    "+ Used to clean up resources (like closing files, releasing memory, network connections, etc.).\n",
    "\n",
    "**Significance of __del__**\n",
    "\n",
    "1. Resource Cleanup\n",
    "\n",
    "   + Helps to release resources (files, network connections, database connections) when they are no longer needed.\n",
    "\n",
    "2. Automatic Execution\n",
    "\n",
    "  + Python automatically calls __del__ when an object is garbage collected (when there are no references left).\n",
    "\n",
    "3. Memory Management\n",
    "\n",
    "   + Helps in managing memory by cleaning up heavy or sensitive objects.\n",
    "\n",
    "4. Acts like a Destructor\n",
    "\n",
    "   + Similar to destructors in languages like C++, it is used to define custom behavior before an object is destroyed.\n",
    "\n",
    "5. Safe Shutdown\n",
    "\n",
    "   + Ensures that important final actions (like saving a log, closing a file) happen before the object is deleted.\n",
    "\n",
    "\n",
    "\n"
   ]
  },
  {
   "cell_type": "markdown",
   "id": "eef9f5a1",
   "metadata": {},
   "source": [
    "**Q22. What is the difference between @staticmethod and @classmethod in Python?**\n",
    "\n",
    "1. @staticmethod:\n",
    "   \n",
    "   + Decorated with @staticmethod.\n",
    "\n",
    "   + Does NOT take self or cls as the first argument.\n",
    "\n",
    "   + Cannot access or modify class or instance variables.\n",
    "\n",
    "   + Behaves like a regular function inside the class.\n",
    "\n",
    "   + Mainly used for utility/helper methods related to the class.\n",
    "\n",
    "   + Can be called using the class name or an instance.\n",
    "\n",
    "   + Doesn't depend on the object or class state.\n",
    "\n",
    "2. @classmethod:\n",
    "     \n",
    "   + Decorated with @classmethod.\n",
    "\n",
    "   + Takes cls (the class) as the first argument.\n",
    "\n",
    "   + Can access and modify class variables.\n",
    "\n",
    "   + Works with the class itself rather than an instance.\n",
    "\n",
    "   + Mainly used for factory methods or to modify class-level data.\n",
    "\n",
    "   + Can be called using the class name or an instance.\n",
    "\n",
    "   + Depends on the class, not on any particular object.\n",
    "  \n",
    "\n"
   ]
  },
  {
   "cell_type": "code",
   "execution_count": null,
   "id": "93117eaa",
   "metadata": {},
   "outputs": [
    {
     "name": "stdout",
     "output_type": "stream",
     "text": [
      "Hello from static method!\n"
     ]
    },
    {
     "data": {
      "text/plain": [
       "10"
      ]
     },
     "execution_count": 70,
     "metadata": {},
     "output_type": "execute_result"
    }
   ],
   "source": [
    "# Example of Static and Class Methods\n",
    "class Example:\n",
    "    value = 10\n",
    "    \n",
    "    @staticmethod\n",
    "    def greet():\n",
    "        print(\"Hello from static method!\")\n",
    "    \n",
    "    @classmethod\n",
    "    def change_value(cls, new_value):\n",
    "        cls.value = new_value\n",
    "\n",
    "obj = Example()\n",
    "obj.greet()  # Call static method\n",
    "obj.value # Call class method"
   ]
  },
  {
   "cell_type": "markdown",
   "id": "a33c12d1",
   "metadata": {},
   "source": [
    "**Q23. How does polymorphism work in Python with inheritance?**"
   ]
  },
  {
   "cell_type": "markdown",
   "id": "642c5d9f",
   "metadata": {},
   "source": [
    "+ Polymorphism means \"many forms.\"\n",
    "\n",
    "+ In Python, different classes can define methods with the same name but different behavior.\n",
    "\n",
    "+ Using polymorphism, the same method call can behave differently depending on the object.\n",
    "\n",
    "**Role of Inheritance**\n",
    "\n",
    "  + When a child class inherits from a parent class, it can:\n",
    "\n",
    "     - Override methods of the parent class.\n",
    "  \n",
    "     - Extend or customize behavior.\n",
    "\n",
    "  + When you call the same method on different class objects, Python automatically calls the correct version based on the object’s class\n",
    "\n",
    "\n",
    "**Example:**\n"
   ]
  },
  {
   "cell_type": "code",
   "execution_count": null,
   "id": "140d681c",
   "metadata": {},
   "outputs": [
    {
     "name": "stdout",
     "output_type": "stream",
     "text": [
      "Bark\n",
      "Meow\n"
     ]
    }
   ],
   "source": [
    "class Animal:\n",
    "    def sound(self):\n",
    "        print(\"Some generic animal sound\")\n",
    "\n",
    "class Dog(Animal):\n",
    "    def sound(self):\n",
    "        print(\"Bark\")\n",
    "\n",
    "class Cat(Animal):\n",
    "    def sound(self):\n",
    "        print(\"Meow\")\n",
    "\n",
    "# Polymorphism in action\n",
    "animals = [Dog(), Cat()]\n",
    "\n",
    "for animal in animals:\n",
    "    animal.sound()"
   ]
  },
  {
   "cell_type": "markdown",
   "id": "5d3132f6",
   "metadata": {},
   "source": [
    "**Q24.What is method chaining in Python OOP?**\n",
    "\n",
    "+ Method chaining means calling multiple methods on the same object in a single line, one after another.\n",
    "\n",
    "+ Each method returns the object itself (self), allowing the next method to be called immediately.\n",
    "\n",
    "+ Makes the code shorter, cleaner, and more readable.\n",
    "+ When you want to perform a series of operations on the same object without writing multiple separate lines.\n",
    "+ Each method must return self to continue the chain.\n",
    "\n",
    "**Syntax**\n",
    "\n",
    "\n"
   ]
  },
  {
   "cell_type": "code",
   "execution_count": null,
   "id": "95539063",
   "metadata": {},
   "outputs": [],
   "source": [
    "object.method1().method2().method3()\n"
   ]
  },
  {
   "cell_type": "code",
   "execution_count": null,
   "id": "5a256cf2",
   "metadata": {},
   "outputs": [
    {
     "name": "stdout",
     "output_type": "stream",
     "text": [
      "Hello, Ubaid!\n",
      "Ubaid is walking.\n",
      "Ubaid is sleeping.\n"
     ]
    },
    {
     "data": {
      "text/plain": [
       "<__main__.Person at 0x256e1ab6c90>"
      ]
     },
     "execution_count": 73,
     "metadata": {},
     "output_type": "execute_result"
    }
   ],
   "source": [
    "# Example of Method chaining\n",
    "\n",
    "class Person:\n",
    "    def __init__(self, name):\n",
    "        self.name = name\n",
    "\n",
    "    def greet(self):\n",
    "        print(f\"Hello, {self.name}!\")\n",
    "        return self\n",
    "\n",
    "    def walk(self):\n",
    "        print(f\"{self.name} is walking.\")\n",
    "        return self\n",
    "\n",
    "    def sleep(self):\n",
    "        print(f\"{self.name} is sleeping.\")\n",
    "        return self\n",
    "\n",
    "# Create object and chain methods\n",
    "p = Person(\"Ubaid\")\n",
    "p.greet().walk().sleep()"
   ]
  },
  {
   "cell_type": "markdown",
   "id": "7ef6190e",
   "metadata": {},
   "source": [
    "**Q25.What is the purpose of the __call__ method in Python?**\n",
    "\n",
    "+ __call__ is a special method that makes an object behave like a function.\n",
    "\n",
    "+ When you \"call\" an object like a function (using parentheses ()), Python internally calls the object's __call__ method.\n",
    "\n",
    "+ To make your objects more flexible and behave like functions.\n",
    "\n",
    "+ Useful for configurable behavior, function-like objects, stateful functions, etc.\n"
   ]
  },
  {
   "cell_type": "code",
   "execution_count": null,
   "id": "ae58956a",
   "metadata": {},
   "outputs": [],
   "source": [
    "#synatx \n",
    "class Example:\n",
    "    def __call__(self, *args, **kwargs):\n",
    "        # do something"
   ]
  },
  {
   "cell_type": "markdown",
   "id": "ea834e08",
   "metadata": {},
   "source": [
    "+ As soon as you write: Obj()\n",
    "  \n",
    "  It automatically trigger obj.__call__()\n"
   ]
  },
  {
   "cell_type": "code",
   "execution_count": null,
   "id": "796a1561",
   "metadata": {},
   "outputs": [
    {
     "name": "stdout",
     "output_type": "stream",
     "text": [
      "Hello, Ubaid!\n"
     ]
    }
   ],
   "source": [
    "# Example \n",
    "class Greeter:\n",
    "    def __init__(self, name):\n",
    "        self.name = name\n",
    "\n",
    "    def __call__(self):\n",
    "        print(f\"Hello, {self.name}!\")\n",
    "\n",
    "# Create object\n",
    "g = Greeter(\"Ubaid\")\n",
    "\n",
    "# Call object like a function\n",
    "g()"
   ]
  },
  {
   "cell_type": "markdown",
   "id": "c1f8e8f0",
   "metadata": {},
   "source": [
    "## Practical Questions"
   ]
  },
  {
   "cell_type": "markdown",
   "id": "280a3a8b",
   "metadata": {},
   "source": [
    "**Q1.Create a parent class Animal with a method speak() that prints a generic message. Create a child class Dog \n",
    "that overrides the speak() method to print \"Bark!\".**"
   ]
  },
  {
   "cell_type": "code",
   "execution_count": null,
   "id": "da8b0f8d",
   "metadata": {},
   "outputs": [
    {
     "name": "stdout",
     "output_type": "stream",
     "text": [
      "Bark!\n"
     ]
    }
   ],
   "source": [
    "class Animal:\n",
    "    def speak(self):\n",
    "        print(\"Animal sound\")\n",
    "\n",
    "class Dog(Animal):\n",
    "    def speak(self):\n",
    "        print(\"Bark!\")\n",
    "\n",
    "obj = Dog()\n",
    "obj.speak()                  "
   ]
  },
  {
   "cell_type": "markdown",
   "id": "eaeb3d79",
   "metadata": {},
   "source": [
    "**Q2. Write a program to create an abstract class Shape with a method area(). Derive classes Circle and Rectangle \n",
    "from it and implement the area() method in both.**"
   ]
  },
  {
   "cell_type": "code",
   "execution_count": null,
   "id": "a3a8e914",
   "metadata": {},
   "outputs": [
    {
     "name": "stdout",
     "output_type": "stream",
     "text": [
      "Area of Circle: 78.5\n",
      "Area of Rectangle: 20\n"
     ]
    }
   ],
   "source": [
    "from abc import ABC, abstractmethod\n",
    "\n",
    "class shape(ABC):\n",
    "    @abstractmethod\n",
    "    def area(self):\n",
    "        pass\n",
    "\n",
    "class Circle(shape):   \n",
    "    \n",
    "    def __init__(self, radius):\n",
    "        self.radius = radius\n",
    "\n",
    "    def area(self):\n",
    "        return 3.14 * self.radius * self.radius\n",
    "\n",
    "class Rectangle(shape):\n",
    "    \n",
    "    def __init__(self,Lenght,width):\n",
    "        \n",
    "        self.Lenght = Lenght\n",
    "        self.width = width\n",
    "\n",
    "    def area (self):\n",
    "        return self.Lenght  * self.width  \n",
    "\n",
    "circle = Circle(5)\n",
    "print(\"Area of Circle:\", circle.area())\n",
    "\n",
    "rectangle = Rectangle(4, 5)\n",
    "print(\"Area of Rectangle:\", rectangle.area())"
   ]
  },
  {
   "cell_type": "markdown",
   "id": "58f6345a",
   "metadata": {},
   "source": [
    "**Q3. Implement a multi-level inheritance scenario where a class Vehicle has an attribute type. Derive a class Car and further derive a class ElectricCar that adds a battery attribute.**"
   ]
  },
  {
   "cell_type": "code",
   "execution_count": null,
   "id": "d8fc7f80",
   "metadata": {},
   "outputs": [
    {
     "name": "stdout",
     "output_type": "stream",
     "text": [
      "This is a.Electric vehicle.\n"
     ]
    }
   ],
   "source": [
    "class Vehicle:\n",
    "    def __init__(self,type):\n",
    "        self.type =type\n",
    "\n",
    "    def display_type(self):\n",
    "        print(f\"This is a.{self.type} vehicle.\")\n",
    "\n",
    "class Car(Vehicle):\n",
    "    def __init__(self, type, model):\n",
    "        super().__init__(type)\n",
    "        self.model = model\n",
    "\n",
    "    def display_model(self):\n",
    "        print(f\"This is a {self.model} car.\")\n",
    "\n",
    "class ElectricCar(Car):\n",
    "    def __init__(self, type, model, battery_capacity):\n",
    "        super().__init__(type, model)\n",
    "        self.battery_capacity = battery_capacity\n",
    "\n",
    "    def display_battery(self):\n",
    "        print(f\"This is a {self.model} electric car with a battery capacity of {self.battery_capacity} kWh.\")\n",
    "\n",
    "Ecar = ElectricCar(\"Electric\", \"Tesla Model S\", 100)\n",
    "Ecar.display_type()\n"
   ]
  },
  {
   "cell_type": "markdown",
   "id": "122e1b31",
   "metadata": {},
   "source": [
    "**Q4. Demonstrate polymorphism by creating a base class Bird with a method fly(). Create two derived classes \n",
    "Sparrow and Penguin that override the fly() method.**"
   ]
  },
  {
   "cell_type": "code",
   "execution_count": null,
   "id": "bd0aa2b0",
   "metadata": {},
   "outputs": [
    {
     "name": "stdout",
     "output_type": "stream",
     "text": [
      "Bird  fly.\n",
      "Sparrow fly.\n"
     ]
    }
   ],
   "source": [
    "class Bird:\n",
    "    \n",
    "    def fly(self):\n",
    "        print(\"Bird  fly.\")\n",
    "\n",
    "class Sparrow(Bird):\n",
    "\n",
    "    def fly(self):\n",
    "        print(\"Sparrow fly.\")\n",
    "\n",
    "class penguin(Bird):\n",
    "    def fly(self):\n",
    "        print(\"Penguin fly.\")\n",
    "\n",
    "\n",
    "bird = Bird()\n",
    "bird.fly()  \n",
    "bird = Sparrow()\n",
    "bird.fly()               \n",
    "\n"
   ]
  },
  {
   "cell_type": "markdown",
   "id": "5dbe57c1",
   "metadata": {},
   "source": [
    "**Q5. Write a program to demonstrate encapsulation by creating a class BankAccount with private attributes \n",
    "balance and methods to deposit, withdraw, and check balance.**"
   ]
  },
  {
   "cell_type": "code",
   "execution_count": null,
   "id": "612e9157",
   "metadata": {},
   "outputs": [
    {
     "name": "stdout",
     "output_type": "stream",
     "text": [
      "1500\n",
      "500\n"
     ]
    }
   ],
   "source": [
    "class BankAccount:\n",
    "    def __init__(self, balance):\n",
    "        self.__balance = balance  # Private attribute\n",
    "\n",
    "    def deposit(self, amount):\n",
    "        self.__balance += amount\n",
    "\n",
    "    def withdraw(self, amount):\n",
    "        if amount <= self.__balance:\n",
    "            self.__balance -= amount\n",
    "        else:\n",
    "            print(\"Insufficient funds\")    \n",
    "\n",
    "    def get_balance(self):\n",
    "        return self.__balance\n",
    "\n",
    "Bank_holder = BankAccount(1000) \n",
    "Bank_holder.deposit(500)\n",
    "print(Bank_holder.get_balance())\n",
    "\n",
    "Bank_holder.withdraw(1000)\n",
    "print(Bank_holder.get_balance())  # Output: 1500      \n",
    "\n"
   ]
  },
  {
   "cell_type": "markdown",
   "id": "ed4608f2",
   "metadata": {},
   "source": [
    "**Q6. Demonstrate runtime polymorphism using a method play() in a base class Instrument. Derive classes Guitar \n",
    "and Piano that implement their own version of play().**"
   ]
  },
  {
   "cell_type": "code",
   "execution_count": null,
   "id": "04f56b98",
   "metadata": {},
   "outputs": [
    {
     "name": "stdout",
     "output_type": "stream",
     "text": [
      "Playing instrument\n",
      "Playing guitar\n",
      "Playing piano\n"
     ]
    }
   ],
   "source": [
    "class Instrument:\n",
    "    def play(self):\n",
    "        print(\"Playing instrument\")\n",
    "\n",
    "class Guitar(Instrument):\n",
    "    def play(self):\n",
    "        print(\"Playing guitar\")\n",
    "\n",
    "class Piano(Instrument):\n",
    "    def play(self):\n",
    "        print(\"Playing piano\")\n",
    "\n",
    "instruments = [Instrument(),Guitar(), Piano()]\n",
    "\n",
    "for instrument in instruments:\n",
    "    instrument.play()  # Calls the overridden method in each subclass\n"
   ]
  },
  {
   "cell_type": "markdown",
   "id": "95c611b1",
   "metadata": {},
   "source": [
    "**Q7. Create a class MathOperations with a class method add_numbers() to add two numbers and a static \n",
    "method subtract_numbers() to subtract two numbers.**"
   ]
  },
  {
   "cell_type": "code",
   "execution_count": null,
   "id": "a6f67c0e",
   "metadata": {},
   "outputs": [
    {
     "name": "stdout",
     "output_type": "stream",
     "text": [
      "Sum: 8\n",
      "Difference: 6\n"
     ]
    }
   ],
   "source": [
    "class MathOperations:\n",
    "    @classmethod\n",
    "    def add(cls, a, b):\n",
    "        return a + b\n",
    "    \n",
    "    @staticmethod\n",
    "    def subtract(a, b):\n",
    "        return a - b\n",
    "\n",
    "sum = MathOperations.add(5, 3)\n",
    "print(\"Sum:\", sum)\n",
    "diff = MathOperations.subtract(10, 4)\n",
    "print(\"Difference:\", diff)        "
   ]
  },
  {
   "cell_type": "markdown",
   "id": "27cb2896",
   "metadata": {},
   "source": [
    "**Q8. Implement a class Person with a class method to count the total number of persons created.**"
   ]
  },
  {
   "cell_type": "code",
   "execution_count": null,
   "id": "8603ccb6",
   "metadata": {},
   "outputs": [
    {
     "name": "stdout",
     "output_type": "stream",
     "text": [
      "Number of Person objects created: 2\n"
     ]
    }
   ],
   "source": [
    "class Person:\n",
    "    count=0\n",
    "    def __init__(self, name):\n",
    "        self.name = name\n",
    "        Person.count += 1  # Increment class variable\n",
    "\n",
    "    @classmethod\n",
    "    def get_count(cls):\n",
    "        return cls.count  # Access class variable\n",
    "\n",
    "obj1 = Person(\"John\")\n",
    "obj2 = Person(\"Jane\")\n",
    "print(\"Number of Person objects created:\", Person.get_count())  # Output: 2           "
   ]
  },
  {
   "cell_type": "markdown",
   "id": "298de4e4",
   "metadata": {},
   "source": [
    "**Q9. Write a class Fraction with attributes numerator and denominator. Override the str method to display the \n",
    "fraction as \"numerator/denominator\".**"
   ]
  },
  {
   "cell_type": "code",
   "execution_count": null,
   "id": "b021b3f9",
   "metadata": {},
   "outputs": [
    {
     "name": "stdout",
     "output_type": "stream",
     "text": [
      "3/4\n"
     ]
    }
   ],
   "source": [
    "class Fration:\n",
    "    def __init__(self, numerator, denominator):\n",
    "        self.numerator = numerator\n",
    "        self.denominator = denominator\n",
    "\n",
    "    def __str__(self):\n",
    "        return f\"{self.numerator}/{self.denominator}\"\n",
    "fraction = Fration(3, 4)\n",
    "print(str(fraction))  \n",
    "   "
   ]
  },
  {
   "cell_type": "markdown",
   "id": "14372f54",
   "metadata": {},
   "source": [
    "**Q10.Demonstrate operator overloading by creating a class Vector and overriding the add method to add two \n",
    "vectors.**"
   ]
  },
  {
   "cell_type": "code",
   "execution_count": null,
   "id": "bc75cc92",
   "metadata": {},
   "outputs": [
    {
     "name": "stdout",
     "output_type": "stream",
     "text": [
      "6 8\n"
     ]
    }
   ],
   "source": [
    "class Vector:\n",
    "    def __init__(self, x, y):\n",
    "        self.x = x\n",
    "        self.y = y\n",
    "   \n",
    "    def __add__(self,other):\n",
    "        return Vector(self.x + other.x,  self.y + other.y)\n",
    "\n",
    "\n",
    "v1 = Vector(2, 3)\n",
    "v2 = Vector(4, 5)\n",
    "\n",
    "v3 = v1 + v2\n",
    "print(v3.x, v3.y)  \n",
    "   \n",
    "\n",
    "    "
   ]
  },
  {
   "cell_type": "markdown",
   "id": "ed5a99f9",
   "metadata": {},
   "source": [
    "**Q11. Create a class Person with attributes name and age. Add a method greet() that prints \"Hello, my name is \n",
    "{name} and I am {age} years old.\"**"
   ]
  },
  {
   "cell_type": "code",
   "execution_count": null,
   "id": "24576da7",
   "metadata": {},
   "outputs": [
    {
     "name": "stdout",
     "output_type": "stream",
     "text": [
      "Hello, my name is Ubaid and I am 25 years old.\n"
     ]
    }
   ],
   "source": [
    "class Person:\n",
    "    def __init__(self,  name,age):\n",
    "        self.name = name\n",
    "        self.age = age\n",
    "\n",
    "    def greet(self):\n",
    "        print(f\"Hello, my name is {self.name} and I am {self.age} years old.\") \n",
    "\n",
    "user = Person(\"Ubaid\", 25)\n",
    "user.greet()\n",
    "\n"
   ]
  },
  {
   "cell_type": "markdown",
   "id": "56dbfc58",
   "metadata": {},
   "source": [
    "**Q12. Implement a class Student with attributes name and grades. Create a method average_grade() to compute \n",
    "the average of the grades.**"
   ]
  },
  {
   "cell_type": "code",
   "execution_count": 2,
   "id": "c671c39f",
   "metadata": {},
   "outputs": [
    {
     "name": "stdout",
     "output_type": "stream",
     "text": [
      "Asad's average grade: 86.60\n"
     ]
    }
   ],
   "source": [
    "class Student:\n",
    "    def __init__(self, name, grades):\n",
    "        \"\"\"Initialize student with name and list of grades\"\"\"\n",
    "        self.name = name\n",
    "        self.grades = list(grades)\n",
    "\n",
    "    def average_grade(self):\n",
    "        \"\"\"Calculate and return the average of grades\"\"\"\n",
    "        if isinstance(self.grades, list) and  self.grades:\n",
    "            return sum(self.grades) / len(self.grades) \n",
    "        return 0\n",
    "\n",
    "# Example usage\n",
    "student1 = Student(\"Asad\", [85, 90, 78, 92, 88])\n",
    "print(f\"{student1.name}'s average grade: {student1.average_grade():.2f}\")"
   ]
  },
  {
   "cell_type": "markdown",
   "id": "bcb8f7a4",
   "metadata": {},
   "source": [
    "**Q13. Create a class Rectangle with methods set_dimensions() to set the dimensions and area() to calculate the \n",
    "area.**"
   ]
  },
  {
   "cell_type": "code",
   "execution_count": 4,
   "id": "8145d5a3",
   "metadata": {},
   "outputs": [
    {
     "name": "stdout",
     "output_type": "stream",
     "text": [
      "Area of rectangle: 15\n"
     ]
    }
   ],
   "source": [
    "class Rectangle:\n",
    "    def __init__(self):\n",
    "        self.length = 0\n",
    "        self.width = 0\n",
    "    \n",
    "    def set_dimensions(self, length, width):\n",
    "        self.length = length\n",
    "        self.width = width\n",
    "\n",
    "\n",
    "    def area(self):\n",
    "        return self.length * self.width\n",
    "rect1 = Rectangle()\n",
    "rect1.set_dimensions(5, 3)   \n",
    "\n",
    "print(\"Area of rectangle:\", rect1.area())"
   ]
  },
  {
   "cell_type": "markdown",
   "id": "00a296e6",
   "metadata": {},
   "source": [
    "**Q14. Create a class Employee with a method calculate_salary() that computes the salary based on hours worked \n",
    "and hourly rate. Create a derived class Manager that adds a bonus to the salary.**"
   ]
  },
  {
   "cell_type": "code",
   "execution_count": 11,
   "id": "651e17e2",
   "metadata": {},
   "outputs": [
    {
     "name": "stdout",
     "output_type": "stream",
     "text": [
      "ubaid's Salary: $800\n",
      "Ali's Salary: $1850\n"
     ]
    }
   ],
   "source": [
    "class Employee:\n",
    "    def __init__(self, name, hours_worked, hourly_rate):\n",
    "        self.name = name\n",
    "        self.hours_worked = hours_worked\n",
    "        self.hourly_rate = hourly_rate\n",
    "\n",
    "    def calculate_salary(self):\n",
    "        return self.hours_worked * self.hourly_rate\n",
    "\n",
    "class Manager(Employee):\n",
    "    def __init__(self, name, hours_worked, hourly_rate, bonus):\n",
    "        super().__init__(name, hours_worked, hourly_rate)\n",
    "        self.bonus = bonus\n",
    "\n",
    "    def calculate_salary(self):\n",
    "        base_salary = super().calculate_salary()\n",
    "        return base_salary + self.bonus\n",
    "\n",
    "# --- Testing the classes ---\n",
    "emp1 = Employee(\"ubaid\", 40, 20)  # 40 hours, $20 per hour\n",
    "mgr1 = Manager(\"Ali\", 45, 30, 500)  # 45 hours, $30 per hour, $500 bonus\n",
    "\n",
    "print(f\"{emp1.name}'s Salary: ${emp1.calculate_salary()}\")\n",
    "print(f\"{mgr1.name}'s Salary: ${mgr1.calculate_salary()}\")\n"
   ]
  },
  {
   "cell_type": "markdown",
   "id": "9a8449e2",
   "metadata": {},
   "source": [
    "**Q15. Create a class Product with attributes name, price, and quantity. Implement a method total_price() that \n",
    "calculates the total price of the product.**"
   ]
  },
  {
   "cell_type": "code",
   "execution_count": 6,
   "id": "fcdee416",
   "metadata": {},
   "outputs": [
    {
     "name": "stdout",
     "output_type": "stream",
     "text": [
      "Total price for Laptop: $1600\n",
      "Total price for Phone: $1500\n"
     ]
    }
   ],
   "source": [
    "class Product:\n",
    "    def __init__(self, name, price, quantity):\n",
    "        self.name = name\n",
    "        self.price = price\n",
    "        self.quantity = quantity\n",
    "\n",
    "    def total_price(self):\n",
    "        return self.price * self.quantity\n",
    "\n",
    "# --- Testing the Product class ---\n",
    "product1 = Product(\"Laptop\", 800, 2)\n",
    "product2 = Product(\"Phone\", 500, 3)\n",
    "\n",
    "print(f\"Total price for {product1.name}: ${product1.total_price()}\")\n",
    "print(f\"Total price for {product2.name}: ${product2.total_price()}\")\n"
   ]
  },
  {
   "cell_type": "markdown",
   "id": "751864eb",
   "metadata": {},
   "source": [
    "**Q 16. Create a class Animal with an abstract method sound(). Create two derived classes Cow and Sheep that \n",
    "implement the sound() method.**"
   ]
  },
  {
   "cell_type": "code",
   "execution_count": 7,
   "id": "0d2dc148",
   "metadata": {},
   "outputs": [
    {
     "name": "stdout",
     "output_type": "stream",
     "text": [
      "Cow makes sound: Moo\n",
      "Sheep makes sound: Baa\n"
     ]
    }
   ],
   "source": [
    "from abc import ABC, abstractmethod\n",
    "\n",
    "class Animal(ABC):\n",
    "    @abstractmethod\n",
    "    def sound(self):\n",
    "        pass\n",
    "\n",
    "class Cow(Animal):\n",
    "    def sound(self):\n",
    "        return \"Moo\"\n",
    "\n",
    "class Sheep(Animal):\n",
    "    def sound(self):\n",
    "        return \"Baa\"\n",
    "\n",
    "# --- Testing the classes ---\n",
    "cow = Cow()\n",
    "sheep = Sheep()\n",
    "\n",
    "print(f\"Cow makes sound: {cow.sound()}\")\n",
    "print(f\"Sheep makes sound: {sheep.sound()}\")\n"
   ]
  },
  {
   "cell_type": "markdown",
   "id": "794caf2f",
   "metadata": {},
   "source": [
    "**Q17. Create a class Book with attributes title, author, and year_published. Add a method get_book_info() that \n",
    "returns a formatted string with the book's details.**"
   ]
  },
  {
   "cell_type": "code",
   "execution_count": 8,
   "id": "be3951c8",
   "metadata": {},
   "outputs": [
    {
     "name": "stdout",
     "output_type": "stream",
     "text": [
      "'To Kill a Mockingbird' by Harper Lee, published in 1960.\n",
      "'1984' by George Orwell, published in 1949.\n"
     ]
    }
   ],
   "source": [
    "class Book:\n",
    "    def __init__(self, title, author, year_published):\n",
    "        self.title = title\n",
    "        self.author = author\n",
    "        self.year_published = year_published\n",
    "\n",
    "    def get_book_info(self):\n",
    "        return f\"'{self.title}' by {self.author}, published in {self.year_published}.\"\n",
    "\n",
    "# --- Testing the Book class ---\n",
    "book1 = Book(\"To Kill a Mockingbird\", \"Harper Lee\", 1960)\n",
    "book2 = Book(\"1984\", \"George Orwell\", 1949)\n",
    "\n",
    "print(book1.get_book_info())\n",
    "print(book2.get_book_info())\n"
   ]
  },
  {
   "cell_type": "markdown",
   "id": "cf5c821a",
   "metadata": {},
   "source": [
    "**Q18. Create a class House with attributes address and price. Create a derived class Mansion that adds an \n",
    "attribute number_of_rooms.**"
   ]
  },
  {
   "cell_type": "code",
   "execution_count": 10,
   "id": "a2a0d9d8",
   "metadata": {},
   "outputs": [
    {
     "name": "stdout",
     "output_type": "stream",
     "text": [
      "Address: 123 Palm Street\n",
      "Price: $2000000\n",
      "Number of Rooms: 10\n"
     ]
    }
   ],
   "source": [
    "\n",
    "class House:\n",
    "    def __init__(self, address, price):\n",
    "        self.address = address\n",
    "        self.price = price\n",
    "\n",
    "\n",
    "class Mansion(House):\n",
    "    def __init__(self, address, price, number_of_rooms):\n",
    "        super().__init__(address, price)\n",
    "        self.number_of_rooms = number_of_rooms\n",
    "\n",
    "\n",
    "mansion = Mansion(\"123 Palm Street\", 2_000_000, 10)\n",
    "print(f\"Address: {mansion.address}\")\n",
    "print(f\"Price: ${mansion.price}\")\n",
    "print(f\"Number of Rooms: {mansion.number_of_rooms}\")"
   ]
  }
 ],
 "metadata": {
  "kernelspec": {
   "display_name": "base",
   "language": "python",
   "name": "python3"
  },
  "language_info": {
   "codemirror_mode": {
    "name": "ipython",
    "version": 3
   },
   "file_extension": ".py",
   "mimetype": "text/x-python",
   "name": "python",
   "nbconvert_exporter": "python",
   "pygments_lexer": "ipython3",
   "version": "3.12.4"
  }
 },
 "nbformat": 4,
 "nbformat_minor": 5
}
