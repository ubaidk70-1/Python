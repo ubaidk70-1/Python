{
 "cells": [
  {
   "cell_type": "markdown",
   "metadata": {},
   "source": [
    "## Theory Questions\n"
   ]
  },
  {
   "cell_type": "markdown",
   "metadata": {},
   "source": [
    "**Q1: What are data structures, and why are they important?**\n",
    "\n",
    "Data structures are specialized formats used to organize, store, and manage data in a computer so it can be accessed and modified efficiently. Examples include arrays, lists, stacks, queues, trees, graphs, sets, and dictionaries.\n",
    "\n",
    "Each data structure has a specific way of organizing data to suit different types of tasks—some are great for fast searching, others for organizing data in a hierarchy or maintaining order.\n",
    "\n",
    "Importance of  Data Structures\n",
    "\n",
    "1. They help in writing efficient programs in terms of time and space (memory).\n",
    "\n",
    "2. Help structure complex data into readable, manageable formats.\n",
    "\n",
    "3. Problem Solving: Enable the development of fast and scalable algorithms.\n"
   ]
  },
  {
   "cell_type": "markdown",
   "metadata": {},
   "source": [
    "**Q2: Explain the difference between mutable and immutable data types with examples.**\n",
    "- Mutable: Can be changed after creation (e.g. dict,lists,set).Their memory address (ID) stays the same even after modification.\n",
    "- Immutable: Cannot be changed after creation (e.g.int,tuples, strings).Any \"modification\" results in the creation of a new object (new memory address).\n",
    "```python\n",
    "my_list = [1, 2, 3]\n",
    "my_list[0] = 100   # in place of 1 100 will be added \n",
    "my_tuple = (1, 2, 3)\n",
    "my_tuple[0] = 100  # Error: tuple is immutable\n",
    "```"
   ]
  },
  {
   "cell_type": "markdown",
   "metadata": {},
   "source": [
    "**Q3: What are the main differences between lists and tuples in Python?**\n",
    "- Lists are mutable, tuples are immutable.\n",
    "- Lists have more built-in methods.\n",
    "- Tuples are faster and use less memory.\n",
    "- List use [] as syntax, tuple use () as synatax"
   ]
  },
  {
   "cell_type": "markdown",
   "metadata": {},
   "source": [
    "**Q4: Describe how dictionaries store data.**\n",
    "\n",
    "A dictionary is an unordered, mutable data structure that stores data in key-value pairs. It's similar to a real-life dictionary where you look up a word (key) to find its meaning (value).\n",
    "\n",
    "my_dict = {\n",
    "    \"name\": \"Alice\",\n",
    "    \"age\": 25,\n",
    "    \"city\": \"New York\"\n",
    "}\n",
    "\n",
    "+ \"name\", \"age\", and \"city\" are keys\n",
    "\n",
    "+ \"Alice\", 25, and \"New York\" are their corresponding values\n"
   ]
  },
  {
   "cell_type": "markdown",
   "metadata": {},
   "source": [
    "**Q5: Why might you use a set instead of a list in Python?**\n",
    "\n",
    " A set is often preferred over a list when you need to store unique elements and perform efficient membership testing. Unlike lists, sets automatically eliminate duplicates, making them ideal for scenarios where data integrity and uniqueness are important- For example, storing unique user IDs or removing repeated entries from a dataset. \n",
    " \n",
    " Additionally, sets are implemented using hash tables, which allows for constant time (O(1)) performance on average when checking if an item exists in the set, compared to linear time (O(n)) in a list. \n",
    " \n",
    " Sets also support powerful mathematical operations like union, intersection, and difference, which are useful for tasks such as comparing datasets or finding common elements between groups. However, it’s important to note that sets are unordered, which means they do not preserve the insertion order of elements. \n",
    " \n",
    " If maintaining order or allowing duplicates is essential, a list would be more appropriate. But for fast lookups, guaranteed uniqueness, and set-based operations, sets are a more efficient and cleaner choice."
   ]
  },
  {
   "cell_type": "markdown",
   "metadata": {},
   "source": [
    "**Q6: What is a string in Python, and how is it different from a list?**\n",
    "\n",
    "In Python, a string is a sequence of characters enclosed in single (') or double (\") quotes. It is used to represent textual data, such as words, sentences, or even numbers written as text. Strings are immutable, which means once they are created, their contents cannot be changed—you cannot modify individual characters directly. \n",
    "\n",
    "On the other hand, a list is a collection of items that can include any data type (integers, strings, other lists, etc.) and is mutable, meaning you can change, add, or remove elements after the list is created. \n",
    "\n",
    "While both strings and lists are sequential (ordered) and support indexing and slicing, the key difference lies in mutability and the type of data they hold: strings only hold characters, whereas lists can hold a mix of data types. For example, you can append a number to a list, but you cannot append it to a string without creating a new one. These differences affect how they are used in programs—strings are great for fixed or read-only text, while lists are useful for dynamic collections of items."
   ]
  },
  {
   "cell_type": "markdown",
   "metadata": {},
   "source": [
    "**Q7: How do tuples ensure data integrity in Python?**\n",
    "In Python, tuples help ensure data integrity by being immutable, meaning their contents cannot be changed once they are created. This immutability guarantees that the data stored in a tuple will remain constant throughout the program, which is especially useful in situations where unintentional changes must be avoided. \n",
    "\n",
    "For example, tuples are often used to store configuration values, coordinates, or records that should not be modified, either accidentally or intentionally. \n",
    "\n"
   ]
  },
  {
   "cell_type": "markdown",
   "metadata": {},
   "source": [
    "**Q8: What is a hash table, and how does it relate to dictionaries in Python?**\n",
    "\n",
    "A hash table is a data structure that stores data in key-value pairs. It uses a hash function to convert a key into an index in an array, where the corresponding value is stored. The main advantage of a hash table is that it allows for efficient data retrieval with an average time complexity of O(1) for operations like insertion, deletion, and lookup.\n",
    "\n",
    " Dictionaries are implemented using hash tables. The keys are hashed, and values are stored at the corresponding index. This allows for fast access to values associated with keys."
   ]
  },
  {
   "cell_type": "markdown",
   "metadata": {},
   "source": [
    "**Q9: Can lists contain different data types in Python?**\n",
    "\n",
    "Yes, Python lists are heterogeneous and can store elements of varying types."
   ]
  },
  {
   "cell_type": "markdown",
   "metadata": {},
   "source": [
    "**Q10: Explain why strings are immutable in Python.**\n",
    "\n",
    "When a string is created, Python stores it in a special memory area called the string interning pool. If another identical string is created, Python can reference the same memory location, thus avoiding unnecessary duplication and saving memory.\n",
    " I\n",
    "Since strings cannot be modified once created, it ensures that the values remain consistent throughout the program. This avoids errors where one part of the program might inadvertently alter the string, leading to unexpected behavior.\n",
    "\n",
    "The hash value of a string remains constant, ensuring that the string’s position in the hash table does not change during its usage. If strings were mutable, this would break the integrity of the data structure."
   ]
  },
  {
   "cell_type": "markdown",
   "metadata": {},
   "source": [
    "**Q11: What advantages do dictionaries offer over lists for certain tasks**\n",
    "\n",
    "Dictionaries are ideal for associating each element with a unique key. This is useful when you need to store related data together (e.g., a person's name and age, or a product's ID and price).Lists only store data in a sequence, and while they can hold multiple elements, you cannot directly associate each element with a unique identifier (like a name or ID).\n",
    "\n",
    "In dictionaries, adding or removing elements is efficient because you can directly reference the key. This makes insertion and deletion faster compared to lists, where you may need to shift elements to maintain the order.For example, in a list, inserting or deleting an element at the beginning or middle requires shifting other elements, which has an O(n) time complexity.\n",
    "\n",
    "\n"
   ]
  },
  {
   "cell_type": "markdown",
   "metadata": {},
   "source": [
    "**Q12:Describe a scenario where using a tuple would be preferable over a list**\n",
    "\n",
    "Consider a scenario where you are storing geographical coordinates (latitude and longitude) for a specific location. Since coordinates represent a fixed position, the data should not be changed once it's set. This is a case where using a tuple is a better choice than a list.\n",
    "\n",
    "Since coordinates should not change after they are defined, a tuple ensures that the data remains constant and cannot be altered by accident or unintentionally.\n",
    "\n",
    "Tuples are more memory-efficient than lists because of their immutability. Python can optimize their storage, especially when dealing with large amounts of data.\n",
    "\n",
    "Tuples can be accessed more quickly than lists due to their immutable nature. This can be important in performance-critical applications."
   ]
  },
  {
   "cell_type": "markdown",
   "metadata": {},
   "source": [
    "**Q13. How do sets handle duplicate values in Python**\n",
    "\n",
    "+ When a value is added to a set, Python checks if the value is already present.\n",
    "\n",
    "+ If the value already exists, the set remains unchanged, and the duplicate is ignored.\n",
    "\n",
    "+ If the value is not present, it is added to the set.\n",
    "\n"
   ]
  },
  {
   "cell_type": "markdown",
   "metadata": {},
   "source": [
    "**Q14.How does the “in” keyword work differently for lists and dictionaries**\n",
    "\n",
    "1. Using \"in\" with Lists:\n",
    "When the in keyword is used with a list, it checks whether the specified element exists in the list. It compares each item in the list to the given element until a match is found. The search is performed based on the values of the list.\n",
    "\n",
    "2. Using \"in\" with Dictionaries:\n",
    "When the in keyword is used with a dictionary, it checks if the specified key exists in the dictionary. It does not check the values or any other aspect of the dictionary, just the keys.\n",
    "\n"
   ]
  },
  {
   "cell_type": "markdown",
   "metadata": {},
   "source": [
    "**Q15.Can you modify the elements of a tuple? Explain why or why not**\n",
    "\n",
    "Tuples are immutable, meaning that once a tuple is created, its contents cannot be modified. This immutability extends to the individual elements within the tuple as well.\n",
    "\n",
    "Why You Cannot Modify Tuple Elements:\n",
    "\n",
    "1. Immutability: The primary characteristic of a tuple is that it is immutable. Once the tuple is created, its structure, including the values of its elements, cannot be changed. This is different from lists, which are mutable and allow for changes after creation.\n",
    "\n",
    "2. Memory Efficiency: Immutability allows Python to optimize memory usage by ensuring that the tuple’s contents remain constant. This makes tuples more memory-efficient and allows for safer sharing of data, especially in concurrent programming.\n",
    "\n",
    "3. Hashability: Since tuples are immutable, they can be used as keys in dictionaries, whereas lists (which are mutable) cannot be used in this way. If tuples were mutable, their hash value could change, which would break the functionality of dictionaries and other data structures that rely on hash values.\n",
    "\n"
   ]
  },
  {
   "cell_type": "markdown",
   "metadata": {},
   "source": [
    "**Q16.What is a nested dictionary, and give an example of its use case.**\n",
    "\n",
    "A nested dictionary is a dictionary in which the values themselves are dictionaries. Essentially, it is a dictionary containing one or more dictionaries as values, allowing for a hierarchical data structure. Nested dictionaries are particularly useful for representing complex data relationships and allow you to store structured data in a readable and organized way.\n",
    "\n",
    "Use Case Example: Storing Student Information\n",
    "Consider the use case of storing student information in a school, where each student has multiple attributes such as name, age, and grades. You could represent this information using a nested dictionary, where each student is a key in the outer dictionary, and the student’s details (such as name, age, and grades) are stored in an inner dictionary."
   ]
  },
  {
   "cell_type": "code",
   "execution_count": null,
   "metadata": {},
   "outputs": [],
   "source": [
    "students = {\n",
    "    \"John\": {\"age\": 15, \"grade\": \"10th\", \"subjects\": {\"Math\": \"A\", \"Science\": \"B\"}},\n",
    "    \"Jane\": {\"age\": 16, \"grade\": \"11th\", \"subjects\": {\"Math\": \"A+\", \"English\": \"B+\"}},\n",
    "    \"Bob\": {\"age\": 14, \"grade\": \"9th\", \"subjects\": {\"Science\": \"B\", \"History\": \"A\"}}\n",
    "}\n",
    "\n",
    "# Accessing data in the nested dictionary\n",
    "print(students[\"John\"][\"age\"])  # Output: 15\n",
    "print(students[\"Jane\"][\"subjects\"][\"Math\"])  # Output: A+"
   ]
  },
  {
   "cell_type": "markdown",
   "metadata": {},
   "source": [
    "**Q17. Describe the time complexity of accessing elements in a dictionary**\n",
    "\n",
    "The primary operation for accessing elements in a dictionary is done using the key. The time complexity of accessing an element by its key is O(1) on average, meaning it takes constant time regardless of the number of elements in the dictionary.\n",
    "\n",
    "Although dictionary lookups are O(1) on average, there is a possibility of a hash collision. A hash collision occurs when two different keys are hashed to the same index. In the case of a collision, Python uses a method called chaining to resolve it. This can cause multiple elements to be stored at the same index, leading to a linear search of the elements at that index.\n",
    "\n",
    "Thus, in the worst case, when many hash collisions occur (e.g., poor hash function or adversarial input), the time complexity can degrade to O(n), where n is the number of elements in the dictionary.\n",
    "\n",
    "However, Python's hash table implementation is optimized, and collisions are rare in practice, so dictionary lookups typically remain O(1)."
   ]
  },
  {
   "cell_type": "markdown",
   "metadata": {},
   "source": [
    "**Q18. In what situations are lists preferred over dictionaries?**\n",
    "\n",
    "1. Lists are preferred over dictionaries in situations where:\n",
    "\n",
    "2. The order of elements is important.\n",
    "\n",
    "3. You need to access elements by their index.\n",
    "\n",
    "4. The data is homogeneous.\n",
    "\n",
    "5. You require dynamic resizing of the collection.\n",
    "\n",
    "6. You want to perform simpler operations without needing key-value pairs."
   ]
  },
  {
   "cell_type": "markdown",
   "metadata": {},
   "source": [
    "**Q19. Why are dictionaries considered unordered, and how does that affect data retrieval.**\n",
    "\n",
    "+ Dictionaries are unordered because they are implemented using a hash table, which allows for fast key-value pair lookups but does not guarantee any particular order of the stored elements.\n",
    "\n",
    "+ Data retrieval from a dictionary is not affected by this unordered nature in terms of speed. Retrieval by key is efficient (O(1) on average).\n",
    "\n",
    "+ However, the unordered nature means that if maintaining the insertion order is important, a regular dictionary may not be suitable, and alternatives like OrderedDict should be considered."
   ]
  },
  {
   "cell_type": "markdown",
   "metadata": {},
   "source": [
    "**Q20.Explain the difference between a list and a dictionary in terms of data retrieval.**\n",
    "\n",
    "1. List:\n",
    "  \n",
    "   + Access Method: Access elements by index.\n",
    "\n",
    "   + Order: Lists are ordered (elements are stored in a specific sequence).\n",
    "\n",
    "   + Time Complexity: O(1) for accessing elements by index.\n",
    "\n",
    "   + Use Case: Ideal when you need an ordered sequence of elements.\n",
    "\n",
    "2. Dictionary:\n",
    "\n",
    "    + Access Method: Access elements by key (unique identifier).\n",
    "\n",
    "    + Order: Dictionaries are unordered (until Python 3.7+ where insertion order is preserved).\n",
    "\n",
    "    + Time Complexity: O(1) for accessing values by key (efficient).\n",
    "\n",
    "    + Use Case: Ideal when you need to store key-value pairs for fast lookups by key.\n"
   ]
  },
  {
   "cell_type": "markdown",
   "metadata": {},
   "source": [
    "## Practical Python Questions"
   ]
  },
  {
   "cell_type": "code",
   "execution_count": 1,
   "metadata": {},
   "outputs": [
    {
     "name": "stdout",
     "output_type": "stream",
     "text": [
      "Ubaid Khan\n"
     ]
    }
   ],
   "source": [
    "# 1. Write a code to create a string with your name and print it\n",
    "name = \"Ubaid Khan\"\n",
    "print(name)"
   ]
  },
  {
   "cell_type": "code",
   "execution_count": 2,
   "metadata": {},
   "outputs": [
    {
     "data": {
      "text/plain": [
       "11"
      ]
     },
     "execution_count": 2,
     "metadata": {},
     "output_type": "execute_result"
    }
   ],
   "source": [
    "# 2. Write a code to find the length of the string \"Hello World\"\n",
    "len(\"Hello World\")"
   ]
  },
  {
   "cell_type": "code",
   "execution_count": 3,
   "metadata": {},
   "outputs": [
    {
     "data": {
      "text/plain": [
       "'Pyt'"
      ]
     },
     "execution_count": 3,
     "metadata": {},
     "output_type": "execute_result"
    }
   ],
   "source": [
    "# 3. Slice the first 3 characters from the string \"Python Programming\"\n",
    "\"Python Programming\"[:3]\n"
   ]
  },
  {
   "cell_type": "code",
   "execution_count": 4,
   "metadata": {},
   "outputs": [
    {
     "data": {
      "text/plain": [
       "'HELLO'"
      ]
     },
     "execution_count": 4,
     "metadata": {},
     "output_type": "execute_result"
    }
   ],
   "source": [
    "# 4. Convert \"hello\" to uppercase\n",
    "\"hello\".upper()"
   ]
  },
  {
   "cell_type": "code",
   "execution_count": 5,
   "metadata": {},
   "outputs": [
    {
     "data": {
      "text/plain": [
       "'I like orange'"
      ]
     },
     "execution_count": 5,
     "metadata": {},
     "output_type": "execute_result"
    }
   ],
   "source": [
    "# 5. Replace \"apple\" with \"orange\"\n",
    "\"I like apple\".replace(\"apple\", \"orange\")"
   ]
  },
  {
   "cell_type": "code",
   "execution_count": 6,
   "metadata": {},
   "outputs": [
    {
     "name": "stdout",
     "output_type": "stream",
     "text": [
      "[1, 2, 3, 4, 5]\n"
     ]
    }
   ],
   "source": [
    "# 6. Create a list [1, 2, 3, 4, 5] and print it\n",
    "print([1, 2, 3, 4, 5])"
   ]
  },
  {
   "cell_type": "code",
   "execution_count": 7,
   "metadata": {},
   "outputs": [
    {
     "name": "stdout",
     "output_type": "stream",
     "text": [
      "[1, 2, 3, 4, 10]\n"
     ]
    }
   ],
   "source": [
    "# 7. Append 10 to [1, 2, 3, 4]\n",
    "lst = [1, 2, 3, 4]\n",
    "lst.append(10)\n",
    "print(lst)"
   ]
  },
  {
   "cell_type": "code",
   "execution_count": 8,
   "metadata": {},
   "outputs": [
    {
     "name": "stdout",
     "output_type": "stream",
     "text": [
      "[1, 2, 4, 5]\n"
     ]
    }
   ],
   "source": [
    "# 8. Remove 3 from [1, 2, 3, 4, 5]\n",
    "lst = [1, 2, 3, 4, 5]\n",
    "lst.remove(3)\n",
    "print(lst)"
   ]
  },
  {
   "cell_type": "code",
   "execution_count": 9,
   "metadata": {},
   "outputs": [
    {
     "data": {
      "text/plain": [
       "'b'"
      ]
     },
     "execution_count": 9,
     "metadata": {},
     "output_type": "execute_result"
    }
   ],
   "source": [
    "# 9. Access the second element in ['a', 'b', 'c', 'd']\n",
    "['a', 'b', 'c', 'd'][1]"
   ]
  },
  {
   "cell_type": "code",
   "execution_count": 10,
   "metadata": {},
   "outputs": [
    {
     "data": {
      "text/plain": [
       "[50, 40, 30, 20, 10]"
      ]
     },
     "execution_count": 10,
     "metadata": {},
     "output_type": "execute_result"
    }
   ],
   "source": [
    "# 10. Reverse [10, 20, 30, 40, 50]\n",
    "list(reversed([10, 20, 30, 40, 50]))"
   ]
  },
  {
   "cell_type": "code",
   "execution_count": 11,
   "metadata": {},
   "outputs": [
    {
     "name": "stdout",
     "output_type": "stream",
     "text": [
      "(100, 200, 300)\n"
     ]
    }
   ],
   "source": [
    "# 11. Create a tuple and print\n",
    "tup = (100, 200, 300)\n",
    "print(tup)"
   ]
  },
  {
   "cell_type": "code",
   "execution_count": 12,
   "metadata": {},
   "outputs": [
    {
     "data": {
      "text/plain": [
       "'blue'"
      ]
     },
     "execution_count": 12,
     "metadata": {},
     "output_type": "execute_result"
    }
   ],
   "source": [
    "# 12. Access second-to-last in a tuple\n",
    "('red', 'green', 'blue', 'yellow')[-2]"
   ]
  },
  {
   "cell_type": "code",
   "execution_count": 13,
   "metadata": {},
   "outputs": [
    {
     "data": {
      "text/plain": [
       "5"
      ]
     },
     "execution_count": 13,
     "metadata": {},
     "output_type": "execute_result"
    }
   ],
   "source": [
    "# 13. Find minimum in tuple\n",
    "min((10, 20, 5, 15))"
   ]
  },
  {
   "cell_type": "code",
   "execution_count": 14,
   "metadata": {},
   "outputs": [
    {
     "data": {
      "text/plain": [
       "1"
      ]
     },
     "execution_count": 14,
     "metadata": {},
     "output_type": "execute_result"
    }
   ],
   "source": [
    "# 14. Index of \"cat\"\n",
    "('dog', 'cat', 'rabbit').index(\"cat\")"
   ]
  },
  {
   "cell_type": "code",
   "execution_count": 15,
   "metadata": {},
   "outputs": [
    {
     "data": {
      "text/plain": [
       "False"
      ]
     },
     "execution_count": 15,
     "metadata": {},
     "output_type": "execute_result"
    }
   ],
   "source": [
    "# 15. Check if \"kiwi\" is in a tuple\n",
    "fruits = ('apple', 'banana', 'grape')\n",
    "\"kiwi\" in fruits"
   ]
  },
  {
   "cell_type": "code",
   "execution_count": 16,
   "metadata": {},
   "outputs": [
    {
     "name": "stdout",
     "output_type": "stream",
     "text": [
      "{'a', 'c', 'b'}\n"
     ]
    }
   ],
   "source": [
    "# 16. Create a set and print it\n",
    "print(set(['a', 'b', 'c']))"
   ]
  },
  {
   "cell_type": "code",
   "execution_count": 17,
   "metadata": {},
   "outputs": [
    {
     "name": "stdout",
     "output_type": "stream",
     "text": [
      "set()\n"
     ]
    }
   ],
   "source": [
    "# 17. Clear a set\n",
    "s = {1, 2, 3, 4, 5}\n",
    "s.clear()\n",
    "print(s)"
   ]
  },
  {
   "cell_type": "code",
   "execution_count": 18,
   "metadata": {},
   "outputs": [
    {
     "name": "stdout",
     "output_type": "stream",
     "text": [
      "{1, 2, 3}\n"
     ]
    }
   ],
   "source": [
    "# 18. Remove element from set\n",
    "s = {1, 2, 3, 4}\n",
    "s.remove(4)\n",
    "print(s)"
   ]
  },
  {
   "cell_type": "code",
   "execution_count": 19,
   "metadata": {},
   "outputs": [
    {
     "data": {
      "text/plain": [
       "{1, 2, 3, 4, 5}"
      ]
     },
     "execution_count": 19,
     "metadata": {},
     "output_type": "execute_result"
    }
   ],
   "source": [
    "# 19. Union of sets\n",
    "{1, 2, 3}.union({3, 4, 5})"
   ]
  },
  {
   "cell_type": "code",
   "execution_count": 20,
   "metadata": {},
   "outputs": [
    {
     "data": {
      "text/plain": [
       "{2, 3}"
      ]
     },
     "execution_count": 20,
     "metadata": {},
     "output_type": "execute_result"
    }
   ],
   "source": [
    "# 20. Intersection of sets\n",
    "{1, 2, 3}.intersection({2, 3, 4})"
   ]
  },
  {
   "cell_type": "code",
   "execution_count": 25,
   "metadata": {},
   "outputs": [
    {
     "name": "stdout",
     "output_type": "stream",
     "text": [
      "{'name': 'Ubaid', 'age': 30, 'city': 'NG'}\n"
     ]
    }
   ],
   "source": [
    "# 21. Create dictionary and print\n",
    "info = {\"name\": \"Ubaid\", \"age\": 30, \"city\": \"NG\"}\n",
    "print(info)"
   ]
  },
  {
   "cell_type": "code",
   "execution_count": 26,
   "metadata": {},
   "outputs": [
    {
     "name": "stdout",
     "output_type": "stream",
     "text": [
      "{'name': 'Uday', 'age': 25, 'country': 'IND'}\n"
     ]
    }
   ],
   "source": [
    "# 22. Add key-value to dict\n",
    "person = {'name': 'Uday', 'age': 25}\n",
    "person['country'] = 'IND'\n",
    "print(person)"
   ]
  },
  {
   "cell_type": "code",
   "execution_count": 27,
   "metadata": {},
   "outputs": [
    {
     "data": {
      "text/plain": [
       "'Uday'"
      ]
     },
     "execution_count": 27,
     "metadata": {},
     "output_type": "execute_result"
    }
   ],
   "source": [
    "# 23. Access value by key\n",
    "{'name': 'Uday', 'age': 30}['name']"
   ]
  },
  {
   "cell_type": "code",
   "execution_count": 28,
   "metadata": {},
   "outputs": [
    {
     "name": "stdout",
     "output_type": "stream",
     "text": [
      "{'name': 'Asad', 'city': 'Nagpur'}\n"
     ]
    }
   ],
   "source": [
    "# 24. Remove key from dict\n",
    "d = {'name': 'Asad', 'age': 22, 'city': 'Nagpur'}\n",
    "d.pop('age')\n",
    "print(d)"
   ]
  },
  {
   "cell_type": "code",
   "execution_count": 29,
   "metadata": {},
   "outputs": [
    {
     "data": {
      "text/plain": [
       "True"
      ]
     },
     "execution_count": 29,
     "metadata": {},
     "output_type": "execute_result"
    }
   ],
   "source": [
    "# 25. Check city in dict\n",
    "'city' in {'name': 'Aditya', 'city': 'Mumbai'}"
   ]
  },
  {
   "cell_type": "code",
   "execution_count": 30,
   "metadata": {},
   "outputs": [
    {
     "name": "stdout",
     "output_type": "stream",
     "text": [
      "[1, 2]\n",
      "(1, 2)\n",
      "{'a': 1}\n"
     ]
    },
    {
     "data": {
      "text/plain": [
       "(None, None, None)"
      ]
     },
     "execution_count": 30,
     "metadata": {},
     "output_type": "execute_result"
    }
   ],
   "source": [
    "# 26. Create list, tuple, dict and print\n",
    "print([1,2]), print((1,2)), print({'a':1})"
   ]
  },
  {
   "cell_type": "code",
   "execution_count": 31,
   "metadata": {},
   "outputs": [
    {
     "name": "stdout",
     "output_type": "stream",
     "text": [
      "[15, 25, 53, 82, 87]\n"
     ]
    }
   ],
   "source": [
    "# 27. Random list, sort and print\n",
    "import random\n",
    "nums = random.sample(range(1, 101), 5)\n",
    "nums.sort()\n",
    "print(nums)"
   ]
  },
  {
   "cell_type": "code",
   "execution_count": 32,
   "metadata": {},
   "outputs": [
    {
     "name": "stdout",
     "output_type": "stream",
     "text": [
      "date\n"
     ]
    }
   ],
   "source": [
    "# 28. List of strings and access index\n",
    "strings = ['apple', 'banana', 'cherry', 'date']\n",
    "print(strings[3])"
   ]
  },
  {
   "cell_type": "code",
   "execution_count": 33,
   "metadata": {},
   "outputs": [
    {
     "name": "stdout",
     "output_type": "stream",
     "text": [
      "{'a': 1, 'b': 2}\n"
     ]
    }
   ],
   "source": [
    "# 29. Combine two dictionaries\n",
    "d1 = {'a': 1}\n",
    "d2 = {'b': 2}\n",
    "d1.update(d2)\n",
    "print(d1)"
   ]
  },
  {
   "cell_type": "code",
   "execution_count": 34,
   "metadata": {},
   "outputs": [
    {
     "data": {
      "text/plain": [
       "{'apple', 'banana'}"
      ]
     },
     "execution_count": 34,
     "metadata": {},
     "output_type": "execute_result"
    }
   ],
   "source": [
    "# 30. Convert list to set\n",
    "set(['apple', 'banana', 'apple'])"
   ]
  }
 ],
 "metadata": {
  "kernelspec": {
   "display_name": "base",
   "language": "python",
   "name": "python3"
  },
  "language_info": {
   "codemirror_mode": {
    "name": "ipython",
    "version": 3
   },
   "file_extension": ".py",
   "mimetype": "text/x-python",
   "name": "python",
   "nbconvert_exporter": "python",
   "pygments_lexer": "ipython3",
   "version": "3.12.4"
  }
 },
 "nbformat": 4,
 "nbformat_minor": 2
}
