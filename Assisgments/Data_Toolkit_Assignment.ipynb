{
 "cells": [
  {
   "cell_type": "markdown",
   "id": "ec296460",
   "metadata": {},
   "source": [
    "## Theory Qustion"
   ]
  },
  {
   "cell_type": "markdown",
   "id": "49d4afdc",
   "metadata": {},
   "source": [
    "### Q1 What is NumPy, and why is it widely used in Python?\n",
    "\n",
    "NumPy is a fundamental package for scientific computing in Python. It provides support for arrays, matrices, and many mathematical functions. It's widely used because of its performance, efficiency, and integration with C/C++ code."
   ]
  },
  {
   "cell_type": "markdown",
   "id": "fa9bdffc",
   "metadata": {},
   "source": [
    "### Q2 How does broadcasting work in NumPy?\n",
    "\n",
    "Broadcasting in NumPy is a powerful feature that allows array arithmetic between arrays of different shapes and sizes without explicitly replicating data. It works by automatically expanding the smaller array along the mismatched dimensions to match the shape of the larger array, so element-wise operations can be performed efficiently.\n",
    "\n",
    "**Key Rules of Broadcasting:**\n",
    "1. Compare Shapes: NumPy compares the shapes of the two arrays element-wise, starting from the trailing dimensions.\n",
    "\n",
    "2. Matching or One: Two dimensions are compatible when:\n",
    "\n",
    "    + They are equal, or\n",
    "\n",
    "    + One of them is 1.\n",
    "\n",
    "3. Expansion: If one of the dimensions is 1, it is stretched or broadcast to match the other dimension."
   ]
  },
  {
   "cell_type": "markdown",
   "id": "2883c947",
   "metadata": {},
   "source": [
    "### Q3. What is a Pandas DataFrame?\n",
    "A Pandas DataFrame is a two-dimensional, size-mutable, and heterogeneous tabular data structure in Python. It is one of the core data structures provided by the pandas library and is widely used for data manipulation, analysis, and cleaning.\n",
    "\n",
    "**Key Features:**\n",
    "  + Labeled axes (rows and columns): You can access data using row labels and column names.\n",
    "\n",
    "   + Heterogeneous data types: Different columns can hold different types (e.g., integers, floats, strings).\n",
    "\n",
    "   + Flexible indexing and slicing: Allows powerful selection and filtering of data.\n",
    "\n",
    "   + Built-in methods for aggregation, transformation, merging, reshaping, and more"
   ]
  },
  {
   "cell_type": "markdown",
   "id": "aea1e9c3",
   "metadata": {},
   "source": [
    "### Q4. Explain the use of the groupby() method in Pandas.\n",
    "\n",
    "The groupby() method in Pandas is used to split a DataFrame into groups based on one or more keys (usually column values), apply a function to each group independently, and then combine the results into a new DataFrame or Series.\n",
    "\n",
    "This is often referred to as the \"split-apply-combine\" strategy."
   ]
  },
  {
   "cell_type": "markdown",
   "id": "a7edf523",
   "metadata": {},
   "source": [
    "### Q5.  Why is Seaborn preferred for statistical visualizations.\n",
    "\n",
    "Seaborn is a high-level data visualization library built on top of Matplotlib. It is preferred for statistical visualizations because it provides powerful tools to create informative and attractive plots with minimal code.\n",
    "\n",
    "**Reasons Seaborn is Preferred:**\n",
    "\n",
    "1. Built-in Statistical Support:\n",
    "\n",
    "    + Functions like sns.barplot(), sns.boxplot(), sns.violinplot(), and sns.lmplot() perform statistical aggregation and plotting in one step.\n",
    "\n",
    "    + Automatically computes confidence intervals, regression lines, and data distributions.\n",
    "\n",
    "2. Simplified Syntax:\n",
    "\n",
    "    + High-level API allows complex plots with a few lines of code.\n",
    "\n",
    "    + Seamlessly integrates with Pandas DataFrames.\n",
    "\n",
    "3. Beautiful Default Styles:\n",
    "\n",
    "    + Prettier and more readable visualizations by default compared to raw Matplotlib.\n",
    "\n",
    "    + Themes like sns.set_theme() enhance plot aesthetics.\n",
    "\n",
    "4. Built-in Data Handling:\n",
    "\n",
    "    + Supports automatic grouping, aggregation, and reshaping of data.\n",
    "\n",
    "    + Automatically handles categorical variables and missing values in many functions.\n",
    "\n"
   ]
  },
  {
   "cell_type": "markdown",
   "id": "1385ba53",
   "metadata": {},
   "source": [
    "### Q6. What are the differences between NumPy arrays and Python lists\n",
    "\n",
    "1. Data Type:\n",
    "\n",
    "    + NumPy Array: Homogeneous (all elements must be of the same data type).\n",
    "\n",
    "    + Python List: Heterogeneous (can store elements of different types).\n",
    "\n",
    "2. Performance:\n",
    "\n",
    "    + NumPy Array: Faster due to optimized C-based backend.\n",
    "\n",
    "    + Python List: Slower, especially for large data processing.\n",
    "\n",
    "3. Memory Usage:\n",
    "\n",
    "    + NumPy Array: Uses less memory (compact and efficient).\n",
    "\n",
    "    + Python List: Consumes more memory due to object overhead.\n",
    "\n",
    "4. Mathematical Operations:\n",
    "\n",
    "    + NumPy Array: Supports element-wise operations directly (e.g., addition, multiplication).\n",
    "\n",
    "    + Python List: Requires loops or list comprehensions for similar operations.\n",
    "\n",
    "5. Functionality:\n",
    "\n",
    "    + NumPy Array: Offers advanced features like linear algebra, broadcasting, FFT, etc.\n",
    "\n",
    "    + Python List: Lacks built-in support for mathematical functions.\n",
    "\n"
   ]
  },
  {
   "cell_type": "markdown",
   "id": "ce55698e",
   "metadata": {},
   "source": [
    "### Q7. What is a heatmap, and when should it be used?\n",
    "\n",
    "A heatmap is a data visualization technique that uses color gradients to represent the magnitude of values in a matrix or 2D dataset. Each cell in the heatmap corresponds to a data point, and its color intensity indicates the value’s size.\n",
    "\n",
    "**When Should It Be Used?**\n",
    "\n",
    "  + To Show Correlation Between Variables\n",
    "\n",
    "  + To Visualize Tabular Data with Numerical Values\n",
    "\n",
    "   + To Identify Patterns or Anomalies\n",
    "\n",
    "\n",
    "   + To Compare Features Across Categories\n"
   ]
  },
  {
   "cell_type": "markdown",
   "id": "e052b586",
   "metadata": {},
   "source": [
    "### Q8.  What does the term “vectorized operation” mean in NumPy?\n",
    "\n",
    "A vectorized operation in NumPy refers to the process of applying operations to entire arrays (or vectors) at once, without the need for explicit loops.\n",
    "\n",
    "**Key Characteristics:**\n",
    "\n",
    "1. Applies to Whole Arrays:\n",
    "\n",
    "    + Operations like addition, multiplication, comparison, etc., are performed element-wise across arrays.\n",
    "\n",
    "2. No Explicit Looping:\n",
    "\n",
    "    + You don’t need to write for loops to iterate over elements. NumPy handles it internally using highly optimized C code.\n",
    "\n",
    "3. Faster Execution:\n",
    "\n",
    "    + Vectorized operations are significantly faster than looping over elements in Python.\n",
    "\n",
    "4. Cleaner Code:\n",
    "\n",
    "    + Makes code more readable and concise.\n",
    "\n"
   ]
  },
  {
   "cell_type": "markdown",
   "id": "da59d631",
   "metadata": {},
   "source": [
    "### Q9. How does Matplotlib differ from Plotly?\n",
    "\n",
    "Matplotlib and Plotly are both popular Python libraries for data visualization, but they differ in interactivity, ease of use, and visual presentation.Matplotlib is best for static, publication-quality plots, while Plotly excels in interactive and web-based visualizations.\n",
    "\n"
   ]
  },
  {
   "cell_type": "markdown",
   "id": "c2f54b92",
   "metadata": {},
   "source": [
    "### Q10. What is the significance of hierarchical indexing in Pandas \n",
    "\n",
    "Hierarchical indexing in Pandas is significant because it provides a natural and efficient way to work with complex, multi-dimensional data within the familiar 1D/2D data structures, enabling powerful data manipulation, selection, and aggregation capabilities."
   ]
  },
  {
   "cell_type": "markdown",
   "id": "ecd244dd",
   "metadata": {},
   "source": [
    "### Q11. What is the role of Seaborn’s pairplot() function\n",
    "\n",
    "pairplot() is designed to provide a comprehensive and compact visualization of the relationships between multiple numerical variables in a dataset. It is especially useful during the exploratory data analysis (EDA) phase, where the goal is to gain insights into the underlying patterns, trends, and distributions before applying any modeling or statistical analysis.\n",
    "\n",
    "\n",
    "\n"
   ]
  },
  {
   "cell_type": "markdown",
   "id": "5d999ff3",
   "metadata": {},
   "source": [
    "### Q12.  What is the purpose of the describe() function in Pandas\n",
    "\n",
    "The describe() function in Pandas is used to generate summary statistics of the data in a DataFrame or Series. Its primary purpose is to provide a quick, concise overview of the distribution and key characteristics of numerical (and sometimes categorical) data.\n",
    "\n"
   ]
  },
  {
   "cell_type": "markdown",
   "id": "cb68711b",
   "metadata": {},
   "source": [
    "### Q13. Why is handling missing data important in Pandas\n",
    "\n",
    "Handling missing data in Pandas is important to ensure data accuracy, prevent errors, improve model reliability, and maintain the overall integrity of your data analysis workflow. Ignoring missing data can lead to misleading insights or software errors, so it’s a fundamental step in any data preparation process."
   ]
  },
  {
   "cell_type": "markdown",
   "id": "98099190",
   "metadata": {},
   "source": [
    "### Q14. What are the benefits of using Plotly for data visualization \n",
    "\n",
    "Plotly’s benefits lie in its interactivity, versatility, and high-quality visuals, making it ideal for both exploratory analysis and polished presentation of data. Its ease of integration with web apps and support for multiple programming languages also make it a top choice for modern data visualization projects."
   ]
  },
  {
   "cell_type": "markdown",
   "id": "5edab1f3",
   "metadata": {},
   "source": [
    "### Q15. How does NumPy handle multidimensional arrays\n",
    "\n",
    "NumPy handles multidimensional arrays by using its ndarray structure, which efficiently stores homogeneous data in contiguous memory blocks with a flexible shape defined by multiple axes. \n",
    "\n",
    "It provides powerful indexing, slicing, reshaping, and broadcasting capabilities to manipulate and perform fast vectorized operations on data of any dimensionality. This makes NumPy ideal for scientific computing, data analysis, and machine learning workflows requiring multi-dimensional data manipulation."
   ]
  },
  {
   "cell_type": "markdown",
   "id": "8ca19434",
   "metadata": {},
   "source": [
    "### Q16. What is the role of Bokeh in data visualization\n",
    "\n",
    "Bokeh’s role is to bridge the gap between static plots and fully interactive, web-ready visualizations, making it ideal for users who want to create rich, customizable, and interactive visualizations and dashboards directly from Python. It empowers analysts, data scientists, and developers to communicate insights through engaging visual interfaces accessible via browsers."
   ]
  },
  {
   "cell_type": "markdown",
   "id": "509702d3",
   "metadata": {},
   "source": [
    "### Q17. Explain the difference between apply() and map() in Pandas\n",
    "\n",
    "**apply():**\n",
    "\n",
    "   + Works on both DataFrames and Series.\n",
    "\n",
    "   + Can apply a function element-wise, row-wise, or column-wise.\n",
    "\n",
    "   + The function you pass can operate on single elements, entire rows, or columns.\n",
    "\n",
    "   + Useful for complex operations involving multiple columns or rows.\n",
    "\n",
    "   + Can return a Series, DataFrame, or scalar depending on the function and axis.\n",
    "\n",
    "**map():**\n",
    "\n",
    "   + Works only on Series.\n",
    "\n",
    "   + Applies a function or mapping element-wise on each value of the Series.\n",
    "\n",
    "   + Can accept a function, dictionary, or another Series for mapping or value replacement.\n",
    "\n",
    "   + Mainly used for simple value substitutions or element-wise transformations.\n",
    "\n",
    "   + Always returns a Series with the mapped or replaced values.\n",
    "\n"
   ]
  },
  {
   "cell_type": "markdown",
   "id": "7d429d9a",
   "metadata": {},
   "source": [
    "### Q18. What are some advanced features of NumPy\n",
    "\n",
    "Here are some advanced features of NumPy that go beyond basic array creation and manipulation:\n",
    "\n",
    "**Advanced Features of NumPy**\n",
    "\n",
    "1. **Broadcasting**\n",
    "\n",
    "    + Enables arithmetic operations between arrays of different shapes by automatically expanding their dimensions.\n",
    "\n",
    "    + Allows writing concise code without explicit loops.\n",
    "\n",
    "2. **Structured Arrays and Record Arrays**\n",
    "\n",
    "    + Support for heterogeneous data types (like columns in a database) within a single ndarray.\n",
    "\n",
    "    + Useful for handling complex data like CSV files with mixed data types.\n",
    "\n",
    "3. **Fancy Indexing and Boolean Masking**\n",
    "\n",
    "    + Access or modify subsets of arrays using arrays of indices or boolean conditions.\n",
    "\n",
    "    + Enables powerful filtering and selective assignment.\n",
    "\n",
    "4. **Universal Functions (ufuncs)**\n",
    "\n",
    "    + Vectorized functions implemented in C for element-wise operations with high performance.\n",
    "\n",
    "    + Includes arithmetic, trigonometric, comparison, and logical operations, and supports custom ufuncs.\n",
    "\n",
    "\n",
    "\n"
   ]
  },
  {
   "cell_type": "markdown",
   "id": "62eb4018",
   "metadata": {},
   "source": [
    "### Q19.  How does Pandas simplify time series analysis?\n",
    "\n",
    "Pandas provides a comprehensive set of time series-specific features — from specialized datetime types and flexible indexing to powerful resampling, rolling computations, and time zone handling — all with intuitive syntax. This makes handling, analyzing, and visualizing time series data much more straightforward and efficient compared to manual methods."
   ]
  },
  {
   "cell_type": "markdown",
   "id": "b3d8db43",
   "metadata": {},
   "source": [
    "### Q20.  What is the role of a pivot table in Pandas\n",
    "\n",
    "A pivot table in Pandas is a powerful tool to reshape and summarize data by aggregating values across multiple categories, allowing you to extract meaningful insights and compare grouped data easily."
   ]
  },
  {
   "cell_type": "markdown",
   "id": "01e88392",
   "metadata": {},
   "source": [
    "### Q21. Why is NumPy’s array slicing faster than Python’s list slicing\n",
    "\n",
    "NumPy slicing is faster because it works on contiguous memory blocks, returns views instead of copies, and benefits from low-level optimizations due to fixed data types and compiled code — while Python list slicing involves copying references and incurs more overhead.\n",
    "\n"
   ]
  },
  {
   "cell_type": "markdown",
   "id": "c4985c55",
   "metadata": {},
   "source": [
    "### Q22. What are some common use cases for Seaborn\n",
    "\n",
    "1. Exploratory Data Analysis (EDA)\n",
    "\n",
    "    + Quickly visualize distributions, relationships, and patterns in data.\n",
    "\n",
    "    + Useful for spotting trends, outliers, and correlations.\n",
    "\n",
    "2. Statistical Visualizations\n",
    "\n",
    "    + Built-in support for plots like boxplots, violin plots, pair plots, and regression plots to understand data distributions and statistical relationships.\n",
    "\n",
    "    + Shows confidence intervals, regression lines, and categorical comparisons easily.\n",
    "\n",
    "3. Visualizing Relationships Between Variables\n",
    "\n",
    "    + Scatterplots with regression lines (sns.lmplot), pair plots (sns.pairplot), and joint plots (sns.jointplot) help analyze relationships in multivariate datasets.\n",
    "\n",
    "4. Categorical Data Visualization\n",
    "\n",
    "    + Visualize categorical variables with bar plots, count plots, swarm plots, and box plots.\n",
    "\n",
    "    + Helps compare groups or categories clearly.\n",
    "\n",
    "\n"
   ]
  },
  {
   "cell_type": "markdown",
   "id": "4d56df56",
   "metadata": {},
   "source": [
    "## Practical"
   ]
  },
  {
   "cell_type": "markdown",
   "id": "963541c5",
   "metadata": {},
   "source": [
    "### Q1 How do you create a 2D NumPy array and calculate the sum of each row?"
   ]
  },
  {
   "cell_type": "code",
   "execution_count": 1,
   "id": "351c4494",
   "metadata": {},
   "outputs": [
    {
     "name": "stdout",
     "output_type": "stream",
     "text": [
      "2D Array:\n",
      " [[1 2 3]\n",
      " [4 5 6]]\n",
      "Sum of each row: [ 6 15]\n"
     ]
    }
   ],
   "source": [
    "import numpy as np\n",
    "\n",
    "arr = np.array([[1, 2, 3], [4, 5, 6]])\n",
    "row_sum = arr.sum(axis=1)\n",
    "print('2D Array:\\n', arr)\n",
    "print('Sum of each row:', row_sum)"
   ]
  },
  {
   "cell_type": "markdown",
   "id": "9c64ab4c",
   "metadata": {},
   "source": [
    "### Q2. Write a Pandas script to find the mean of a specific column in a DataFrame"
   ]
  },
  {
   "cell_type": "code",
   "execution_count": 2,
   "id": "c914d818",
   "metadata": {},
   "outputs": [
    {
     "name": "stdout",
     "output_type": "stream",
     "text": [
      "Mean of column B: 6.5\n"
     ]
    }
   ],
   "source": [
    "import pandas as pd\n",
    "\n",
    "data = {'A': [1, 2, 3, 4], 'B': [5, 6, 7, 8]}\n",
    "df = pd.DataFrame(data)\n",
    "mean_b = df['B'].mean()\n",
    "print('Mean of column B:', mean_b)"
   ]
  },
  {
   "cell_type": "markdown",
   "id": "4312ee89",
   "metadata": {},
   "source": [
    "### Q3. Create a scatter plot using Matplotlib"
   ]
  },
  {
   "cell_type": "code",
   "execution_count": 3,
   "id": "bab6061c",
   "metadata": {},
   "outputs": [
    {
     "data": {
      "image/png": "[encoded data removed]",
      "text/plain": [
       "<Figure size 640x480 with 1 Axes>"
      ]
     },
     "metadata": {},
     "output_type": "display_data"
    }
   ],
   "source": [
    "import matplotlib.pyplot as plt\n",
    "import numpy as np\n",
    "\n",
    "x = np.random.rand(50)\n",
    "y = np.random.rand(50)\n",
    "\n",
    "plt.scatter(x, y)\n",
    "plt.title('Scatter Plot')\n",
    "plt.xlabel('X')\n",
    "plt.ylabel('Y')\n",
    "plt.show()"
   ]
  },
  {
   "cell_type": "markdown",
   "id": "3465ecda",
   "metadata": {},
   "source": [
    "### Q4. How do you calculate the correlation matrix using Seaborn and visualize it with a heatmap"
   ]
  },
  {
   "cell_type": "code",
   "execution_count": 4,
   "id": "66c0c3f9",
   "metadata": {},
   "outputs": [
    {
     "data": {
      "image/png": "[encoded data removed]",
      "text/plain": [
       "<Figure size 640x480 with 2 Axes>"
      ]
     },
     "metadata": {},
     "output_type": "display_data"
    }
   ],
   "source": [
    "import seaborn as sns\n",
    "import pandas as pd\n",
    "import numpy as np\n",
    "\n",
    "data = pd.DataFrame(np.random.rand(10, 4), columns=list('ABCD'))\n",
    "corr = data.corr()\n",
    "sns.heatmap(corr, annot=True)\n",
    "plt.title('Correlation Heatmap')\n",
    "plt.show()"
   ]
  },
  {
   "cell_type": "markdown",
   "id": "68f02acf",
   "metadata": {},
   "source": [
    "### Q5.  Generate a bar plot using Plotly."
   ]
  },
  {
   "cell_type": "code",
   "execution_count": 5,
   "id": "e5135166",
   "metadata": {},
   "outputs": [
    {
     "data": {
      "application/vnd.plotly.v1+json": {
       "config": {
        "plotlyServerURL": "https://plot.ly"
       },
       "data": [
        {
         "type": "bar",
         "x": [
          "A",
          "B",
          "C",
          "D"
         ],
         "y": [
          10,
          15,
          7,
          12
         ]
        }
       ],
       "layout": {
        "template": {
         "data": {
          "bar": [
           {
            "error_x": {
             "color": "#2a3f5f"
            },
            "error_y": {
             "color": "#2a3f5f"
            },
            "marker": {
             "line": {
              "color": "#E5ECF6",
              "width": 0.5
             },
             "pattern": {
              "fillmode": "overlay",
              "size": 10,
              "solidity": 0.2
             }
            },
            "type": "bar"
           }
          ],
          "barpolar": [
           {
            "marker": {
             "line": {
              "color": "#E5ECF6",
              "width": 0.5
             },
             "pattern": {
              "fillmode": "overlay",
              "size": 10,
              "solidity": 0.2
             }
            },
            "type": "barpolar"
           }
          ],
          "carpet": [
           {
            "aaxis": {
             "endlinecolor": "#2a3f5f",
             "gridcolor": "white",
             "linecolor": "white",
             "minorgridcolor": "white",
             "startlinecolor": "#2a3f5f"
            },
            "baxis": {
             "endlinecolor": "#2a3f5f",
             "gridcolor": "white",
             "linecolor": "white",
             "minorgridcolor": "white",
             "startlinecolor": "#2a3f5f"
            },
            "type": "carpet"
           }
          ],
          "choropleth": [
           {
            "colorbar": {
             "outlinewidth": 0,
             "ticks": ""
            },
            "type": "choropleth"
           }
          ],
          "contour": [
           {
            "colorbar": {
             "outlinewidth": 0,
             "ticks": ""
            },
            "colorscale": [
             [
              0,
              "#0d0887"
             ],
             [
              0.1111111111111111,
              "#46039f"
             ],
             [
              0.2222222222222222,
              "#7201a8"
             ],
             [
              0.3333333333333333,
              "#9c179e"
             ],
             [
              0.4444444444444444,
              "#bd3786"
             ],
             [
              0.5555555555555556,
              "#d8576b"
             ],
             [
              0.6666666666666666,
              "#ed7953"
             ],
             [
              0.7777777777777778,
              "#fb9f3a"
             ],
             [
              0.8888888888888888,
              "#fdca26"
             ],
             [
              1,
              "#f0f921"
             ]
            ],
            "type": "contour"
           }
          ],
          "contourcarpet": [
           {
            "colorbar": {
             "outlinewidth": 0,
             "ticks": ""
            },
            "type": "contourcarpet"
           }
          ],
          "heatmap": [
           {
            "colorbar": {
             "outlinewidth": 0,
             "ticks": ""
            },
            "colorscale": [
             [
              0,
              "#0d0887"
             ],
             [
              0.1111111111111111,
              "#46039f"
             ],
             [
              0.2222222222222222,
              "#7201a8"
             ],
             [
              0.3333333333333333,
              "#9c179e"
             ],
             [
              0.4444444444444444,
              "#bd3786"
             ],
             [
              0.5555555555555556,
              "#d8576b"
             ],
             [
              0.6666666666666666,
              "#ed7953"
             ],
             [
              0.7777777777777778,
              "#fb9f3a"
             ],
             [
              0.8888888888888888,
              "#fdca26"
             ],
             [
              1,
              "#f0f921"
             ]
            ],
            "type": "heatmap"
           }
          ],
          "heatmapgl": [
           {
            "colorbar": {
             "outlinewidth": 0,
             "ticks": ""
            },
            "colorscale": [
             [
              0,
              "#0d0887"
             ],
             [
              0.1111111111111111,
              "#46039f"
             ],
             [
              0.2222222222222222,
              "#7201a8"
             ],
             [
              0.3333333333333333,
              "#9c179e"
             ],
             [
              0.4444444444444444,
              "#bd3786"
             ],
             [
              0.5555555555555556,
              "#d8576b"
             ],
             [
              0.6666666666666666,
              "#ed7953"
             ],
             [
              0.7777777777777778,
              "#fb9f3a"
             ],
             [
              0.8888888888888888,
              "#fdca26"
             ],
             [
              1,
              "#f0f921"
             ]
            ],
            "type": "heatmapgl"
           }
          ],
          "histogram": [
           {
            "marker": {
             "pattern": {
              "fillmode": "overlay",
              "size": 10,
              "solidity": 0.2
             }
            },
            "type": "histogram"
           }
          ],
          "histogram2d": [
           {
            "colorbar": {
             "outlinewidth": 0,
             "ticks": ""
            },
            "colorscale": [
             [
              0,
              "#0d0887"
             ],
             [
              0.1111111111111111,
              "#46039f"
             ],
             [
              0.2222222222222222,
              "#7201a8"
             ],
             [
              0.3333333333333333,
              "#9c179e"
             ],
             [
              0.4444444444444444,
              "#bd3786"
             ],
             [
              0.5555555555555556,
              "#d8576b"
             ],
             [
              0.6666666666666666,
              "#ed7953"
             ],
             [
              0.7777777777777778,
              "#fb9f3a"
             ],
             [
              0.8888888888888888,
              "#fdca26"
             ],
             [
              1,
              "#f0f921"
             ]
            ],
            "type": "histogram2d"
           }
          ],
          "histogram2dcontour": [
           {
            "colorbar": {
             "outlinewidth": 0,
             "ticks": ""
            },
            "colorscale": [
             [
              0,
              "#0d0887"
             ],
             [
              0.1111111111111111,
              "#46039f"
             ],
             [
              0.2222222222222222,
              "#7201a8"
             ],
             [
              0.3333333333333333,
              "#9c179e"
             ],
             [
              0.4444444444444444,
              "#bd3786"
             ],
             [
              0.5555555555555556,
              "#d8576b"
             ],
             [
              0.6666666666666666,
              "#ed7953"
             ],
             [
              0.7777777777777778,
              "#fb9f3a"
             ],
             [
              0.8888888888888888,
              "#fdca26"
             ],
             [
              1,
              "#f0f921"
             ]
            ],
            "type": "histogram2dcontour"
           }
          ],
          "mesh3d": [
           {
            "colorbar": {
             "outlinewidth": 0,
             "ticks": ""
            },
            "type": "mesh3d"
           }
          ],
          "parcoords": [
           {
            "line": {
             "colorbar": {
              "outlinewidth": 0,
              "ticks": ""
             }
            },
            "type": "parcoords"
           }
          ],
          "pie": [
           {
            "automargin": true,
            "type": "pie"
           }
          ],
          "scatter": [
           {
            "fillpattern": {
             "fillmode": "overlay",
             "size": 10,
             "solidity": 0.2
            },
            "type": "scatter"
           }
          ],
          "scatter3d": [
           {
            "line": {
             "colorbar": {
              "outlinewidth": 0,
              "ticks": ""
             }
            },
            "marker": {
             "colorbar": {
              "outlinewidth": 0,
              "ticks": ""
             }
            },
            "type": "scatter3d"
           }
          ],
          "scattercarpet": [
           {
            "marker": {
             "colorbar": {
              "outlinewidth": 0,
              "ticks": ""
             }
            },
            "type": "scattercarpet"
           }
          ],
          "scattergeo": [
           {
            "marker": {
             "colorbar": {
              "outlinewidth": 0,
              "ticks": ""
             }
            },
            "type": "scattergeo"
           }
          ],
          "scattergl": [
           {
            "marker": {
             "colorbar": {
              "outlinewidth": 0,
              "ticks": ""
             }
            },
            "type": "scattergl"
           }
          ],
          "scattermapbox": [
           {
            "marker": {
             "colorbar": {
              "outlinewidth": 0,
              "ticks": ""
             }
            },
            "type": "scattermapbox"
           }
          ],
          "scatterpolar": [
           {
            "marker": {
             "colorbar": {
              "outlinewidth": 0,
              "ticks": ""
             }
            },
            "type": "scatterpolar"
           }
          ],
          "scatterpolargl": [
           {
            "marker": {
             "colorbar": {
              "outlinewidth": 0,
              "ticks": ""
             }
            },
            "type": "scatterpolargl"
           }
          ],
          "scatterternary": [
           {
            "marker": {
             "colorbar": {
              "outlinewidth": 0,
              "ticks": ""
             }
            },
            "type": "scatterternary"
           }
          ],
          "surface": [
           {
            "colorbar": {
             "outlinewidth": 0,
             "ticks": ""
            },
            "colorscale": [
             [
              0,
              "#0d0887"
             ],
             [
              0.1111111111111111,
              "#46039f"
             ],
             [
              0.2222222222222222,
              "#7201a8"
             ],
             [
              0.3333333333333333,
              "#9c179e"
             ],
             [
              0.4444444444444444,
              "#bd3786"
             ],
             [
              0.5555555555555556,
              "#d8576b"
             ],
             [
              0.6666666666666666,
              "#ed7953"
             ],
             [
              0.7777777777777778,
              "#fb9f3a"
             ],
             [
              0.8888888888888888,
              "#fdca26"
             ],
             [
              1,
              "#f0f921"
             ]
            ],
            "type": "surface"
           }
          ],
          "table": [
           {
            "cells": {
             "fill": {
              "color": "#EBF0F8"
             },
             "line": {
              "color": "white"
             }
            },
            "header": {
             "fill": {
              "color": "#C8D4E3"
             },
             "line": {
              "color": "white"
             }
            },
            "type": "table"
           }
          ]
         },
         "layout": {
          "annotationdefaults": {
           "arrowcolor": "#2a3f5f",
           "arrowhead": 0,
           "arrowwidth": 1
          },
          "autotypenumbers": "strict",
          "coloraxis": {
           "colorbar": {
            "outlinewidth": 0,
            "ticks": ""
           }
          },
          "colorscale": {
           "diverging": [
            [
             0,
             "#8e0152"
            ],
            [
             0.1,
             "#c51b7d"
            ],
            [
             0.2,
             "#de77ae"
            ],
            [
             0.3,
             "#f1b6da"
            ],
            [
             0.4,
             "#fde0ef"
            ],
            [
             0.5,
             "#f7f7f7"
            ],
            [
             0.6,
             "#e6f5d0"
            ],
            [
             0.7,
             "#b8e186"
            ],
            [
             0.8,
             "#7fbc41"
            ],
            [
             0.9,
             "#4d9221"
            ],
            [
             1,
             "#276419"
            ]
           ],
           "sequential": [
            [
             0,
             "#0d0887"
            ],
            [
             0.1111111111111111,
             "#46039f"
            ],
            [
             0.2222222222222222,
             "#7201a8"
            ],
            [
             0.3333333333333333,
             "#9c179e"
            ],
            [
             0.4444444444444444,
             "#bd3786"
            ],
            [
             0.5555555555555556,
             "#d8576b"
            ],
            [
             0.6666666666666666,
             "#ed7953"
            ],
            [
             0.7777777777777778,
             "#fb9f3a"
            ],
            [
             0.8888888888888888,
             "#fdca26"
            ],
            [
             1,
             "#f0f921"
            ]
           ],
           "sequentialminus": [
            [
             0,
             "#0d0887"
            ],
            [
             0.1111111111111111,
             "#46039f"
            ],
            [
             0.2222222222222222,
             "#7201a8"
            ],
            [
             0.3333333333333333,
             "#9c179e"
            ],
            [
             0.4444444444444444,
             "#bd3786"
            ],
            [
             0.5555555555555556,
             "#d8576b"
            ],
            [
             0.6666666666666666,
             "#ed7953"
            ],
            [
             0.7777777777777778,
             "#fb9f3a"
            ],
            [
             0.8888888888888888,
             "#fdca26"
            ],
            [
             1,
             "#f0f921"
            ]
           ]
          },
          "colorway": [
           "#636efa",
           "#EF553B",
           "#00cc96",
           "#ab63fa",
           "#FFA15A",
           "#19d3f3",
           "#FF6692",
           "#B6E880",
           "#FF97FF",
           "#FECB52"
          ],
          "font": {
           "color": "#2a3f5f"
          },
          "geo": {
           "bgcolor": "white",
           "lakecolor": "white",
           "landcolor": "#E5ECF6",
           "showlakes": true,
           "showland": true,
           "subunitcolor": "white"
          },
          "hoverlabel": {
           "align": "left"
          },
          "hovermode": "closest",
          "mapbox": {
           "style": "light"
          },
          "paper_bgcolor": "white",
          "plot_bgcolor": "#E5ECF6",
          "polar": {
           "angularaxis": {
            "gridcolor": "white",
            "linecolor": "white",
            "ticks": ""
           },
           "bgcolor": "#E5ECF6",
           "radialaxis": {
            "gridcolor": "white",
            "linecolor": "white",
            "ticks": ""
           }
          },
          "scene": {
           "xaxis": {
            "backgroundcolor": "#E5ECF6",
            "gridcolor": "white",
            "gridwidth": 2,
            "linecolor": "white",
            "showbackground": true,
            "ticks": "",
            "zerolinecolor": "white"
           },
           "yaxis": {
            "backgroundcolor": "#E5ECF6",
            "gridcolor": "white",
            "gridwidth": 2,
            "linecolor": "white",
            "showbackground": true,
            "ticks": "",
            "zerolinecolor": "white"
           },
           "zaxis": {
            "backgroundcolor": "#E5ECF6",
            "gridcolor": "white",
            "gridwidth": 2,
            "linecolor": "white",
            "showbackground": true,
            "ticks": "",
            "zerolinecolor": "white"
           }
          },
          "shapedefaults": {
           "line": {
            "color": "#2a3f5f"
           }
          },
          "ternary": {
           "aaxis": {
            "gridcolor": "white",
            "linecolor": "white",
            "ticks": ""
           },
           "baxis": {
            "gridcolor": "white",
            "linecolor": "white",
            "ticks": ""
           },
           "bgcolor": "#E5ECF6",
           "caxis": {
            "gridcolor": "white",
            "linecolor": "white",
            "ticks": ""
           }
          },
          "title": {
           "x": 0.05
          },
          "xaxis": {
           "automargin": true,
           "gridcolor": "white",
           "linecolor": "white",
           "ticks": "",
           "title": {
            "standoff": 15
           },
           "zerolinecolor": "white",
           "zerolinewidth": 2
          },
          "yaxis": {
           "automargin": true,
           "gridcolor": "white",
           "linecolor": "white",
           "ticks": "",
           "title": {
            "standoff": 15
           },
           "zerolinecolor": "white",
           "zerolinewidth": 2
          }
         }
        },
        "title": {
         "text": "Simple Bar Plot"
        },
        "xaxis": {
         "title": {
          "text": "Category"
         }
        },
        "yaxis": {
         "title": {
          "text": "Value"
         }
        }
       }
      }
     },
     "metadata": {},
     "output_type": "display_data"
    }
   ],
   "source": [
    "import plotly.graph_objects as go\n",
    "\n",
    "# Sample data\n",
    "categories = ['A', 'B', 'C', 'D']\n",
    "values = [10, 15, 7, 12]\n",
    "\n",
    "# Create a bar plot\n",
    "fig = go.Figure(data=[go.Bar(x=categories, y=values)])\n",
    "\n",
    "# Customize layout\n",
    "fig.update_layout(\n",
    "    title='Simple Bar Plot',\n",
    "    xaxis_title='Category',\n",
    "    yaxis_title='Value'\n",
    ")\n",
    "\n",
    "# Show the plot\n",
    "fig.show()\n"
   ]
  },
  {
   "cell_type": "markdown",
   "id": "684fe594",
   "metadata": {},
   "source": [
    "### Q6. Create a DataFrame and add a new column based on an existing column."
   ]
  },
  {
   "cell_type": "code",
   "execution_count": 6,
   "id": "934f4bd0",
   "metadata": {},
   "outputs": [
    {
     "name": "stdout",
     "output_type": "stream",
     "text": [
      "      Name  Age  Age_in_5_years\n",
      "0    Alice   25              30\n",
      "1      Bob   30              35\n",
      "2  Charlie   35              40\n"
     ]
    }
   ],
   "source": [
    "import pandas as pd\n",
    "\n",
    "# Create a sample DataFrame\n",
    "data = {\n",
    "    'Name': ['Alice', 'Bob', 'Charlie'],\n",
    "    'Age': [25, 30, 35]\n",
    "}\n",
    "\n",
    "df = pd.DataFrame(data)\n",
    "\n",
    "# Add a new column 'Age_in_5_years' based on 'Age'\n",
    "df['Age_in_5_years'] = df['Age'] + 5\n",
    "\n",
    "print(df)\n"
   ]
  },
  {
   "cell_type": "markdown",
   "id": "6f10a7c8",
   "metadata": {},
   "source": [
    "### Q7. Write a program to perform element-wise multiplication of two NumPy arrays."
   ]
  },
  {
   "cell_type": "code",
   "execution_count": 7,
   "id": "e2b7b714",
   "metadata": {},
   "outputs": [
    {
     "name": "stdout",
     "output_type": "stream",
     "text": [
      "Array 1: [1 2 3 4]\n",
      "Array 2: [5 6 7 8]\n",
      "Element-wise multiplication result: [ 5 12 21 32]\n"
     ]
    }
   ],
   "source": [
    "import numpy as np\n",
    "\n",
    "# Define two sample arrays\n",
    "array1 = np.array([1, 2, 3, 4])\n",
    "array2 = np.array([5, 6, 7, 8])\n",
    "\n",
    "# Element-wise multiplication\n",
    "result = array1 * array2\n",
    "\n",
    "print(\"Array 1:\", array1)\n",
    "print(\"Array 2:\", array2)\n",
    "print(\"Element-wise multiplication result:\", result)\n"
   ]
  },
  {
   "cell_type": "markdown",
   "id": "8b2d0441",
   "metadata": {},
   "source": [
    "### Q8. Create a line plot with multiple lines using Matplotlib."
   ]
  },
  {
   "cell_type": "code",
   "execution_count": null,
   "id": "72463447",
   "metadata": {},
   "outputs": [
    {
     "data": {
      "image/png": "[encoded data removed]",
      "text/plain": [
       "<Figure size 640x480 with 1 Axes>"
      ]
     },
     "metadata": {},
     "output_type": "display_data"
    }
   ],
   "source": [
    "import matplotlib.pyplot as plt\n",
    "\n",
    "x = [1, 2, 3, 4, 5]\n",
    "y1 = [2, 3, 5, 7, 11]\n",
    "y2 = [1, 4, 6, 8, 10]\n",
    "y3 = [3, 5, 2, 6, 9]\n",
    "\n",
    "plt.plot(x, y1, label='Line 1', marker='o')\n",
    "plt.plot(x, y2, label='Line 2', marker='s')\n",
    "plt.plot(x, y3, label='Line 3', marker='^')\n",
    "\n",
    "plt.title('Multiple Line Plot')\n",
    "plt.xlabel('X-axis')\n",
    "plt.ylabel('Y-axis')\n",
    "\n",
    "plt.legend()\n",
    "\n",
    "plt.show()\n"
   ]
  },
  {
   "cell_type": "markdown",
   "id": "5d3b5bd8",
   "metadata": {},
   "source": [
    "### Q9.  Generate a Pandas DataFrame and filter rows where a column value is greater than a threshold"
   ]
  },
  {
   "cell_type": "code",
   "execution_count": 9,
   "id": "48b02c13",
   "metadata": {},
   "outputs": [
    {
     "name": "stdout",
     "output_type": "stream",
     "text": [
      "    Name  Score\n",
      "0  Alice     85\n",
      "1    Bob     92\n",
      "3  David     90\n"
     ]
    }
   ],
   "source": [
    "import pandas as pd\n",
    "\n",
    "# Create sample DataFrame\n",
    "data = {\n",
    "    'Name': ['Alice', 'Bob', 'Charlie', 'David'],\n",
    "    'Score': [85, 92, 78, 90]\n",
    "}\n",
    "\n",
    "df = pd.DataFrame(data)\n",
    "\n",
    "# Set threshold\n",
    "threshold = 80\n",
    "\n",
    "# Filter rows where 'Score' is greater than threshold\n",
    "filtered_df = df[df['Score'] > threshold]\n",
    "\n",
    "print(filtered_df)\n"
   ]
  },
  {
   "cell_type": "markdown",
   "id": "4c0ef365",
   "metadata": {},
   "source": [
    "### Q10. Create a histogram using Seaborn to visualize a distribution."
   ]
  },
  {
   "cell_type": "code",
   "execution_count": 10,
   "id": "3520589e",
   "metadata": {},
   "outputs": [
    {
     "data": {
      "image/png": "[encoded data removed]",
      "text/plain": [
       "<Figure size 640x480 with 1 Axes>"
      ]
     },
     "metadata": {},
     "output_type": "display_data"
    }
   ],
   "source": [
    "import seaborn as sns\n",
    "import matplotlib.pyplot as plt\n",
    "\n",
    "data = sns.load_dataset('tips')['total_bill']\n",
    "\n",
    "sns.histplot(data, bins=20, kde=True)\n",
    "\n",
    "plt.title('Distribution of Total Bill')\n",
    "plt.xlabel('Total Bill')\n",
    "plt.ylabel('Frequency')\n",
    "\n",
    "plt.show()\n"
   ]
  },
  {
   "cell_type": "markdown",
   "id": "cc993d89",
   "metadata": {},
   "source": [
    "### Q11. Perform matrix multiplication using NumPy.\n"
   ]
  },
  {
   "cell_type": "code",
   "execution_count": 12,
   "id": "2b9ee152",
   "metadata": {},
   "outputs": [
    {
     "name": "stdout",
     "output_type": "stream",
     "text": [
      "\n",
      "Matrix multiplication result (A x B):\n",
      "[[19 22]\n",
      " [43 50]]\n"
     ]
    }
   ],
   "source": [
    "import numpy as np\n",
    "\n",
    "\n",
    "A = np.array([[1, 2],\n",
    "              [3, 4]])\n",
    "\n",
    "B = np.array([[5, 6],\n",
    "              [7, 8]])\n",
    "\n",
    "\n",
    "result = np.dot(A, B)\n",
    "\n",
    "\n",
    "\n",
    "print(\"\\nMatrix multiplication result (A x B):\")\n",
    "print(result)\n"
   ]
  },
  {
   "cell_type": "markdown",
   "id": "3bfa6250",
   "metadata": {},
   "source": [
    "### Q12. Use Pandas to load a CSV file and display its first 5 rows"
   ]
  },
  {
   "cell_type": "code",
   "execution_count": 1,
   "id": "87980c80",
   "metadata": {},
   "outputs": [
    {
     "name": "stdout",
     "output_type": "stream",
     "text": [
      "     SaleID RetailerCountry OrderMethod   RetailerType           ProductLine  \\\n",
      "0  SaleID_1   United States         Fax  Outdoors Shop  Personal Accessories   \n",
      "1  SaleID_2   United States         Fax  Outdoors Shop      Sports Equipment   \n",
      "2  SaleID_3   United States         Fax  Outdoors Shop                   NaN   \n",
      "3  SaleID_4   United States         Fax  Outdoors Shop                   NaN   \n",
      "4  SaleID_5   United States         NaN  Outdoors Shop  Personal Accessories   \n",
      "\n",
      "    ProductType                    Product    Year  Quarter   Revenue  \\\n",
      "0  Cooking Gear  TrailChef Deluxe Cook Set  2018.0  Q1 2018  59728.66   \n",
      "1  Cooking Gear     TrailChef Double Flame  2018.0  Q1 2018  36050.32   \n",
      "2         Tents                  Star Dome  2018.0  Q1 2018  90040.48   \n",
      "3         Tents               Star Gazer 2  2018.0  Q1 2018       NaN   \n",
      "4     First Aid         Compact Relief Kit  2018.0  Q1 2018       NaN   \n",
      "\n",
      "   Quantity  GrossMargin  \n",
      "0     491.0     0.357548  \n",
      "1     254.0     0.484274  \n",
      "2     149.0          NaN  \n",
      "3     305.0     0.292938  \n",
      "4     182.0     0.610710  \n"
     ]
    }
   ],
   "source": [
    "import pandas as pd\n",
    "\n",
    "# Load CSV file into a DataFrame\n",
    "df = pd.read_csv('Sales-products.csv')\n",
    "\n",
    "# Display the first 5 rows\n",
    "print(df.head())\n"
   ]
  },
  {
   "cell_type": "markdown",
   "id": "04c9e486",
   "metadata": {},
   "source": [
    "### Q13. Create a 3D scatter plot using Plotly."
   ]
  },
  {
   "cell_type": "code",
   "execution_count": 14,
   "id": "3a0d2254",
   "metadata": {},
   "outputs": [
    {
     "data": {
      "application/vnd.plotly.v1+json": {
       "config": {
        "plotlyServerURL": "https://plot.ly"
       },
       "data": [
        {
         "marker": {
          "color": [
           5,
           6,
           7,
           8,
           9
          ],
          "colorscale": [
           [
            0,
            "#440154"
           ],
           [
            0.1111111111111111,
            "#482878"
           ],
           [
            0.2222222222222222,
            "#3e4989"
           ],
           [
            0.3333333333333333,
            "#31688e"
           ],
           [
            0.4444444444444444,
            "#26828e"
           ],
           [
            0.5555555555555556,
            "#1f9e89"
           ],
           [
            0.6666666666666666,
            "#35b779"
           ],
           [
            0.7777777777777778,
            "#6ece58"
           ],
           [
            0.8888888888888888,
            "#b5de2b"
           ],
           [
            1,
            "#fde725"
           ]
          ],
          "opacity": 0.8,
          "size": 8
         },
         "mode": "markers",
         "type": "scatter3d",
         "x": [
          1,
          2,
          3,
          4,
          5
         ],
         "y": [
          10,
          15,
          13,
          17,
          14
         ],
         "z": [
          5,
          6,
          7,
          8,
          9
         ]
        }
       ],
       "layout": {
        "scene": {
         "xaxis": {
          "title": {
           "text": "X Axis"
          }
         },
         "yaxis": {
          "title": {
           "text": "Y Axis"
          }
         },
         "zaxis": {
          "title": {
           "text": "Z Axis"
          }
         }
        },
        "template": {
         "data": {
          "bar": [
           {
            "error_x": {
             "color": "#2a3f5f"
            },
            "error_y": {
             "color": "#2a3f5f"
            },
            "marker": {
             "line": {
              "color": "#E5ECF6",
              "width": 0.5
             },
             "pattern": {
              "fillmode": "overlay",
              "size": 10,
              "solidity": 0.2
             }
            },
            "type": "bar"
           }
          ],
          "barpolar": [
           {
            "marker": {
             "line": {
              "color": "#E5ECF6",
              "width": 0.5
             },
             "pattern": {
              "fillmode": "overlay",
              "size": 10,
              "solidity": 0.2
             }
            },
            "type": "barpolar"
           }
          ],
          "carpet": [
           {
            "aaxis": {
             "endlinecolor": "#2a3f5f",
             "gridcolor": "white",
             "linecolor": "white",
             "minorgridcolor": "white",
             "startlinecolor": "#2a3f5f"
            },
            "baxis": {
             "endlinecolor": "#2a3f5f",
             "gridcolor": "white",
             "linecolor": "white",
             "minorgridcolor": "white",
             "startlinecolor": "#2a3f5f"
            },
            "type": "carpet"
           }
          ],
          "choropleth": [
           {
            "colorbar": {
             "outlinewidth": 0,
             "ticks": ""
            },
            "type": "choropleth"
           }
          ],
          "contour": [
           {
            "colorbar": {
             "outlinewidth": 0,
             "ticks": ""
            },
            "colorscale": [
             [
              0,
              "#0d0887"
             ],
             [
              0.1111111111111111,
              "#46039f"
             ],
             [
              0.2222222222222222,
              "#7201a8"
             ],
             [
              0.3333333333333333,
              "#9c179e"
             ],
             [
              0.4444444444444444,
              "#bd3786"
             ],
             [
              0.5555555555555556,
              "#d8576b"
             ],
             [
              0.6666666666666666,
              "#ed7953"
             ],
             [
              0.7777777777777778,
              "#fb9f3a"
             ],
             [
              0.8888888888888888,
              "#fdca26"
             ],
             [
              1,
              "#f0f921"
             ]
            ],
            "type": "contour"
           }
          ],
          "contourcarpet": [
           {
            "colorbar": {
             "outlinewidth": 0,
             "ticks": ""
            },
            "type": "contourcarpet"
           }
          ],
          "heatmap": [
           {
            "colorbar": {
             "outlinewidth": 0,
             "ticks": ""
            },
            "colorscale": [
             [
              0,
              "#0d0887"
             ],
             [
              0.1111111111111111,
              "#46039f"
             ],
             [
              0.2222222222222222,
              "#7201a8"
             ],
             [
              0.3333333333333333,
              "#9c179e"
             ],
             [
              0.4444444444444444,
              "#bd3786"
             ],
             [
              0.5555555555555556,
              "#d8576b"
             ],
             [
              0.6666666666666666,
              "#ed7953"
             ],
             [
              0.7777777777777778,
              "#fb9f3a"
             ],
             [
              0.8888888888888888,
              "#fdca26"
             ],
             [
              1,
              "#f0f921"
             ]
            ],
            "type": "heatmap"
           }
          ],
          "heatmapgl": [
           {
            "colorbar": {
             "outlinewidth": 0,
             "ticks": ""
            },
            "colorscale": [
             [
              0,
              "#0d0887"
             ],
             [
              0.1111111111111111,
              "#46039f"
             ],
             [
              0.2222222222222222,
              "#7201a8"
             ],
             [
              0.3333333333333333,
              "#9c179e"
             ],
             [
              0.4444444444444444,
              "#bd3786"
             ],
             [
              0.5555555555555556,
              "#d8576b"
             ],
             [
              0.6666666666666666,
              "#ed7953"
             ],
             [
              0.7777777777777778,
              "#fb9f3a"
             ],
             [
              0.8888888888888888,
              "#fdca26"
             ],
             [
              1,
              "#f0f921"
             ]
            ],
            "type": "heatmapgl"
           }
          ],
          "histogram": [
           {
            "marker": {
             "pattern": {
              "fillmode": "overlay",
              "size": 10,
              "solidity": 0.2
             }
            },
            "type": "histogram"
           }
          ],
          "histogram2d": [
           {
            "colorbar": {
             "outlinewidth": 0,
             "ticks": ""
            },
            "colorscale": [
             [
              0,
              "#0d0887"
             ],
             [
              0.1111111111111111,
              "#46039f"
             ],
             [
              0.2222222222222222,
              "#7201a8"
             ],
             [
              0.3333333333333333,
              "#9c179e"
             ],
             [
              0.4444444444444444,
              "#bd3786"
             ],
             [
              0.5555555555555556,
              "#d8576b"
             ],
             [
              0.6666666666666666,
              "#ed7953"
             ],
             [
              0.7777777777777778,
              "#fb9f3a"
             ],
             [
              0.8888888888888888,
              "#fdca26"
             ],
             [
              1,
              "#f0f921"
             ]
            ],
            "type": "histogram2d"
           }
          ],
          "histogram2dcontour": [
           {
            "colorbar": {
             "outlinewidth": 0,
             "ticks": ""
            },
            "colorscale": [
             [
              0,
              "#0d0887"
             ],
             [
              0.1111111111111111,
              "#46039f"
             ],
             [
              0.2222222222222222,
              "#7201a8"
             ],
             [
              0.3333333333333333,
              "#9c179e"
             ],
             [
              0.4444444444444444,
              "#bd3786"
             ],
             [
              0.5555555555555556,
              "#d8576b"
             ],
             [
              0.6666666666666666,
              "#ed7953"
             ],
             [
              0.7777777777777778,
              "#fb9f3a"
             ],
             [
              0.8888888888888888,
              "#fdca26"
             ],
             [
              1,
              "#f0f921"
             ]
            ],
            "type": "histogram2dcontour"
           }
          ],
          "mesh3d": [
           {
            "colorbar": {
             "outlinewidth": 0,
             "ticks": ""
            },
            "type": "mesh3d"
           }
          ],
          "parcoords": [
           {
            "line": {
             "colorbar": {
              "outlinewidth": 0,
              "ticks": ""
             }
            },
            "type": "parcoords"
           }
          ],
          "pie": [
           {
            "automargin": true,
            "type": "pie"
           }
          ],
          "scatter": [
           {
            "fillpattern": {
             "fillmode": "overlay",
             "size": 10,
             "solidity": 0.2
            },
            "type": "scatter"
           }
          ],
          "scatter3d": [
           {
            "line": {
             "colorbar": {
              "outlinewidth": 0,
              "ticks": ""
             }
            },
            "marker": {
             "colorbar": {
              "outlinewidth": 0,
              "ticks": ""
             }
            },
            "type": "scatter3d"
           }
          ],
          "scattercarpet": [
           {
            "marker": {
             "colorbar": {
              "outlinewidth": 0,
              "ticks": ""
             }
            },
            "type": "scattercarpet"
           }
          ],
          "scattergeo": [
           {
            "marker": {
             "colorbar": {
              "outlinewidth": 0,
              "ticks": ""
             }
            },
            "type": "scattergeo"
           }
          ],
          "scattergl": [
           {
            "marker": {
             "colorbar": {
              "outlinewidth": 0,
              "ticks": ""
             }
            },
            "type": "scattergl"
           }
          ],
          "scattermapbox": [
           {
            "marker": {
             "colorbar": {
              "outlinewidth": 0,
              "ticks": ""
             }
            },
            "type": "scattermapbox"
           }
          ],
          "scatterpolar": [
           {
            "marker": {
             "colorbar": {
              "outlinewidth": 0,
              "ticks": ""
             }
            },
            "type": "scatterpolar"
           }
          ],
          "scatterpolargl": [
           {
            "marker": {
             "colorbar": {
              "outlinewidth": 0,
              "ticks": ""
             }
            },
            "type": "scatterpolargl"
           }
          ],
          "scatterternary": [
           {
            "marker": {
             "colorbar": {
              "outlinewidth": 0,
              "ticks": ""
             }
            },
            "type": "scatterternary"
           }
          ],
          "surface": [
           {
            "colorbar": {
             "outlinewidth": 0,
             "ticks": ""
            },
            "colorscale": [
             [
              0,
              "#0d0887"
             ],
             [
              0.1111111111111111,
              "#46039f"
             ],
             [
              0.2222222222222222,
              "#7201a8"
             ],
             [
              0.3333333333333333,
              "#9c179e"
             ],
             [
              0.4444444444444444,
              "#bd3786"
             ],
             [
              0.5555555555555556,
              "#d8576b"
             ],
             [
              0.6666666666666666,
              "#ed7953"
             ],
             [
              0.7777777777777778,
              "#fb9f3a"
             ],
             [
              0.8888888888888888,
              "#fdca26"
             ],
             [
              1,
              "#f0f921"
             ]
            ],
            "type": "surface"
           }
          ],
          "table": [
           {
            "cells": {
             "fill": {
              "color": "#EBF0F8"
             },
             "line": {
              "color": "white"
             }
            },
            "header": {
             "fill": {
              "color": "#C8D4E3"
             },
             "line": {
              "color": "white"
             }
            },
            "type": "table"
           }
          ]
         },
         "layout": {
          "annotationdefaults": {
           "arrowcolor": "#2a3f5f",
           "arrowhead": 0,
           "arrowwidth": 1
          },
          "autotypenumbers": "strict",
          "coloraxis": {
           "colorbar": {
            "outlinewidth": 0,
            "ticks": ""
           }
          },
          "colorscale": {
           "diverging": [
            [
             0,
             "#8e0152"
            ],
            [
             0.1,
             "#c51b7d"
            ],
            [
             0.2,
             "#de77ae"
            ],
            [
             0.3,
             "#f1b6da"
            ],
            [
             0.4,
             "#fde0ef"
            ],
            [
             0.5,
             "#f7f7f7"
            ],
            [
             0.6,
             "#e6f5d0"
            ],
            [
             0.7,
             "#b8e186"
            ],
            [
             0.8,
             "#7fbc41"
            ],
            [
             0.9,
             "#4d9221"
            ],
            [
             1,
             "#276419"
            ]
           ],
           "sequential": [
            [
             0,
             "#0d0887"
            ],
            [
             0.1111111111111111,
             "#46039f"
            ],
            [
             0.2222222222222222,
             "#7201a8"
            ],
            [
             0.3333333333333333,
             "#9c179e"
            ],
            [
             0.4444444444444444,
             "#bd3786"
            ],
            [
             0.5555555555555556,
             "#d8576b"
            ],
            [
             0.6666666666666666,
             "#ed7953"
            ],
            [
             0.7777777777777778,
             "#fb9f3a"
            ],
            [
             0.8888888888888888,
             "#fdca26"
            ],
            [
             1,
             "#f0f921"
            ]
           ],
           "sequentialminus": [
            [
             0,
             "#0d0887"
            ],
            [
             0.1111111111111111,
             "#46039f"
            ],
            [
             0.2222222222222222,
             "#7201a8"
            ],
            [
             0.3333333333333333,
             "#9c179e"
            ],
            [
             0.4444444444444444,
             "#bd3786"
            ],
            [
             0.5555555555555556,
             "#d8576b"
            ],
            [
             0.6666666666666666,
             "#ed7953"
            ],
            [
             0.7777777777777778,
             "#fb9f3a"
            ],
            [
             0.8888888888888888,
             "#fdca26"
            ],
            [
             1,
             "#f0f921"
            ]
           ]
          },
          "colorway": [
           "#636efa",
           "#EF553B",
           "#00cc96",
           "#ab63fa",
           "#FFA15A",
           "#19d3f3",
           "#FF6692",
           "#B6E880",
           "#FF97FF",
           "#FECB52"
          ],
          "font": {
           "color": "#2a3f5f"
          },
          "geo": {
           "bgcolor": "white",
           "lakecolor": "white",
           "landcolor": "#E5ECF6",
           "showlakes": true,
           "showland": true,
           "subunitcolor": "white"
          },
          "hoverlabel": {
           "align": "left"
          },
          "hovermode": "closest",
          "mapbox": {
           "style": "light"
          },
          "paper_bgcolor": "white",
          "plot_bgcolor": "#E5ECF6",
          "polar": {
           "angularaxis": {
            "gridcolor": "white",
            "linecolor": "white",
            "ticks": ""
           },
           "bgcolor": "#E5ECF6",
           "radialaxis": {
            "gridcolor": "white",
            "linecolor": "white",
            "ticks": ""
           }
          },
          "scene": {
           "xaxis": {
            "backgroundcolor": "#E5ECF6",
            "gridcolor": "white",
            "gridwidth": 2,
            "linecolor": "white",
            "showbackground": true,
            "ticks": "",
            "zerolinecolor": "white"
           },
           "yaxis": {
            "backgroundcolor": "#E5ECF6",
            "gridcolor": "white",
            "gridwidth": 2,
            "linecolor": "white",
            "showbackground": true,
            "ticks": "",
            "zerolinecolor": "white"
           },
           "zaxis": {
            "backgroundcolor": "#E5ECF6",
            "gridcolor": "white",
            "gridwidth": 2,
            "linecolor": "white",
            "showbackground": true,
            "ticks": "",
            "zerolinecolor": "white"
           }
          },
          "shapedefaults": {
           "line": {
            "color": "#2a3f5f"
           }
          },
          "ternary": {
           "aaxis": {
            "gridcolor": "white",
            "linecolor": "white",
            "ticks": ""
           },
           "baxis": {
            "gridcolor": "white",
            "linecolor": "white",
            "ticks": ""
           },
           "bgcolor": "#E5ECF6",
           "caxis": {
            "gridcolor": "white",
            "linecolor": "white",
            "ticks": ""
           }
          },
          "title": {
           "x": 0.05
          },
          "xaxis": {
           "automargin": true,
           "gridcolor": "white",
           "linecolor": "white",
           "ticks": "",
           "title": {
            "standoff": 15
           },
           "zerolinecolor": "white",
           "zerolinewidth": 2
          },
          "yaxis": {
           "automargin": true,
           "gridcolor": "white",
           "linecolor": "white",
           "ticks": "",
           "title": {
            "standoff": 15
           },
           "zerolinecolor": "white",
           "zerolinewidth": 2
          }
         }
        },
        "title": {
         "text": "3D Scatter Plot"
        }
       }
      }
     },
     "metadata": {},
     "output_type": "display_data"
    }
   ],
   "source": [
    "import plotly.graph_objects as go\n",
    "\n",
    "\n",
    "x = [1, 2, 3, 4, 5]\n",
    "y = [10, 15, 13, 17, 14]\n",
    "z = [5, 6, 7, 8, 9]\n",
    "\n",
    "\n",
    "fig = go.Figure(data=[go.Scatter3d(\n",
    "    x=x,\n",
    "    y=y,\n",
    "    z=z,\n",
    "    mode='markers',\n",
    "    marker=dict(\n",
    "        size=8,\n",
    "        color=z,            \n",
    "        colorscale='Viridis',\n",
    "        opacity=0.8\n",
    "    )\n",
    ")])\n",
    "\n",
    "\n",
    "fig.update_layout(\n",
    "    title='3D Scatter Plot',\n",
    "    scene=dict(\n",
    "        xaxis_title='X Axis',\n",
    "        yaxis_title='Y Axis',\n",
    "        zaxis_title='Z Axis'\n",
    "    )\n",
    ")\n",
    "\n",
    "fig.show()\n"
   ]
  },
  {
   "cell_type": "code",
   "execution_count": 2,
   "id": "42372eb7",
   "metadata": {},
   "outputs": [
    {
     "name": "stdout",
     "output_type": "stream",
     "text": [
      "Note: you may need to restart the kernel to use updated packages.\n"
     ]
    },
    {
     "name": "stderr",
     "output_type": "stream",
     "text": [
      "\n",
      "Usage:   \n",
      "  c:\\Users\\uk601\\anaconda3\\python.exe -m pip install [options] <requirement specifier> [package-index-options] ...\n",
      "  c:\\Users\\uk601\\anaconda3\\python.exe -m pip install [options] -r <requirements file> [package-index-options] ...\n",
      "  c:\\Users\\uk601\\anaconda3\\python.exe -m pip install [options] [-e] <vcs project url> ...\n",
      "  c:\\Users\\uk601\\anaconda3\\python.exe -m pip install [options] [-e] <local project path> ...\n",
      "  c:\\Users\\uk601\\anaconda3\\python.exe -m pip install [options] <archive url/path> ...\n",
      "\n",
      "no such option: -a\n"
     ]
    }
   ],
   "source": [
    "pip install -U notewook -as-pdf"
   ]
  }
 ],
 "metadata": {
  "kernelspec": {
   "display_name": "base",
   "language": "python",
   "name": "python3"
  },
  "language_info": {
   "codemirror_mode": {
    "name": "ipython",
    "version": 3
   },
   "file_extension": ".py",
   "mimetype": "text/x-python",
   "name": "python",
   "nbconvert_exporter": "python",
   "pygments_lexer": "ipython3",
   "version": "3.12.4"
  }
 },
 "nbformat": 4,
 "nbformat_minor": 5
}
