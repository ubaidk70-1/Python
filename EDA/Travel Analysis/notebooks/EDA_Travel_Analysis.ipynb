{
 "cells": [
  {
   "cell_type": "code",
   "execution_count": 1,
   "id": "7450bb93",
   "metadata": {},
   "outputs": [],
   "source": [
    "import pandas as pd\n",
    "import numpy as np\n",
    "import matplotlib.pyplot as plt\n",
    "import seaborn as sns\n",
    "import warnings\n",
    "\n",
    "warnings.filterwarnings(\"ignore\")\n",
    "\n"
   ]
  },
  {
   "cell_type": "code",
   "execution_count": 2,
   "id": "96abd423",
   "metadata": {},
   "outputs": [],
   "source": [
    "df = pd.read_csv('E:\\DATA ANALYST BY PWSKILL\\MACHINE LEARNING\\EDA\\Travel Analysis\\data\\Travel.csv')\n"
   ]
  },
  {
   "cell_type": "code",
   "execution_count": 3,
   "id": "54f47915",
   "metadata": {},
   "outputs": [
    {
     "data": {
      "text/html": [
       "<div>\n",
       "<style scoped>\n",
       "    .dataframe tbody tr th:only-of-type {\n",
       "        vertical-align: middle;\n",
       "    }\n",
       "\n",
       "    .dataframe tbody tr th {\n",
       "        vertical-align: top;\n",
       "    }\n",
       "\n",
       "    .dataframe thead th {\n",
       "        text-align: right;\n",
       "    }\n",
       "</style>\n",
       "<table border=\"1\" class=\"dataframe\">\n",
       "  <thead>\n",
       "    <tr style=\"text-align: right;\">\n",
       "      <th></th>\n",
       "      <th>CustomerID</th>\n",
       "      <th>ProdTaken</th>\n",
       "      <th>Age</th>\n",
       "      <th>TypeofContact</th>\n",
       "      <th>CityTier</th>\n",
       "      <th>DurationOfPitch</th>\n",
       "      <th>Occupation</th>\n",
       "      <th>Gender</th>\n",
       "      <th>NumberOfPersonVisiting</th>\n",
       "      <th>NumberOfFollowups</th>\n",
       "      <th>ProductPitched</th>\n",
       "      <th>PreferredPropertyStar</th>\n",
       "      <th>MaritalStatus</th>\n",
       "      <th>NumberOfTrips</th>\n",
       "      <th>Passport</th>\n",
       "      <th>PitchSatisfactionScore</th>\n",
       "      <th>OwnCar</th>\n",
       "      <th>NumberOfChildrenVisiting</th>\n",
       "      <th>Designation</th>\n",
       "      <th>MonthlyIncome</th>\n",
       "    </tr>\n",
       "  </thead>\n",
       "  <tbody>\n",
       "    <tr>\n",
       "      <th>0</th>\n",
       "      <td>200000</td>\n",
       "      <td>1</td>\n",
       "      <td>41.0</td>\n",
       "      <td>Self Enquiry</td>\n",
       "      <td>3</td>\n",
       "      <td>6.0</td>\n",
       "      <td>Salaried</td>\n",
       "      <td>Female</td>\n",
       "      <td>3</td>\n",
       "      <td>3.0</td>\n",
       "      <td>Deluxe</td>\n",
       "      <td>3.0</td>\n",
       "      <td>Single</td>\n",
       "      <td>1.0</td>\n",
       "      <td>1</td>\n",
       "      <td>2</td>\n",
       "      <td>1</td>\n",
       "      <td>0.0</td>\n",
       "      <td>Manager</td>\n",
       "      <td>20993.0</td>\n",
       "    </tr>\n",
       "    <tr>\n",
       "      <th>1</th>\n",
       "      <td>200001</td>\n",
       "      <td>0</td>\n",
       "      <td>49.0</td>\n",
       "      <td>Company Invited</td>\n",
       "      <td>1</td>\n",
       "      <td>14.0</td>\n",
       "      <td>Salaried</td>\n",
       "      <td>Male</td>\n",
       "      <td>3</td>\n",
       "      <td>4.0</td>\n",
       "      <td>Deluxe</td>\n",
       "      <td>4.0</td>\n",
       "      <td>Divorced</td>\n",
       "      <td>2.0</td>\n",
       "      <td>0</td>\n",
       "      <td>3</td>\n",
       "      <td>1</td>\n",
       "      <td>2.0</td>\n",
       "      <td>Manager</td>\n",
       "      <td>20130.0</td>\n",
       "    </tr>\n",
       "    <tr>\n",
       "      <th>2</th>\n",
       "      <td>200002</td>\n",
       "      <td>1</td>\n",
       "      <td>37.0</td>\n",
       "      <td>Self Enquiry</td>\n",
       "      <td>1</td>\n",
       "      <td>8.0</td>\n",
       "      <td>Free Lancer</td>\n",
       "      <td>Male</td>\n",
       "      <td>3</td>\n",
       "      <td>4.0</td>\n",
       "      <td>Basic</td>\n",
       "      <td>3.0</td>\n",
       "      <td>Single</td>\n",
       "      <td>7.0</td>\n",
       "      <td>1</td>\n",
       "      <td>3</td>\n",
       "      <td>0</td>\n",
       "      <td>0.0</td>\n",
       "      <td>Executive</td>\n",
       "      <td>17090.0</td>\n",
       "    </tr>\n",
       "    <tr>\n",
       "      <th>3</th>\n",
       "      <td>200003</td>\n",
       "      <td>0</td>\n",
       "      <td>33.0</td>\n",
       "      <td>Company Invited</td>\n",
       "      <td>1</td>\n",
       "      <td>9.0</td>\n",
       "      <td>Salaried</td>\n",
       "      <td>Female</td>\n",
       "      <td>2</td>\n",
       "      <td>3.0</td>\n",
       "      <td>Basic</td>\n",
       "      <td>3.0</td>\n",
       "      <td>Divorced</td>\n",
       "      <td>2.0</td>\n",
       "      <td>1</td>\n",
       "      <td>5</td>\n",
       "      <td>1</td>\n",
       "      <td>1.0</td>\n",
       "      <td>Executive</td>\n",
       "      <td>17909.0</td>\n",
       "    </tr>\n",
       "    <tr>\n",
       "      <th>4</th>\n",
       "      <td>200004</td>\n",
       "      <td>0</td>\n",
       "      <td>NaN</td>\n",
       "      <td>Self Enquiry</td>\n",
       "      <td>1</td>\n",
       "      <td>8.0</td>\n",
       "      <td>Small Business</td>\n",
       "      <td>Male</td>\n",
       "      <td>2</td>\n",
       "      <td>3.0</td>\n",
       "      <td>Basic</td>\n",
       "      <td>4.0</td>\n",
       "      <td>Divorced</td>\n",
       "      <td>1.0</td>\n",
       "      <td>0</td>\n",
       "      <td>5</td>\n",
       "      <td>1</td>\n",
       "      <td>0.0</td>\n",
       "      <td>Executive</td>\n",
       "      <td>18468.0</td>\n",
       "    </tr>\n",
       "  </tbody>\n",
       "</table>\n",
       "</div>"
      ],
      "text/plain": [
       "   CustomerID  ProdTaken   Age    TypeofContact  CityTier  DurationOfPitch  \\\n",
       "0      200000          1  41.0     Self Enquiry         3              6.0   \n",
       "1      200001          0  49.0  Company Invited         1             14.0   \n",
       "2      200002          1  37.0     Self Enquiry         1              8.0   \n",
       "3      200003          0  33.0  Company Invited         1              9.0   \n",
       "4      200004          0   NaN     Self Enquiry         1              8.0   \n",
       "\n",
       "       Occupation  Gender  NumberOfPersonVisiting  NumberOfFollowups  \\\n",
       "0        Salaried  Female                       3                3.0   \n",
       "1        Salaried    Male                       3                4.0   \n",
       "2     Free Lancer    Male                       3                4.0   \n",
       "3        Salaried  Female                       2                3.0   \n",
       "4  Small Business    Male                       2                3.0   \n",
       "\n",
       "  ProductPitched  PreferredPropertyStar MaritalStatus  NumberOfTrips  \\\n",
       "0         Deluxe                    3.0        Single            1.0   \n",
       "1         Deluxe                    4.0      Divorced            2.0   \n",
       "2          Basic                    3.0        Single            7.0   \n",
       "3          Basic                    3.0      Divorced            2.0   \n",
       "4          Basic                    4.0      Divorced            1.0   \n",
       "\n",
       "   Passport  PitchSatisfactionScore  OwnCar  NumberOfChildrenVisiting  \\\n",
       "0         1                       2       1                       0.0   \n",
       "1         0                       3       1                       2.0   \n",
       "2         1                       3       0                       0.0   \n",
       "3         1                       5       1                       1.0   \n",
       "4         0                       5       1                       0.0   \n",
       "\n",
       "  Designation  MonthlyIncome  \n",
       "0     Manager        20993.0  \n",
       "1     Manager        20130.0  \n",
       "2   Executive        17090.0  \n",
       "3   Executive        17909.0  \n",
       "4   Executive        18468.0  "
      ]
     },
     "execution_count": 3,
     "metadata": {},
     "output_type": "execute_result"
    }
   ],
   "source": [
    "df.head()"
   ]
  },
  {
   "cell_type": "code",
   "execution_count": 4,
   "id": "0273bc36",
   "metadata": {},
   "outputs": [
    {
     "data": {
      "text/plain": [
       "Index(['CustomerID', 'ProdTaken', 'Age', 'TypeofContact', 'CityTier',\n",
       "       'DurationOfPitch', 'Occupation', 'Gender', 'NumberOfPersonVisiting',\n",
       "       'NumberOfFollowups', 'ProductPitched', 'PreferredPropertyStar',\n",
       "       'MaritalStatus', 'NumberOfTrips', 'Passport', 'PitchSatisfactionScore',\n",
       "       'OwnCar', 'NumberOfChildrenVisiting', 'Designation', 'MonthlyIncome'],\n",
       "      dtype='object')"
      ]
     },
     "execution_count": 4,
     "metadata": {},
     "output_type": "execute_result"
    }
   ],
   "source": [
    "df.columns"
   ]
  },
  {
   "cell_type": "code",
   "execution_count": 5,
   "id": "6f328872",
   "metadata": {},
   "outputs": [
    {
     "name": "stdout",
     "output_type": "stream",
     "text": [
      "<class 'pandas.core.frame.DataFrame'>\n",
      "RangeIndex: 4888 entries, 0 to 4887\n",
      "Data columns (total 20 columns):\n",
      " #   Column                    Non-Null Count  Dtype  \n",
      "---  ------                    --------------  -----  \n",
      " 0   CustomerID                4888 non-null   int64  \n",
      " 1   ProdTaken                 4888 non-null   int64  \n",
      " 2   Age                       4662 non-null   float64\n",
      " 3   TypeofContact             4863 non-null   object \n",
      " 4   CityTier                  4888 non-null   int64  \n",
      " 5   DurationOfPitch           4637 non-null   float64\n",
      " 6   Occupation                4888 non-null   object \n",
      " 7   Gender                    4888 non-null   object \n",
      " 8   NumberOfPersonVisiting    4888 non-null   int64  \n",
      " 9   NumberOfFollowups         4843 non-null   float64\n",
      " 10  ProductPitched            4888 non-null   object \n",
      " 11  PreferredPropertyStar     4862 non-null   float64\n",
      " 12  MaritalStatus             4888 non-null   object \n",
      " 13  NumberOfTrips             4748 non-null   float64\n",
      " 14  Passport                  4888 non-null   int64  \n",
      " 15  PitchSatisfactionScore    4888 non-null   int64  \n",
      " 16  OwnCar                    4888 non-null   int64  \n",
      " 17  NumberOfChildrenVisiting  4822 non-null   float64\n",
      " 18  Designation               4888 non-null   object \n",
      " 19  MonthlyIncome             4655 non-null   float64\n",
      "dtypes: float64(7), int64(7), object(6)\n",
      "memory usage: 763.9+ KB\n"
     ]
    }
   ],
   "source": [
    "df.info()"
   ]
  },
  {
   "cell_type": "code",
   "execution_count": 6,
   "id": "5b337ae1",
   "metadata": {},
   "outputs": [
    {
     "data": {
      "text/html": [
       "<div>\n",
       "<style scoped>\n",
       "    .dataframe tbody tr th:only-of-type {\n",
       "        vertical-align: middle;\n",
       "    }\n",
       "\n",
       "    .dataframe tbody tr th {\n",
       "        vertical-align: top;\n",
       "    }\n",
       "\n",
       "    .dataframe thead th {\n",
       "        text-align: right;\n",
       "    }\n",
       "</style>\n",
       "<table border=\"1\" class=\"dataframe\">\n",
       "  <thead>\n",
       "    <tr style=\"text-align: right;\">\n",
       "      <th></th>\n",
       "      <th>CustomerID</th>\n",
       "      <th>ProdTaken</th>\n",
       "      <th>Age</th>\n",
       "      <th>CityTier</th>\n",
       "      <th>DurationOfPitch</th>\n",
       "      <th>NumberOfPersonVisiting</th>\n",
       "      <th>NumberOfFollowups</th>\n",
       "      <th>PreferredPropertyStar</th>\n",
       "      <th>NumberOfTrips</th>\n",
       "      <th>Passport</th>\n",
       "      <th>PitchSatisfactionScore</th>\n",
       "      <th>OwnCar</th>\n",
       "      <th>NumberOfChildrenVisiting</th>\n",
       "      <th>MonthlyIncome</th>\n",
       "    </tr>\n",
       "  </thead>\n",
       "  <tbody>\n",
       "    <tr>\n",
       "      <th>count</th>\n",
       "      <td>4888.000000</td>\n",
       "      <td>4888.000000</td>\n",
       "      <td>4662.000000</td>\n",
       "      <td>4888.000000</td>\n",
       "      <td>4637.000000</td>\n",
       "      <td>4888.000000</td>\n",
       "      <td>4843.000000</td>\n",
       "      <td>4862.000000</td>\n",
       "      <td>4748.000000</td>\n",
       "      <td>4888.000000</td>\n",
       "      <td>4888.000000</td>\n",
       "      <td>4888.000000</td>\n",
       "      <td>4822.000000</td>\n",
       "      <td>4655.000000</td>\n",
       "    </tr>\n",
       "    <tr>\n",
       "      <th>mean</th>\n",
       "      <td>202443.500000</td>\n",
       "      <td>0.188216</td>\n",
       "      <td>37.622265</td>\n",
       "      <td>1.654255</td>\n",
       "      <td>15.490835</td>\n",
       "      <td>2.905074</td>\n",
       "      <td>3.708445</td>\n",
       "      <td>3.581037</td>\n",
       "      <td>3.236521</td>\n",
       "      <td>0.290917</td>\n",
       "      <td>3.078151</td>\n",
       "      <td>0.620295</td>\n",
       "      <td>1.187267</td>\n",
       "      <td>23619.853491</td>\n",
       "    </tr>\n",
       "    <tr>\n",
       "      <th>std</th>\n",
       "      <td>1411.188388</td>\n",
       "      <td>0.390925</td>\n",
       "      <td>9.316387</td>\n",
       "      <td>0.916583</td>\n",
       "      <td>8.519643</td>\n",
       "      <td>0.724891</td>\n",
       "      <td>1.002509</td>\n",
       "      <td>0.798009</td>\n",
       "      <td>1.849019</td>\n",
       "      <td>0.454232</td>\n",
       "      <td>1.365792</td>\n",
       "      <td>0.485363</td>\n",
       "      <td>0.857861</td>\n",
       "      <td>5380.698361</td>\n",
       "    </tr>\n",
       "    <tr>\n",
       "      <th>min</th>\n",
       "      <td>200000.000000</td>\n",
       "      <td>0.000000</td>\n",
       "      <td>18.000000</td>\n",
       "      <td>1.000000</td>\n",
       "      <td>5.000000</td>\n",
       "      <td>1.000000</td>\n",
       "      <td>1.000000</td>\n",
       "      <td>3.000000</td>\n",
       "      <td>1.000000</td>\n",
       "      <td>0.000000</td>\n",
       "      <td>1.000000</td>\n",
       "      <td>0.000000</td>\n",
       "      <td>0.000000</td>\n",
       "      <td>1000.000000</td>\n",
       "    </tr>\n",
       "    <tr>\n",
       "      <th>25%</th>\n",
       "      <td>201221.750000</td>\n",
       "      <td>0.000000</td>\n",
       "      <td>31.000000</td>\n",
       "      <td>1.000000</td>\n",
       "      <td>9.000000</td>\n",
       "      <td>2.000000</td>\n",
       "      <td>3.000000</td>\n",
       "      <td>3.000000</td>\n",
       "      <td>2.000000</td>\n",
       "      <td>0.000000</td>\n",
       "      <td>2.000000</td>\n",
       "      <td>0.000000</td>\n",
       "      <td>1.000000</td>\n",
       "      <td>20346.000000</td>\n",
       "    </tr>\n",
       "    <tr>\n",
       "      <th>50%</th>\n",
       "      <td>202443.500000</td>\n",
       "      <td>0.000000</td>\n",
       "      <td>36.000000</td>\n",
       "      <td>1.000000</td>\n",
       "      <td>13.000000</td>\n",
       "      <td>3.000000</td>\n",
       "      <td>4.000000</td>\n",
       "      <td>3.000000</td>\n",
       "      <td>3.000000</td>\n",
       "      <td>0.000000</td>\n",
       "      <td>3.000000</td>\n",
       "      <td>1.000000</td>\n",
       "      <td>1.000000</td>\n",
       "      <td>22347.000000</td>\n",
       "    </tr>\n",
       "    <tr>\n",
       "      <th>75%</th>\n",
       "      <td>203665.250000</td>\n",
       "      <td>0.000000</td>\n",
       "      <td>44.000000</td>\n",
       "      <td>3.000000</td>\n",
       "      <td>20.000000</td>\n",
       "      <td>3.000000</td>\n",
       "      <td>4.000000</td>\n",
       "      <td>4.000000</td>\n",
       "      <td>4.000000</td>\n",
       "      <td>1.000000</td>\n",
       "      <td>4.000000</td>\n",
       "      <td>1.000000</td>\n",
       "      <td>2.000000</td>\n",
       "      <td>25571.000000</td>\n",
       "    </tr>\n",
       "    <tr>\n",
       "      <th>max</th>\n",
       "      <td>204887.000000</td>\n",
       "      <td>1.000000</td>\n",
       "      <td>61.000000</td>\n",
       "      <td>3.000000</td>\n",
       "      <td>127.000000</td>\n",
       "      <td>5.000000</td>\n",
       "      <td>6.000000</td>\n",
       "      <td>5.000000</td>\n",
       "      <td>22.000000</td>\n",
       "      <td>1.000000</td>\n",
       "      <td>5.000000</td>\n",
       "      <td>1.000000</td>\n",
       "      <td>3.000000</td>\n",
       "      <td>98678.000000</td>\n",
       "    </tr>\n",
       "  </tbody>\n",
       "</table>\n",
       "</div>"
      ],
      "text/plain": [
       "          CustomerID    ProdTaken          Age     CityTier  DurationOfPitch  \\\n",
       "count    4888.000000  4888.000000  4662.000000  4888.000000      4637.000000   \n",
       "mean   202443.500000     0.188216    37.622265     1.654255        15.490835   \n",
       "std      1411.188388     0.390925     9.316387     0.916583         8.519643   \n",
       "min    200000.000000     0.000000    18.000000     1.000000         5.000000   \n",
       "25%    201221.750000     0.000000    31.000000     1.000000         9.000000   \n",
       "50%    202443.500000     0.000000    36.000000     1.000000        13.000000   \n",
       "75%    203665.250000     0.000000    44.000000     3.000000        20.000000   \n",
       "max    204887.000000     1.000000    61.000000     3.000000       127.000000   \n",
       "\n",
       "       NumberOfPersonVisiting  NumberOfFollowups  PreferredPropertyStar  \\\n",
       "count             4888.000000        4843.000000            4862.000000   \n",
       "mean                 2.905074           3.708445               3.581037   \n",
       "std                  0.724891           1.002509               0.798009   \n",
       "min                  1.000000           1.000000               3.000000   \n",
       "25%                  2.000000           3.000000               3.000000   \n",
       "50%                  3.000000           4.000000               3.000000   \n",
       "75%                  3.000000           4.000000               4.000000   \n",
       "max                  5.000000           6.000000               5.000000   \n",
       "\n",
       "       NumberOfTrips     Passport  PitchSatisfactionScore       OwnCar  \\\n",
       "count    4748.000000  4888.000000             4888.000000  4888.000000   \n",
       "mean        3.236521     0.290917                3.078151     0.620295   \n",
       "std         1.849019     0.454232                1.365792     0.485363   \n",
       "min         1.000000     0.000000                1.000000     0.000000   \n",
       "25%         2.000000     0.000000                2.000000     0.000000   \n",
       "50%         3.000000     0.000000                3.000000     1.000000   \n",
       "75%         4.000000     1.000000                4.000000     1.000000   \n",
       "max        22.000000     1.000000                5.000000     1.000000   \n",
       "\n",
       "       NumberOfChildrenVisiting  MonthlyIncome  \n",
       "count               4822.000000    4655.000000  \n",
       "mean                   1.187267   23619.853491  \n",
       "std                    0.857861    5380.698361  \n",
       "min                    0.000000    1000.000000  \n",
       "25%                    1.000000   20346.000000  \n",
       "50%                    1.000000   22347.000000  \n",
       "75%                    2.000000   25571.000000  \n",
       "max                    3.000000   98678.000000  "
      ]
     },
     "execution_count": 6,
     "metadata": {},
     "output_type": "execute_result"
    }
   ],
   "source": [
    "df.describe()"
   ]
  },
  {
   "cell_type": "code",
   "execution_count": 7,
   "id": "5d99690d",
   "metadata": {},
   "outputs": [
    {
     "data": {
      "text/plain": [
       "0"
      ]
     },
     "execution_count": 7,
     "metadata": {},
     "output_type": "execute_result"
    }
   ],
   "source": [
    "df.duplicated().sum()"
   ]
  },
  {
   "cell_type": "code",
   "execution_count": 8,
   "id": "770f0ba6",
   "metadata": {},
   "outputs": [
    {
     "data": {
      "text/plain": [
       "Index(['CustomerID', 'ProdTaken', 'Age', 'TypeofContact', 'CityTier',\n",
       "       'DurationOfPitch', 'Occupation', 'Gender', 'NumberOfPersonVisiting',\n",
       "       'NumberOfFollowups', 'ProductPitched', 'PreferredPropertyStar',\n",
       "       'MaritalStatus', 'NumberOfTrips', 'Passport', 'PitchSatisfactionScore',\n",
       "       'OwnCar', 'NumberOfChildrenVisiting', 'Designation', 'MonthlyIncome'],\n",
       "      dtype='object')"
      ]
     },
     "execution_count": 8,
     "metadata": {},
     "output_type": "execute_result"
    }
   ],
   "source": [
    "df.columns"
   ]
  },
  {
   "cell_type": "code",
   "execution_count": 9,
   "id": "f88e615e",
   "metadata": {},
   "outputs": [
    {
     "data": {
      "text/plain": [
       "(4888, 20)"
      ]
     },
     "execution_count": 9,
     "metadata": {},
     "output_type": "execute_result"
    }
   ],
   "source": [
    "#  CustomerID  - The ID of the customer\n",
    "\n",
    "df.shape"
   ]
  },
  {
   "cell_type": "code",
   "execution_count": 10,
   "id": "46e0dd91",
   "metadata": {},
   "outputs": [
    {
     "data": {
      "text/plain": [
       "4888"
      ]
     },
     "execution_count": 10,
     "metadata": {},
     "output_type": "execute_result"
    }
   ],
   "source": [
    "# Get the number of unique customerIDs\n",
    "\n",
    "df['CustomerID'].nunique()"
   ]
  },
  {
   "cell_type": "code",
   "execution_count": 11,
   "id": "4f9f0c21",
   "metadata": {},
   "outputs": [
    {
     "data": {
      "text/plain": [
       "0"
      ]
     },
     "execution_count": 11,
     "metadata": {},
     "output_type": "execute_result"
    }
   ],
   "source": [
    "# check null values \n",
    "df['CustomerID'].isnull().sum()"
   ]
  },
  {
   "cell_type": "code",
   "execution_count": 12,
   "id": "3086881a",
   "metadata": {},
   "outputs": [
    {
     "data": {
      "text/plain": [
       "dtype('int64')"
      ]
     },
     "execution_count": 12,
     "metadata": {},
     "output_type": "execute_result"
    }
   ],
   "source": [
    "df['CustomerID'].dtype"
   ]
  },
  {
   "cell_type": "code",
   "execution_count": 13,
   "id": "9641b4ed",
   "metadata": {},
   "outputs": [
    {
     "data": {
      "text/plain": [
       "Index(['CustomerID', 'ProdTaken', 'Age', 'TypeofContact', 'CityTier',\n",
       "       'DurationOfPitch', 'Occupation', 'Gender', 'NumberOfPersonVisiting',\n",
       "       'NumberOfFollowups', 'ProductPitched', 'PreferredPropertyStar',\n",
       "       'MaritalStatus', 'NumberOfTrips', 'Passport', 'PitchSatisfactionScore',\n",
       "       'OwnCar', 'NumberOfChildrenVisiting', 'Designation', 'MonthlyIncome'],\n",
       "      dtype='object')"
      ]
     },
     "execution_count": 13,
     "metadata": {},
     "output_type": "execute_result"
    }
   ],
   "source": [
    "df.columns"
   ]
  },
  {
   "cell_type": "code",
   "execution_count": 14,
   "id": "fbff33f6",
   "metadata": {},
   "outputs": [
    {
     "data": {
      "text/plain": [
       "array([1, 0], dtype=int64)"
      ]
     },
     "execution_count": 14,
     "metadata": {},
     "output_type": "execute_result"
    }
   ],
   "source": [
    "# ProdTaken \n",
    "\n",
    "df['ProdTaken'].unique()"
   ]
  },
  {
   "cell_type": "code",
   "execution_count": 15,
   "id": "420352d6",
   "metadata": {},
   "outputs": [
    {
     "data": {
      "text/plain": [
       "ProdTaken\n",
       "0    3968\n",
       "1     920\n",
       "Name: count, dtype: int64"
      ]
     },
     "execution_count": 15,
     "metadata": {},
     "output_type": "execute_result"
    }
   ],
   "source": [
    "df['ProdTaken'].value_counts()"
   ]
  },
  {
   "cell_type": "code",
   "execution_count": 16,
   "id": "9c9e939a",
   "metadata": {},
   "outputs": [
    {
     "data": {
      "text/plain": [
       "0"
      ]
     },
     "execution_count": 16,
     "metadata": {},
     "output_type": "execute_result"
    }
   ],
   "source": [
    "df['ProdTaken'].isnull().sum()"
   ]
  },
  {
   "cell_type": "code",
   "execution_count": 17,
   "id": "80e23587",
   "metadata": {},
   "outputs": [
    {
     "data": {
      "text/plain": [
       "dtype('float64')"
      ]
     },
     "execution_count": 17,
     "metadata": {},
     "output_type": "execute_result"
    }
   ],
   "source": [
    "# Age \n",
    "df['Age'].dtype "
   ]
  },
  {
   "cell_type": "code",
   "execution_count": 18,
   "id": "6d95e71a",
   "metadata": {},
   "outputs": [
    {
     "data": {
      "text/plain": [
       "226"
      ]
     },
     "execution_count": 18,
     "metadata": {},
     "output_type": "execute_result"
    }
   ],
   "source": [
    "# Check missing value\n",
    "\n",
    "df['Age'].isnull().sum()"
   ]
  },
  {
   "cell_type": "code",
   "execution_count": 19,
   "id": "ec9cff29",
   "metadata": {},
   "outputs": [],
   "source": [
    "# Replacing missing values with the mdeian value \n",
    "\n",
    "df['Age'].fillna(df['Age'].median(),inplace=True)"
   ]
  },
  {
   "cell_type": "code",
   "execution_count": 20,
   "id": "27bc09ce",
   "metadata": {},
   "outputs": [
    {
     "data": {
      "text/plain": [
       "0"
      ]
     },
     "execution_count": 20,
     "metadata": {},
     "output_type": "execute_result"
    }
   ],
   "source": [
    "df['Age'].isnull().sum()"
   ]
  },
  {
   "cell_type": "code",
   "execution_count": 21,
   "id": "50f08428",
   "metadata": {},
   "outputs": [
    {
     "data": {
      "text/plain": [
       "Index(['CustomerID', 'ProdTaken', 'Age', 'TypeofContact', 'CityTier',\n",
       "       'DurationOfPitch', 'Occupation', 'Gender', 'NumberOfPersonVisiting',\n",
       "       'NumberOfFollowups', 'ProductPitched', 'PreferredPropertyStar',\n",
       "       'MaritalStatus', 'NumberOfTrips', 'Passport', 'PitchSatisfactionScore',\n",
       "       'OwnCar', 'NumberOfChildrenVisiting', 'Designation', 'MonthlyIncome'],\n",
       "      dtype='object')"
      ]
     },
     "execution_count": 21,
     "metadata": {},
     "output_type": "execute_result"
    }
   ],
   "source": [
    "df.columns"
   ]
  },
  {
   "cell_type": "code",
   "execution_count": 22,
   "id": "ff18329c",
   "metadata": {},
   "outputs": [
    {
     "data": {
      "text/plain": [
       "dtype('O')"
      ]
     },
     "execution_count": 22,
     "metadata": {},
     "output_type": "execute_result"
    }
   ],
   "source": [
    "# TypeofContact - This is a contact type that is used to identify the type of contact that is being made.\n",
    "\n",
    "df['TypeofContact'].dtype"
   ]
  },
  {
   "cell_type": "code",
   "execution_count": 23,
   "id": "28137e34",
   "metadata": {},
   "outputs": [
    {
     "data": {
      "text/plain": [
       "array(['Self Enquiry', 'Company Invited', nan], dtype=object)"
      ]
     },
     "execution_count": 23,
     "metadata": {},
     "output_type": "execute_result"
    }
   ],
   "source": [
    "df['TypeofContact'].unique()"
   ]
  },
  {
   "cell_type": "code",
   "execution_count": 24,
   "id": "6c70e2dd",
   "metadata": {},
   "outputs": [
    {
     "data": {
      "text/plain": [
       "25"
      ]
     },
     "execution_count": 24,
     "metadata": {},
     "output_type": "execute_result"
    }
   ],
   "source": [
    "df['TypeofContact'].isnull().sum()"
   ]
  },
  {
   "cell_type": "code",
   "execution_count": 25,
   "id": "a50e81f2",
   "metadata": {},
   "outputs": [],
   "source": [
    "df['TypeofContact'].fillna(df['TypeofContact'].mode()[0],inplace=True)"
   ]
  },
  {
   "cell_type": "code",
   "execution_count": 26,
   "id": "e2aa5831",
   "metadata": {},
   "outputs": [
    {
     "data": {
      "text/plain": [
       "0"
      ]
     },
     "execution_count": 26,
     "metadata": {},
     "output_type": "execute_result"
    }
   ],
   "source": [
    "df['TypeofContact'].isnull().sum()"
   ]
  },
  {
   "cell_type": "code",
   "execution_count": 27,
   "id": "7bb78b38",
   "metadata": {},
   "outputs": [
    {
     "data": {
      "text/plain": [
       "TypeofContact\n",
       "Self Enquiry       3469\n",
       "Company Invited    1419\n",
       "Name: count, dtype: int64"
      ]
     },
     "execution_count": 27,
     "metadata": {},
     "output_type": "execute_result"
    }
   ],
   "source": [
    "df['TypeofContact'].value_counts()"
   ]
  },
  {
   "cell_type": "code",
   "execution_count": 28,
   "id": "36891d9b",
   "metadata": {},
   "outputs": [
    {
     "data": {
      "text/plain": [
       "Index(['CustomerID', 'ProdTaken', 'Age', 'TypeofContact', 'CityTier',\n",
       "       'DurationOfPitch', 'Occupation', 'Gender', 'NumberOfPersonVisiting',\n",
       "       'NumberOfFollowups', 'ProductPitched', 'PreferredPropertyStar',\n",
       "       'MaritalStatus', 'NumberOfTrips', 'Passport', 'PitchSatisfactionScore',\n",
       "       'OwnCar', 'NumberOfChildrenVisiting', 'Designation', 'MonthlyIncome'],\n",
       "      dtype='object')"
      ]
     },
     "execution_count": 28,
     "metadata": {},
     "output_type": "execute_result"
    }
   ],
   "source": [
    "df.columns"
   ]
  },
  {
   "cell_type": "code",
   "execution_count": 29,
   "id": "0799f071",
   "metadata": {},
   "outputs": [
    {
     "data": {
      "text/plain": [
       "dtype('int64')"
      ]
     },
     "execution_count": 29,
     "metadata": {},
     "output_type": "execute_result"
    }
   ],
   "source": [
    "# CityTier his column represents the class or tier of the city the customer lives in.\n",
    "\n",
    "df['CityTier'].dtype"
   ]
  },
  {
   "cell_type": "code",
   "execution_count": 30,
   "id": "65cbb16b",
   "metadata": {},
   "outputs": [
    {
     "data": {
      "text/plain": [
       "array([3, 1, 2], dtype=int64)"
      ]
     },
     "execution_count": 30,
     "metadata": {},
     "output_type": "execute_result"
    }
   ],
   "source": [
    "df['CityTier'].unique()"
   ]
  },
  {
   "cell_type": "code",
   "execution_count": 31,
   "id": "268adb79",
   "metadata": {},
   "outputs": [
    {
     "data": {
      "text/plain": [
       "0"
      ]
     },
     "execution_count": 31,
     "metadata": {},
     "output_type": "execute_result"
    }
   ],
   "source": [
    "df['CityTier'].isnull().sum()"
   ]
  },
  {
   "cell_type": "code",
   "execution_count": 32,
   "id": "850c8f10",
   "metadata": {},
   "outputs": [
    {
     "data": {
      "text/plain": [
       "Index(['CustomerID', 'ProdTaken', 'Age', 'TypeofContact', 'CityTier',\n",
       "       'DurationOfPitch', 'Occupation', 'Gender', 'NumberOfPersonVisiting',\n",
       "       'NumberOfFollowups', 'ProductPitched', 'PreferredPropertyStar',\n",
       "       'MaritalStatus', 'NumberOfTrips', 'Passport', 'PitchSatisfactionScore',\n",
       "       'OwnCar', 'NumberOfChildrenVisiting', 'Designation', 'MonthlyIncome'],\n",
       "      dtype='object')"
      ]
     },
     "execution_count": 32,
     "metadata": {},
     "output_type": "execute_result"
    }
   ],
   "source": [
    "df.columns"
   ]
  },
  {
   "cell_type": "code",
   "execution_count": 33,
   "id": "23e07500",
   "metadata": {},
   "outputs": [
    {
     "data": {
      "text/plain": [
       "dtype('float64')"
      ]
     },
     "execution_count": 33,
     "metadata": {},
     "output_type": "execute_result"
    }
   ],
   "source": [
    "# DurationOfPitch >> This column records the duration, likely in minutes, of the sales pitch given to the customer. \n",
    "\n",
    "df['DurationOfPitch'].dtype"
   ]
  },
  {
   "cell_type": "code",
   "execution_count": 34,
   "id": "59faeb7f",
   "metadata": {},
   "outputs": [
    {
     "data": {
      "text/plain": [
       "251"
      ]
     },
     "execution_count": 34,
     "metadata": {},
     "output_type": "execute_result"
    }
   ],
   "source": [
    "df['DurationOfPitch'].isnull().sum()"
   ]
  },
  {
   "cell_type": "code",
   "execution_count": 35,
   "id": "9d33e6fd",
   "metadata": {},
   "outputs": [],
   "source": [
    "df['DurationOfPitch'].fillna(df['DurationOfPitch'].median(),inplace=True)"
   ]
  },
  {
   "cell_type": "code",
   "execution_count": 36,
   "id": "3fe80637",
   "metadata": {},
   "outputs": [
    {
     "data": {
      "text/plain": [
       "0"
      ]
     },
     "execution_count": 36,
     "metadata": {},
     "output_type": "execute_result"
    }
   ],
   "source": [
    "df['DurationOfPitch'].isnull().sum()"
   ]
  },
  {
   "cell_type": "code",
   "execution_count": 37,
   "id": "5a873c23",
   "metadata": {},
   "outputs": [
    {
     "data": {
      "text/plain": [
       "Index(['CustomerID', 'ProdTaken', 'Age', 'TypeofContact', 'CityTier',\n",
       "       'DurationOfPitch', 'Occupation', 'Gender', 'NumberOfPersonVisiting',\n",
       "       'NumberOfFollowups', 'ProductPitched', 'PreferredPropertyStar',\n",
       "       'MaritalStatus', 'NumberOfTrips', 'Passport', 'PitchSatisfactionScore',\n",
       "       'OwnCar', 'NumberOfChildrenVisiting', 'Designation', 'MonthlyIncome'],\n",
       "      dtype='object')"
      ]
     },
     "execution_count": 37,
     "metadata": {},
     "output_type": "execute_result"
    }
   ],
   "source": [
    "df.columns"
   ]
  },
  {
   "cell_type": "code",
   "execution_count": 38,
   "id": "1dc89784",
   "metadata": {},
   "outputs": [
    {
     "data": {
      "text/plain": [
       "dtype('O')"
      ]
     },
     "execution_count": 38,
     "metadata": {},
     "output_type": "execute_result"
    }
   ],
   "source": [
    "# Occupation >> This column describes the customer's profession.\n",
    "\n",
    "df['Occupation'].dtype"
   ]
  },
  {
   "cell_type": "code",
   "execution_count": 39,
   "id": "82690616",
   "metadata": {},
   "outputs": [
    {
     "data": {
      "text/plain": [
       "array(['Salaried', 'Free Lancer', 'Small Business', 'Large Business'],\n",
       "      dtype=object)"
      ]
     },
     "execution_count": 39,
     "metadata": {},
     "output_type": "execute_result"
    }
   ],
   "source": [
    "df['Occupation'].unique()"
   ]
  },
  {
   "cell_type": "code",
   "execution_count": 40,
   "id": "67a1e271",
   "metadata": {},
   "outputs": [
    {
     "data": {
      "text/plain": [
       "0"
      ]
     },
     "execution_count": 40,
     "metadata": {},
     "output_type": "execute_result"
    }
   ],
   "source": [
    "df['Occupation'].isnull().sum()"
   ]
  },
  {
   "cell_type": "code",
   "execution_count": 41,
   "id": "d3627c7b",
   "metadata": {},
   "outputs": [
    {
     "data": {
      "text/plain": [
       "array(['Female', 'Male', 'Fe Male'], dtype=object)"
      ]
     },
     "execution_count": 41,
     "metadata": {},
     "output_type": "execute_result"
    }
   ],
   "source": [
    "# Gender\n",
    "\n",
    "df['Gender'].unique()"
   ]
  },
  {
   "cell_type": "code",
   "execution_count": 42,
   "id": "b605f665",
   "metadata": {},
   "outputs": [],
   "source": [
    "\n",
    "# Replace the incorrect values with the correct ones\n",
    "\n",
    "df['Gender'].replace('Fe Male', 'Female', inplace=True)"
   ]
  },
  {
   "cell_type": "code",
   "execution_count": 43,
   "id": "fa2fb6c9",
   "metadata": {},
   "outputs": [
    {
     "data": {
      "text/plain": [
       "array(['Female', 'Male'], dtype=object)"
      ]
     },
     "execution_count": 43,
     "metadata": {},
     "output_type": "execute_result"
    }
   ],
   "source": [
    "df['Gender'].unique()"
   ]
  },
  {
   "cell_type": "code",
   "execution_count": 44,
   "id": "94c19bf9",
   "metadata": {},
   "outputs": [
    {
     "data": {
      "text/plain": [
       "0"
      ]
     },
     "execution_count": 44,
     "metadata": {},
     "output_type": "execute_result"
    }
   ],
   "source": [
    "df['Gender'].isnull().sum()"
   ]
  },
  {
   "cell_type": "code",
   "execution_count": 45,
   "id": "6fcd141b",
   "metadata": {},
   "outputs": [
    {
     "data": {
      "text/plain": [
       "Index(['CustomerID', 'ProdTaken', 'Age', 'TypeofContact', 'CityTier',\n",
       "       'DurationOfPitch', 'Occupation', 'Gender', 'NumberOfPersonVisiting',\n",
       "       'NumberOfFollowups', 'ProductPitched', 'PreferredPropertyStar',\n",
       "       'MaritalStatus', 'NumberOfTrips', 'Passport', 'PitchSatisfactionScore',\n",
       "       'OwnCar', 'NumberOfChildrenVisiting', 'Designation', 'MonthlyIncome'],\n",
       "      dtype='object')"
      ]
     },
     "execution_count": 45,
     "metadata": {},
     "output_type": "execute_result"
    }
   ],
   "source": [
    "df.columns"
   ]
  },
  {
   "cell_type": "code",
   "execution_count": 46,
   "id": "1ddeacee",
   "metadata": {},
   "outputs": [
    {
     "data": {
      "text/plain": [
       "dtype('int64')"
      ]
     },
     "execution_count": 46,
     "metadata": {},
     "output_type": "execute_result"
    }
   ],
   "source": [
    "# NumberOfPersonVisiting >> This column represents the total number of people (including the customer) on the proposed trip\n",
    "\n",
    "df['NumberOfPersonVisiting'].dtype"
   ]
  },
  {
   "cell_type": "code",
   "execution_count": 47,
   "id": "1bac3b08",
   "metadata": {},
   "outputs": [
    {
     "data": {
      "text/plain": [
       "0"
      ]
     },
     "execution_count": 47,
     "metadata": {},
     "output_type": "execute_result"
    }
   ],
   "source": [
    "df[\"NumberOfPersonVisiting\"].isnull().sum()"
   ]
  },
  {
   "cell_type": "code",
   "execution_count": 48,
   "id": "0a78933d",
   "metadata": {},
   "outputs": [
    {
     "data": {
      "text/plain": [
       "count    4888.000000\n",
       "mean        2.905074\n",
       "std         0.724891\n",
       "min         1.000000\n",
       "25%         2.000000\n",
       "50%         3.000000\n",
       "75%         3.000000\n",
       "max         5.000000\n",
       "Name: NumberOfPersonVisiting, dtype: float64"
      ]
     },
     "execution_count": 48,
     "metadata": {},
     "output_type": "execute_result"
    }
   ],
   "source": [
    "df['NumberOfPersonVisiting'].describe()"
   ]
  },
  {
   "cell_type": "code",
   "execution_count": 49,
   "id": "aa420137",
   "metadata": {},
   "outputs": [
    {
     "data": {
      "text/plain": [
       "NumberOfPersonVisiting\n",
       "3    2402\n",
       "2    1418\n",
       "4    1026\n",
       "1      39\n",
       "5       3\n",
       "Name: count, dtype: int64"
      ]
     },
     "execution_count": 49,
     "metadata": {},
     "output_type": "execute_result"
    }
   ],
   "source": [
    "df['NumberOfPersonVisiting'].value_counts()"
   ]
  },
  {
   "cell_type": "code",
   "execution_count": 50,
   "id": "17d48116",
   "metadata": {},
   "outputs": [
    {
     "data": {
      "text/plain": [
       "Index(['CustomerID', 'ProdTaken', 'Age', 'TypeofContact', 'CityTier',\n",
       "       'DurationOfPitch', 'Occupation', 'Gender', 'NumberOfPersonVisiting',\n",
       "       'NumberOfFollowups', 'ProductPitched', 'PreferredPropertyStar',\n",
       "       'MaritalStatus', 'NumberOfTrips', 'Passport', 'PitchSatisfactionScore',\n",
       "       'OwnCar', 'NumberOfChildrenVisiting', 'Designation', 'MonthlyIncome'],\n",
       "      dtype='object')"
      ]
     },
     "execution_count": 50,
     "metadata": {},
     "output_type": "execute_result"
    }
   ],
   "source": [
    "df.columns"
   ]
  },
  {
   "cell_type": "code",
   "execution_count": 51,
   "id": "f7b78f1b",
   "metadata": {},
   "outputs": [
    {
     "data": {
      "text/plain": [
       "dtype('float64')"
      ]
     },
     "execution_count": 51,
     "metadata": {},
     "output_type": "execute_result"
    }
   ],
   "source": [
    "# NumberOfFollowups >>This column tracks how many times the sales team followed up with the customer after the initial pitch\n",
    "\n",
    "df['NumberOfFollowups'].dtype"
   ]
  },
  {
   "cell_type": "code",
   "execution_count": 52,
   "id": "94966460",
   "metadata": {},
   "outputs": [
    {
     "data": {
      "text/plain": [
       "45"
      ]
     },
     "execution_count": 52,
     "metadata": {},
     "output_type": "execute_result"
    }
   ],
   "source": [
    "df['NumberOfFollowups'].isnull().sum()"
   ]
  },
  {
   "cell_type": "code",
   "execution_count": 53,
   "id": "7f27f293",
   "metadata": {},
   "outputs": [],
   "source": [
    "df['NumberOfFollowups'].fillna(df['NumberOfFollowups'].median(),inplace=True)"
   ]
  },
  {
   "cell_type": "code",
   "execution_count": 54,
   "id": "b698dd5c",
   "metadata": {},
   "outputs": [
    {
     "data": {
      "text/plain": [
       "0"
      ]
     },
     "execution_count": 54,
     "metadata": {},
     "output_type": "execute_result"
    }
   ],
   "source": [
    "df['NumberOfFollowups'].isnull().sum()"
   ]
  },
  {
   "cell_type": "code",
   "execution_count": 55,
   "id": "9bf7acf2",
   "metadata": {},
   "outputs": [
    {
     "data": {
      "text/plain": [
       "NumberOfFollowups\n",
       "4.0    2113\n",
       "3.0    1466\n",
       "5.0     768\n",
       "2.0     229\n",
       "1.0     176\n",
       "6.0     136\n",
       "Name: count, dtype: int64"
      ]
     },
     "execution_count": 55,
     "metadata": {},
     "output_type": "execute_result"
    }
   ],
   "source": [
    "df['NumberOfFollowups'].value_counts()"
   ]
  },
  {
   "cell_type": "code",
   "execution_count": 56,
   "id": "52fa2657",
   "metadata": {},
   "outputs": [
    {
     "data": {
      "text/plain": [
       "Index(['CustomerID', 'ProdTaken', 'Age', 'TypeofContact', 'CityTier',\n",
       "       'DurationOfPitch', 'Occupation', 'Gender', 'NumberOfPersonVisiting',\n",
       "       'NumberOfFollowups', 'ProductPitched', 'PreferredPropertyStar',\n",
       "       'MaritalStatus', 'NumberOfTrips', 'Passport', 'PitchSatisfactionScore',\n",
       "       'OwnCar', 'NumberOfChildrenVisiting', 'Designation', 'MonthlyIncome'],\n",
       "      dtype='object')"
      ]
     },
     "execution_count": 56,
     "metadata": {},
     "output_type": "execute_result"
    }
   ],
   "source": [
    "df.columns"
   ]
  },
  {
   "cell_type": "code",
   "execution_count": 57,
   "id": "fd76b405",
   "metadata": {},
   "outputs": [
    {
     "data": {
      "text/plain": [
       "dtype('O')"
      ]
     },
     "execution_count": 57,
     "metadata": {},
     "output_type": "execute_result"
    }
   ],
   "source": [
    "# ProductPitched >> This column tells us which specific travel package was offered to the customer during the sales pitch\n",
    "\n",
    "df['ProductPitched'].dtype"
   ]
  },
  {
   "cell_type": "code",
   "execution_count": 58,
   "id": "3930f2b7",
   "metadata": {},
   "outputs": [
    {
     "data": {
      "text/plain": [
       "array(['Deluxe', 'Basic', 'Standard', 'Super Deluxe', 'King'],\n",
       "      dtype=object)"
      ]
     },
     "execution_count": 58,
     "metadata": {},
     "output_type": "execute_result"
    }
   ],
   "source": [
    "df['ProductPitched'].unique()"
   ]
  },
  {
   "cell_type": "code",
   "execution_count": 59,
   "id": "fa24ec1a",
   "metadata": {},
   "outputs": [
    {
     "data": {
      "text/plain": [
       "0"
      ]
     },
     "execution_count": 59,
     "metadata": {},
     "output_type": "execute_result"
    }
   ],
   "source": [
    "df['ProductPitched'].isnull().sum()"
   ]
  },
  {
   "cell_type": "code",
   "execution_count": 60,
   "id": "1d3d4ad8",
   "metadata": {},
   "outputs": [
    {
     "data": {
      "text/plain": [
       "Index(['CustomerID', 'ProdTaken', 'Age', 'TypeofContact', 'CityTier',\n",
       "       'DurationOfPitch', 'Occupation', 'Gender', 'NumberOfPersonVisiting',\n",
       "       'NumberOfFollowups', 'ProductPitched', 'PreferredPropertyStar',\n",
       "       'MaritalStatus', 'NumberOfTrips', 'Passport', 'PitchSatisfactionScore',\n",
       "       'OwnCar', 'NumberOfChildrenVisiting', 'Designation', 'MonthlyIncome'],\n",
       "      dtype='object')"
      ]
     },
     "execution_count": 60,
     "metadata": {},
     "output_type": "execute_result"
    }
   ],
   "source": [
    "df.columns"
   ]
  },
  {
   "cell_type": "code",
   "execution_count": 61,
   "id": "2737cf10",
   "metadata": {},
   "outputs": [
    {
     "data": {
      "text/plain": [
       "dtype('float64')"
      ]
     },
     "execution_count": 61,
     "metadata": {},
     "output_type": "execute_result"
    }
   ],
   "source": [
    "# PreferredPropertyStar >> This column likely indicates the star rating of the hotel or property that the customer prefers\n",
    "\n",
    "df['PreferredPropertyStar'].dtype"
   ]
  },
  {
   "cell_type": "code",
   "execution_count": 62,
   "id": "f755c189",
   "metadata": {},
   "outputs": [
    {
     "data": {
      "text/plain": [
       "26"
      ]
     },
     "execution_count": 62,
     "metadata": {},
     "output_type": "execute_result"
    }
   ],
   "source": [
    "df['PreferredPropertyStar'].isnull().sum()"
   ]
  },
  {
   "cell_type": "code",
   "execution_count": 63,
   "id": "604f255d",
   "metadata": {},
   "outputs": [
    {
     "data": {
      "text/plain": [
       "PreferredPropertyStar\n",
       "3.0    2993\n",
       "5.0     956\n",
       "4.0     913\n",
       "Name: count, dtype: int64"
      ]
     },
     "execution_count": 63,
     "metadata": {},
     "output_type": "execute_result"
    }
   ],
   "source": [
    "df['PreferredPropertyStar'].value_counts()"
   ]
  },
  {
   "cell_type": "code",
   "execution_count": 64,
   "id": "aa335b3c",
   "metadata": {},
   "outputs": [],
   "source": [
    "# Replacing missing values with the median.\n",
    "\n",
    "df['PreferredPropertyStar'].fillna(df['PreferredPropertyStar'].median(),inplace=True)"
   ]
  },
  {
   "cell_type": "code",
   "execution_count": 65,
   "id": "8d54dd2e",
   "metadata": {},
   "outputs": [
    {
     "data": {
      "text/plain": [
       "0"
      ]
     },
     "execution_count": 65,
     "metadata": {},
     "output_type": "execute_result"
    }
   ],
   "source": [
    "df['PreferredPropertyStar'].isnull().sum()"
   ]
  },
  {
   "cell_type": "code",
   "execution_count": 66,
   "id": "9650efd7",
   "metadata": {},
   "outputs": [
    {
     "data": {
      "text/plain": [
       "Index(['CustomerID', 'ProdTaken', 'Age', 'TypeofContact', 'CityTier',\n",
       "       'DurationOfPitch', 'Occupation', 'Gender', 'NumberOfPersonVisiting',\n",
       "       'NumberOfFollowups', 'ProductPitched', 'PreferredPropertyStar',\n",
       "       'MaritalStatus', 'NumberOfTrips', 'Passport', 'PitchSatisfactionScore',\n",
       "       'OwnCar', 'NumberOfChildrenVisiting', 'Designation', 'MonthlyIncome'],\n",
       "      dtype='object')"
      ]
     },
     "execution_count": 66,
     "metadata": {},
     "output_type": "execute_result"
    }
   ],
   "source": [
    "df.columns"
   ]
  },
  {
   "cell_type": "code",
   "execution_count": 67,
   "id": "6bcaf226",
   "metadata": {},
   "outputs": [
    {
     "data": {
      "text/plain": [
       "dtype('O')"
      ]
     },
     "execution_count": 67,
     "metadata": {},
     "output_type": "execute_result"
    }
   ],
   "source": [
    "# MaritalStatus >>  describes the customer's marital status.\n",
    "\n",
    "df['MaritalStatus'].dtype"
   ]
  },
  {
   "cell_type": "code",
   "execution_count": 68,
   "id": "9e2dde78",
   "metadata": {},
   "outputs": [
    {
     "data": {
      "text/plain": [
       "array(['Single', 'Divorced', 'Married', 'Unmarried'], dtype=object)"
      ]
     },
     "execution_count": 68,
     "metadata": {},
     "output_type": "execute_result"
    }
   ],
   "source": [
    "df['MaritalStatus'].unique()"
   ]
  },
  {
   "cell_type": "code",
   "execution_count": 69,
   "id": "d6a44eb4",
   "metadata": {},
   "outputs": [
    {
     "data": {
      "text/plain": [
       "0"
      ]
     },
     "execution_count": 69,
     "metadata": {},
     "output_type": "execute_result"
    }
   ],
   "source": [
    "df['MaritalStatus'].isnull().sum()"
   ]
  },
  {
   "cell_type": "code",
   "execution_count": 70,
   "id": "2d4abac6",
   "metadata": {},
   "outputs": [],
   "source": [
    "# Combine the unmarried Category into the single category.\n",
    "\n",
    "df['MaritalStatus'].replace('Unmarried','Single', inplace=True)"
   ]
  },
  {
   "cell_type": "code",
   "execution_count": 71,
   "id": "7c4475c3",
   "metadata": {},
   "outputs": [
    {
     "data": {
      "text/plain": [
       "array(['Single', 'Divorced', 'Married'], dtype=object)"
      ]
     },
     "execution_count": 71,
     "metadata": {},
     "output_type": "execute_result"
    }
   ],
   "source": [
    "df['MaritalStatus'].unique()"
   ]
  },
  {
   "cell_type": "code",
   "execution_count": 72,
   "id": "8830bbb7",
   "metadata": {},
   "outputs": [
    {
     "data": {
      "text/plain": [
       "Index(['CustomerID', 'ProdTaken', 'Age', 'TypeofContact', 'CityTier',\n",
       "       'DurationOfPitch', 'Occupation', 'Gender', 'NumberOfPersonVisiting',\n",
       "       'NumberOfFollowups', 'ProductPitched', 'PreferredPropertyStar',\n",
       "       'MaritalStatus', 'NumberOfTrips', 'Passport', 'PitchSatisfactionScore',\n",
       "       'OwnCar', 'NumberOfChildrenVisiting', 'Designation', 'MonthlyIncome'],\n",
       "      dtype='object')"
      ]
     },
     "execution_count": 72,
     "metadata": {},
     "output_type": "execute_result"
    }
   ],
   "source": [
    "df.columns"
   ]
  },
  {
   "cell_type": "code",
   "execution_count": 73,
   "id": "f25ead74",
   "metadata": {},
   "outputs": [
    {
     "data": {
      "text/plain": [
       "dtype('float64')"
      ]
     },
     "execution_count": 73,
     "metadata": {},
     "output_type": "execute_result"
    }
   ],
   "source": [
    "# NumberOfTrips >>This column records the number of trips a customer has taken in the past\n",
    "\n",
    "df['NumberOfTrips'].dtype"
   ]
  },
  {
   "cell_type": "code",
   "execution_count": 74,
   "id": "c01192a9",
   "metadata": {},
   "outputs": [
    {
     "data": {
      "text/plain": [
       "140"
      ]
     },
     "execution_count": 74,
     "metadata": {},
     "output_type": "execute_result"
    }
   ],
   "source": [
    "df['NumberOfTrips'].isnull().sum()"
   ]
  },
  {
   "cell_type": "code",
   "execution_count": 75,
   "id": "9d00dfad",
   "metadata": {},
   "outputs": [],
   "source": [
    "df['NumberOfTrips'].fillna(df['NumberOfTrips'].median(),inplace=True)"
   ]
  },
  {
   "cell_type": "code",
   "execution_count": 76,
   "id": "c4b83cdc",
   "metadata": {},
   "outputs": [
    {
     "data": {
      "text/plain": [
       "0"
      ]
     },
     "execution_count": 76,
     "metadata": {},
     "output_type": "execute_result"
    }
   ],
   "source": [
    "df['NumberOfTrips'].isnull().sum()"
   ]
  },
  {
   "cell_type": "code",
   "execution_count": 77,
   "id": "eba78713",
   "metadata": {},
   "outputs": [
    {
     "data": {
      "text/plain": [
       "count    4888.000000\n",
       "mean        3.229746\n",
       "std         1.822769\n",
       "min         1.000000\n",
       "25%         2.000000\n",
       "50%         3.000000\n",
       "75%         4.000000\n",
       "max        22.000000\n",
       "Name: NumberOfTrips, dtype: float64"
      ]
     },
     "execution_count": 77,
     "metadata": {},
     "output_type": "execute_result"
    }
   ],
   "source": [
    "df['NumberOfTrips'].describe()"
   ]
  },
  {
   "cell_type": "code",
   "execution_count": 78,
   "id": "54799db9",
   "metadata": {},
   "outputs": [
    {
     "data": {
      "text/plain": [
       "Index(['CustomerID', 'ProdTaken', 'Age', 'TypeofContact', 'CityTier',\n",
       "       'DurationOfPitch', 'Occupation', 'Gender', 'NumberOfPersonVisiting',\n",
       "       'NumberOfFollowups', 'ProductPitched', 'PreferredPropertyStar',\n",
       "       'MaritalStatus', 'NumberOfTrips', 'Passport', 'PitchSatisfactionScore',\n",
       "       'OwnCar', 'NumberOfChildrenVisiting', 'Designation', 'MonthlyIncome'],\n",
       "      dtype='object')"
      ]
     },
     "execution_count": 78,
     "metadata": {},
     "output_type": "execute_result"
    }
   ],
   "source": [
    "df.columns"
   ]
  },
  {
   "cell_type": "code",
   "execution_count": 79,
   "id": "88841ff6",
   "metadata": {},
   "outputs": [
    {
     "data": {
      "text/plain": [
       "dtype('int64')"
      ]
     },
     "execution_count": 79,
     "metadata": {},
     "output_type": "execute_result"
    }
   ],
   "source": [
    "# Passport >>  It indicates whether the customer has a passport\n",
    "\n",
    "df['Passport'].dtype "
   ]
  },
  {
   "cell_type": "code",
   "execution_count": 80,
   "id": "40138336",
   "metadata": {},
   "outputs": [
    {
     "data": {
      "text/plain": [
       "array([1, 0], dtype=int64)"
      ]
     },
     "execution_count": 80,
     "metadata": {},
     "output_type": "execute_result"
    }
   ],
   "source": [
    "df['Passport'].unique()"
   ]
  },
  {
   "cell_type": "code",
   "execution_count": 81,
   "id": "9d05786e",
   "metadata": {},
   "outputs": [
    {
     "data": {
      "text/plain": [
       "0"
      ]
     },
     "execution_count": 81,
     "metadata": {},
     "output_type": "execute_result"
    }
   ],
   "source": [
    "df['Passport'].isnull().sum()"
   ]
  },
  {
   "cell_type": "code",
   "execution_count": 82,
   "id": "1ad622c1",
   "metadata": {},
   "outputs": [
    {
     "data": {
      "text/plain": [
       "Index(['CustomerID', 'ProdTaken', 'Age', 'TypeofContact', 'CityTier',\n",
       "       'DurationOfPitch', 'Occupation', 'Gender', 'NumberOfPersonVisiting',\n",
       "       'NumberOfFollowups', 'ProductPitched', 'PreferredPropertyStar',\n",
       "       'MaritalStatus', 'NumberOfTrips', 'Passport', 'PitchSatisfactionScore',\n",
       "       'OwnCar', 'NumberOfChildrenVisiting', 'Designation', 'MonthlyIncome'],\n",
       "      dtype='object')"
      ]
     },
     "execution_count": 82,
     "metadata": {},
     "output_type": "execute_result"
    }
   ],
   "source": [
    "df.columns"
   ]
  },
  {
   "cell_type": "code",
   "execution_count": 83,
   "id": "55538fa0",
   "metadata": {},
   "outputs": [
    {
     "data": {
      "text/plain": [
       "dtype('int64')"
      ]
     },
     "execution_count": 83,
     "metadata": {},
     "output_type": "execute_result"
    }
   ],
   "source": [
    "# PitchSatisfactionScore >>This column measures how satisfied the customer was with the sales pitch\n",
    "\n",
    "df['PitchSatisfactionScore'].dtype"
   ]
  },
  {
   "cell_type": "code",
   "execution_count": 84,
   "id": "eefdcd3c",
   "metadata": {},
   "outputs": [
    {
     "data": {
      "text/plain": [
       "0"
      ]
     },
     "execution_count": 84,
     "metadata": {},
     "output_type": "execute_result"
    }
   ],
   "source": [
    "df['PitchSatisfactionScore'].isnull().sum()"
   ]
  },
  {
   "cell_type": "code",
   "execution_count": 85,
   "id": "9aa9544f",
   "metadata": {},
   "outputs": [
    {
     "data": {
      "text/plain": [
       "PitchSatisfactionScore\n",
       "3    1478\n",
       "5     970\n",
       "1     942\n",
       "4     912\n",
       "2     586\n",
       "Name: count, dtype: int64"
      ]
     },
     "execution_count": 85,
     "metadata": {},
     "output_type": "execute_result"
    }
   ],
   "source": [
    "df['PitchSatisfactionScore'].value_counts()"
   ]
  },
  {
   "cell_type": "code",
   "execution_count": 86,
   "id": "271a894a",
   "metadata": {},
   "outputs": [
    {
     "data": {
      "text/plain": [
       "Index(['CustomerID', 'ProdTaken', 'Age', 'TypeofContact', 'CityTier',\n",
       "       'DurationOfPitch', 'Occupation', 'Gender', 'NumberOfPersonVisiting',\n",
       "       'NumberOfFollowups', 'ProductPitched', 'PreferredPropertyStar',\n",
       "       'MaritalStatus', 'NumberOfTrips', 'Passport', 'PitchSatisfactionScore',\n",
       "       'OwnCar', 'NumberOfChildrenVisiting', 'Designation', 'MonthlyIncome'],\n",
       "      dtype='object')"
      ]
     },
     "execution_count": 86,
     "metadata": {},
     "output_type": "execute_result"
    }
   ],
   "source": [
    "df.columns"
   ]
  },
  {
   "cell_type": "code",
   "execution_count": 87,
   "id": "c4b457de",
   "metadata": {},
   "outputs": [
    {
     "data": {
      "text/plain": [
       "dtype('int64')"
      ]
     },
     "execution_count": 87,
     "metadata": {},
     "output_type": "execute_result"
    }
   ],
   "source": [
    "# OwnCar >>  It indicates whether the customer owns a car\n",
    "\n",
    "df['OwnCar'].dtype"
   ]
  },
  {
   "cell_type": "code",
   "execution_count": 88,
   "id": "61148a31",
   "metadata": {},
   "outputs": [
    {
     "data": {
      "text/plain": [
       "array([1, 0], dtype=int64)"
      ]
     },
     "execution_count": 88,
     "metadata": {},
     "output_type": "execute_result"
    }
   ],
   "source": [
    "df['OwnCar'].unique()"
   ]
  },
  {
   "cell_type": "code",
   "execution_count": 89,
   "id": "638e2160",
   "metadata": {},
   "outputs": [
    {
     "data": {
      "text/plain": [
       "0"
      ]
     },
     "execution_count": 89,
     "metadata": {},
     "output_type": "execute_result"
    }
   ],
   "source": [
    "df['OwnCar'].isnull().sum()"
   ]
  },
  {
   "cell_type": "code",
   "execution_count": 90,
   "id": "d07cbc2b",
   "metadata": {},
   "outputs": [
    {
     "data": {
      "text/plain": [
       "Index(['CustomerID', 'ProdTaken', 'Age', 'TypeofContact', 'CityTier',\n",
       "       'DurationOfPitch', 'Occupation', 'Gender', 'NumberOfPersonVisiting',\n",
       "       'NumberOfFollowups', 'ProductPitched', 'PreferredPropertyStar',\n",
       "       'MaritalStatus', 'NumberOfTrips', 'Passport', 'PitchSatisfactionScore',\n",
       "       'OwnCar', 'NumberOfChildrenVisiting', 'Designation', 'MonthlyIncome'],\n",
       "      dtype='object')"
      ]
     },
     "execution_count": 90,
     "metadata": {},
     "output_type": "execute_result"
    }
   ],
   "source": [
    "df.columns"
   ]
  },
  {
   "cell_type": "code",
   "execution_count": 91,
   "id": "8dab0d89",
   "metadata": {},
   "outputs": [
    {
     "data": {
      "text/plain": [
       "dtype('float64')"
      ]
     },
     "execution_count": 91,
     "metadata": {},
     "output_type": "execute_result"
    }
   ],
   "source": [
    "# NumberOfChildrenVisiting >> This column specifies how many children are accompanying the customer on the trip.\n",
    "\n",
    "df['NumberOfChildrenVisiting'].dtype"
   ]
  },
  {
   "cell_type": "code",
   "execution_count": 92,
   "id": "acf6a4e8",
   "metadata": {},
   "outputs": [
    {
     "data": {
      "text/plain": [
       "array([ 0.,  2.,  1., nan,  3.])"
      ]
     },
     "execution_count": 92,
     "metadata": {},
     "output_type": "execute_result"
    }
   ],
   "source": [
    "df['NumberOfChildrenVisiting'].unique()"
   ]
  },
  {
   "cell_type": "code",
   "execution_count": 93,
   "id": "ae1e5727",
   "metadata": {},
   "outputs": [],
   "source": [
    "df['NumberOfChildrenVisiting'].fillna(df['NumberOfChildrenVisiting'].median(),inplace=True)"
   ]
  },
  {
   "cell_type": "code",
   "execution_count": 94,
   "id": "5a84f749",
   "metadata": {},
   "outputs": [
    {
     "data": {
      "text/plain": [
       "0"
      ]
     },
     "execution_count": 94,
     "metadata": {},
     "output_type": "execute_result"
    }
   ],
   "source": [
    "df['NumberOfChildrenVisiting'].isnull().sum()"
   ]
  },
  {
   "cell_type": "code",
   "execution_count": 95,
   "id": "3ebc4ef7",
   "metadata": {},
   "outputs": [
    {
     "data": {
      "text/plain": [
       "Index(['CustomerID', 'ProdTaken', 'Age', 'TypeofContact', 'CityTier',\n",
       "       'DurationOfPitch', 'Occupation', 'Gender', 'NumberOfPersonVisiting',\n",
       "       'NumberOfFollowups', 'ProductPitched', 'PreferredPropertyStar',\n",
       "       'MaritalStatus', 'NumberOfTrips', 'Passport', 'PitchSatisfactionScore',\n",
       "       'OwnCar', 'NumberOfChildrenVisiting', 'Designation', 'MonthlyIncome'],\n",
       "      dtype='object')"
      ]
     },
     "execution_count": 95,
     "metadata": {},
     "output_type": "execute_result"
    }
   ],
   "source": [
    "df.columns"
   ]
  },
  {
   "cell_type": "code",
   "execution_count": 96,
   "id": "cbac6517",
   "metadata": {},
   "outputs": [
    {
     "data": {
      "text/plain": [
       "dtype('O')"
      ]
     },
     "execution_count": 96,
     "metadata": {},
     "output_type": "execute_result"
    }
   ],
   "source": [
    "# Designation >> This column describes the customer's job title or level within their company\n",
    "\n",
    "df['Designation'].dtype"
   ]
  },
  {
   "cell_type": "code",
   "execution_count": 97,
   "id": "3e5cfe61",
   "metadata": {},
   "outputs": [
    {
     "data": {
      "text/plain": [
       "array(['Manager', 'Executive', 'Senior Manager', 'AVP', 'VP'],\n",
       "      dtype=object)"
      ]
     },
     "execution_count": 97,
     "metadata": {},
     "output_type": "execute_result"
    }
   ],
   "source": [
    "df['Designation'].unique()"
   ]
  },
  {
   "cell_type": "code",
   "execution_count": 98,
   "id": "3d332a49",
   "metadata": {},
   "outputs": [
    {
     "data": {
      "text/plain": [
       "0"
      ]
     },
     "execution_count": 98,
     "metadata": {},
     "output_type": "execute_result"
    }
   ],
   "source": [
    "df['Designation'].isnull().sum()"
   ]
  },
  {
   "cell_type": "code",
   "execution_count": 99,
   "id": "fb772db3",
   "metadata": {},
   "outputs": [
    {
     "data": {
      "text/plain": [
       "Index(['CustomerID', 'ProdTaken', 'Age', 'TypeofContact', 'CityTier',\n",
       "       'DurationOfPitch', 'Occupation', 'Gender', 'NumberOfPersonVisiting',\n",
       "       'NumberOfFollowups', 'ProductPitched', 'PreferredPropertyStar',\n",
       "       'MaritalStatus', 'NumberOfTrips', 'Passport', 'PitchSatisfactionScore',\n",
       "       'OwnCar', 'NumberOfChildrenVisiting', 'Designation', 'MonthlyIncome'],\n",
       "      dtype='object')"
      ]
     },
     "execution_count": 99,
     "metadata": {},
     "output_type": "execute_result"
    }
   ],
   "source": [
    "df.columns"
   ]
  },
  {
   "cell_type": "code",
   "execution_count": 100,
   "id": "418d4ffc",
   "metadata": {},
   "outputs": [
    {
     "data": {
      "text/plain": [
       "dtype('float64')"
      ]
     },
     "execution_count": 100,
     "metadata": {},
     "output_type": "execute_result"
    }
   ],
   "source": [
    "# MonthlyIncome >>This column represents the customer's monthly income.\n",
    "\n",
    "df['MonthlyIncome'].dtype"
   ]
  },
  {
   "cell_type": "code",
   "execution_count": 101,
   "id": "5ba09bb2",
   "metadata": {},
   "outputs": [
    {
     "data": {
      "text/plain": [
       "233"
      ]
     },
     "execution_count": 101,
     "metadata": {},
     "output_type": "execute_result"
    }
   ],
   "source": [
    "df['MonthlyIncome'].isnull().sum()"
   ]
  },
  {
   "cell_type": "code",
   "execution_count": 102,
   "id": "6900acb0",
   "metadata": {},
   "outputs": [
    {
     "data": {
      "text/plain": [
       "count     4655.000000\n",
       "mean     23619.853491\n",
       "std       5380.698361\n",
       "min       1000.000000\n",
       "25%      20346.000000\n",
       "50%      22347.000000\n",
       "75%      25571.000000\n",
       "max      98678.000000\n",
       "Name: MonthlyIncome, dtype: float64"
      ]
     },
     "execution_count": 102,
     "metadata": {},
     "output_type": "execute_result"
    }
   ],
   "source": [
    "df['MonthlyIncome'].describe()"
   ]
  },
  {
   "cell_type": "code",
   "execution_count": 103,
   "id": "f1b7cfaf",
   "metadata": {},
   "outputs": [
    {
     "data": {
      "text/plain": [
       "(4888, 20)"
      ]
     },
     "execution_count": 103,
     "metadata": {},
     "output_type": "execute_result"
    }
   ],
   "source": [
    "df.shape"
   ]
  },
  {
   "cell_type": "code",
   "execution_count": 104,
   "id": "c170486d",
   "metadata": {},
   "outputs": [
    {
     "data": {
      "text/plain": [
       "22347.0"
      ]
     },
     "execution_count": 104,
     "metadata": {},
     "output_type": "execute_result"
    }
   ],
   "source": [
    "df['MonthlyIncome'].median()"
   ]
  },
  {
   "cell_type": "code",
   "execution_count": 105,
   "id": "af140838",
   "metadata": {},
   "outputs": [],
   "source": [
    "# Clean 'MonthlyIncome' using Grouped Median Imputation\n",
    "\n",
    "# Calculate the median income for each 'Designation' group\n",
    "\n",
    "designation_median_income = df.groupby('Designation')['MonthlyIncome'].median()"
   ]
  },
  {
   "cell_type": "code",
   "execution_count": 106,
   "id": "59f45341",
   "metadata": {},
   "outputs": [
    {
     "data": {
      "text/plain": [
       "Designation\n",
       "AVP               32181.0\n",
       "Executive         20689.0\n",
       "Manager           22922.0\n",
       "Senior Manager    26425.0\n",
       "VP                34999.0\n",
       "Name: MonthlyIncome, dtype: float64"
      ]
     },
     "execution_count": 106,
     "metadata": {},
     "output_type": "execute_result"
    }
   ],
   "source": [
    "designation_median_income"
   ]
  },
  {
   "cell_type": "code",
   "execution_count": 107,
   "id": "fb390a7b",
   "metadata": {},
   "outputs": [],
   "source": [
    "# Fill the missing values using transform()\n",
    "\n",
    "df['MonthlyIncome'].fillna(df.groupby('Designation')['MonthlyIncome'].transform('median'), inplace=True)"
   ]
  },
  {
   "cell_type": "code",
   "execution_count": 108,
   "id": "b603c997",
   "metadata": {},
   "outputs": [
    {
     "data": {
      "text/plain": [
       "0"
      ]
     },
     "execution_count": 108,
     "metadata": {},
     "output_type": "execute_result"
    }
   ],
   "source": [
    "df['MonthlyIncome'].isnull().sum()"
   ]
  },
  {
   "cell_type": "code",
   "execution_count": 109,
   "id": "28842d9f",
   "metadata": {},
   "outputs": [
    {
     "data": {
      "image/png": "[encoded data removed]",
      "text/plain": [
       "<Figure size 800x600 with 1 Axes>"
      ]
     },
     "metadata": {},
     "output_type": "display_data"
    }
   ],
   "source": [
    "# We will Now Move to Exploratory Data analysis \n",
    "# 1) Univariate Analysis\n",
    "\n",
    "# Analyze the Target Variable >> ProdTaken \n",
    "\n",
    "# Create Countplot for Target Variable\n",
    "\n",
    "sns.set_style(\"whitegrid\")\n",
    "\n",
    "plt.figure(figsize=(8, 6)) \n",
    "ax = sns.countplot(x='ProdTaken', data=df, palette='viridis')\n",
    "plt.title('Distribution of Product Purchases', fontsize=16)\n",
    "plt.xlabel('Product Purchased (0 = No, 1 = Yes)', fontsize=12)\n",
    "plt.ylabel('Number of Customers', fontsize=12)\n",
    "plt.xticks(fontsize=11)\n",
    "for p in ax.patches:\n",
    "    ax.annotate(f'{p.get_height()}', (p.get_x() + p.get_width() / 2., p.get_height()),\n",
    "                ha='center', va='center', xytext=(0, 9), textcoords='offset points', fontsize=12)\n",
    "plt.show()\n"
   ]
  },
  {
   "cell_type": "code",
   "execution_count": 110,
   "id": "5c664c0f",
   "metadata": {},
   "outputs": [
    {
     "name": "stdout",
     "output_type": "stream",
     "text": [
      "Total customers analyzed: 4888\n",
      "Number of customers who purchased: 920\n",
      "Number of customers who did not purchase: 3968\n",
      "\n",
      "---\n",
      "Conversion Rate: 18.82%\n"
     ]
    }
   ],
   "source": [
    "# Calculate the Precise conversion rate\n",
    "\n",
    "conversion_rate_details =df['ProdTaken'].value_counts(normalize=True)*100\n",
    "conversion_rate =conversion_rate_details[1]\n",
    "\n",
    "print(f\"Total customers analyzed: {len(df)}\")\n",
    "print(f\"Number of customers who purchased: {df['ProdTaken'].value_counts()[1]}\")\n",
    "print(f\"Number of customers who did not purchase: {df['ProdTaken'].value_counts()[0]}\")\n",
    "print(\"\\n---\")\n",
    "print(f\"Conversion Rate: {conversion_rate:.2f}%\")"
   ]
  },
  {
   "cell_type": "code",
   "execution_count": 111,
   "id": "77d34d25",
   "metadata": {},
   "outputs": [
    {
     "data": {
      "image/png": "[encoded data removed]",
      "text/plain": [
       "<Figure size 1000x700 with 1 Axes>"
      ]
     },
     "metadata": {},
     "output_type": "display_data"
    },
    {
     "name": "stdout",
     "output_type": "stream",
     "text": [
      "--- Median Monthly Income ---\n",
      "ProdTaken\n",
      "0    22861.0\n",
      "1    21136.5\n",
      "Name: MonthlyIncome, dtype: float64\n"
     ]
    }
   ],
   "source": [
    "# Analysis Monthly Income \n",
    "# Goal: Is there a significant difference in MonthlyIncome between customers who buy (ProdTaken = 1) and those who don't (ProdTaken = 0)?\n",
    "\n",
    "# Set a professional visual style\n",
    "sns.set_style(\"whitegrid\")\n",
    "\n",
    "plt.figure(figsize=(10,7))\n",
    "sns.boxplot(x='ProdTaken', y='MonthlyIncome', data=df, palette='coolwarm')\n",
    "\n",
    "# Add a clear title and labels for the \"CEO\"\n",
    "plt.title('Monthly Income Comparison: Buyers vs. Non-Buyers', fontsize=16)\n",
    "plt.xlabel('Product Purchased (0 = No, 1 = Yes)', fontsize=12)\n",
    "plt.ylabel('Monthly Income', fontsize=12)\n",
    "plt.xticks(fontsize=11)\n",
    "plt.yticks(fontsize=11)\n",
    "plt.show()\n",
    "\n",
    "#Get the precise median numbers for your report ---\n",
    "\n",
    "# Use groupby() to calculate the median income for each group\n",
    "income_comparison = df.groupby('ProdTaken')['MonthlyIncome'].median()\n",
    "\n",
    "print(\"--- Median Monthly Income ---\")\n",
    "print(income_comparison)"
   ]
  },
  {
   "cell_type": "markdown",
   "id": "9d9c4c4e",
   "metadata": {},
   "source": [
    "we've found that the median income for customers who did not buy (22,861) is actually higher than for those who did buy (21,136.5).\n",
    "\n",
    "we can Interpret this as :\n",
    "\n",
    "1. The \"Value\" Hypothesis: It's possible our travel packages are perceived as a \"smart buy\" or a great value-for-money deal. Customers in a slightly lower income bracket might see  offer as an affordable luxury, while higher-income customers might be looking for more premium, exclusive packages that we aren't offering effectively.\n",
    "\n",
    "2. The \"Product Mismatch\" Hypothesis: Perhaps we are successfully selling  lower-cost packages (e.g., 'Basic') to the 21k income group, but failing to convince the 23k+ income group to buy  more expensive packages. The higher-income group might be saying \"no\" because the specific product pitched to them wasn't appealing enough.\n",
    "\n",
    "\n",
    "**Our Next Step: Dig Deeper**\n",
    "\n",
    "This finding is too important to take at face value. We need to see if another variable is influencing this. The most likely candidate is the customer's job Designation."
   ]
  },
  {
   "cell_type": "code",
   "execution_count": 112,
   "id": "90b526bf",
   "metadata": {},
   "outputs": [
    {
     "data": {
      "image/png": "[encoded data removed]",
      "text/plain": [
       "<Figure size 1200x800 with 1 Axes>"
      ]
     },
     "metadata": {},
     "output_type": "display_data"
    },
    {
     "name": "stdout",
     "output_type": "stream",
     "text": [
      "--- Median Monthly Income by Designation ---\n",
      "Designation\n",
      "VP                34999.0\n",
      "AVP               32181.0\n",
      "Senior Manager    26425.0\n",
      "Manager           22922.0\n",
      "Executive         20689.0\n",
      "Name: MonthlyIncome, dtype: float64\n"
     ]
    }
   ],
   "source": [
    "# Analyze Monthly Income by Designation\n",
    "sns.set_style(\"whitegrid\")\n",
    "\n",
    "plt.figure(figsize=(12, 8)) \n",
    "sns.boxplot(x='Designation', y='MonthlyIncome', data=df, palette='plasma')\n",
    "plt.title('Monthly Income Distribution by Job Designation', fontsize=16)\n",
    "plt.xlabel('Designation', fontsize=12)\n",
    "plt.ylabel('Monthly Income', fontsize=12)\n",
    "plt.xticks(rotation=45, ha='right')\n",
    "plt.show()\n",
    "\n",
    "# Get the precise median numbers for your report \n",
    "\n",
    "designation_income_comparison = df.groupby('Designation')['MonthlyIncome'].median().sort_values(ascending=False)\n",
    "\n",
    "print(\"--- Median Monthly Income by Designation ---\")\n",
    "print(designation_income_comparison)"
   ]
  },
  {
   "cell_type": "markdown",
   "id": "aa04e72d",
   "metadata": {},
   "source": [
    "**Insights:**\n",
    "+ There is a clear income hierarchy.Customers range from Executives, with a median income of around ₹20,689, all the way up to VPs, earning ₹34,999.\n",
    "\n",
    "+ Buyers have a lower median income. From first analysis, we know buyers' median income is around ₹21,136.\n",
    "\n",
    "**When we put these two facts together, a powerful and concerning insight emerges:**\n",
    "\n",
    "Sales are heavily concentrated at the lower end of  customer's professional ladder. We are successfully selling to Executives, but we appear to be failing to convert Managers, Senior Managers, AVPs, and VPs, who are our wealthiest potential clients.\n"
   ]
  },
  {
   "cell_type": "markdown",
   "id": "57b1cb77",
   "metadata": {},
   "source": [
    "**The Next Step:**\n",
    "\n",
    "This insight is currently a very strong hypothesis.We need to see the actual purchase rate for each Designation"
   ]
  },
  {
   "cell_type": "code",
   "execution_count": 113,
   "id": "327463a3",
   "metadata": {},
   "outputs": [
    {
     "data": {
      "image/png": "[encoded data removed]",
      "text/plain": [
       "<Figure size 1400x800 with 1 Axes>"
      ]
     },
     "metadata": {},
     "output_type": "display_data"
    },
    {
     "name": "stdout",
     "output_type": "stream",
     "text": [
      "--- Conversion Rate by Designation ---\n",
      "ProdTaken          0    1  Total  ConversionRate (%)\n",
      "Designation                                         \n",
      "Executive       1290  552   1842           29.967427\n",
      "Senior Manager   618  124    742           16.711590\n",
      "Manager         1528  204   1732           11.778291\n",
      "VP               210   20    230            8.695652\n",
      "AVP              322   20    342            5.847953\n"
     ]
    }
   ],
   "source": [
    "# Analyze Purchase Rate by Designation\n",
    "\n",
    "sns.set_style(\"whitegrid\")\n",
    "\n",
    "plt.figure(figsize=(14, 8)) \n",
    "\n",
    "sns.countplot(x='Designation', hue='ProdTaken', data=df, palette='viridis')\n",
    "plt.title('Purchase Count by Job Designation', fontsize=16)\n",
    "plt.xlabel('Designation', fontsize=12)\n",
    "plt.ylabel('Number of Customers', fontsize=12)\n",
    "plt.xticks(rotation=45, ha='right') \n",
    "plt.legend(title='Product Purchased', labels=['No', 'Yes'])\n",
    "plt.show()\n",
    "\n",
    "# Calculate precise conversion rate per designation \n",
    "\n",
    "designation_counts = df.groupby(['Designation', 'ProdTaken']).size().unstack(fill_value=0)\n",
    "# Calculate the conversion rate\n",
    "designation_counts['Total'] = designation_counts[0] + designation_counts[1]\n",
    "designation_counts['ConversionRate (%)'] = (designation_counts[1] / designation_counts['Total']) * 100\n",
    "\n",
    "# Sort by conversion rate to see which is most effective\n",
    "print(\"--- Conversion Rate by Designation ---\")\n",
    "print(designation_counts.sort_values(by='ConversionRate (%)', ascending=False))\n"
   ]
  },
  {
   "cell_type": "markdown",
   "id": "8c2255e3",
   "metadata": {},
   "source": [
    "**Insights:**\n",
    "\n",
    "We are experts at selling to Executives. Data proves that we convert Executives at an incredible 30% rate. This is our \"Golden Customer\" segment. They are the engine of our current sales.\n",
    "\n",
    "We are failing with our wealthiest clients. As we move up the career ladder to Manager, Senior Manager, and VP, our conversion rate plummets, dropping to as low as 6% for AVPs.\n",
    "\n",
    "This explains the income paradox. The reason our buyers have a lower median income is simply because our main buyers are Executives, who earn less than Managers and VPs.\n",
    "\n",
    "The conclusion is undeniable: Our current sales process, product offering, or pitch is perfectly tuned for the needs and budget of an Executive, but it is completely ineffective for senior leadership.\""
   ]
  },
  {
   "cell_type": "markdown",
   "id": "4cdb3c7f",
   "metadata": {},
   "source": [
    "**The Next Logical Step: Why Are We Failing?**\n",
    "\n",
    "The most likely reason is a mismatch between the product and the client."
   ]
  },
  {
   "cell_type": "code",
   "execution_count": 114,
   "id": "87d81949",
   "metadata": {},
   "outputs": [
    {
     "data": {
      "image/png": "[encoded data removed]",
      "text/plain": [
       "<Figure size 1400x800 with 1 Axes>"
      ]
     },
     "metadata": {},
     "output_type": "display_data"
    },
    {
     "name": "stdout",
     "output_type": "stream",
     "text": [
      "--- Crosstab: Product Pitched vs. Designation ---\n",
      "ProductPitched  Basic  Deluxe  King  Standard  Super Deluxe\n",
      "Designation                                                \n",
      "AVP                 0       0     0         0           342\n",
      "Executive        1842       0     0         0             0\n",
      "Manager             0    1732     0         0             0\n",
      "Senior Manager      0       0     0       742             0\n",
      "VP                  0       0   230         0             0\n"
     ]
    }
   ],
   "source": [
    "# Analyze Product Pitched by Designation\n",
    "\n",
    "sns.set_style(\"whitegrid\")\n",
    "plt.figure(figsize=(14,8))\n",
    "sns.countplot(x='Designation', hue='ProductPitched', data=df, palette='magma')\n",
    "plt.title('Product Pitches by Job Designation', fontsize=16)\n",
    "plt.xlabel('Designation', fontsize=12)\n",
    "plt.ylabel('Number of Pitches', fontsize=12)\n",
    "plt.xticks(rotation=45, ha='right')\n",
    "plt.legend(title='Product Pitched')\n",
    "plt.show()\n",
    "\n",
    "# Create a detailed table for the report \n",
    "# A crosstab is a great way to see the raw numbers in a table format.\n",
    "# It shows the intersection of two categorical variables.\n",
    "product_designation_cross = pd.crosstab(df['Designation'], df['ProductPitched'])\n",
    "\n",
    "print(\"--- Crosstab: Product Pitched vs. Designation ---\")\n",
    "print(product_designation_cross)"
   ]
  },
  {
   "cell_type": "markdown",
   "id": "c562648f",
   "metadata": {},
   "source": [
    "**Grand Insight:**\n",
    "\n",
    "This crosstab table lays bare our company's sales playbook. We have a perfectly structured, but dangerously inflexible, product strategy:\n",
    "\n",
    "  + We only pitch the 'Basic' package to Executives.\n",
    "\n",
    "  + We only pitch the 'Deluxe' package to Managers.\n",
    "\n",
    "  + We only pitch the 'King' package to VPs.\n",
    "\n",
    "And so on. There is zero overlap.\n",
    "\n",
    "Now, let's connect this to the conversion rates we discovered earlier:\n",
    "\n",
    " + Our strategy of pitching 'Basic' to Executives is a phenomenal success (30% conversion).\n",
    "\n",
    " + Our strategy of pitching 'Deluxe' to Managers is a failure (12% conversion).\n",
    "\n",
    " + Our strategy of pitching 'King' to VPs is an even bigger failure (9% conversion).\n",
    "\n",
    "**The conclusion is inescapable:** The problem isn't our customers; it's our high-tier products. Our 'Deluxe', 'Standard', 'King', and 'Super Deluxe' packages—or the way we are selling them—are not resonating with our wealthiest clients. We have achieved perfect product-market fit with our entry-level customers but have completely missed the mark with everyone else.\""
   ]
  },
  {
   "cell_type": "code",
   "execution_count": 115,
   "id": "569c2d6d",
   "metadata": {},
   "outputs": [
    {
     "data": {
      "image/png": "[encoded data removed]",
      "text/plain": [
       "<Figure size 1000x700 with 1 Axes>"
      ]
     },
     "metadata": {},
     "output_type": "display_data"
    },
    {
     "name": "stdout",
     "output_type": "stream",
     "text": [
      "--- Median Age ---\n",
      "ProdTaken\n",
      "0    36.0\n",
      "1    33.0\n",
      "Name: Age, dtype: float64\n"
     ]
    }
   ],
   "source": [
    "# Analysis Age \n",
    "\n",
    "# Analyze Age vs. Product Purchase \n",
    "\n",
    "sns.set_style(\"whitegrid\")\n",
    "plt.figure(figsize=(10, 7))\n",
    "sns.boxplot(x='ProdTaken', y='Age', data=df, palette='pastel')\n",
    "plt.title('Age Comparison: Buyers vs. Non-Buyers', fontsize=16)\n",
    "plt.xlabel('Product Purchased (0 = No, 1 = Yes)', fontsize=12)\n",
    "plt.ylabel('Age', fontsize=12)\n",
    "plt.xticks(fontsize=11)\n",
    "plt.yticks(fontsize=11)\n",
    "plt.show()\n",
    "\n",
    "# --- Get the precise median numbers for your report ---\n",
    "\n",
    "# Use groupby() to calculate the median age for each group\n",
    "age_comparison = df.groupby('ProdTaken')['Age'].median()\n",
    "\n",
    "print(\"--- Median Age ---\")\n",
    "print(age_comparison)\n",
    "\n"
   ]
  },
  {
   "cell_type": "markdown",
   "id": "cbbaaa43",
   "metadata": {},
   "source": [
    "**Insight: Younger Customers Are More Receptive**\n",
    " we've just confirmed another key demographic trait. The data shows that the customers who purchase our travel packages are, on average, slightly younger than those who do not.\n",
    "\n",
    "+ Median Age of Buyers: 33 years old\n",
    "\n",
    "+ Median Age of Non-Buyers: 36 years old"
   ]
  },
  {
   "cell_type": "markdown",
   "id": "7e4dbb08",
   "metadata": {},
   "source": [
    "**TASK 1: Complete - The 'Golden Customer' Profile**\n",
    "\n",
    "We now have a complete, data-driven profile of our most valuable customer segment.\n",
    "\n",
    "Our \"Golden Customer\" is:\n",
    "\n",
    "+ Designation: An Executive.\n",
    "\n",
    "+ Product: Being pitched the 'Basic' package.\n",
    "\n",
    "+ Age: Likely in their early 30s."
   ]
  },
  {
   "cell_type": "markdown",
   "id": "47778c76",
   "metadata": {},
   "source": [
    "### Evaluate Our Sales Pitch\n",
    "\n",
    "The Manager needs to know which sales tactics are working. The most important question here is about our lead source.\n",
    "\n",
    "**Our Next Task:**\n",
    "\n",
    "**The Business Question:** Where do our best leads come from? Is a customer who contacts us (Self Enquiry) more valuable than one we contact ourselves (Company Invited)?\n",
    "\n"
   ]
  },
  {
   "cell_type": "code",
   "execution_count": 116,
   "id": "1adcdd53",
   "metadata": {},
   "outputs": [
    {
     "data": {
      "image/png": "[encoded data removed]",
      "text/plain": [
       "<Figure size 1000x700 with 1 Axes>"
      ]
     },
     "metadata": {},
     "output_type": "display_data"
    },
    {
     "name": "stdout",
     "output_type": "stream",
     "text": [
      "--- Conversion Rate by Type of Contact ---\n",
      "ProdTaken           0    1  Total  ConversionRate (%)\n",
      "TypeofContact                                        \n",
      "Company Invited  1109  310   1419           21.846371\n",
      "Self Enquiry     2859  610   3469           17.584318\n"
     ]
    }
   ],
   "source": [
    "# Analyze Conversion Rate by Type of Contact\n",
    "\n",
    "sns.set_style('whitegrid')\n",
    "plt.figure(figsize=(10, 7))\n",
    "sns.countplot(x='TypeofContact', hue='ProdTaken', data=df, palette='Oranges')\n",
    "plt.title('Conversion Rate by Lead Source', fontsize=16)\n",
    "plt.xlabel('Type of Contact', fontsize=12)\n",
    "plt.ylabel('Number of Customers', fontsize=12)\n",
    "plt.legend(title='Product Purchased', labels=['No', 'Yes'])\n",
    "plt.show()\n",
    "\n",
    "# --- Calculate precise conversion rate per contact type ---\n",
    "\n",
    "# A crosstab is the cleanest way to see the numbers and calculate the rate\n",
    "contact_counts = pd.crosstab(df['TypeofContact'], df['ProdTaken'])\n",
    "contact_counts['Total'] = contact_counts[0] + contact_counts[1]\n",
    "contact_counts['ConversionRate (%)'] = (contact_counts[1] / contact_counts['Total']) * 100\n",
    "\n",
    "print(\"--- Conversion Rate by Type of Contact ---\")\n",
    "print(contact_counts.sort_values(by='ConversionRate (%)', ascending=False))"
   ]
  },
  {
   "cell_type": "markdown",
   "id": "dc41514e",
   "metadata": {},
   "source": [
    "**Insight: Our Outreach is More Effective Than We Thought**\n",
    "\n",
    "The data on our lead sources has revealed something quite unexpected. Our internal assumption was that 'Self Enquiry' leads would be our most valuable. The data proves the opposite is true:\n",
    "\n",
    "+ Company Invited Conversion Rate: 21.9%\n",
    "\n",
    "+ Self Enquiry Conversion Rate: 17.6%\n",
    "\n",
    "Our outbound sales efforts—where our team identifies and invites potential customers—are significantly more effective at closing a deal than the inbound leads who come to us.\"\n",
    "\n",
    "**Why Is This Happening? The Analyst's Hypothesis**\n",
    "\n",
    "\"Are we inviting a specific type of customer?\"\n",
    "\n",
    "What if our sales team is primarily inviting Executives? We already know Executives convert at a very high rate (30%). If that's the case, the high conversion rate for \"Company Invited\" might be driven entirely by the fact that we're inviting our \"Golden Customer\" segment.\n",
    "\n",
    "**Our Next Task:**\n",
    "\n",
    "The Business Question: Who are we inviting, and who is contacting us?"
   ]
  },
  {
   "cell_type": "code",
   "execution_count": 117,
   "id": "e51d3ab9",
   "metadata": {},
   "outputs": [
    {
     "data": {
      "image/png": "[encoded data removed]",
      "text/plain": [
       "<Figure size 1200x800 with 1 Axes>"
      ]
     },
     "metadata": {},
     "output_type": "display_data"
    },
    {
     "name": "stdout",
     "output_type": "stream",
     "text": [
      "--- Crosstab: Designation vs. Type of Contact ---\n",
      "Designation      AVP  Executive  Manager  Senior Manager   VP\n",
      "TypeofContact                                                \n",
      "Company Invited   96        516      541             218   48\n",
      "Self Enquiry     246       1326     1191             524  182\n"
     ]
    }
   ],
   "source": [
    "sns.set_style(\"whitegrid\")\n",
    "plt.figure(figsize=(12, 8))\n",
    "\n",
    "sns.countplot(x='TypeofContact', hue='Designation', data=df, palette='Set2')\n",
    "plt.title('Customer Designation by Lead Source', fontsize=16)\n",
    "plt.xlabel('Type of Contact', fontsize=12)\n",
    "plt.ylabel('Number of Customers', fontsize=12)\n",
    "plt.legend(title='Designation')\n",
    "plt.show()\n",
    "\n",
    "# --- Create a detailed crosstab for the report ---\n",
    "\n",
    "# A crosstab gives us the exact numbers for our analysis\n",
    "contact_designation_cross = pd.crosstab(df['TypeofContact'], df['Designation'])\n",
    "\n",
    "print(\"--- Crosstab: Designation vs. Type of Contact ---\")\n",
    "print(contact_designation_cross)"
   ]
  },
  {
   "cell_type": "markdown",
   "id": "858d7714",
   "metadata": {},
   "source": [
    "**Insight: Our Sales Team's Targeting is a Major Asset**\n",
    "\n",
    "This analysis provides the final answer to our lead source puzzle. We initially thought the 'Company Invited' channel was successful because we were stuffing it with our best customer type, Executives.\n",
    "\n",
    "The data proves this is not the case.\n",
    "\n",
    "The mix of job titles is roughly the same for both 'Company Invited' and 'Self Enquiry' leads. This tells us something far more important:\n",
    "\n",
    "Our sales team's process for identifying and qualifying outbound leads is incredibly effective."
   ]
  },
  {
   "cell_type": "markdown",
   "id": "155f2484",
   "metadata": {},
   "source": [
    "**Task 2: Complete**\n",
    "\n",
    "We have now successfully evaluated our sales pitch's most critical components.\n",
    "\n",
    "+ **Lead Source:** Our outbound \"Company Invited\" process is our most effective channel, driven by a skilled sales team.\n",
    "\n",
    "+ **Product Strategy:** Our \"Basic\" package is a huge success with Executives, but our premium packages are failing with senior clients.\n",
    "\n",
    "."
   ]
  },
  {
   "cell_type": "markdown",
   "id": "67e88628",
   "metadata": {},
   "source": [
    "### TASK 3: Identify Our Strongest Markets\n",
    "\n",
    "\n",
    "The Manger  needs to know where we should focus our energy geographically and based on customer attributes.\n",
    "\n",
    "**Your Next Task:**\n",
    "\n",
    "The Business Question: Does having a passport make someone more likely to buy?"
   ]
  },
  {
   "cell_type": "code",
   "execution_count": 118,
   "id": "2e69bd67",
   "metadata": {},
   "outputs": [
    {
     "data": {
      "image/png": "[encoded data removed]",
      "text/plain": [
       "<Figure size 1000x700 with 1 Axes>"
      ]
     },
     "metadata": {},
     "output_type": "display_data"
    },
    {
     "name": "stdout",
     "output_type": "stream",
     "text": [
      "--- Conversion Rate by Passport Ownership ---\n",
      "ProdTaken     0    1  Total  ConversionRate (%)\n",
      "Passport                                       \n",
      "0          3040  426   3466           12.290825\n",
      "1           928  494   1422           34.739803\n"
     ]
    }
   ],
   "source": [
    "# --- Analyze Conversion Rate by Passport Ownership ---\n",
    "\n",
    "sns.set_style(\"whitegrid\")\n",
    "plt.figure(figsize=(10, 7))\n",
    "sns.countplot(x='Passport', hue='ProdTaken', data=df, palette='cividis')\n",
    "plt.title('Conversion Rate by Passport Ownership', fontsize=16)\n",
    "plt.xlabel('Has Passport (0 = No, 1 = Yes)', fontsize=12)\n",
    "plt.ylabel('Number of Customers', fontsize=12)\n",
    "plt.legend(title='Product Purchased', labels=['No', 'Yes'])\n",
    "plt.show()\n",
    "\n",
    "# ---Calculate precise conversion rate per passport status ---\n",
    "\n",
    "# A crosstab is the cleanest way to see the numbers and calculate the rate\n",
    "passport_counts = pd.crosstab(df['Passport'], df['ProdTaken'])\n",
    "passport_counts['Total'] = passport_counts[0] + passport_counts[1]\n",
    "passport_counts['ConversionRate (%)'] = (passport_counts[1] / passport_counts['Total']) * 100\n",
    "\n",
    "print(\"--- Conversion Rate by Passport Ownership ---\")\n",
    "print(passport_counts)"
   ]
  },
  {
   "cell_type": "markdown",
   "id": "5a6a485d",
   "metadata": {},
   "source": [
    "**Insight: A Passport is a \"Buy\" Signal**\n",
    "\n",
    "Our final analysis has revealed a simple but incredibly powerful qualifying factor for our customers. The data is unequivocal:\n",
    "\n",
    "+ Conversion Rate for Passport Holders: 34.7%\n",
    "\n",
    "+ Conversion Rate for Non-Passport Holders: 12.3%\n",
    "\n",
    "A customer who holds a passport is nearly three times more likely to purchase our travel package."
   ]
  },
  {
   "cell_type": "markdown",
   "id": "328e5a01",
   "metadata": {},
   "source": [
    "### TASK 4: Pitch Satisfaction\n",
    "\n",
    "The Business Question: This is a simple but vital question for the Head of Sales: \"Does making a customer happy with our pitch actually translate into more sales?\" Or are we just entertaining them?"
   ]
  },
  {
   "cell_type": "code",
   "execution_count": 119,
   "id": "3d1b4996",
   "metadata": {},
   "outputs": [
    {
     "data": {
      "image/png": "[encoded data removed]",
      "text/plain": [
       "<Figure size 1000x700 with 1 Axes>"
      ]
     },
     "metadata": {},
     "output_type": "display_data"
    },
    {
     "name": "stdout",
     "output_type": "stream",
     "text": [
      "--- Median Pitch Satisfaction Score ---\n",
      "ProdTaken\n",
      "0    3.0\n",
      "1    3.0\n",
      "Name: PitchSatisfactionScore, dtype: float64\n"
     ]
    }
   ],
   "source": [
    "sns.set_style(\"whitegrid\")\n",
    "plt.figure(figsize=(10, 7))\n",
    "sns.boxplot(x='ProdTaken', y='PitchSatisfactionScore', data=df, palette='rocket')\n",
    "plt.title('Pitch Satisfaction: Buyers vs. Non-Buyers', fontsize=16)\n",
    "plt.xlabel('Product Purchased (0 = No, 1 = Yes)', fontsize=12)\n",
    "plt.ylabel('Pitch Satisfaction Score (1-5)', fontsize=12)\n",
    "plt.xticks(fontsize=11)\n",
    "plt.yticks(fontsize=11)\n",
    "plt.show()\n",
    "\n",
    "# --- Get the precise median numbers for your report ---\n",
    "\n",
    "# Use groupby() to calculate the median satisfaction score for each group\n",
    "satisfaction_comparison = df.groupby('ProdTaken')['PitchSatisfactionScore'].median()\n",
    "\n",
    "print(\"--- Median Pitch Satisfaction Score ---\")\n",
    "print(satisfaction_comparison)\n"
   ]
  },
  {
   "cell_type": "markdown",
   "id": "005bb0a9",
   "metadata": {},
   "source": [
    "**Insight: Satisfaction Doesn't Equal Sales**\n",
    "\n",
    "Our final investigation into pitch satisfaction has yielded a crucial, cost-saving insight. The data clearly shows that there is no significant difference in the satisfaction scores between customers who buy our product and those who do not.\n",
    "\n",
    " + **Median Score for Both Buyers & Non-Buyers: 3.0**\n",
    "\n",
    "This tells us that while our sales team should always be professional, simply making a customer 'happy' with the pitch does not directly translate into a sale. A customer who loves the presentation is just as likely to say 'no' as a customer who found it average.\n"
   ]
  },
  {
   "cell_type": "markdown",
   "id": "ee8888b7",
   "metadata": {},
   "source": [
    "**Project Complete: All Task Accomplished**\n",
    "\n",
    "Let's recap the powerful story you have built, piece by piece:\n",
    "\n",
    "1. The **\"Golden Customer\":** You proved the ideal customer is an Executive in their early 30s.\n",
    "\n",
    "2. The **Winning Product:** You discovered the 'Basic' package is a huge success, while our premium packages are failing.\n",
    "\n",
    "3. The **Winning Strategy:** You found that our outbound \"Company Invited\" process is highly effective, and that passport holders are a key high-intent segment.\n",
    "\n",
    "4. The **Non-Factor:** You smartly identified that PitchSatisfactionScore is not a driver of sales, saving the company from a potentially wasteful investment."
   ]
  },
  {
   "cell_type": "markdown",
   "id": "200f5b5d",
   "metadata": {},
   "source": []
  }
 ],
 "metadata": {
  "kernelspec": {
   "display_name": "base",
   "language": "python",
   "name": "python3"
  },
  "language_info": {
   "codemirror_mode": {
    "name": "ipython",
    "version": 3
   },
   "file_extension": ".py",
   "mimetype": "text/x-python",
   "name": "python",
   "nbconvert_exporter": "python",
   "pygments_lexer": "ipython3",
   "version": "3.12.4"
  }
 },
 "nbformat": 4,
 "nbformat_minor": 5
}
