{
 "cells": [
  {
   "cell_type": "code",
   "execution_count": 191,
   "id": "10adbddb",
   "metadata": {},
   "outputs": [],
   "source": [
    "import pandas as pd\n",
    "import numpy as np\n",
    "import seaborn as sns\n",
    "import matplotlib.pyplot as plt\n",
    "from sklearn.preprocessing import StandardScaler\n",
    "import warnings\n",
    "warnings.filterwarnings(\"ignore\")"
   ]
  },
  {
   "cell_type": "code",
   "execution_count": 2,
   "id": "69360015",
   "metadata": {},
   "outputs": [],
   "source": [
    "df =pd.read_csv(\"data\\kidney_disease.csv\")"
   ]
  },
  {
   "cell_type": "code",
   "execution_count": 3,
   "id": "66710de6",
   "metadata": {},
   "outputs": [
    {
     "data": {
      "text/html": [
       "<div>\n",
       "<style scoped>\n",
       "    .dataframe tbody tr th:only-of-type {\n",
       "        vertical-align: middle;\n",
       "    }\n",
       "\n",
       "    .dataframe tbody tr th {\n",
       "        vertical-align: top;\n",
       "    }\n",
       "\n",
       "    .dataframe thead th {\n",
       "        text-align: right;\n",
       "    }\n",
       "</style>\n",
       "<table border=\"1\" class=\"dataframe\">\n",
       "  <thead>\n",
       "    <tr style=\"text-align: right;\">\n",
       "      <th></th>\n",
       "      <th>id</th>\n",
       "      <th>age</th>\n",
       "      <th>bp</th>\n",
       "      <th>sg</th>\n",
       "      <th>al</th>\n",
       "      <th>su</th>\n",
       "      <th>rbc</th>\n",
       "      <th>pc</th>\n",
       "      <th>pcc</th>\n",
       "      <th>ba</th>\n",
       "      <th>...</th>\n",
       "      <th>pcv</th>\n",
       "      <th>wc</th>\n",
       "      <th>rc</th>\n",
       "      <th>htn</th>\n",
       "      <th>dm</th>\n",
       "      <th>cad</th>\n",
       "      <th>appet</th>\n",
       "      <th>pe</th>\n",
       "      <th>ane</th>\n",
       "      <th>classification</th>\n",
       "    </tr>\n",
       "  </thead>\n",
       "  <tbody>\n",
       "    <tr>\n",
       "      <th>0</th>\n",
       "      <td>0</td>\n",
       "      <td>48.0</td>\n",
       "      <td>80.0</td>\n",
       "      <td>1.020</td>\n",
       "      <td>1.0</td>\n",
       "      <td>0.0</td>\n",
       "      <td>NaN</td>\n",
       "      <td>normal</td>\n",
       "      <td>notpresent</td>\n",
       "      <td>notpresent</td>\n",
       "      <td>...</td>\n",
       "      <td>44</td>\n",
       "      <td>7800</td>\n",
       "      <td>5.2</td>\n",
       "      <td>yes</td>\n",
       "      <td>yes</td>\n",
       "      <td>no</td>\n",
       "      <td>good</td>\n",
       "      <td>no</td>\n",
       "      <td>no</td>\n",
       "      <td>ckd</td>\n",
       "    </tr>\n",
       "    <tr>\n",
       "      <th>1</th>\n",
       "      <td>1</td>\n",
       "      <td>7.0</td>\n",
       "      <td>50.0</td>\n",
       "      <td>1.020</td>\n",
       "      <td>4.0</td>\n",
       "      <td>0.0</td>\n",
       "      <td>NaN</td>\n",
       "      <td>normal</td>\n",
       "      <td>notpresent</td>\n",
       "      <td>notpresent</td>\n",
       "      <td>...</td>\n",
       "      <td>38</td>\n",
       "      <td>6000</td>\n",
       "      <td>NaN</td>\n",
       "      <td>no</td>\n",
       "      <td>no</td>\n",
       "      <td>no</td>\n",
       "      <td>good</td>\n",
       "      <td>no</td>\n",
       "      <td>no</td>\n",
       "      <td>ckd</td>\n",
       "    </tr>\n",
       "    <tr>\n",
       "      <th>2</th>\n",
       "      <td>2</td>\n",
       "      <td>62.0</td>\n",
       "      <td>80.0</td>\n",
       "      <td>1.010</td>\n",
       "      <td>2.0</td>\n",
       "      <td>3.0</td>\n",
       "      <td>normal</td>\n",
       "      <td>normal</td>\n",
       "      <td>notpresent</td>\n",
       "      <td>notpresent</td>\n",
       "      <td>...</td>\n",
       "      <td>31</td>\n",
       "      <td>7500</td>\n",
       "      <td>NaN</td>\n",
       "      <td>no</td>\n",
       "      <td>yes</td>\n",
       "      <td>no</td>\n",
       "      <td>poor</td>\n",
       "      <td>no</td>\n",
       "      <td>yes</td>\n",
       "      <td>ckd</td>\n",
       "    </tr>\n",
       "    <tr>\n",
       "      <th>3</th>\n",
       "      <td>3</td>\n",
       "      <td>48.0</td>\n",
       "      <td>70.0</td>\n",
       "      <td>1.005</td>\n",
       "      <td>4.0</td>\n",
       "      <td>0.0</td>\n",
       "      <td>normal</td>\n",
       "      <td>abnormal</td>\n",
       "      <td>present</td>\n",
       "      <td>notpresent</td>\n",
       "      <td>...</td>\n",
       "      <td>32</td>\n",
       "      <td>6700</td>\n",
       "      <td>3.9</td>\n",
       "      <td>yes</td>\n",
       "      <td>no</td>\n",
       "      <td>no</td>\n",
       "      <td>poor</td>\n",
       "      <td>yes</td>\n",
       "      <td>yes</td>\n",
       "      <td>ckd</td>\n",
       "    </tr>\n",
       "    <tr>\n",
       "      <th>4</th>\n",
       "      <td>4</td>\n",
       "      <td>51.0</td>\n",
       "      <td>80.0</td>\n",
       "      <td>1.010</td>\n",
       "      <td>2.0</td>\n",
       "      <td>0.0</td>\n",
       "      <td>normal</td>\n",
       "      <td>normal</td>\n",
       "      <td>notpresent</td>\n",
       "      <td>notpresent</td>\n",
       "      <td>...</td>\n",
       "      <td>35</td>\n",
       "      <td>7300</td>\n",
       "      <td>4.6</td>\n",
       "      <td>no</td>\n",
       "      <td>no</td>\n",
       "      <td>no</td>\n",
       "      <td>good</td>\n",
       "      <td>no</td>\n",
       "      <td>no</td>\n",
       "      <td>ckd</td>\n",
       "    </tr>\n",
       "    <tr>\n",
       "      <th>...</th>\n",
       "      <td>...</td>\n",
       "      <td>...</td>\n",
       "      <td>...</td>\n",
       "      <td>...</td>\n",
       "      <td>...</td>\n",
       "      <td>...</td>\n",
       "      <td>...</td>\n",
       "      <td>...</td>\n",
       "      <td>...</td>\n",
       "      <td>...</td>\n",
       "      <td>...</td>\n",
       "      <td>...</td>\n",
       "      <td>...</td>\n",
       "      <td>...</td>\n",
       "      <td>...</td>\n",
       "      <td>...</td>\n",
       "      <td>...</td>\n",
       "      <td>...</td>\n",
       "      <td>...</td>\n",
       "      <td>...</td>\n",
       "      <td>...</td>\n",
       "    </tr>\n",
       "    <tr>\n",
       "      <th>395</th>\n",
       "      <td>395</td>\n",
       "      <td>55.0</td>\n",
       "      <td>80.0</td>\n",
       "      <td>1.020</td>\n",
       "      <td>0.0</td>\n",
       "      <td>0.0</td>\n",
       "      <td>normal</td>\n",
       "      <td>normal</td>\n",
       "      <td>notpresent</td>\n",
       "      <td>notpresent</td>\n",
       "      <td>...</td>\n",
       "      <td>47</td>\n",
       "      <td>6700</td>\n",
       "      <td>4.9</td>\n",
       "      <td>no</td>\n",
       "      <td>no</td>\n",
       "      <td>no</td>\n",
       "      <td>good</td>\n",
       "      <td>no</td>\n",
       "      <td>no</td>\n",
       "      <td>notckd</td>\n",
       "    </tr>\n",
       "    <tr>\n",
       "      <th>396</th>\n",
       "      <td>396</td>\n",
       "      <td>42.0</td>\n",
       "      <td>70.0</td>\n",
       "      <td>1.025</td>\n",
       "      <td>0.0</td>\n",
       "      <td>0.0</td>\n",
       "      <td>normal</td>\n",
       "      <td>normal</td>\n",
       "      <td>notpresent</td>\n",
       "      <td>notpresent</td>\n",
       "      <td>...</td>\n",
       "      <td>54</td>\n",
       "      <td>7800</td>\n",
       "      <td>6.2</td>\n",
       "      <td>no</td>\n",
       "      <td>no</td>\n",
       "      <td>no</td>\n",
       "      <td>good</td>\n",
       "      <td>no</td>\n",
       "      <td>no</td>\n",
       "      <td>notckd</td>\n",
       "    </tr>\n",
       "    <tr>\n",
       "      <th>397</th>\n",
       "      <td>397</td>\n",
       "      <td>12.0</td>\n",
       "      <td>80.0</td>\n",
       "      <td>1.020</td>\n",
       "      <td>0.0</td>\n",
       "      <td>0.0</td>\n",
       "      <td>normal</td>\n",
       "      <td>normal</td>\n",
       "      <td>notpresent</td>\n",
       "      <td>notpresent</td>\n",
       "      <td>...</td>\n",
       "      <td>49</td>\n",
       "      <td>6600</td>\n",
       "      <td>5.4</td>\n",
       "      <td>no</td>\n",
       "      <td>no</td>\n",
       "      <td>no</td>\n",
       "      <td>good</td>\n",
       "      <td>no</td>\n",
       "      <td>no</td>\n",
       "      <td>notckd</td>\n",
       "    </tr>\n",
       "    <tr>\n",
       "      <th>398</th>\n",
       "      <td>398</td>\n",
       "      <td>17.0</td>\n",
       "      <td>60.0</td>\n",
       "      <td>1.025</td>\n",
       "      <td>0.0</td>\n",
       "      <td>0.0</td>\n",
       "      <td>normal</td>\n",
       "      <td>normal</td>\n",
       "      <td>notpresent</td>\n",
       "      <td>notpresent</td>\n",
       "      <td>...</td>\n",
       "      <td>51</td>\n",
       "      <td>7200</td>\n",
       "      <td>5.9</td>\n",
       "      <td>no</td>\n",
       "      <td>no</td>\n",
       "      <td>no</td>\n",
       "      <td>good</td>\n",
       "      <td>no</td>\n",
       "      <td>no</td>\n",
       "      <td>notckd</td>\n",
       "    </tr>\n",
       "    <tr>\n",
       "      <th>399</th>\n",
       "      <td>399</td>\n",
       "      <td>58.0</td>\n",
       "      <td>80.0</td>\n",
       "      <td>1.025</td>\n",
       "      <td>0.0</td>\n",
       "      <td>0.0</td>\n",
       "      <td>normal</td>\n",
       "      <td>normal</td>\n",
       "      <td>notpresent</td>\n",
       "      <td>notpresent</td>\n",
       "      <td>...</td>\n",
       "      <td>53</td>\n",
       "      <td>6800</td>\n",
       "      <td>6.1</td>\n",
       "      <td>no</td>\n",
       "      <td>no</td>\n",
       "      <td>no</td>\n",
       "      <td>good</td>\n",
       "      <td>no</td>\n",
       "      <td>no</td>\n",
       "      <td>notckd</td>\n",
       "    </tr>\n",
       "  </tbody>\n",
       "</table>\n",
       "<p>400 rows × 26 columns</p>\n",
       "</div>"
      ],
      "text/plain": [
       "      id   age    bp     sg   al   su     rbc        pc         pcc  \\\n",
       "0      0  48.0  80.0  1.020  1.0  0.0     NaN    normal  notpresent   \n",
       "1      1   7.0  50.0  1.020  4.0  0.0     NaN    normal  notpresent   \n",
       "2      2  62.0  80.0  1.010  2.0  3.0  normal    normal  notpresent   \n",
       "3      3  48.0  70.0  1.005  4.0  0.0  normal  abnormal     present   \n",
       "4      4  51.0  80.0  1.010  2.0  0.0  normal    normal  notpresent   \n",
       "..   ...   ...   ...    ...  ...  ...     ...       ...         ...   \n",
       "395  395  55.0  80.0  1.020  0.0  0.0  normal    normal  notpresent   \n",
       "396  396  42.0  70.0  1.025  0.0  0.0  normal    normal  notpresent   \n",
       "397  397  12.0  80.0  1.020  0.0  0.0  normal    normal  notpresent   \n",
       "398  398  17.0  60.0  1.025  0.0  0.0  normal    normal  notpresent   \n",
       "399  399  58.0  80.0  1.025  0.0  0.0  normal    normal  notpresent   \n",
       "\n",
       "             ba  ...  pcv    wc   rc  htn   dm  cad appet   pe  ane  \\\n",
       "0    notpresent  ...   44  7800  5.2  yes  yes   no  good   no   no   \n",
       "1    notpresent  ...   38  6000  NaN   no   no   no  good   no   no   \n",
       "2    notpresent  ...   31  7500  NaN   no  yes   no  poor   no  yes   \n",
       "3    notpresent  ...   32  6700  3.9  yes   no   no  poor  yes  yes   \n",
       "4    notpresent  ...   35  7300  4.6   no   no   no  good   no   no   \n",
       "..          ...  ...  ...   ...  ...  ...  ...  ...   ...  ...  ...   \n",
       "395  notpresent  ...   47  6700  4.9   no   no   no  good   no   no   \n",
       "396  notpresent  ...   54  7800  6.2   no   no   no  good   no   no   \n",
       "397  notpresent  ...   49  6600  5.4   no   no   no  good   no   no   \n",
       "398  notpresent  ...   51  7200  5.9   no   no   no  good   no   no   \n",
       "399  notpresent  ...   53  6800  6.1   no   no   no  good   no   no   \n",
       "\n",
       "    classification  \n",
       "0              ckd  \n",
       "1              ckd  \n",
       "2              ckd  \n",
       "3              ckd  \n",
       "4              ckd  \n",
       "..             ...  \n",
       "395         notckd  \n",
       "396         notckd  \n",
       "397         notckd  \n",
       "398         notckd  \n",
       "399         notckd  \n",
       "\n",
       "[400 rows x 26 columns]"
      ]
     },
     "execution_count": 3,
     "metadata": {},
     "output_type": "execute_result"
    }
   ],
   "source": [
    "df"
   ]
  },
  {
   "cell_type": "code",
   "execution_count": 4,
   "id": "453679aa",
   "metadata": {},
   "outputs": [
    {
     "data": {
      "text/plain": [
       "Index(['id', 'age', 'bp', 'sg', 'al', 'su', 'rbc', 'pc', 'pcc', 'ba', 'bgr',\n",
       "       'bu', 'sc', 'sod', 'pot', 'hemo', 'pcv', 'wc', 'rc', 'htn', 'dm', 'cad',\n",
       "       'appet', 'pe', 'ane', 'classification'],\n",
       "      dtype='object')"
      ]
     },
     "execution_count": 4,
     "metadata": {},
     "output_type": "execute_result"
    }
   ],
   "source": [
    "df.columns"
   ]
  },
  {
   "cell_type": "code",
   "execution_count": 5,
   "id": "39c26c65",
   "metadata": {},
   "outputs": [
    {
     "data": {
      "text/plain": [
       "0"
      ]
     },
     "execution_count": 5,
     "metadata": {},
     "output_type": "execute_result"
    }
   ],
   "source": [
    "df.duplicated().sum()"
   ]
  },
  {
   "cell_type": "code",
   "execution_count": 4,
   "id": "dabdc282",
   "metadata": {},
   "outputs": [
    {
     "name": "stdout",
     "output_type": "stream",
     "text": [
      "<class 'pandas.core.frame.DataFrame'>\n",
      "RangeIndex: 400 entries, 0 to 399\n",
      "Data columns (total 26 columns):\n",
      " #   Column          Non-Null Count  Dtype  \n",
      "---  ------          --------------  -----  \n",
      " 0   id              400 non-null    int64  \n",
      " 1   age             391 non-null    float64\n",
      " 2   bp              388 non-null    float64\n",
      " 3   sg              353 non-null    float64\n",
      " 4   al              354 non-null    float64\n",
      " 5   su              351 non-null    float64\n",
      " 6   rbc             248 non-null    object \n",
      " 7   pc              335 non-null    object \n",
      " 8   pcc             396 non-null    object \n",
      " 9   ba              396 non-null    object \n",
      " 10  bgr             356 non-null    float64\n",
      " 11  bu              381 non-null    float64\n",
      " 12  sc              383 non-null    float64\n",
      " 13  sod             313 non-null    float64\n",
      " 14  pot             312 non-null    float64\n",
      " 15  hemo            348 non-null    float64\n",
      " 16  pcv             330 non-null    object \n",
      " 17  wc              295 non-null    object \n",
      " 18  rc              270 non-null    object \n",
      " 19  htn             398 non-null    object \n",
      " 20  dm              398 non-null    object \n",
      " 21  cad             398 non-null    object \n",
      " 22  appet           399 non-null    object \n",
      " 23  pe              399 non-null    object \n",
      " 24  ane             399 non-null    object \n",
      " 25  classification  400 non-null    object \n",
      "dtypes: float64(11), int64(1), object(14)\n",
      "memory usage: 81.4+ KB\n"
     ]
    }
   ],
   "source": [
    "df.info()"
   ]
  },
  {
   "cell_type": "code",
   "execution_count": 5,
   "id": "643b54d9",
   "metadata": {},
   "outputs": [
    {
     "data": {
      "text/html": [
       "<div>\n",
       "<style scoped>\n",
       "    .dataframe tbody tr th:only-of-type {\n",
       "        vertical-align: middle;\n",
       "    }\n",
       "\n",
       "    .dataframe tbody tr th {\n",
       "        vertical-align: top;\n",
       "    }\n",
       "\n",
       "    .dataframe thead th {\n",
       "        text-align: right;\n",
       "    }\n",
       "</style>\n",
       "<table border=\"1\" class=\"dataframe\">\n",
       "  <thead>\n",
       "    <tr style=\"text-align: right;\">\n",
       "      <th></th>\n",
       "      <th>id</th>\n",
       "      <th>age</th>\n",
       "      <th>bp</th>\n",
       "      <th>sg</th>\n",
       "      <th>al</th>\n",
       "      <th>su</th>\n",
       "      <th>bgr</th>\n",
       "      <th>bu</th>\n",
       "      <th>sc</th>\n",
       "      <th>sod</th>\n",
       "      <th>pot</th>\n",
       "      <th>hemo</th>\n",
       "    </tr>\n",
       "  </thead>\n",
       "  <tbody>\n",
       "    <tr>\n",
       "      <th>count</th>\n",
       "      <td>400.000000</td>\n",
       "      <td>391.000000</td>\n",
       "      <td>388.000000</td>\n",
       "      <td>353.000000</td>\n",
       "      <td>354.000000</td>\n",
       "      <td>351.000000</td>\n",
       "      <td>356.000000</td>\n",
       "      <td>381.000000</td>\n",
       "      <td>383.000000</td>\n",
       "      <td>313.000000</td>\n",
       "      <td>312.000000</td>\n",
       "      <td>348.000000</td>\n",
       "    </tr>\n",
       "    <tr>\n",
       "      <th>mean</th>\n",
       "      <td>199.500000</td>\n",
       "      <td>51.483376</td>\n",
       "      <td>76.469072</td>\n",
       "      <td>1.017408</td>\n",
       "      <td>1.016949</td>\n",
       "      <td>0.450142</td>\n",
       "      <td>148.036517</td>\n",
       "      <td>57.425722</td>\n",
       "      <td>3.072454</td>\n",
       "      <td>137.528754</td>\n",
       "      <td>4.627244</td>\n",
       "      <td>12.526437</td>\n",
       "    </tr>\n",
       "    <tr>\n",
       "      <th>std</th>\n",
       "      <td>115.614301</td>\n",
       "      <td>17.169714</td>\n",
       "      <td>13.683637</td>\n",
       "      <td>0.005717</td>\n",
       "      <td>1.352679</td>\n",
       "      <td>1.099191</td>\n",
       "      <td>79.281714</td>\n",
       "      <td>50.503006</td>\n",
       "      <td>5.741126</td>\n",
       "      <td>10.408752</td>\n",
       "      <td>3.193904</td>\n",
       "      <td>2.912587</td>\n",
       "    </tr>\n",
       "    <tr>\n",
       "      <th>min</th>\n",
       "      <td>0.000000</td>\n",
       "      <td>2.000000</td>\n",
       "      <td>50.000000</td>\n",
       "      <td>1.005000</td>\n",
       "      <td>0.000000</td>\n",
       "      <td>0.000000</td>\n",
       "      <td>22.000000</td>\n",
       "      <td>1.500000</td>\n",
       "      <td>0.400000</td>\n",
       "      <td>4.500000</td>\n",
       "      <td>2.500000</td>\n",
       "      <td>3.100000</td>\n",
       "    </tr>\n",
       "    <tr>\n",
       "      <th>25%</th>\n",
       "      <td>99.750000</td>\n",
       "      <td>42.000000</td>\n",
       "      <td>70.000000</td>\n",
       "      <td>1.010000</td>\n",
       "      <td>0.000000</td>\n",
       "      <td>0.000000</td>\n",
       "      <td>99.000000</td>\n",
       "      <td>27.000000</td>\n",
       "      <td>0.900000</td>\n",
       "      <td>135.000000</td>\n",
       "      <td>3.800000</td>\n",
       "      <td>10.300000</td>\n",
       "    </tr>\n",
       "    <tr>\n",
       "      <th>50%</th>\n",
       "      <td>199.500000</td>\n",
       "      <td>55.000000</td>\n",
       "      <td>80.000000</td>\n",
       "      <td>1.020000</td>\n",
       "      <td>0.000000</td>\n",
       "      <td>0.000000</td>\n",
       "      <td>121.000000</td>\n",
       "      <td>42.000000</td>\n",
       "      <td>1.300000</td>\n",
       "      <td>138.000000</td>\n",
       "      <td>4.400000</td>\n",
       "      <td>12.650000</td>\n",
       "    </tr>\n",
       "    <tr>\n",
       "      <th>75%</th>\n",
       "      <td>299.250000</td>\n",
       "      <td>64.500000</td>\n",
       "      <td>80.000000</td>\n",
       "      <td>1.020000</td>\n",
       "      <td>2.000000</td>\n",
       "      <td>0.000000</td>\n",
       "      <td>163.000000</td>\n",
       "      <td>66.000000</td>\n",
       "      <td>2.800000</td>\n",
       "      <td>142.000000</td>\n",
       "      <td>4.900000</td>\n",
       "      <td>15.000000</td>\n",
       "    </tr>\n",
       "    <tr>\n",
       "      <th>max</th>\n",
       "      <td>399.000000</td>\n",
       "      <td>90.000000</td>\n",
       "      <td>180.000000</td>\n",
       "      <td>1.025000</td>\n",
       "      <td>5.000000</td>\n",
       "      <td>5.000000</td>\n",
       "      <td>490.000000</td>\n",
       "      <td>391.000000</td>\n",
       "      <td>76.000000</td>\n",
       "      <td>163.000000</td>\n",
       "      <td>47.000000</td>\n",
       "      <td>17.800000</td>\n",
       "    </tr>\n",
       "  </tbody>\n",
       "</table>\n",
       "</div>"
      ],
      "text/plain": [
       "               id         age          bp          sg          al          su  \\\n",
       "count  400.000000  391.000000  388.000000  353.000000  354.000000  351.000000   \n",
       "mean   199.500000   51.483376   76.469072    1.017408    1.016949    0.450142   \n",
       "std    115.614301   17.169714   13.683637    0.005717    1.352679    1.099191   \n",
       "min      0.000000    2.000000   50.000000    1.005000    0.000000    0.000000   \n",
       "25%     99.750000   42.000000   70.000000    1.010000    0.000000    0.000000   \n",
       "50%    199.500000   55.000000   80.000000    1.020000    0.000000    0.000000   \n",
       "75%    299.250000   64.500000   80.000000    1.020000    2.000000    0.000000   \n",
       "max    399.000000   90.000000  180.000000    1.025000    5.000000    5.000000   \n",
       "\n",
       "              bgr          bu          sc         sod         pot        hemo  \n",
       "count  356.000000  381.000000  383.000000  313.000000  312.000000  348.000000  \n",
       "mean   148.036517   57.425722    3.072454  137.528754    4.627244   12.526437  \n",
       "std     79.281714   50.503006    5.741126   10.408752    3.193904    2.912587  \n",
       "min     22.000000    1.500000    0.400000    4.500000    2.500000    3.100000  \n",
       "25%     99.000000   27.000000    0.900000  135.000000    3.800000   10.300000  \n",
       "50%    121.000000   42.000000    1.300000  138.000000    4.400000   12.650000  \n",
       "75%    163.000000   66.000000    2.800000  142.000000    4.900000   15.000000  \n",
       "max    490.000000  391.000000   76.000000  163.000000   47.000000   17.800000  "
      ]
     },
     "execution_count": 5,
     "metadata": {},
     "output_type": "execute_result"
    }
   ],
   "source": [
    "df.describe()"
   ]
  },
  {
   "cell_type": "markdown",
   "id": "d5ba25c1",
   "metadata": {},
   "source": [
    "## Chronic Kidney Disease (CKD) Data Preparation Project\n",
    "\n",
    "**Project Goal** \n",
    "\n",
    "The primary objective of this project is to thoroughly clean, preprocess, and prepare a raw dataset on Chronic Kidney Disease (CKD) for machine learning. The final output will be a clean, well-structured dataset that is ready to be used for training a predictive model. This project focuses exclusively on the crucial initial stages of the data analysis workflow.\n",
    "\n",
    "**About the Dataset**\n",
    "\n",
    "This dataset contains 400 records and 26 features, collected from patients to identify factors related to Chronic Kidney Disease. Each row represents a single patient, and the columns contain a mix of numerical and categorical health indicators.\n",
    "\n",
    "\n",
    "**Target Variable:**\n",
    "\n",
    "Classification: This is the crucial column that a future model would aim to predict. It indicates whether a patient is classified as having 'ckd' (Chronic Kidney Disease) or 'notckd' (Not Chronic Kidney Disease).\n",
    "\n",
    "My approach is to review each feature individually and complete all necessary tasks within that column. "
   ]
  },
  {
   "cell_type": "code",
   "execution_count": 6,
   "id": "ce74bd21",
   "metadata": {},
   "outputs": [
    {
     "data": {
      "text/plain": [
       "Index(['id', 'age', 'bp', 'sg', 'al', 'su', 'rbc', 'pc', 'pcc', 'ba', 'bgr',\n",
       "       'bu', 'sc', 'sod', 'pot', 'hemo', 'pcv', 'wc', 'rc', 'htn', 'dm', 'cad',\n",
       "       'appet', 'pe', 'ane', 'classification'],\n",
       "      dtype='object')"
      ]
     },
     "execution_count": 6,
     "metadata": {},
     "output_type": "execute_result"
    }
   ],
   "source": [
    "df.columns"
   ]
  },
  {
   "cell_type": "code",
   "execution_count": 7,
   "id": "39af09c4",
   "metadata": {},
   "outputs": [],
   "source": [
    "# ID: This column contains unique identifiers for each patient. It is not necessary for model training, so it can be dropped.\n",
    "df.drop(columns=['id'], inplace=True)"
   ]
  },
  {
   "cell_type": "code",
   "execution_count": 8,
   "id": "72daf35b",
   "metadata": {},
   "outputs": [
    {
     "data": {
      "text/plain": [
       "array([48.,  7., 62., 51., 60., 68., 24., 52., 53., 50., 63., 40., 47.,\n",
       "       61., 21., 42., 75., 69., nan, 73., 70., 65., 76., 72., 82., 46.,\n",
       "       45., 35., 54., 11., 59., 67., 15., 55., 44., 26., 64., 56.,  5.,\n",
       "       74., 38., 58., 71., 34., 17., 12., 43., 41., 57.,  8., 39., 66.,\n",
       "       81., 14., 27., 83., 30.,  4.,  3.,  6., 32., 80., 49., 90., 78.,\n",
       "       19.,  2., 33., 36., 37., 23., 25., 20., 29., 28., 22., 79.])"
      ]
     },
     "execution_count": 8,
     "metadata": {},
     "output_type": "execute_result"
    }
   ],
   "source": [
    "# Age: This column contains the age of the patients. It is a numerical feature that can be used in model training.\n",
    "# It is important to check for any missing values or outliers in this column.\n",
    "\n",
    "df['age'].unique()\n"
   ]
  },
  {
   "cell_type": "code",
   "execution_count": 10,
   "id": "26c5afda",
   "metadata": {},
   "outputs": [
    {
     "data": {
      "text/plain": [
       "dtype('float64')"
      ]
     },
     "execution_count": 10,
     "metadata": {},
     "output_type": "execute_result"
    }
   ],
   "source": [
    "df['age'].dtype"
   ]
  },
  {
   "cell_type": "code",
   "execution_count": 11,
   "id": "8ceedcae",
   "metadata": {},
   "outputs": [
    {
     "data": {
      "text/plain": [
       "9"
      ]
     },
     "execution_count": 11,
     "metadata": {},
     "output_type": "execute_result"
    }
   ],
   "source": [
    "df['age'].isnull().sum()"
   ]
  },
  {
   "cell_type": "code",
   "execution_count": 12,
   "id": "81c17e54",
   "metadata": {},
   "outputs": [],
   "source": [
    "# We will fill missing values in the 'age' column with the median age of the patients.\n",
    "\n",
    "df['age'].fillna(df['age'].median(), inplace=True)"
   ]
  },
  {
   "cell_type": "code",
   "execution_count": 13,
   "id": "43ab8a16",
   "metadata": {},
   "outputs": [
    {
     "data": {
      "text/plain": [
       "0"
      ]
     },
     "execution_count": 13,
     "metadata": {},
     "output_type": "execute_result"
    }
   ],
   "source": [
    "df['age'].isnull().sum()"
   ]
  },
  {
   "cell_type": "code",
   "execution_count": 14,
   "id": "284df19f",
   "metadata": {},
   "outputs": [
    {
     "data": {
      "text/plain": [
       "Index(['age', 'bp', 'sg', 'al', 'su', 'rbc', 'pc', 'pcc', 'ba', 'bgr', 'bu',\n",
       "       'sc', 'sod', 'pot', 'hemo', 'pcv', 'wc', 'rc', 'htn', 'dm', 'cad',\n",
       "       'appet', 'pe', 'ane', 'classification'],\n",
       "      dtype='object')"
      ]
     },
     "execution_count": 14,
     "metadata": {},
     "output_type": "execute_result"
    }
   ],
   "source": [
    "df.columns"
   ]
  },
  {
   "cell_type": "code",
   "execution_count": 16,
   "id": "99f955f1",
   "metadata": {},
   "outputs": [
    {
     "data": {
      "text/plain": [
       "dtype('float64')"
      ]
     },
     "execution_count": 16,
     "metadata": {},
     "output_type": "execute_result"
    }
   ],
   "source": [
    "# Blood Pressure: This column contains the blood pressure readings of the patients. It is a numerical feature that can be used in model training.\n",
    "\n",
    "df['bp'].dtype"
   ]
  },
  {
   "cell_type": "code",
   "execution_count": 17,
   "id": "449087f0",
   "metadata": {},
   "outputs": [
    {
     "data": {
      "text/plain": [
       "12"
      ]
     },
     "execution_count": 17,
     "metadata": {},
     "output_type": "execute_result"
    }
   ],
   "source": [
    "df['bp'].isnull().sum()"
   ]
  },
  {
   "cell_type": "code",
   "execution_count": 18,
   "id": "f98c03e8",
   "metadata": {},
   "outputs": [],
   "source": [
    "# Replace missing values in 'bp' with the median blood pressure reading.\n",
    "df['bp'].fillna(df['bp'].median(), inplace=True)"
   ]
  },
  {
   "cell_type": "code",
   "execution_count": 19,
   "id": "f19212db",
   "metadata": {},
   "outputs": [
    {
     "data": {
      "text/plain": [
       "0"
      ]
     },
     "execution_count": 19,
     "metadata": {},
     "output_type": "execute_result"
    }
   ],
   "source": [
    "df['bp'].isnull().sum()"
   ]
  },
  {
   "cell_type": "code",
   "execution_count": 20,
   "id": "513694cb",
   "metadata": {},
   "outputs": [
    {
     "data": {
      "text/plain": [
       "count    400.000000\n",
       "mean      76.575000\n",
       "std       13.489785\n",
       "min       50.000000\n",
       "25%       70.000000\n",
       "50%       80.000000\n",
       "75%       80.000000\n",
       "max      180.000000\n",
       "Name: bp, dtype: float64"
      ]
     },
     "execution_count": 20,
     "metadata": {},
     "output_type": "execute_result"
    }
   ],
   "source": [
    "df['bp'].describe()"
   ]
  },
  {
   "cell_type": "code",
   "execution_count": 23,
   "id": "499d18e0",
   "metadata": {},
   "outputs": [
    {
     "data": {
      "image/png": "[encoded data removed]",
      "text/plain": [
       "<Figure size 640x480 with 1 Axes>"
      ]
     },
     "metadata": {},
     "output_type": "display_data"
    }
   ],
   "source": [
    "sns.set_style(\"whitegrid\")\n",
    "sns.boxplot(x=df['bp'])\n",
    "plt.title('Blood Pressure Distribution')\n",
    "plt.ylabel('Blood Pressure')\n",
    "plt.show()"
   ]
  },
  {
   "cell_type": "code",
   "execution_count": 24,
   "id": "685e8760",
   "metadata": {},
   "outputs": [],
   "source": [
    "# Outliers handling for 'bp' Column using Capping Method \n",
    "\n",
    "q1 = df['bp'].quantile(0.25)\n",
    "q3 = df['bp'].quantile(0.75)\n",
    "iqr = q3 - q1\n",
    "lower_bound = q1 - 1.5 * iqr\n",
    "upper_bound = q3 + 1.5 * iqr\n",
    "\n",
    "\n",
    "df['bp'] = np.where(df['bp'] < lower_bound, lower_bound,np.where(df['bp'] > upper_bound, upper_bound, df['bp']))"
   ]
  },
  {
   "cell_type": "code",
   "execution_count": 30,
   "id": "b39c89c8",
   "metadata": {},
   "outputs": [
    {
     "data": {
      "text/plain": [
       "(55.0, 95.0)"
      ]
     },
     "execution_count": 30,
     "metadata": {},
     "output_type": "execute_result"
    }
   ],
   "source": [
    "lower_bound, upper_bound"
   ]
  },
  {
   "cell_type": "code",
   "execution_count": 27,
   "id": "4663b324",
   "metadata": {},
   "outputs": [
    {
     "data": {
      "image/png": "[encoded data removed]",
      "text/plain": [
       "<Figure size 800x600 with 1 Axes>"
      ]
     },
     "metadata": {},
     "output_type": "display_data"
    }
   ],
   "source": [
    "plt.figure(figsize=(8, 6))\n",
    "sns.boxplot(y=df['bp'])\n",
    "plt.title('Box Plot of Blood Pressure (After Capping)', fontsize=16)\n",
    "plt.ylabel('Blood Pressure (mm/Hg)', fontsize=12)\n",
    "plt.show()"
   ]
  },
  {
   "cell_type": "code",
   "execution_count": 31,
   "id": "49a7a958",
   "metadata": {},
   "outputs": [
    {
     "data": {
      "text/plain": [
       "Index(['age', 'bp', 'sg', 'al', 'su', 'rbc', 'pc', 'pcc', 'ba', 'bgr', 'bu',\n",
       "       'sc', 'sod', 'pot', 'hemo', 'pcv', 'wc', 'rc', 'htn', 'dm', 'cad',\n",
       "       'appet', 'pe', 'ane', 'classification'],\n",
       "      dtype='object')"
      ]
     },
     "execution_count": 31,
     "metadata": {},
     "output_type": "execute_result"
    }
   ],
   "source": [
    "df.columns"
   ]
  },
  {
   "cell_type": "code",
   "execution_count": 32,
   "id": "fb427037",
   "metadata": {},
   "outputs": [
    {
     "data": {
      "text/plain": [
       "dtype('float64')"
      ]
     },
     "execution_count": 32,
     "metadata": {},
     "output_type": "execute_result"
    }
   ],
   "source": [
    "# Specific Gravity: This column contains the specific gravity readings of the patients. It is a numerical feature that can be used in model training.\n",
    "df['sg'].dtype"
   ]
  },
  {
   "cell_type": "code",
   "execution_count": 33,
   "id": "b87390f0",
   "metadata": {},
   "outputs": [
    {
     "data": {
      "text/plain": [
       "47"
      ]
     },
     "execution_count": 33,
     "metadata": {},
     "output_type": "execute_result"
    }
   ],
   "source": [
    "df['sg'].isnull().sum()"
   ]
  },
  {
   "cell_type": "code",
   "execution_count": 34,
   "id": "0d31b89b",
   "metadata": {},
   "outputs": [],
   "source": [
    "# Replace missing values in 'sg' with the median blood pressure reading.\n",
    "\n",
    "df['sg'].fillna(df['sg'].median(), inplace=True)"
   ]
  },
  {
   "cell_type": "code",
   "execution_count": 35,
   "id": "046352ad",
   "metadata": {},
   "outputs": [
    {
     "data": {
      "text/plain": [
       "0"
      ]
     },
     "execution_count": 35,
     "metadata": {},
     "output_type": "execute_result"
    }
   ],
   "source": [
    "df['sg'].isnull().sum()\n"
   ]
  },
  {
   "cell_type": "code",
   "execution_count": 38,
   "id": "c5bcc3f4",
   "metadata": {},
   "outputs": [
    {
     "data": {
      "text/plain": [
       "count    400.000000\n",
       "mean       1.017712\n",
       "std        0.005434\n",
       "min        1.005000\n",
       "25%        1.015000\n",
       "50%        1.020000\n",
       "75%        1.020000\n",
       "max        1.025000\n",
       "Name: sg, dtype: float64"
      ]
     },
     "execution_count": 38,
     "metadata": {},
     "output_type": "execute_result"
    }
   ],
   "source": [
    "df['sg'].describe()"
   ]
  },
  {
   "cell_type": "code",
   "execution_count": 36,
   "id": "a7343496",
   "metadata": {},
   "outputs": [
    {
     "data": {
      "image/png": "[encoded data removed]",
      "text/plain": [
       "<Figure size 640x480 with 1 Axes>"
      ]
     },
     "metadata": {},
     "output_type": "display_data"
    }
   ],
   "source": [
    "# Check outliers in 'sg' column\n",
    "\n",
    "sns.set_style(\"whitegrid\")\n",
    "sns.boxplot(x=df['sg'])\n",
    "plt.title('Specific Gravity Distribution')\n",
    "plt.ylabel('Specific Gravity')\n",
    "plt.show()"
   ]
  },
  {
   "cell_type": "code",
   "execution_count": 39,
   "id": "2562f38f",
   "metadata": {},
   "outputs": [
    {
     "data": {
      "text/plain": [
       "Index(['age', 'bp', 'sg', 'al', 'su', 'rbc', 'pc', 'pcc', 'ba', 'bgr', 'bu',\n",
       "       'sc', 'sod', 'pot', 'hemo', 'pcv', 'wc', 'rc', 'htn', 'dm', 'cad',\n",
       "       'appet', 'pe', 'ane', 'classification'],\n",
       "      dtype='object')"
      ]
     },
     "execution_count": 39,
     "metadata": {},
     "output_type": "execute_result"
    }
   ],
   "source": [
    "df.columns"
   ]
  },
  {
   "cell_type": "code",
   "execution_count": 41,
   "id": "118fa045",
   "metadata": {},
   "outputs": [
    {
     "data": {
      "text/plain": [
       "dtype('float64')"
      ]
     },
     "execution_count": 41,
     "metadata": {},
     "output_type": "execute_result"
    }
   ],
   "source": [
    "# Albumin: This column contains the albumin levels of the patients. It is a numerical feature that can be used in model training.\n",
    "df['al'].dtype"
   ]
  },
  {
   "cell_type": "code",
   "execution_count": 43,
   "id": "8843dd1d",
   "metadata": {},
   "outputs": [
    {
     "data": {
      "text/plain": [
       "array([ 1.,  4.,  2.,  3.,  0., nan,  5.])"
      ]
     },
     "execution_count": 43,
     "metadata": {},
     "output_type": "execute_result"
    }
   ],
   "source": [
    "df['al'].unique()"
   ]
  },
  {
   "cell_type": "code",
   "execution_count": 42,
   "id": "0f8d9506",
   "metadata": {},
   "outputs": [
    {
     "data": {
      "text/plain": [
       "46"
      ]
     },
     "execution_count": 42,
     "metadata": {},
     "output_type": "execute_result"
    }
   ],
   "source": [
    "df['al'].isnull().sum()"
   ]
  },
  {
   "cell_type": "code",
   "execution_count": 47,
   "id": "b8f483be",
   "metadata": {},
   "outputs": [
    {
     "data": {
      "text/plain": [
       "al\n",
       "0.0    245\n",
       "1.0     44\n",
       "2.0     43\n",
       "3.0     43\n",
       "4.0     24\n",
       "5.0      1\n",
       "Name: count, dtype: int64"
      ]
     },
     "execution_count": 47,
     "metadata": {},
     "output_type": "execute_result"
    }
   ],
   "source": [
    "df['al'].value_counts()"
   ]
  },
  {
   "cell_type": "code",
   "execution_count": 44,
   "id": "22251a5f",
   "metadata": {},
   "outputs": [],
   "source": [
    "# Replace missing values in 'al' with the mode of albumin levels.\n",
    "df['al'].fillna(df['al'].mode()[0], inplace=True)"
   ]
  },
  {
   "cell_type": "code",
   "execution_count": 50,
   "id": "5f0e569e",
   "metadata": {},
   "outputs": [
    {
     "data": {
      "text/plain": [
       "0"
      ]
     },
     "execution_count": 50,
     "metadata": {},
     "output_type": "execute_result"
    }
   ],
   "source": [
    "df['al'].isnull().sum()"
   ]
  },
  {
   "cell_type": "code",
   "execution_count": 49,
   "id": "b08dd48e",
   "metadata": {},
   "outputs": [
    {
     "data": {
      "text/plain": [
       "count    400.00000\n",
       "mean       0.90000\n",
       "std        1.31313\n",
       "min        0.00000\n",
       "25%        0.00000\n",
       "50%        0.00000\n",
       "75%        2.00000\n",
       "max        5.00000\n",
       "Name: al, dtype: float64"
      ]
     },
     "execution_count": 49,
     "metadata": {},
     "output_type": "execute_result"
    }
   ],
   "source": [
    "df['al'].describe()"
   ]
  },
  {
   "cell_type": "code",
   "execution_count": 51,
   "id": "65b221bb",
   "metadata": {},
   "outputs": [
    {
     "data": {
      "text/plain": [
       "Index(['age', 'bp', 'sg', 'al', 'su', 'rbc', 'pc', 'pcc', 'ba', 'bgr', 'bu',\n",
       "       'sc', 'sod', 'pot', 'hemo', 'pcv', 'wc', 'rc', 'htn', 'dm', 'cad',\n",
       "       'appet', 'pe', 'ane', 'classification'],\n",
       "      dtype='object')"
      ]
     },
     "execution_count": 51,
     "metadata": {},
     "output_type": "execute_result"
    }
   ],
   "source": [
    "df.columns"
   ]
  },
  {
   "cell_type": "code",
   "execution_count": 52,
   "id": "c31a64a3",
   "metadata": {},
   "outputs": [
    {
     "data": {
      "text/plain": [
       "dtype('float64')"
      ]
     },
     "execution_count": 52,
     "metadata": {},
     "output_type": "execute_result"
    }
   ],
   "source": [
    "# Sugar: This column contains the sugar levels of the patients. It is a numerical feature that can be used in model training.\n",
    "df['su'].dtype"
   ]
  },
  {
   "cell_type": "code",
   "execution_count": 53,
   "id": "e1b23a89",
   "metadata": {},
   "outputs": [
    {
     "data": {
      "text/plain": [
       "array([ 0.,  3.,  4.,  1., nan,  2.,  5.])"
      ]
     },
     "execution_count": 53,
     "metadata": {},
     "output_type": "execute_result"
    }
   ],
   "source": [
    "df['su'].unique()"
   ]
  },
  {
   "cell_type": "code",
   "execution_count": 54,
   "id": "299d3744",
   "metadata": {},
   "outputs": [
    {
     "data": {
      "text/plain": [
       "49"
      ]
     },
     "execution_count": 54,
     "metadata": {},
     "output_type": "execute_result"
    }
   ],
   "source": [
    "df['su'].isnull().sum()"
   ]
  },
  {
   "cell_type": "code",
   "execution_count": 58,
   "id": "865a49a2",
   "metadata": {},
   "outputs": [
    {
     "data": {
      "text/plain": [
       "su\n",
       "0.0    290\n",
       "2.0     18\n",
       "3.0     14\n",
       "4.0     13\n",
       "1.0     13\n",
       "5.0      3\n",
       "Name: count, dtype: int64"
      ]
     },
     "execution_count": 58,
     "metadata": {},
     "output_type": "execute_result"
    }
   ],
   "source": [
    "df['su'].value_counts()"
   ]
  },
  {
   "cell_type": "code",
   "execution_count": 56,
   "id": "1dc5020d",
   "metadata": {},
   "outputs": [
    {
     "data": {
      "text/plain": [
       "0    0.0\n",
       "Name: su, dtype: float64"
      ]
     },
     "execution_count": 56,
     "metadata": {},
     "output_type": "execute_result"
    }
   ],
   "source": [
    "df['su'].mode()"
   ]
  },
  {
   "cell_type": "code",
   "execution_count": 59,
   "id": "bca88004",
   "metadata": {},
   "outputs": [],
   "source": [
    "# Replace missing values in 'su' with the mode of sugar levels.\n",
    "df['su'].fillna(df['su'].mode()[0], inplace=True)"
   ]
  },
  {
   "cell_type": "code",
   "execution_count": 60,
   "id": "58370ab8",
   "metadata": {},
   "outputs": [
    {
     "data": {
      "text/plain": [
       "count    400.000000\n",
       "mean       0.395000\n",
       "std        1.040038\n",
       "min        0.000000\n",
       "25%        0.000000\n",
       "50%        0.000000\n",
       "75%        0.000000\n",
       "max        5.000000\n",
       "Name: su, dtype: float64"
      ]
     },
     "execution_count": 60,
     "metadata": {},
     "output_type": "execute_result"
    }
   ],
   "source": [
    "df['su'].describe()"
   ]
  },
  {
   "cell_type": "code",
   "execution_count": 61,
   "id": "eec8b607",
   "metadata": {},
   "outputs": [
    {
     "data": {
      "text/plain": [
       "Index(['age', 'bp', 'sg', 'al', 'su', 'rbc', 'pc', 'pcc', 'ba', 'bgr', 'bu',\n",
       "       'sc', 'sod', 'pot', 'hemo', 'pcv', 'wc', 'rc', 'htn', 'dm', 'cad',\n",
       "       'appet', 'pe', 'ane', 'classification'],\n",
       "      dtype='object')"
      ]
     },
     "execution_count": 61,
     "metadata": {},
     "output_type": "execute_result"
    }
   ],
   "source": [
    "df.columns"
   ]
  },
  {
   "cell_type": "code",
   "execution_count": 64,
   "id": "fb443247",
   "metadata": {},
   "outputs": [
    {
     "data": {
      "text/plain": [
       "dtype('O')"
      ]
     },
     "execution_count": 64,
     "metadata": {},
     "output_type": "execute_result"
    }
   ],
   "source": [
    "# Red Blood Cells: This column indicates the presence of red blood cells in the urine. It is a categorical feature that can be used in model training.\n",
    "\n",
    "df['rbc'].dtype"
   ]
  },
  {
   "cell_type": "code",
   "execution_count": 65,
   "id": "92f026cc",
   "metadata": {},
   "outputs": [
    {
     "data": {
      "text/plain": [
       "array([nan, 'normal', 'abnormal'], dtype=object)"
      ]
     },
     "execution_count": 65,
     "metadata": {},
     "output_type": "execute_result"
    }
   ],
   "source": [
    "df['rbc'].unique()"
   ]
  },
  {
   "cell_type": "code",
   "execution_count": 66,
   "id": "24824be1",
   "metadata": {},
   "outputs": [
    {
     "data": {
      "text/plain": [
       "152"
      ]
     },
     "execution_count": 66,
     "metadata": {},
     "output_type": "execute_result"
    }
   ],
   "source": [
    "df['rbc'].isnull().sum()"
   ]
  },
  {
   "cell_type": "code",
   "execution_count": 68,
   "id": "4548bfa5",
   "metadata": {},
   "outputs": [
    {
     "data": {
      "text/plain": [
       "rbc\n",
       "normal      353\n",
       "abnormal     47\n",
       "Name: count, dtype: int64"
      ]
     },
     "execution_count": 68,
     "metadata": {},
     "output_type": "execute_result"
    }
   ],
   "source": [
    "df['rbc'].value_counts()\n"
   ]
  },
  {
   "cell_type": "code",
   "execution_count": 67,
   "id": "7273a04c",
   "metadata": {},
   "outputs": [],
   "source": [
    "# Replace missing values in'rbc' with the mode of red blood cells.\n",
    "df['rbc'].fillna(df['rbc'].mode()[0], inplace=True)"
   ]
  },
  {
   "cell_type": "code",
   "execution_count": 69,
   "id": "bd9d2baf",
   "metadata": {},
   "outputs": [
    {
     "data": {
      "text/plain": [
       "Index(['age', 'bp', 'sg', 'al', 'su', 'rbc', 'pc', 'pcc', 'ba', 'bgr', 'bu',\n",
       "       'sc', 'sod', 'pot', 'hemo', 'pcv', 'wc', 'rc', 'htn', 'dm', 'cad',\n",
       "       'appet', 'pe', 'ane', 'classification'],\n",
       "      dtype='object')"
      ]
     },
     "execution_count": 69,
     "metadata": {},
     "output_type": "execute_result"
    }
   ],
   "source": [
    "df.columns"
   ]
  },
  {
   "cell_type": "code",
   "execution_count": 70,
   "id": "ef5da9a8",
   "metadata": {},
   "outputs": [
    {
     "data": {
      "text/plain": [
       "dtype('O')"
      ]
     },
     "execution_count": 70,
     "metadata": {},
     "output_type": "execute_result"
    }
   ],
   "source": [
    "# Pus cell: This column indicates the presence of pus cells in the urine. It is a categorical feature that can be used in model training.\n",
    "df['pc'].dtype"
   ]
  },
  {
   "cell_type": "code",
   "execution_count": 71,
   "id": "de0156f3",
   "metadata": {},
   "outputs": [
    {
     "data": {
      "text/plain": [
       "array(['normal', 'abnormal', nan], dtype=object)"
      ]
     },
     "execution_count": 71,
     "metadata": {},
     "output_type": "execute_result"
    }
   ],
   "source": [
    "df['pc'].unique()"
   ]
  },
  {
   "cell_type": "code",
   "execution_count": 72,
   "id": "491d4cda",
   "metadata": {},
   "outputs": [
    {
     "data": {
      "text/plain": [
       "65"
      ]
     },
     "execution_count": 72,
     "metadata": {},
     "output_type": "execute_result"
    }
   ],
   "source": [
    "df['pc'].isnull().sum()"
   ]
  },
  {
   "cell_type": "code",
   "execution_count": 75,
   "id": "bdef035a",
   "metadata": {},
   "outputs": [
    {
     "data": {
      "text/plain": [
       "pc\n",
       "normal      324\n",
       "abnormal     76\n",
       "Name: count, dtype: int64"
      ]
     },
     "execution_count": 75,
     "metadata": {},
     "output_type": "execute_result"
    }
   ],
   "source": [
    "df['pc'].value_counts()"
   ]
  },
  {
   "cell_type": "code",
   "execution_count": 73,
   "id": "1516859d",
   "metadata": {},
   "outputs": [],
   "source": [
    "# Replce missing values in 'pc' with the mode of pus cells.\n",
    "df['pc'].fillna(df['pc'].mode()[0], inplace=True)"
   ]
  },
  {
   "cell_type": "code",
   "execution_count": 76,
   "id": "abeb64e7",
   "metadata": {},
   "outputs": [
    {
     "data": {
      "text/plain": [
       "0"
      ]
     },
     "execution_count": 76,
     "metadata": {},
     "output_type": "execute_result"
    }
   ],
   "source": [
    "df['pc'].isnull().sum()"
   ]
  },
  {
   "cell_type": "code",
   "execution_count": 77,
   "id": "014e1323",
   "metadata": {},
   "outputs": [
    {
     "data": {
      "text/plain": [
       "Index(['age', 'bp', 'sg', 'al', 'su', 'rbc', 'pc', 'pcc', 'ba', 'bgr', 'bu',\n",
       "       'sc', 'sod', 'pot', 'hemo', 'pcv', 'wc', 'rc', 'htn', 'dm', 'cad',\n",
       "       'appet', 'pe', 'ane', 'classification'],\n",
       "      dtype='object')"
      ]
     },
     "execution_count": 77,
     "metadata": {},
     "output_type": "execute_result"
    }
   ],
   "source": [
    "df.columns"
   ]
  },
  {
   "cell_type": "code",
   "execution_count": 78,
   "id": "21671cb7",
   "metadata": {},
   "outputs": [
    {
     "data": {
      "text/plain": [
       "dtype('O')"
      ]
     },
     "execution_count": 78,
     "metadata": {},
     "output_type": "execute_result"
    }
   ],
   "source": [
    "# Pus cell clumps: This column indicates the presence of pus cell clumps in the urine. It is a categorical feature that can be used in model training.\n",
    "df['pcc'].dtype"
   ]
  },
  {
   "cell_type": "code",
   "execution_count": 79,
   "id": "f388efaf",
   "metadata": {},
   "outputs": [
    {
     "data": {
      "text/plain": [
       "array(['notpresent', 'present', nan], dtype=object)"
      ]
     },
     "execution_count": 79,
     "metadata": {},
     "output_type": "execute_result"
    }
   ],
   "source": [
    "df['pcc'].unique()"
   ]
  },
  {
   "cell_type": "code",
   "execution_count": 81,
   "id": "bffa9f68",
   "metadata": {},
   "outputs": [
    {
     "data": {
      "text/plain": [
       "pcc\n",
       "notpresent    358\n",
       "present        42\n",
       "Name: count, dtype: int64"
      ]
     },
     "execution_count": 81,
     "metadata": {},
     "output_type": "execute_result"
    }
   ],
   "source": [
    "df['pcc'].value_counts()"
   ]
  },
  {
   "cell_type": "code",
   "execution_count": 80,
   "id": "be466a5d",
   "metadata": {},
   "outputs": [],
   "source": [
    "#Replce missing values in 'pcc' with the mode of pus cell clumps.\n",
    "df['pcc'].fillna(df['pcc'].mode()[0], inplace=True)"
   ]
  },
  {
   "cell_type": "code",
   "execution_count": 82,
   "id": "38454f70",
   "metadata": {},
   "outputs": [
    {
     "data": {
      "text/plain": [
       "0"
      ]
     },
     "execution_count": 82,
     "metadata": {},
     "output_type": "execute_result"
    }
   ],
   "source": [
    "df['pcc'].isnull().sum()"
   ]
  },
  {
   "cell_type": "code",
   "execution_count": 83,
   "id": "74999ac6",
   "metadata": {},
   "outputs": [
    {
     "data": {
      "text/plain": [
       "Index(['age', 'bp', 'sg', 'al', 'su', 'rbc', 'pc', 'pcc', 'ba', 'bgr', 'bu',\n",
       "       'sc', 'sod', 'pot', 'hemo', 'pcv', 'wc', 'rc', 'htn', 'dm', 'cad',\n",
       "       'appet', 'pe', 'ane', 'classification'],\n",
       "      dtype='object')"
      ]
     },
     "execution_count": 83,
     "metadata": {},
     "output_type": "execute_result"
    }
   ],
   "source": [
    "df.columns"
   ]
  },
  {
   "cell_type": "code",
   "execution_count": 84,
   "id": "d334ce89",
   "metadata": {},
   "outputs": [
    {
     "data": {
      "text/plain": [
       "dtype('O')"
      ]
     },
     "execution_count": 84,
     "metadata": {},
     "output_type": "execute_result"
    }
   ],
   "source": [
    "# Bacteria: This column indicates the presence of bacteria in the urine. It is a categorical feature that can be used in model training.\n",
    "df['ba'].dtype"
   ]
  },
  {
   "cell_type": "code",
   "execution_count": 85,
   "id": "17eb5b2c",
   "metadata": {},
   "outputs": [
    {
     "data": {
      "text/plain": [
       "array(['notpresent', 'present', nan], dtype=object)"
      ]
     },
     "execution_count": 85,
     "metadata": {},
     "output_type": "execute_result"
    }
   ],
   "source": [
    "df['ba'].unique()"
   ]
  },
  {
   "cell_type": "code",
   "execution_count": 86,
   "id": "f620800d",
   "metadata": {},
   "outputs": [
    {
     "data": {
      "text/plain": [
       "ba\n",
       "notpresent    374\n",
       "present        22\n",
       "Name: count, dtype: int64"
      ]
     },
     "execution_count": 86,
     "metadata": {},
     "output_type": "execute_result"
    }
   ],
   "source": [
    "df['ba'].value_counts()"
   ]
  },
  {
   "cell_type": "code",
   "execution_count": 87,
   "id": "933cfb14",
   "metadata": {},
   "outputs": [],
   "source": [
    "# Replce missing values in 'ba' with the mode of bacteria.\n",
    "df['ba'].fillna(df['ba'].mode()[0], inplace=True)"
   ]
  },
  {
   "cell_type": "code",
   "execution_count": 88,
   "id": "65e32c24",
   "metadata": {},
   "outputs": [
    {
     "data": {
      "text/plain": [
       "0"
      ]
     },
     "execution_count": 88,
     "metadata": {},
     "output_type": "execute_result"
    }
   ],
   "source": [
    "df['ba'].isnull().sum()"
   ]
  },
  {
   "cell_type": "code",
   "execution_count": 89,
   "id": "1fcebfe0",
   "metadata": {},
   "outputs": [
    {
     "data": {
      "text/plain": [
       "Index(['age', 'bp', 'sg', 'al', 'su', 'rbc', 'pc', 'pcc', 'ba', 'bgr', 'bu',\n",
       "       'sc', 'sod', 'pot', 'hemo', 'pcv', 'wc', 'rc', 'htn', 'dm', 'cad',\n",
       "       'appet', 'pe', 'ane', 'classification'],\n",
       "      dtype='object')"
      ]
     },
     "execution_count": 89,
     "metadata": {},
     "output_type": "execute_result"
    }
   ],
   "source": [
    "df.columns"
   ]
  },
  {
   "cell_type": "code",
   "execution_count": 90,
   "id": "bbfdd240",
   "metadata": {},
   "outputs": [
    {
     "data": {
      "text/plain": [
       "dtype('float64')"
      ]
     },
     "execution_count": 90,
     "metadata": {},
     "output_type": "execute_result"
    }
   ],
   "source": [
    "# Blood Glucose random: This column contains the random blood glucose levels of the patients. It is a numerical feature that can be used in model training.\n",
    "df['bgr'].dtype"
   ]
  },
  {
   "cell_type": "code",
   "execution_count": 91,
   "id": "e822ef82",
   "metadata": {},
   "outputs": [
    {
     "data": {
      "text/plain": [
       "44"
      ]
     },
     "execution_count": 91,
     "metadata": {},
     "output_type": "execute_result"
    }
   ],
   "source": [
    "df['bgr'].isnull().sum()"
   ]
  },
  {
   "cell_type": "code",
   "execution_count": 92,
   "id": "81be8b00",
   "metadata": {},
   "outputs": [],
   "source": [
    "# Replace missing values in 'bgr' with the median blood glucose reading.\n",
    "df['bgr'].fillna(df['bgr'].median(), inplace=True)"
   ]
  },
  {
   "cell_type": "code",
   "execution_count": 93,
   "id": "5ac33529",
   "metadata": {},
   "outputs": [
    {
     "data": {
      "text/plain": [
       "0"
      ]
     },
     "execution_count": 93,
     "metadata": {},
     "output_type": "execute_result"
    }
   ],
   "source": [
    "df['bgr'].isnull().sum()"
   ]
  },
  {
   "cell_type": "code",
   "execution_count": 94,
   "id": "d932c81d",
   "metadata": {},
   "outputs": [
    {
     "data": {
      "text/plain": [
       "count    400.000000\n",
       "mean     145.062500\n",
       "std       75.260774\n",
       "min       22.000000\n",
       "25%      101.000000\n",
       "50%      121.000000\n",
       "75%      150.000000\n",
       "max      490.000000\n",
       "Name: bgr, dtype: float64"
      ]
     },
     "execution_count": 94,
     "metadata": {},
     "output_type": "execute_result"
    }
   ],
   "source": [
    "df['bgr'].describe()"
   ]
  },
  {
   "cell_type": "code",
   "execution_count": 95,
   "id": "085198e2",
   "metadata": {},
   "outputs": [
    {
     "data": {
      "image/png": "[encoded data removed]",
      "text/plain": [
       "<Figure size 1000x600 with 1 Axes>"
      ]
     },
     "metadata": {},
     "output_type": "display_data"
    }
   ],
   "source": [
    "# Check outliers in 'bgr' column\n",
    "\n",
    "sns.set_style(\"whitegrid\")\n",
    "plt.figure(figsize=(10,6))\n",
    "sns.boxplot(x=df['bgr'])\n",
    "plt.title('Blood Glucose Random Distribution')\n",
    "plt.ylabel('Blood Glucose Random')\n",
    "plt.show()"
   ]
  },
  {
   "cell_type": "markdown",
   "id": "c10b5fa8",
   "metadata": {},
   "source": [
    "These outliers represent patients with very high blood glucose levels (from ~200 up to nearly 500 mg/dl). In a medical context, these are not likely data entry errors. Instead, they are clinically significant values, indicating patients with hyperglycemia, a hallmark of diabetes. Diabetes is a leading cause of Chronic Kidney Disease.We will not perform any outlier handling. We will keep these high values as they are."
   ]
  },
  {
   "cell_type": "code",
   "execution_count": 96,
   "id": "4913d703",
   "metadata": {},
   "outputs": [
    {
     "data": {
      "text/plain": [
       "Index(['age', 'bp', 'sg', 'al', 'su', 'rbc', 'pc', 'pcc', 'ba', 'bgr', 'bu',\n",
       "       'sc', 'sod', 'pot', 'hemo', 'pcv', 'wc', 'rc', 'htn', 'dm', 'cad',\n",
       "       'appet', 'pe', 'ane', 'classification'],\n",
       "      dtype='object')"
      ]
     },
     "execution_count": 96,
     "metadata": {},
     "output_type": "execute_result"
    }
   ],
   "source": [
    "df.columns"
   ]
  },
  {
   "cell_type": "code",
   "execution_count": 97,
   "id": "69838f5b",
   "metadata": {},
   "outputs": [
    {
     "data": {
      "text/plain": [
       "dtype('float64')"
      ]
     },
     "execution_count": 97,
     "metadata": {},
     "output_type": "execute_result"
    }
   ],
   "source": [
    "# Blood Urea: This column contains the blood urea levels of the patients. It is a numerical feature that can be used in model training.\n",
    "df['bu'].dtype"
   ]
  },
  {
   "cell_type": "code",
   "execution_count": 98,
   "id": "7783df5e",
   "metadata": {},
   "outputs": [
    {
     "data": {
      "text/plain": [
       "19"
      ]
     },
     "execution_count": 98,
     "metadata": {},
     "output_type": "execute_result"
    }
   ],
   "source": [
    "df['bu'].isnull().sum()"
   ]
  },
  {
   "cell_type": "code",
   "execution_count": 99,
   "id": "ad38ec88",
   "metadata": {},
   "outputs": [
    {
     "data": {
      "text/plain": [
       "0"
      ]
     },
     "execution_count": 99,
     "metadata": {},
     "output_type": "execute_result"
    }
   ],
   "source": [
    "# Replace missing values in 'bu' with the median blood Urea  reading.\n",
    "df['bu'].fillna(df['bu'].median(), inplace=True)\n",
    "df['bu'].isnull().sum()"
   ]
  },
  {
   "cell_type": "code",
   "execution_count": 100,
   "id": "089f2234",
   "metadata": {},
   "outputs": [
    {
     "data": {
      "text/plain": [
       "count    400.000000\n",
       "mean      56.693000\n",
       "std       49.395258\n",
       "min        1.500000\n",
       "25%       27.000000\n",
       "50%       42.000000\n",
       "75%       61.750000\n",
       "max      391.000000\n",
       "Name: bu, dtype: float64"
      ]
     },
     "execution_count": 100,
     "metadata": {},
     "output_type": "execute_result"
    }
   ],
   "source": [
    "df['bu'].describe()"
   ]
  },
  {
   "cell_type": "code",
   "execution_count": 102,
   "id": "4023faee",
   "metadata": {},
   "outputs": [
    {
     "data": {
      "image/png": "[encoded data removed]",
      "text/plain": [
       "<Figure size 1000x600 with 1 Axes>"
      ]
     },
     "metadata": {},
     "output_type": "display_data"
    }
   ],
   "source": [
    "sns.set_style(\"whitegrid\")\n",
    "plt.figure(figsize=(10,6))\n",
    "sns.boxplot(x=df['bu'])\n",
    "plt.title('Blood Urea Distribution')\n",
    "plt.ylabel('Blood Urea')\n",
    "plt.show()"
   ]
  },
  {
   "cell_type": "markdown",
   "id": "6444d253",
   "metadata": {},
   "source": [
    "Just like with blood glucose (bgr), these outliers are not noise. They are the most important data points in this column for predicting Chronic Kidney Disease.We will not perform any outlier handling on this column."
   ]
  },
  {
   "cell_type": "code",
   "execution_count": 103,
   "id": "6068c5d8",
   "metadata": {},
   "outputs": [
    {
     "data": {
      "text/plain": [
       "Index(['age', 'bp', 'sg', 'al', 'su', 'rbc', 'pc', 'pcc', 'ba', 'bgr', 'bu',\n",
       "       'sc', 'sod', 'pot', 'hemo', 'pcv', 'wc', 'rc', 'htn', 'dm', 'cad',\n",
       "       'appet', 'pe', 'ane', 'classification'],\n",
       "      dtype='object')"
      ]
     },
     "execution_count": 103,
     "metadata": {},
     "output_type": "execute_result"
    }
   ],
   "source": [
    "df.columns"
   ]
  },
  {
   "cell_type": "code",
   "execution_count": 104,
   "id": "3e2b7b62",
   "metadata": {},
   "outputs": [
    {
     "data": {
      "text/plain": [
       "dtype('float64')"
      ]
     },
     "execution_count": 104,
     "metadata": {},
     "output_type": "execute_result"
    }
   ],
   "source": [
    "# Serum Creatinine: This column contains the serum creatinine levels of the patients. It is a numerical feature that can be used in model training.\n",
    "df['sc'].dtype"
   ]
  },
  {
   "cell_type": "code",
   "execution_count": 105,
   "id": "060c847b",
   "metadata": {},
   "outputs": [
    {
     "data": {
      "text/plain": [
       "17"
      ]
     },
     "execution_count": 105,
     "metadata": {},
     "output_type": "execute_result"
    }
   ],
   "source": [
    "df['sc'].isnull().sum()"
   ]
  },
  {
   "cell_type": "code",
   "execution_count": 107,
   "id": "a7451bb5",
   "metadata": {},
   "outputs": [
    {
     "data": {
      "text/plain": [
       "0"
      ]
     },
     "execution_count": 107,
     "metadata": {},
     "output_type": "execute_result"
    }
   ],
   "source": [
    "# Replace missing values in 'sc' with the median serum creatinine reading.\n",
    "df['sc'].fillna(df['sc'].median(), inplace=True)\n",
    "df['sc'].isnull().sum()"
   ]
  },
  {
   "cell_type": "code",
   "execution_count": 108,
   "id": "e9f50c40",
   "metadata": {},
   "outputs": [
    {
     "data": {
      "image/png": "[encoded data removed]",
      "text/plain": [
       "<Figure size 1000x600 with 1 Axes>"
      ]
     },
     "metadata": {},
     "output_type": "display_data"
    }
   ],
   "source": [
    "sns.set_style(\"whitegrid\")\n",
    "plt.figure(figsize=(10,6))\n",
    "sns.boxplot(x=df['sc'])\n",
    "plt.title('Serum Creatinine Distribution')\n",
    "plt.ylabel('Serum Creatinine')\n",
    "plt.show()"
   ]
  },
  {
   "cell_type": "markdown",
   "id": "c2e89fb6",
   "metadata": {},
   "source": [
    "We will not perform any outlier handling "
   ]
  },
  {
   "cell_type": "code",
   "execution_count": 109,
   "id": "6a2f4074",
   "metadata": {},
   "outputs": [
    {
     "data": {
      "text/plain": [
       "dtype('float64')"
      ]
     },
     "execution_count": 109,
     "metadata": {},
     "output_type": "execute_result"
    }
   ],
   "source": [
    "# Sodium: This column contains the sodium levels of the patients. It is a numerical feature that can be used in model training.\n",
    "df['sod'].dtype"
   ]
  },
  {
   "cell_type": "code",
   "execution_count": 110,
   "id": "739fb8e0",
   "metadata": {},
   "outputs": [
    {
     "data": {
      "text/plain": [
       "87"
      ]
     },
     "execution_count": 110,
     "metadata": {},
     "output_type": "execute_result"
    }
   ],
   "source": [
    "df['sod'].isnull().sum()"
   ]
  },
  {
   "cell_type": "code",
   "execution_count": 111,
   "id": "9ed5163f",
   "metadata": {},
   "outputs": [
    {
     "data": {
      "text/plain": [
       "0"
      ]
     },
     "execution_count": 111,
     "metadata": {},
     "output_type": "execute_result"
    }
   ],
   "source": [
    "# Replace missing values in 'sod' with the median Sodium  reading.\n",
    "df['sod'].fillna(df['sod'].median(), inplace=True)\n",
    "df['sod'].isnull().sum()"
   ]
  },
  {
   "cell_type": "code",
   "execution_count": 112,
   "id": "a81c4a2c",
   "metadata": {},
   "outputs": [
    {
     "data": {
      "image/png": "[encoded data removed]",
      "text/plain": [
       "<Figure size 1000x600 with 1 Axes>"
      ]
     },
     "metadata": {},
     "output_type": "display_data"
    }
   ],
   "source": [
    "# Check outlier in 'sod' column\n",
    "sns.set_style(\"whitegrid\")\n",
    "plt.figure(figsize=(10,6))\n",
    "sns.boxplot(x=df['sod'])\n",
    "plt.title('Sodium Distribution')\n",
    "plt.ylabel('Sodium')\n",
    "plt.show()"
   ]
  },
  {
   "cell_type": "code",
   "execution_count": 113,
   "id": "fd30c3bf",
   "metadata": {},
   "outputs": [
    {
     "data": {
      "text/plain": [
       "count    400.000000\n",
       "mean     137.631250\n",
       "std        9.206332\n",
       "min        4.500000\n",
       "25%      135.000000\n",
       "50%      138.000000\n",
       "75%      141.000000\n",
       "max      163.000000\n",
       "Name: sod, dtype: float64"
      ]
     },
     "execution_count": 113,
     "metadata": {},
     "output_type": "execute_result"
    }
   ],
   "source": [
    "df['sod'].describe()"
   ]
  },
  {
   "cell_type": "code",
   "execution_count": 114,
   "id": "cd4cfbdf",
   "metadata": {},
   "outputs": [],
   "source": [
    "# Outlier Handling for 'sod' column using Capping\n",
    "\n",
    "q1 = df['sod'].quantile(0.25)\n",
    "q3 = df['sod'].quantile(0.75)\n",
    "iqr = q3 - q1\n",
    "lower_bound = q1 - 1.5 * iqr\n",
    "upper_bound = q3 + 1.5 * iqr\n",
    "df['sod'] = np.where(df['sod'] < lower_bound, lower_bound, np.where(df['sod'] > upper_bound, upper_bound, df['sod']))\n",
    "\n"
   ]
  },
  {
   "cell_type": "code",
   "execution_count": 115,
   "id": "1dc293aa",
   "metadata": {},
   "outputs": [
    {
     "data": {
      "text/plain": [
       "(126.0, 150.0)"
      ]
     },
     "execution_count": 115,
     "metadata": {},
     "output_type": "execute_result"
    }
   ],
   "source": [
    "lower_bound, upper_bound"
   ]
  },
  {
   "cell_type": "code",
   "execution_count": 116,
   "id": "57587f73",
   "metadata": {},
   "outputs": [
    {
     "data": {
      "image/png": "[encoded data removed]",
      "text/plain": [
       "<Figure size 800x600 with 1 Axes>"
      ]
     },
     "metadata": {},
     "output_type": "display_data"
    }
   ],
   "source": [
    "plt.figure(figsize=(8, 6))\n",
    "sns.boxplot(y=df['sod'])\n",
    "plt.title('Box Plot of Sodium (After Capping)', fontsize=16)\n",
    "plt.ylabel('Sodium (mEq/L)', fontsize=12)\n",
    "plt.show()"
   ]
  },
  {
   "cell_type": "code",
   "execution_count": 117,
   "id": "bf79933c",
   "metadata": {},
   "outputs": [
    {
     "data": {
      "text/plain": [
       "Index(['age', 'bp', 'sg', 'al', 'su', 'rbc', 'pc', 'pcc', 'ba', 'bgr', 'bu',\n",
       "       'sc', 'sod', 'pot', 'hemo', 'pcv', 'wc', 'rc', 'htn', 'dm', 'cad',\n",
       "       'appet', 'pe', 'ane', 'classification'],\n",
       "      dtype='object')"
      ]
     },
     "execution_count": 117,
     "metadata": {},
     "output_type": "execute_result"
    }
   ],
   "source": [
    "df.columns"
   ]
  },
  {
   "cell_type": "code",
   "execution_count": 118,
   "id": "ca1e60e5",
   "metadata": {},
   "outputs": [
    {
     "data": {
      "text/plain": [
       "dtype('float64')"
      ]
     },
     "execution_count": 118,
     "metadata": {},
     "output_type": "execute_result"
    }
   ],
   "source": [
    "# Potassium: This column contains the potassium levels of the patients. It is a numerical feature that can be used in model training.\n",
    "df['pot'].dtype"
   ]
  },
  {
   "cell_type": "code",
   "execution_count": 119,
   "id": "2800d217",
   "metadata": {},
   "outputs": [
    {
     "data": {
      "text/plain": [
       "88"
      ]
     },
     "execution_count": 119,
     "metadata": {},
     "output_type": "execute_result"
    }
   ],
   "source": [
    "df['pot'].isnull().sum()"
   ]
  },
  {
   "cell_type": "code",
   "execution_count": 122,
   "id": "a9eb3b8e",
   "metadata": {},
   "outputs": [
    {
     "data": {
      "text/plain": [
       "0"
      ]
     },
     "execution_count": 122,
     "metadata": {},
     "output_type": "execute_result"
    }
   ],
   "source": [
    "# Replacing missing values in 'pos' column with the median of 'pos' column\n",
    "df['pot'].fillna(df['pot'].median(), inplace=True)\n",
    "df['pot'].isnull().sum()"
   ]
  },
  {
   "cell_type": "code",
   "execution_count": 124,
   "id": "bcbb03d8",
   "metadata": {},
   "outputs": [
    {
     "data": {
      "text/plain": [
       "count    400.000000\n",
       "mean       4.577250\n",
       "std        2.821357\n",
       "min        2.500000\n",
       "25%        4.000000\n",
       "50%        4.400000\n",
       "75%        4.800000\n",
       "max       47.000000\n",
       "Name: pot, dtype: float64"
      ]
     },
     "execution_count": 124,
     "metadata": {},
     "output_type": "execute_result"
    }
   ],
   "source": [
    "df['pot'].describe()"
   ]
  },
  {
   "cell_type": "code",
   "execution_count": 123,
   "id": "860e0de3",
   "metadata": {},
   "outputs": [
    {
     "data": {
      "image/png": "[encoded data removed]",
      "text/plain": [
       "<Figure size 1000x600 with 1 Axes>"
      ]
     },
     "metadata": {},
     "output_type": "display_data"
    }
   ],
   "source": [
    "# check  outliers in 'pot' column\n",
    "sns.set_style(\"whitegrid\")\n",
    "plt.figure(figsize=(10,6))\n",
    "sns.boxplot(x=df['pot'])\n",
    "plt.title('Potassium Distribution')\n",
    "plt.ylabel('Potassium')\n",
    "plt.show()\n"
   ]
  },
  {
   "cell_type": "code",
   "execution_count": 125,
   "id": "194cfb63",
   "metadata": {},
   "outputs": [],
   "source": [
    "# Handling outliers in 'pot' column using Capping\n",
    "\n",
    "q1 = df['pot'].quantile(0.25)\n",
    "q3 = df['pot'].quantile(0.75)\n",
    "iqr = q3 - q1\n",
    "lower_bound = q1 - 1.5 * iqr\n",
    "upper_bound = q3 + 1.5 * iqr\n",
    "\n",
    "df['pot'] = np.where(df['pot'] < lower_bound, lower_bound, np.where(df['pot'] > upper_bound, upper_bound, df['pot']))"
   ]
  },
  {
   "cell_type": "code",
   "execution_count": 126,
   "id": "761a88a0",
   "metadata": {},
   "outputs": [
    {
     "data": {
      "image/png": "[encoded data removed]",
      "text/plain": [
       "<Figure size 800x600 with 1 Axes>"
      ]
     },
     "metadata": {},
     "output_type": "display_data"
    }
   ],
   "source": [
    "plt.figure(figsize=(8, 6))\n",
    "sns.boxplot(y=df['pot'])\n",
    "plt.title('Box Plot of Potassium (After Capping Both Sides)', fontsize=16)\n",
    "plt.ylabel('Potassium (mEq/L)', fontsize=12)\n",
    "plt.show()"
   ]
  },
  {
   "cell_type": "code",
   "execution_count": 127,
   "id": "4799cbba",
   "metadata": {},
   "outputs": [
    {
     "data": {
      "text/plain": [
       "Index(['age', 'bp', 'sg', 'al', 'su', 'rbc', 'pc', 'pcc', 'ba', 'bgr', 'bu',\n",
       "       'sc', 'sod', 'pot', 'hemo', 'pcv', 'wc', 'rc', 'htn', 'dm', 'cad',\n",
       "       'appet', 'pe', 'ane', 'classification'],\n",
       "      dtype='object')"
      ]
     },
     "execution_count": 127,
     "metadata": {},
     "output_type": "execute_result"
    }
   ],
   "source": [
    "df.columns"
   ]
  },
  {
   "cell_type": "code",
   "execution_count": 128,
   "id": "9ace6139",
   "metadata": {},
   "outputs": [
    {
     "data": {
      "text/plain": [
       "dtype('float64')"
      ]
     },
     "execution_count": 128,
     "metadata": {},
     "output_type": "execute_result"
    }
   ],
   "source": [
    "# Hemoglobin: This column contains the hemoglobin levels of the patients. It is a numerical feature that can be used in model training.\n",
    "df['hemo'].dtype"
   ]
  },
  {
   "cell_type": "code",
   "execution_count": 129,
   "id": "4966dd8d",
   "metadata": {},
   "outputs": [
    {
     "data": {
      "text/plain": [
       "52"
      ]
     },
     "execution_count": 129,
     "metadata": {},
     "output_type": "execute_result"
    }
   ],
   "source": [
    "df['hemo'].isnull().sum()"
   ]
  },
  {
   "cell_type": "code",
   "execution_count": 130,
   "id": "f09c7131",
   "metadata": {},
   "outputs": [
    {
     "data": {
      "text/plain": [
       "0"
      ]
     },
     "execution_count": 130,
     "metadata": {},
     "output_type": "execute_result"
    }
   ],
   "source": [
    "df['hemo'].fillna(df['hemo'].median(), inplace=True)\n",
    "df['hemo'].isnull().sum()"
   ]
  },
  {
   "cell_type": "code",
   "execution_count": 131,
   "id": "ae2943b5",
   "metadata": {},
   "outputs": [
    {
     "data": {
      "text/plain": [
       "count    400.00000\n",
       "mean      12.54250\n",
       "std        2.71649\n",
       "min        3.10000\n",
       "25%       10.87500\n",
       "50%       12.65000\n",
       "75%       14.62500\n",
       "max       17.80000\n",
       "Name: hemo, dtype: float64"
      ]
     },
     "execution_count": 131,
     "metadata": {},
     "output_type": "execute_result"
    }
   ],
   "source": [
    "df['hemo'].describe()"
   ]
  },
  {
   "cell_type": "code",
   "execution_count": 132,
   "id": "06fdb2fb",
   "metadata": {},
   "outputs": [
    {
     "data": {
      "image/png": "[encoded data removed]",
      "text/plain": [
       "<Figure size 1000x600 with 1 Axes>"
      ]
     },
     "metadata": {},
     "output_type": "display_data"
    }
   ],
   "source": [
    "# check outliers in 'hemo' column\n",
    "sns.set_style(\"whitegrid\")\n",
    "plt.figure(figsize=(10,6))\n",
    "sns.boxplot(x=df['hemo'])\n",
    "plt.title('Hemoglobin Distribution')\n",
    "plt.ylabel('Hemoglobin')\n",
    "plt.show()"
   ]
  },
  {
   "cell_type": "markdown",
   "id": "a836f570",
   "metadata": {},
   "source": [
    "These outliers are not noise or data errors. They are a critical signal that we want our model to learn from. Removing or changing them would be a mistake, as it would weaken the connection between low hemoglobin and CKD."
   ]
  },
  {
   "cell_type": "code",
   "execution_count": 133,
   "id": "79529748",
   "metadata": {},
   "outputs": [
    {
     "data": {
      "text/plain": [
       "Index(['age', 'bp', 'sg', 'al', 'su', 'rbc', 'pc', 'pcc', 'ba', 'bgr', 'bu',\n",
       "       'sc', 'sod', 'pot', 'hemo', 'pcv', 'wc', 'rc', 'htn', 'dm', 'cad',\n",
       "       'appet', 'pe', 'ane', 'classification'],\n",
       "      dtype='object')"
      ]
     },
     "execution_count": 133,
     "metadata": {},
     "output_type": "execute_result"
    }
   ],
   "source": [
    "df.columns\n"
   ]
  },
  {
   "cell_type": "code",
   "execution_count": 134,
   "id": "a2b0d447",
   "metadata": {},
   "outputs": [
    {
     "data": {
      "text/plain": [
       "dtype('O')"
      ]
     },
     "execution_count": 134,
     "metadata": {},
     "output_type": "execute_result"
    }
   ],
   "source": [
    "# Packed Cell Volume: This column contains the packed cell volume levels of the patients. It is a numerical feature that can be used in model training.\n",
    "df['pcv'].dtype"
   ]
  },
  {
   "cell_type": "code",
   "execution_count": 136,
   "id": "0094044f",
   "metadata": {},
   "outputs": [
    {
     "data": {
      "text/plain": [
       "array(['44', '38', '31', '32', '35', '39', '36', '33', '29', '28', nan,\n",
       "       '16', '24', '37', '30', '34', '40', '45', '27', '48', '\\t?', '52',\n",
       "       '14', '22', '18', '42', '17', '46', '23', '19', '25', '41', '26',\n",
       "       '15', '21', '43', '20', '\\t43', '47', '9', '49', '50', '53', '51',\n",
       "       '54'], dtype=object)"
      ]
     },
     "execution_count": 136,
     "metadata": {},
     "output_type": "execute_result"
    }
   ],
   "source": [
    "df['pcv'].unique()"
   ]
  },
  {
   "cell_type": "code",
   "execution_count": 138,
   "id": "99537915",
   "metadata": {},
   "outputs": [],
   "source": [
    "# Clean the column \n",
    "# Convert 'pcv' to numeric, forcing errors to NaN\n",
    "\n",
    "df['pcv'] = pd.to_numeric(df['pcv'].str.extract('(\\d+)')[0], errors='coerce')"
   ]
  },
  {
   "cell_type": "code",
   "execution_count": 139,
   "id": "107f102b",
   "metadata": {},
   "outputs": [
    {
     "data": {
      "text/plain": [
       "dtype('float64')"
      ]
     },
     "execution_count": 139,
     "metadata": {},
     "output_type": "execute_result"
    }
   ],
   "source": [
    "df['pcv'].dtype"
   ]
  },
  {
   "cell_type": "code",
   "execution_count": 140,
   "id": "cc291e53",
   "metadata": {},
   "outputs": [
    {
     "data": {
      "text/plain": [
       "71"
      ]
     },
     "execution_count": 140,
     "metadata": {},
     "output_type": "execute_result"
    }
   ],
   "source": [
    "df['pcv'].isnull().sum()"
   ]
  },
  {
   "cell_type": "code",
   "execution_count": 141,
   "id": "99f7c3aa",
   "metadata": {},
   "outputs": [],
   "source": [
    "# Replace missing values in 'pcv' with the median packed cell volume reading.\n",
    "df['pcv'].fillna(df['pcv'].median(), inplace=True)"
   ]
  },
  {
   "cell_type": "code",
   "execution_count": 142,
   "id": "a34f8c0c",
   "metadata": {},
   "outputs": [
    {
     "data": {
      "image/png": "[encoded data removed]",
      "text/plain": [
       "<Figure size 1000x600 with 1 Axes>"
      ]
     },
     "metadata": {},
     "output_type": "display_data"
    }
   ],
   "source": [
    "# Check outliers in 'pcv' column\n",
    "sns.set_style(\"whitegrid\")\n",
    "plt.figure(figsize=(10,6))\n",
    "sns.boxplot(x=df['pcv'])\n",
    "plt.title('Packed Cell Volume Distribution')\n",
    "plt.ylabel('Packed Cell Volume')\n",
    "plt.show()"
   ]
  },
  {
   "cell_type": "code",
   "execution_count": 143,
   "id": "f2c645be",
   "metadata": {},
   "outputs": [
    {
     "data": {
      "text/plain": [
       "Index(['age', 'bp', 'sg', 'al', 'su', 'rbc', 'pc', 'pcc', 'ba', 'bgr', 'bu',\n",
       "       'sc', 'sod', 'pot', 'hemo', 'pcv', 'wc', 'rc', 'htn', 'dm', 'cad',\n",
       "       'appet', 'pe', 'ane', 'classification'],\n",
       "      dtype='object')"
      ]
     },
     "execution_count": 143,
     "metadata": {},
     "output_type": "execute_result"
    }
   ],
   "source": [
    "df.columns"
   ]
  },
  {
   "cell_type": "code",
   "execution_count": 144,
   "id": "ebfece80",
   "metadata": {},
   "outputs": [
    {
     "data": {
      "text/plain": [
       "dtype('O')"
      ]
     },
     "execution_count": 144,
     "metadata": {},
     "output_type": "execute_result"
    }
   ],
   "source": [
    "# White Blood Cell Count: This column contains the white blood cell count of the patients. It is a numerical feature that can be used in model training.\n",
    "df['wc'].dtype"
   ]
  },
  {
   "cell_type": "code",
   "execution_count": 145,
   "id": "5cffb78c",
   "metadata": {},
   "outputs": [
    {
     "data": {
      "text/plain": [
       "array(['7800', '6000', '7500', '6700', '7300', nan, '6900', '9600',\n",
       "       '12100', '4500', '12200', '11000', '3800', '11400', '5300', '9200',\n",
       "       '6200', '8300', '8400', '10300', '9800', '9100', '7900', '6400',\n",
       "       '8600', '18900', '21600', '4300', '8500', '11300', '7200', '7700',\n",
       "       '14600', '6300', '\\t6200', '7100', '11800', '9400', '5500', '5800',\n",
       "       '13200', '12500', '5600', '7000', '11900', '10400', '10700',\n",
       "       '12700', '6800', '6500', '13600', '10200', '9000', '14900', '8200',\n",
       "       '15200', '5000', '16300', '12400', '\\t8400', '10500', '4200',\n",
       "       '4700', '10900', '8100', '9500', '2200', '12800', '11200', '19100',\n",
       "       '\\t?', '12300', '16700', '2600', '26400', '8800', '7400', '4900',\n",
       "       '8000', '12000', '15700', '4100', '5700', '11500', '5400', '10800',\n",
       "       '9900', '5200', '5900', '9300', '9700', '5100', '6600'],\n",
       "      dtype=object)"
      ]
     },
     "execution_count": 145,
     "metadata": {},
     "output_type": "execute_result"
    }
   ],
   "source": [
    "df['wc'].unique()"
   ]
  },
  {
   "cell_type": "code",
   "execution_count": 146,
   "id": "10238a8b",
   "metadata": {},
   "outputs": [],
   "source": [
    "#  Clean the column \n",
    "df['wc'] = pd.to_numeric(df['wc'].str.extract('(\\d+)')[0], errors='coerce')"
   ]
  },
  {
   "cell_type": "code",
   "execution_count": 147,
   "id": "35047e28",
   "metadata": {},
   "outputs": [
    {
     "data": {
      "text/plain": [
       "dtype('float64')"
      ]
     },
     "execution_count": 147,
     "metadata": {},
     "output_type": "execute_result"
    }
   ],
   "source": [
    "df['wc'].dtype"
   ]
  },
  {
   "cell_type": "code",
   "execution_count": 148,
   "id": "d0d68595",
   "metadata": {},
   "outputs": [
    {
     "data": {
      "text/plain": [
       "106"
      ]
     },
     "execution_count": 148,
     "metadata": {},
     "output_type": "execute_result"
    }
   ],
   "source": [
    "df['wc'].isnull().sum()"
   ]
  },
  {
   "cell_type": "code",
   "execution_count": 149,
   "id": "a0aefcae",
   "metadata": {},
   "outputs": [],
   "source": [
    "# Replace missing values in 'wc' with the median white blood cell count reading.\n",
    "df['wc'].fillna(df['wc'].median(), inplace=True) "
   ]
  },
  {
   "cell_type": "code",
   "execution_count": 150,
   "id": "a5850147",
   "metadata": {},
   "outputs": [
    {
     "data": {
      "image/png": "[encoded data removed]",
      "text/plain": [
       "<Figure size 1000x600 with 1 Axes>"
      ]
     },
     "metadata": {},
     "output_type": "display_data"
    }
   ],
   "source": [
    "# check outliers in 'wc' column\n",
    "sns.set_style(\"whitegrid\")\n",
    "plt.figure(figsize=(10,6))\n",
    "sns.boxplot(data=df['wc'])\n",
    "plt.title('White Blood Cell Count Distribution')\n",
    "plt.ylabel('White Blood Cell Count')\n",
    "plt.show()"
   ]
  },
  {
   "cell_type": "code",
   "execution_count": 151,
   "id": "428c3e92",
   "metadata": {},
   "outputs": [],
   "source": [
    "# Handle outliers in 'wc' column using Capping Method\n",
    "\n",
    "q1 = df['wc'].quantile(0.25)\n",
    "q3 = df['wc'].quantile(0.75)\n",
    "iqr = q3 - q1\n",
    "lower_bound = q1 - 1.5 * iqr\n",
    "upper_bound = q3 + 1.5 * iqr\n",
    "df['wc'] = np.where(df['wc'] < lower_bound, lower_bound, np.where(df['wc'] > upper_bound, upper_bound, df['wc']))\n",
    "\n"
   ]
  },
  {
   "cell_type": "code",
   "execution_count": 152,
   "id": "14e025d3",
   "metadata": {},
   "outputs": [
    {
     "data": {
      "image/png": "[encoded data removed]",
      "text/plain": [
       "<Figure size 1000x600 with 1 Axes>"
      ]
     },
     "metadata": {},
     "output_type": "display_data"
    }
   ],
   "source": [
    "sns.set_style(\"whitegrid\")\n",
    "plt.figure(figsize=(10,6))\n",
    "sns.boxplot(data=df['wc'])\n",
    "plt.title('White Blood Cell Count Distribution')\n",
    "plt.ylabel('White Blood Cell Count')\n",
    "plt.show()"
   ]
  },
  {
   "cell_type": "code",
   "execution_count": 154,
   "id": "74197bd2",
   "metadata": {},
   "outputs": [
    {
     "name": "stdout",
     "output_type": "stream",
     "text": [
      "<class 'pandas.core.frame.DataFrame'>\n",
      "RangeIndex: 400 entries, 0 to 399\n",
      "Data columns (total 25 columns):\n",
      " #   Column          Non-Null Count  Dtype  \n",
      "---  ------          --------------  -----  \n",
      " 0   age             400 non-null    float64\n",
      " 1   bp              400 non-null    float64\n",
      " 2   sg              400 non-null    float64\n",
      " 3   al              400 non-null    float64\n",
      " 4   su              400 non-null    float64\n",
      " 5   rbc             400 non-null    object \n",
      " 6   pc              400 non-null    object \n",
      " 7   pcc             400 non-null    object \n",
      " 8   ba              400 non-null    object \n",
      " 9   bgr             400 non-null    float64\n",
      " 10  bu              400 non-null    float64\n",
      " 11  sc              400 non-null    float64\n",
      " 12  sod             400 non-null    float64\n",
      " 13  pot             400 non-null    float64\n",
      " 14  hemo            400 non-null    float64\n",
      " 15  pcv             400 non-null    float64\n",
      " 16  wc              400 non-null    float64\n",
      " 17  rc              270 non-null    object \n",
      " 18  htn             398 non-null    object \n",
      " 19  dm              398 non-null    object \n",
      " 20  cad             398 non-null    object \n",
      " 21  appet           399 non-null    object \n",
      " 22  pe              399 non-null    object \n",
      " 23  ane             399 non-null    object \n",
      " 24  classification  400 non-null    object \n",
      "dtypes: float64(13), object(12)\n",
      "memory usage: 78.3+ KB\n"
     ]
    }
   ],
   "source": [
    "df.info()"
   ]
  },
  {
   "cell_type": "code",
   "execution_count": 157,
   "id": "c0c7ea53",
   "metadata": {},
   "outputs": [
    {
     "data": {
      "text/plain": [
       "Index(['age', 'bp', 'sg', 'al', 'su', 'rbc', 'pc', 'pcc', 'ba', 'bgr', 'bu',\n",
       "       'sc', 'sod', 'pot', 'hemo', 'pcv', 'wc', 'rc', 'htn', 'dm', 'cad',\n",
       "       'appet', 'pe', 'ane', 'classification'],\n",
       "      dtype='object')"
      ]
     },
     "execution_count": 157,
     "metadata": {},
     "output_type": "execute_result"
    }
   ],
   "source": [
    "df.columns"
   ]
  },
  {
   "cell_type": "code",
   "execution_count": 158,
   "id": "16b00e81",
   "metadata": {},
   "outputs": [
    {
     "data": {
      "text/plain": [
       "dtype('O')"
      ]
     },
     "execution_count": 158,
     "metadata": {},
     "output_type": "execute_result"
    }
   ],
   "source": [
    "# Red Blood Cell Count: This column contains the red blood cell count of the patients. It is a numerical feature that can be used in model training.\n",
    "df['rc'].dtype\n"
   ]
  },
  {
   "cell_type": "code",
   "execution_count": 159,
   "id": "dc3d5bff",
   "metadata": {},
   "outputs": [
    {
     "data": {
      "text/plain": [
       "array(['5.2', nan, '3.9', '4.6', '4.4', '5', '4.0', '3.7', '3.8', '3.4',\n",
       "       '2.6', '2.8', '4.3', '3.2', '3.6', '4', '4.1', '4.9', '2.5', '4.2',\n",
       "       '4.5', '3.1', '4.7', '3.5', '6.0', '5.0', '2.1', '5.6', '2.3',\n",
       "       '2.9', '2.7', '8.0', '3.3', '3.0', '3', '2.4', '4.8', '\\t?', '5.4',\n",
       "       '6.1', '6.2', '6.3', '5.1', '5.8', '5.5', '5.3', '6.4', '5.7',\n",
       "       '5.9', '6.5'], dtype=object)"
      ]
     },
     "execution_count": 159,
     "metadata": {},
     "output_type": "execute_result"
    }
   ],
   "source": [
    "df['rc'].unique()"
   ]
  },
  {
   "cell_type": "code",
   "execution_count": 161,
   "id": "e710fa53",
   "metadata": {},
   "outputs": [],
   "source": [
    "# Convert 'rc' to numeric, forcing errors to NaN\n",
    "df['rc'] = pd.to_numeric(df['rc'].str.extract('(\\d+)')[0], errors='coerce')"
   ]
  },
  {
   "cell_type": "code",
   "execution_count": 162,
   "id": "ea988d9d",
   "metadata": {},
   "outputs": [
    {
     "data": {
      "text/plain": [
       "131"
      ]
     },
     "execution_count": 162,
     "metadata": {},
     "output_type": "execute_result"
    }
   ],
   "source": [
    "df['rc'].isnull().sum()"
   ]
  },
  {
   "cell_type": "code",
   "execution_count": 163,
   "id": "ddf61452",
   "metadata": {},
   "outputs": [],
   "source": [
    "# Replace missing values in 'rc' with the median of red blood cell count.\n",
    "df['rc'].fillna(df['rc'].median(), inplace=True)"
   ]
  },
  {
   "cell_type": "code",
   "execution_count": 164,
   "id": "29688e2b",
   "metadata": {},
   "outputs": [
    {
     "data": {
      "text/plain": [
       "0"
      ]
     },
     "execution_count": 164,
     "metadata": {},
     "output_type": "execute_result"
    }
   ],
   "source": [
    "df['rc'].isnull().sum()"
   ]
  },
  {
   "cell_type": "code",
   "execution_count": 165,
   "id": "163a62c4",
   "metadata": {},
   "outputs": [
    {
     "data": {
      "image/png": "[encoded data removed]",
      "text/plain": [
       "<Figure size 1000x600 with 1 Axes>"
      ]
     },
     "metadata": {},
     "output_type": "display_data"
    }
   ],
   "source": [
    "# Check outliers in 'rc' column\n",
    "sns.set_style(\"whitegrid\")\n",
    "plt.figure(figsize=(10,6))\n",
    "sns.boxplot(x=df['rc'])\n",
    "plt.title('Red Blood Cell Count Distribution')\n",
    "plt.ylabel('Red Blood Cell Count')\n",
    "plt.show()"
   ]
  },
  {
   "cell_type": "code",
   "execution_count": 166,
   "id": "0e2702f0",
   "metadata": {},
   "outputs": [],
   "source": [
    "# Handling outliers in 'rc' column using Capping\n",
    "\n",
    "q1 = df['rc'].quantile(0.25)\n",
    "q3 = df['rc'].quantile(0.75)    \n",
    "iqr = q3 - q1\n",
    "lower_bound = q1 - 1.5 * iqr\n",
    "upper_bound = q3 + 1.5 * iqr\n",
    "\n",
    "df['rc'] = np.where(df['rc'] < lower_bound, lower_bound, np.where(df['rc'] > upper_bound, upper_bound, df['rc']))\n",
    "\n"
   ]
  },
  {
   "cell_type": "code",
   "execution_count": 167,
   "id": "b9510471",
   "metadata": {},
   "outputs": [
    {
     "data": {
      "image/png": "[encoded data removed]",
      "text/plain": [
       "<Figure size 1000x600 with 1 Axes>"
      ]
     },
     "metadata": {},
     "output_type": "display_data"
    }
   ],
   "source": [
    "sns.set_style(\"whitegrid\")\n",
    "plt.figure(figsize=(10,6))\n",
    "sns.boxplot(x=df['rc'])\n",
    "plt.title('Red Blood Cell Count Distribution')\n",
    "plt.ylabel('Red Blood Cell Count')\n",
    "plt.show()"
   ]
  },
  {
   "cell_type": "code",
   "execution_count": 168,
   "id": "315ad2b4",
   "metadata": {},
   "outputs": [
    {
     "data": {
      "text/plain": [
       "Index(['age', 'bp', 'sg', 'al', 'su', 'rbc', 'pc', 'pcc', 'ba', 'bgr', 'bu',\n",
       "       'sc', 'sod', 'pot', 'hemo', 'pcv', 'wc', 'rc', 'htn', 'dm', 'cad',\n",
       "       'appet', 'pe', 'ane', 'classification'],\n",
       "      dtype='object')"
      ]
     },
     "execution_count": 168,
     "metadata": {},
     "output_type": "execute_result"
    }
   ],
   "source": [
    "df.columns"
   ]
  },
  {
   "cell_type": "code",
   "execution_count": null,
   "id": "d4906183",
   "metadata": {},
   "outputs": [
    {
     "data": {
      "text/plain": [
       "dtype('O')"
      ]
     },
     "execution_count": 169,
     "metadata": {},
     "output_type": "execute_result"
    }
   ],
   "source": [
    "# Hypertension \n",
    "df['htn'].dtype"
   ]
  },
  {
   "cell_type": "code",
   "execution_count": 170,
   "id": "3e1c7a08",
   "metadata": {},
   "outputs": [
    {
     "data": {
      "text/plain": [
       "array(['yes', 'no', nan], dtype=object)"
      ]
     },
     "execution_count": 170,
     "metadata": {},
     "output_type": "execute_result"
    }
   ],
   "source": [
    "df['htn'].unique()"
   ]
  },
  {
   "cell_type": "code",
   "execution_count": 171,
   "id": "4a01c8e1",
   "metadata": {},
   "outputs": [
    {
     "data": {
      "text/plain": [
       "2"
      ]
     },
     "execution_count": 171,
     "metadata": {},
     "output_type": "execute_result"
    }
   ],
   "source": [
    "df['htn'].isnull().sum()"
   ]
  },
  {
   "cell_type": "code",
   "execution_count": 176,
   "id": "8bb1cc08",
   "metadata": {},
   "outputs": [
    {
     "data": {
      "text/plain": [
       "htn\n",
       "no     251\n",
       "yes    147\n",
       "Name: count, dtype: int64"
      ]
     },
     "execution_count": 176,
     "metadata": {},
     "output_type": "execute_result"
    }
   ],
   "source": [
    "df['htn'].value_counts()"
   ]
  },
  {
   "cell_type": "code",
   "execution_count": 177,
   "id": "802c8700",
   "metadata": {},
   "outputs": [],
   "source": [
    "# Replace missing values in htn with mode of Hypertension\n",
    "df['htn'].fillna(df['htn'].mode()[0], inplace=True)\n"
   ]
  },
  {
   "cell_type": "code",
   "execution_count": 178,
   "id": "69a31264",
   "metadata": {},
   "outputs": [
    {
     "data": {
      "text/plain": [
       "0"
      ]
     },
     "execution_count": 178,
     "metadata": {},
     "output_type": "execute_result"
    }
   ],
   "source": [
    "df['htn'].isnull().sum()"
   ]
  },
  {
   "cell_type": "code",
   "execution_count": 179,
   "id": "f211cf75",
   "metadata": {},
   "outputs": [
    {
     "data": {
      "text/plain": [
       "Index(['age', 'bp', 'sg', 'al', 'su', 'rbc', 'pc', 'pcc', 'ba', 'bgr', 'bu',\n",
       "       'sc', 'sod', 'pot', 'hemo', 'pcv', 'wc', 'rc', 'htn', 'dm', 'cad',\n",
       "       'appet', 'pe', 'ane', 'classification'],\n",
       "      dtype='object')"
      ]
     },
     "execution_count": 179,
     "metadata": {},
     "output_type": "execute_result"
    }
   ],
   "source": [
    "df.columns"
   ]
  },
  {
   "cell_type": "code",
   "execution_count": 180,
   "id": "081a41b6",
   "metadata": {},
   "outputs": [
    {
     "data": {
      "text/plain": [
       "array(['yes', 'no', ' yes', '\\tno', '\\tyes', nan], dtype=object)"
      ]
     },
     "execution_count": 180,
     "metadata": {},
     "output_type": "execute_result"
    }
   ],
   "source": [
    "df['dm'].unique()"
   ]
  },
  {
   "cell_type": "code",
   "execution_count": 181,
   "id": "d34a5224",
   "metadata": {},
   "outputs": [],
   "source": [
    "# List the columns we need to clean \n",
    "categorical_cols = ['dm', 'cad', 'appet', 'pe', 'ane', 'classification']"
   ]
  },
  {
   "cell_type": "code",
   "execution_count": 184,
   "id": "c19538a9",
   "metadata": {},
   "outputs": [
    {
     "data": {
      "text/plain": [
       "dm                2\n",
       "cad               2\n",
       "appet             1\n",
       "pe                1\n",
       "ane               1\n",
       "classification    0\n",
       "dtype: int64"
      ]
     },
     "execution_count": 184,
     "metadata": {},
     "output_type": "execute_result"
    }
   ],
   "source": [
    "# check missing Values  for each columns \n",
    "\n",
    "df[categorical_cols].isnull().sum()"
   ]
  },
  {
   "cell_type": "code",
   "execution_count": 185,
   "id": "d2811509",
   "metadata": {},
   "outputs": [],
   "source": [
    "# loop through each column to perform cleaning\n",
    "for col in categorical_cols:\n",
    "    if df[col].dtype =='object':\n",
    "        df[col] = df[col].str.strip()\n",
    "        df[col] = df[col].replace({\n",
    "            '\\tno': 'no',\n",
    "            '\\tyes': 'yes',\n",
    "            ' yes': 'yes',\n",
    "            'ckd\\t': 'ckd'\n",
    "        })\n",
    "\n",
    "   # Fill missinng values with the mode\n",
    "    df[col].fillna(df[col].mode()[0], inplace=True)\n",
    "        "
   ]
  },
  {
   "cell_type": "code",
   "execution_count": 183,
   "id": "1acad171",
   "metadata": {},
   "outputs": [
    {
     "name": "stdout",
     "output_type": "stream",
     "text": [
      "Unique values in 'dm': ['yes' 'no' nan]\n",
      "Unique values in 'cad': ['no' 'yes' nan]\n",
      "Unique values in 'appet': ['good' 'poor' nan]\n",
      "Unique values in 'pe': ['no' 'yes' nan]\n",
      "Unique values in 'ane': ['no' 'yes' nan]\n",
      "Unique values in 'classification': ['ckd' 'notckd']\n"
     ]
    }
   ],
   "source": [
    "for col in categorical_cols:\n",
    "    print(f\"Unique values in '{col}': {df[col].unique()}\")"
   ]
  },
  {
   "cell_type": "code",
   "execution_count": 186,
   "id": "929d11b5",
   "metadata": {},
   "outputs": [
    {
     "data": {
      "text/plain": [
       "dm                0\n",
       "cad               0\n",
       "appet             0\n",
       "pe                0\n",
       "ane               0\n",
       "classification    0\n",
       "dtype: int64"
      ]
     },
     "execution_count": 186,
     "metadata": {},
     "output_type": "execute_result"
    }
   ],
   "source": [
    "df[categorical_cols].isnull().sum()"
   ]
  },
  {
   "cell_type": "code",
   "execution_count": 188,
   "id": "b29a4829",
   "metadata": {},
   "outputs": [
    {
     "data": {
      "text/plain": [
       "array(['yes', 'no'], dtype=object)"
      ]
     },
     "execution_count": 188,
     "metadata": {},
     "output_type": "execute_result"
    }
   ],
   "source": [
    "df['dm'].unique()"
   ]
  },
  {
   "cell_type": "code",
   "execution_count": 187,
   "id": "a1655869",
   "metadata": {},
   "outputs": [
    {
     "name": "stdout",
     "output_type": "stream",
     "text": [
      "<class 'pandas.core.frame.DataFrame'>\n",
      "RangeIndex: 400 entries, 0 to 399\n",
      "Data columns (total 25 columns):\n",
      " #   Column          Non-Null Count  Dtype  \n",
      "---  ------          --------------  -----  \n",
      " 0   age             400 non-null    float64\n",
      " 1   bp              400 non-null    float64\n",
      " 2   sg              400 non-null    float64\n",
      " 3   al              400 non-null    float64\n",
      " 4   su              400 non-null    float64\n",
      " 5   rbc             400 non-null    object \n",
      " 6   pc              400 non-null    object \n",
      " 7   pcc             400 non-null    object \n",
      " 8   ba              400 non-null    object \n",
      " 9   bgr             400 non-null    float64\n",
      " 10  bu              400 non-null    float64\n",
      " 11  sc              400 non-null    float64\n",
      " 12  sod             400 non-null    float64\n",
      " 13  pot             400 non-null    float64\n",
      " 14  hemo            400 non-null    float64\n",
      " 15  pcv             400 non-null    float64\n",
      " 16  wc              400 non-null    float64\n",
      " 17  rc              400 non-null    float64\n",
      " 18  htn             400 non-null    object \n",
      " 19  dm              400 non-null    object \n",
      " 20  cad             400 non-null    object \n",
      " 21  appet           400 non-null    object \n",
      " 22  pe              400 non-null    object \n",
      " 23  ane             400 non-null    object \n",
      " 24  classification  400 non-null    object \n",
      "dtypes: float64(14), object(11)\n",
      "memory usage: 78.3+ KB\n"
     ]
    }
   ],
   "source": [
    "df.info()"
   ]
  },
  {
   "cell_type": "code",
   "execution_count": 189,
   "id": "6a537d6f",
   "metadata": {},
   "outputs": [],
   "source": [
    "# We will Convert all the binary categorical columns into 1's and 0'set\n",
    "# Define the columns that need to be encoded from text to numbers\n",
    "\n",
    "cols_to_encode = ['rbc', 'pc', 'pcc', 'ba', 'htn', 'dm', 'cad', 'appet', 'pe', 'ane', 'classification']\n",
    "\n",
    "# Define the maping dictionary\n",
    "\n",
    "mapping_dict = {\n",
    "    'normal': 1, 'abnormal': 0,\n",
    "    'present': 1, 'notpresent': 0,\n",
    "    'yes': 1, 'no': 0,\n",
    "    'good': 1, 'poor': 0,\n",
    "    'ckd': 1, 'notckd': 0\n",
    "}\n",
    "\n",
    "# Loop through the columns in DataFrame and apply mapping.\n",
    "\n",
    "for col in cols_to_encode:\n",
    "    df[col] = df[col].map(mapping_dict)\n"
   ]
  },
  {
   "cell_type": "code",
   "execution_count": 190,
   "id": "9938cd15",
   "metadata": {},
   "outputs": [
    {
     "data": {
      "text/html": [
       "<div>\n",
       "<style scoped>\n",
       "    .dataframe tbody tr th:only-of-type {\n",
       "        vertical-align: middle;\n",
       "    }\n",
       "\n",
       "    .dataframe tbody tr th {\n",
       "        vertical-align: top;\n",
       "    }\n",
       "\n",
       "    .dataframe thead th {\n",
       "        text-align: right;\n",
       "    }\n",
       "</style>\n",
       "<table border=\"1\" class=\"dataframe\">\n",
       "  <thead>\n",
       "    <tr style=\"text-align: right;\">\n",
       "      <th></th>\n",
       "      <th>age</th>\n",
       "      <th>bp</th>\n",
       "      <th>sg</th>\n",
       "      <th>al</th>\n",
       "      <th>su</th>\n",
       "      <th>rbc</th>\n",
       "      <th>pc</th>\n",
       "      <th>pcc</th>\n",
       "      <th>ba</th>\n",
       "      <th>bgr</th>\n",
       "      <th>...</th>\n",
       "      <th>pcv</th>\n",
       "      <th>wc</th>\n",
       "      <th>rc</th>\n",
       "      <th>htn</th>\n",
       "      <th>dm</th>\n",
       "      <th>cad</th>\n",
       "      <th>appet</th>\n",
       "      <th>pe</th>\n",
       "      <th>ane</th>\n",
       "      <th>classification</th>\n",
       "    </tr>\n",
       "  </thead>\n",
       "  <tbody>\n",
       "    <tr>\n",
       "      <th>0</th>\n",
       "      <td>48.0</td>\n",
       "      <td>80.0</td>\n",
       "      <td>1.020</td>\n",
       "      <td>1.0</td>\n",
       "      <td>0.0</td>\n",
       "      <td>1</td>\n",
       "      <td>1</td>\n",
       "      <td>0</td>\n",
       "      <td>0</td>\n",
       "      <td>121.0</td>\n",
       "      <td>...</td>\n",
       "      <td>44.0</td>\n",
       "      <td>7800.0</td>\n",
       "      <td>5.0</td>\n",
       "      <td>1</td>\n",
       "      <td>1</td>\n",
       "      <td>0</td>\n",
       "      <td>1</td>\n",
       "      <td>0</td>\n",
       "      <td>0</td>\n",
       "      <td>1</td>\n",
       "    </tr>\n",
       "    <tr>\n",
       "      <th>1</th>\n",
       "      <td>7.0</td>\n",
       "      <td>55.0</td>\n",
       "      <td>1.020</td>\n",
       "      <td>4.0</td>\n",
       "      <td>0.0</td>\n",
       "      <td>1</td>\n",
       "      <td>1</td>\n",
       "      <td>0</td>\n",
       "      <td>0</td>\n",
       "      <td>121.0</td>\n",
       "      <td>...</td>\n",
       "      <td>38.0</td>\n",
       "      <td>6000.0</td>\n",
       "      <td>4.0</td>\n",
       "      <td>0</td>\n",
       "      <td>0</td>\n",
       "      <td>0</td>\n",
       "      <td>1</td>\n",
       "      <td>0</td>\n",
       "      <td>0</td>\n",
       "      <td>1</td>\n",
       "    </tr>\n",
       "    <tr>\n",
       "      <th>2</th>\n",
       "      <td>62.0</td>\n",
       "      <td>80.0</td>\n",
       "      <td>1.010</td>\n",
       "      <td>2.0</td>\n",
       "      <td>3.0</td>\n",
       "      <td>1</td>\n",
       "      <td>1</td>\n",
       "      <td>0</td>\n",
       "      <td>0</td>\n",
       "      <td>423.0</td>\n",
       "      <td>...</td>\n",
       "      <td>31.0</td>\n",
       "      <td>7500.0</td>\n",
       "      <td>4.0</td>\n",
       "      <td>0</td>\n",
       "      <td>1</td>\n",
       "      <td>0</td>\n",
       "      <td>0</td>\n",
       "      <td>0</td>\n",
       "      <td>1</td>\n",
       "      <td>1</td>\n",
       "    </tr>\n",
       "    <tr>\n",
       "      <th>3</th>\n",
       "      <td>48.0</td>\n",
       "      <td>70.0</td>\n",
       "      <td>1.005</td>\n",
       "      <td>4.0</td>\n",
       "      <td>0.0</td>\n",
       "      <td>1</td>\n",
       "      <td>0</td>\n",
       "      <td>1</td>\n",
       "      <td>0</td>\n",
       "      <td>117.0</td>\n",
       "      <td>...</td>\n",
       "      <td>32.0</td>\n",
       "      <td>6700.0</td>\n",
       "      <td>3.0</td>\n",
       "      <td>1</td>\n",
       "      <td>0</td>\n",
       "      <td>0</td>\n",
       "      <td>0</td>\n",
       "      <td>1</td>\n",
       "      <td>1</td>\n",
       "      <td>1</td>\n",
       "    </tr>\n",
       "    <tr>\n",
       "      <th>4</th>\n",
       "      <td>51.0</td>\n",
       "      <td>80.0</td>\n",
       "      <td>1.010</td>\n",
       "      <td>2.0</td>\n",
       "      <td>0.0</td>\n",
       "      <td>1</td>\n",
       "      <td>1</td>\n",
       "      <td>0</td>\n",
       "      <td>0</td>\n",
       "      <td>106.0</td>\n",
       "      <td>...</td>\n",
       "      <td>35.0</td>\n",
       "      <td>7300.0</td>\n",
       "      <td>4.0</td>\n",
       "      <td>0</td>\n",
       "      <td>0</td>\n",
       "      <td>0</td>\n",
       "      <td>1</td>\n",
       "      <td>0</td>\n",
       "      <td>0</td>\n",
       "      <td>1</td>\n",
       "    </tr>\n",
       "  </tbody>\n",
       "</table>\n",
       "<p>5 rows × 25 columns</p>\n",
       "</div>"
      ],
      "text/plain": [
       "    age    bp     sg   al   su  rbc  pc  pcc  ba    bgr  ...   pcv      wc  \\\n",
       "0  48.0  80.0  1.020  1.0  0.0    1   1    0   0  121.0  ...  44.0  7800.0   \n",
       "1   7.0  55.0  1.020  4.0  0.0    1   1    0   0  121.0  ...  38.0  6000.0   \n",
       "2  62.0  80.0  1.010  2.0  3.0    1   1    0   0  423.0  ...  31.0  7500.0   \n",
       "3  48.0  70.0  1.005  4.0  0.0    1   0    1   0  117.0  ...  32.0  6700.0   \n",
       "4  51.0  80.0  1.010  2.0  0.0    1   1    0   0  106.0  ...  35.0  7300.0   \n",
       "\n",
       "    rc  htn  dm  cad  appet  pe  ane  classification  \n",
       "0  5.0    1   1    0      1   0    0               1  \n",
       "1  4.0    0   0    0      1   0    0               1  \n",
       "2  4.0    0   1    0      0   0    1               1  \n",
       "3  3.0    1   0    0      0   1    1               1  \n",
       "4  4.0    0   0    0      1   0    0               1  \n",
       "\n",
       "[5 rows x 25 columns]"
      ]
     },
     "execution_count": 190,
     "metadata": {},
     "output_type": "execute_result"
    }
   ],
   "source": [
    "df.head()"
   ]
  },
  {
   "cell_type": "code",
   "execution_count": 192,
   "id": "374ea8e1",
   "metadata": {},
   "outputs": [],
   "source": [
    "# Feature Scaling using StandarScaler\n",
    "# Separate the featurees(X) from the target variable(y)\n",
    "\n",
    "X =df.drop('classification',axis=1)\n",
    "Y =df['classification']\n",
    "\n",
    "# Initializr the StandardScaler\n",
    "\n",
    "scaler = StandardScaler()\n",
    "\n",
    "# Fit the scaler to the data and transform it\n",
    "X_scaled = scaler.fit_transform(X)"
   ]
  },
  {
   "cell_type": "code",
   "execution_count": 194,
   "id": "46116e5d",
   "metadata": {},
   "outputs": [],
   "source": [
    "# Convert the scaled array back to a DataFrame for better readability \n",
    "\n",
    "X_scaled_df = pd.DataFrame(X_scaled, columns=X.columns)"
   ]
  },
  {
   "cell_type": "code",
   "execution_count": 195,
   "id": "c487f40c",
   "metadata": {},
   "outputs": [
    {
     "data": {
      "text/html": [
       "<div>\n",
       "<style scoped>\n",
       "    .dataframe tbody tr th:only-of-type {\n",
       "        vertical-align: middle;\n",
       "    }\n",
       "\n",
       "    .dataframe tbody tr th {\n",
       "        vertical-align: top;\n",
       "    }\n",
       "\n",
       "    .dataframe thead th {\n",
       "        text-align: right;\n",
       "    }\n",
       "</style>\n",
       "<table border=\"1\" class=\"dataframe\">\n",
       "  <thead>\n",
       "    <tr style=\"text-align: right;\">\n",
       "      <th></th>\n",
       "      <th>age</th>\n",
       "      <th>bp</th>\n",
       "      <th>sg</th>\n",
       "      <th>al</th>\n",
       "      <th>su</th>\n",
       "      <th>rbc</th>\n",
       "      <th>pc</th>\n",
       "      <th>pcc</th>\n",
       "      <th>ba</th>\n",
       "      <th>bgr</th>\n",
       "      <th>...</th>\n",
       "      <th>hemo</th>\n",
       "      <th>pcv</th>\n",
       "      <th>wc</th>\n",
       "      <th>rc</th>\n",
       "      <th>htn</th>\n",
       "      <th>dm</th>\n",
       "      <th>cad</th>\n",
       "      <th>appet</th>\n",
       "      <th>pe</th>\n",
       "      <th>ane</th>\n",
       "    </tr>\n",
       "  </thead>\n",
       "  <tbody>\n",
       "    <tr>\n",
       "      <th>0</th>\n",
       "      <td>-0.210031</td>\n",
       "      <td>0.381013</td>\n",
       "      <td>0.421486</td>\n",
       "      <td>0.076249</td>\n",
       "      <td>-0.380269</td>\n",
       "      <td>0.36489</td>\n",
       "      <td>0.484322</td>\n",
       "      <td>-0.342518</td>\n",
       "      <td>-0.241249</td>\n",
       "      <td>-0.320122</td>\n",
       "      <td>...</td>\n",
       "      <td>1.053226</td>\n",
       "      <td>0.603224</td>\n",
       "      <td>-0.181983</td>\n",
       "      <td>0.977054</td>\n",
       "      <td>1.311903</td>\n",
       "      <td>1.385535</td>\n",
       "      <td>-0.304789</td>\n",
       "      <td>0.507801</td>\n",
       "      <td>-0.484322</td>\n",
       "      <td>-0.420084</td>\n",
       "    </tr>\n",
       "    <tr>\n",
       "      <th>1</th>\n",
       "      <td>-2.627234</td>\n",
       "      <td>-1.900504</td>\n",
       "      <td>0.421486</td>\n",
       "      <td>2.363728</td>\n",
       "      <td>-0.380269</td>\n",
       "      <td>0.36489</td>\n",
       "      <td>0.484322</td>\n",
       "      <td>-0.342518</td>\n",
       "      <td>-0.241249</td>\n",
       "      <td>-0.320122</td>\n",
       "      <td>...</td>\n",
       "      <td>-0.457965</td>\n",
       "      <td>-0.132789</td>\n",
       "      <td>-1.069478</td>\n",
       "      <td>-0.209051</td>\n",
       "      <td>-0.762252</td>\n",
       "      <td>-0.721743</td>\n",
       "      <td>-0.304789</td>\n",
       "      <td>0.507801</td>\n",
       "      <td>-0.484322</td>\n",
       "      <td>-0.420084</td>\n",
       "    </tr>\n",
       "    <tr>\n",
       "      <th>2</th>\n",
       "      <td>0.615355</td>\n",
       "      <td>0.381013</td>\n",
       "      <td>-1.421074</td>\n",
       "      <td>0.838742</td>\n",
       "      <td>2.507853</td>\n",
       "      <td>0.36489</td>\n",
       "      <td>0.484322</td>\n",
       "      <td>-0.342518</td>\n",
       "      <td>-0.241249</td>\n",
       "      <td>3.697618</td>\n",
       "      <td>...</td>\n",
       "      <td>-1.084556</td>\n",
       "      <td>-0.991470</td>\n",
       "      <td>-0.329898</td>\n",
       "      <td>-0.209051</td>\n",
       "      <td>-0.762252</td>\n",
       "      <td>1.385535</td>\n",
       "      <td>-0.304789</td>\n",
       "      <td>-1.969276</td>\n",
       "      <td>-0.484322</td>\n",
       "      <td>2.380476</td>\n",
       "    </tr>\n",
       "    <tr>\n",
       "      <th>3</th>\n",
       "      <td>-0.210031</td>\n",
       "      <td>-0.531594</td>\n",
       "      <td>-2.342354</td>\n",
       "      <td>2.363728</td>\n",
       "      <td>-0.380269</td>\n",
       "      <td>0.36489</td>\n",
       "      <td>-2.064742</td>\n",
       "      <td>2.919556</td>\n",
       "      <td>-0.241249</td>\n",
       "      <td>-0.373337</td>\n",
       "      <td>...</td>\n",
       "      <td>-0.494823</td>\n",
       "      <td>-0.868801</td>\n",
       "      <td>-0.724341</td>\n",
       "      <td>-1.395155</td>\n",
       "      <td>1.311903</td>\n",
       "      <td>-0.721743</td>\n",
       "      <td>-0.304789</td>\n",
       "      <td>-1.969276</td>\n",
       "      <td>2.064742</td>\n",
       "      <td>2.380476</td>\n",
       "    </tr>\n",
       "    <tr>\n",
       "      <th>4</th>\n",
       "      <td>-0.033163</td>\n",
       "      <td>0.381013</td>\n",
       "      <td>-1.421074</td>\n",
       "      <td>0.838742</td>\n",
       "      <td>-0.380269</td>\n",
       "      <td>0.36489</td>\n",
       "      <td>0.484322</td>\n",
       "      <td>-0.342518</td>\n",
       "      <td>-0.241249</td>\n",
       "      <td>-0.519679</td>\n",
       "      <td>...</td>\n",
       "      <td>-0.347390</td>\n",
       "      <td>-0.500795</td>\n",
       "      <td>-0.428509</td>\n",
       "      <td>-0.209051</td>\n",
       "      <td>-0.762252</td>\n",
       "      <td>-0.721743</td>\n",
       "      <td>-0.304789</td>\n",
       "      <td>0.507801</td>\n",
       "      <td>-0.484322</td>\n",
       "      <td>-0.420084</td>\n",
       "    </tr>\n",
       "  </tbody>\n",
       "</table>\n",
       "<p>5 rows × 24 columns</p>\n",
       "</div>"
      ],
      "text/plain": [
       "        age        bp        sg        al        su      rbc        pc  \\\n",
       "0 -0.210031  0.381013  0.421486  0.076249 -0.380269  0.36489  0.484322   \n",
       "1 -2.627234 -1.900504  0.421486  2.363728 -0.380269  0.36489  0.484322   \n",
       "2  0.615355  0.381013 -1.421074  0.838742  2.507853  0.36489  0.484322   \n",
       "3 -0.210031 -0.531594 -2.342354  2.363728 -0.380269  0.36489 -2.064742   \n",
       "4 -0.033163  0.381013 -1.421074  0.838742 -0.380269  0.36489  0.484322   \n",
       "\n",
       "        pcc        ba       bgr  ...      hemo       pcv        wc        rc  \\\n",
       "0 -0.342518 -0.241249 -0.320122  ...  1.053226  0.603224 -0.181983  0.977054   \n",
       "1 -0.342518 -0.241249 -0.320122  ... -0.457965 -0.132789 -1.069478 -0.209051   \n",
       "2 -0.342518 -0.241249  3.697618  ... -1.084556 -0.991470 -0.329898 -0.209051   \n",
       "3  2.919556 -0.241249 -0.373337  ... -0.494823 -0.868801 -0.724341 -1.395155   \n",
       "4 -0.342518 -0.241249 -0.519679  ... -0.347390 -0.500795 -0.428509 -0.209051   \n",
       "\n",
       "        htn        dm       cad     appet        pe       ane  \n",
       "0  1.311903  1.385535 -0.304789  0.507801 -0.484322 -0.420084  \n",
       "1 -0.762252 -0.721743 -0.304789  0.507801 -0.484322 -0.420084  \n",
       "2 -0.762252  1.385535 -0.304789 -1.969276 -0.484322  2.380476  \n",
       "3  1.311903 -0.721743 -0.304789 -1.969276  2.064742  2.380476  \n",
       "4 -0.762252 -0.721743 -0.304789  0.507801 -0.484322 -0.420084  \n",
       "\n",
       "[5 rows x 24 columns]"
      ]
     },
     "execution_count": 195,
     "metadata": {},
     "output_type": "execute_result"
    }
   ],
   "source": [
    "X_scaled_df.head()"
   ]
  },
  {
   "cell_type": "code",
   "execution_count": 196,
   "id": "8132c3d9",
   "metadata": {},
   "outputs": [
    {
     "data": {
      "text/html": [
       "<div>\n",
       "<style scoped>\n",
       "    .dataframe tbody tr th:only-of-type {\n",
       "        vertical-align: middle;\n",
       "    }\n",
       "\n",
       "    .dataframe tbody tr th {\n",
       "        vertical-align: top;\n",
       "    }\n",
       "\n",
       "    .dataframe thead th {\n",
       "        text-align: right;\n",
       "    }\n",
       "</style>\n",
       "<table border=\"1\" class=\"dataframe\">\n",
       "  <thead>\n",
       "    <tr style=\"text-align: right;\">\n",
       "      <th></th>\n",
       "      <th>age</th>\n",
       "      <th>bp</th>\n",
       "      <th>sg</th>\n",
       "      <th>al</th>\n",
       "      <th>su</th>\n",
       "      <th>rbc</th>\n",
       "      <th>pc</th>\n",
       "      <th>pcc</th>\n",
       "      <th>ba</th>\n",
       "      <th>bgr</th>\n",
       "      <th>...</th>\n",
       "      <th>hemo</th>\n",
       "      <th>pcv</th>\n",
       "      <th>wc</th>\n",
       "      <th>rc</th>\n",
       "      <th>htn</th>\n",
       "      <th>dm</th>\n",
       "      <th>cad</th>\n",
       "      <th>appet</th>\n",
       "      <th>pe</th>\n",
       "      <th>ane</th>\n",
       "    </tr>\n",
       "  </thead>\n",
       "  <tbody>\n",
       "    <tr>\n",
       "      <th>count</th>\n",
       "      <td>400.000000</td>\n",
       "      <td>4.000000e+02</td>\n",
       "      <td>4.000000e+02</td>\n",
       "      <td>4.000000e+02</td>\n",
       "      <td>4.000000e+02</td>\n",
       "      <td>4.000000e+02</td>\n",
       "      <td>4.000000e+02</td>\n",
       "      <td>4.000000e+02</td>\n",
       "      <td>4.000000e+02</td>\n",
       "      <td>400.000000</td>\n",
       "      <td>...</td>\n",
       "      <td>4.000000e+02</td>\n",
       "      <td>4.000000e+02</td>\n",
       "      <td>4.000000e+02</td>\n",
       "      <td>4.000000e+02</td>\n",
       "      <td>4.000000e+02</td>\n",
       "      <td>4.000000e+02</td>\n",
       "      <td>4.000000e+02</td>\n",
       "      <td>400.000000</td>\n",
       "      <td>4.000000e+02</td>\n",
       "      <td>400.000000</td>\n",
       "    </tr>\n",
       "    <tr>\n",
       "      <th>mean</th>\n",
       "      <td>0.000000</td>\n",
       "      <td>-2.664535e-16</td>\n",
       "      <td>3.183231e-14</td>\n",
       "      <td>3.552714e-17</td>\n",
       "      <td>-7.105427e-17</td>\n",
       "      <td>2.131628e-16</td>\n",
       "      <td>-1.421085e-16</td>\n",
       "      <td>1.776357e-17</td>\n",
       "      <td>-5.329071e-17</td>\n",
       "      <td>0.000000</td>\n",
       "      <td>...</td>\n",
       "      <td>-2.131628e-16</td>\n",
       "      <td>-4.263256e-16</td>\n",
       "      <td>1.776357e-17</td>\n",
       "      <td>5.329071e-16</td>\n",
       "      <td>3.552714e-17</td>\n",
       "      <td>-7.105427e-17</td>\n",
       "      <td>-9.769963e-17</td>\n",
       "      <td>0.000000</td>\n",
       "      <td>-1.776357e-17</td>\n",
       "      <td>0.000000</td>\n",
       "    </tr>\n",
       "    <tr>\n",
       "      <th>std</th>\n",
       "      <td>1.001252</td>\n",
       "      <td>1.001252e+00</td>\n",
       "      <td>1.001252e+00</td>\n",
       "      <td>1.001252e+00</td>\n",
       "      <td>1.001252e+00</td>\n",
       "      <td>1.001252e+00</td>\n",
       "      <td>1.001252e+00</td>\n",
       "      <td>1.001252e+00</td>\n",
       "      <td>1.001252e+00</td>\n",
       "      <td>1.001252</td>\n",
       "      <td>...</td>\n",
       "      <td>1.001252e+00</td>\n",
       "      <td>1.001252e+00</td>\n",
       "      <td>1.001252e+00</td>\n",
       "      <td>1.001252e+00</td>\n",
       "      <td>1.001252e+00</td>\n",
       "      <td>1.001252e+00</td>\n",
       "      <td>1.001252e+00</td>\n",
       "      <td>1.001252</td>\n",
       "      <td>1.001252e+00</td>\n",
       "      <td>1.001252</td>\n",
       "    </tr>\n",
       "    <tr>\n",
       "      <th>min</th>\n",
       "      <td>-2.922015</td>\n",
       "      <td>-1.900504e+00</td>\n",
       "      <td>-2.342354e+00</td>\n",
       "      <td>-6.862436e-01</td>\n",
       "      <td>-3.802694e-01</td>\n",
       "      <td>-2.740554e+00</td>\n",
       "      <td>-2.064742e+00</td>\n",
       "      <td>-3.425178e-01</td>\n",
       "      <td>-2.412490e-01</td>\n",
       "      <td>-1.637196</td>\n",
       "      <td>...</td>\n",
       "      <td>-3.480346e+00</td>\n",
       "      <td>-3.690182e+00</td>\n",
       "      <td>-2.382230e+00</td>\n",
       "      <td>-1.988208e+00</td>\n",
       "      <td>-7.622517e-01</td>\n",
       "      <td>-7.217427e-01</td>\n",
       "      <td>-3.047887e-01</td>\n",
       "      <td>-1.969276</td>\n",
       "      <td>-4.843221e-01</td>\n",
       "      <td>-0.420084</td>\n",
       "    </tr>\n",
       "    <tr>\n",
       "      <th>25%</th>\n",
       "      <td>-0.563768</td>\n",
       "      <td>-5.315937e-01</td>\n",
       "      <td>-4.997944e-01</td>\n",
       "      <td>-6.862436e-01</td>\n",
       "      <td>-3.802694e-01</td>\n",
       "      <td>3.648897e-01</td>\n",
       "      <td>4.843221e-01</td>\n",
       "      <td>-3.425178e-01</td>\n",
       "      <td>-2.412490e-01</td>\n",
       "      <td>-0.586198</td>\n",
       "      <td>...</td>\n",
       "      <td>-6.146124e-01</td>\n",
       "      <td>-6.234639e-01</td>\n",
       "      <td>-5.887512e-01</td>\n",
       "      <td>-2.090509e-01</td>\n",
       "      <td>-7.622517e-01</td>\n",
       "      <td>-7.217427e-01</td>\n",
       "      <td>-3.047887e-01</td>\n",
       "      <td>0.507801</td>\n",
       "      <td>-4.843221e-01</td>\n",
       "      <td>-0.420084</td>\n",
       "    </tr>\n",
       "    <tr>\n",
       "      <th>50%</th>\n",
       "      <td>0.202662</td>\n",
       "      <td>3.810135e-01</td>\n",
       "      <td>4.214856e-01</td>\n",
       "      <td>-6.862436e-01</td>\n",
       "      <td>-3.802694e-01</td>\n",
       "      <td>3.648897e-01</td>\n",
       "      <td>4.843221e-01</td>\n",
       "      <td>-3.425178e-01</td>\n",
       "      <td>-2.412490e-01</td>\n",
       "      <td>-0.320122</td>\n",
       "      <td>...</td>\n",
       "      <td>3.962269e-02</td>\n",
       "      <td>1.125486e-01</td>\n",
       "      <td>-8.337213e-02</td>\n",
       "      <td>-2.090509e-01</td>\n",
       "      <td>-7.622517e-01</td>\n",
       "      <td>-7.217427e-01</td>\n",
       "      <td>-3.047887e-01</td>\n",
       "      <td>0.507801</td>\n",
       "      <td>-4.843221e-01</td>\n",
       "      <td>-0.420084</td>\n",
       "    </tr>\n",
       "    <tr>\n",
       "      <th>75%</th>\n",
       "      <td>0.733267</td>\n",
       "      <td>3.810135e-01</td>\n",
       "      <td>4.214856e-01</td>\n",
       "      <td>8.387421e-01</td>\n",
       "      <td>-3.802694e-01</td>\n",
       "      <td>3.648897e-01</td>\n",
       "      <td>4.843221e-01</td>\n",
       "      <td>-3.425178e-01</td>\n",
       "      <td>-2.412490e-01</td>\n",
       "      <td>0.065687</td>\n",
       "      <td>...</td>\n",
       "      <td>7.675744e-01</td>\n",
       "      <td>6.032235e-01</td>\n",
       "      <td>6.069017e-01</td>\n",
       "      <td>9.770536e-01</td>\n",
       "      <td>1.311903e+00</td>\n",
       "      <td>1.385535e+00</td>\n",
       "      <td>-3.047887e-01</td>\n",
       "      <td>0.507801</td>\n",
       "      <td>-4.843221e-01</td>\n",
       "      <td>-0.420084</td>\n",
       "    </tr>\n",
       "    <tr>\n",
       "      <th>max</th>\n",
       "      <td>2.266128</td>\n",
       "      <td>1.749924e+00</td>\n",
       "      <td>1.342766e+00</td>\n",
       "      <td>3.126221e+00</td>\n",
       "      <td>4.433268e+00</td>\n",
       "      <td>3.648897e-01</td>\n",
       "      <td>4.843221e-01</td>\n",
       "      <td>2.919556e+00</td>\n",
       "      <td>4.145096e+00</td>\n",
       "      <td>4.588971</td>\n",
       "      <td>...</td>\n",
       "      <td>1.937826e+00</td>\n",
       "      <td>1.829911e+00</td>\n",
       "      <td>2.400381e+00</td>\n",
       "      <td>2.756210e+00</td>\n",
       "      <td>1.311903e+00</td>\n",
       "      <td>1.385535e+00</td>\n",
       "      <td>3.280961e+00</td>\n",
       "      <td>0.507801</td>\n",
       "      <td>2.064742e+00</td>\n",
       "      <td>2.380476</td>\n",
       "    </tr>\n",
       "  </tbody>\n",
       "</table>\n",
       "<p>8 rows × 24 columns</p>\n",
       "</div>"
      ],
      "text/plain": [
       "              age            bp            sg            al            su  \\\n",
       "count  400.000000  4.000000e+02  4.000000e+02  4.000000e+02  4.000000e+02   \n",
       "mean     0.000000 -2.664535e-16  3.183231e-14  3.552714e-17 -7.105427e-17   \n",
       "std      1.001252  1.001252e+00  1.001252e+00  1.001252e+00  1.001252e+00   \n",
       "min     -2.922015 -1.900504e+00 -2.342354e+00 -6.862436e-01 -3.802694e-01   \n",
       "25%     -0.563768 -5.315937e-01 -4.997944e-01 -6.862436e-01 -3.802694e-01   \n",
       "50%      0.202662  3.810135e-01  4.214856e-01 -6.862436e-01 -3.802694e-01   \n",
       "75%      0.733267  3.810135e-01  4.214856e-01  8.387421e-01 -3.802694e-01   \n",
       "max      2.266128  1.749924e+00  1.342766e+00  3.126221e+00  4.433268e+00   \n",
       "\n",
       "                rbc            pc           pcc            ba         bgr  \\\n",
       "count  4.000000e+02  4.000000e+02  4.000000e+02  4.000000e+02  400.000000   \n",
       "mean   2.131628e-16 -1.421085e-16  1.776357e-17 -5.329071e-17    0.000000   \n",
       "std    1.001252e+00  1.001252e+00  1.001252e+00  1.001252e+00    1.001252   \n",
       "min   -2.740554e+00 -2.064742e+00 -3.425178e-01 -2.412490e-01   -1.637196   \n",
       "25%    3.648897e-01  4.843221e-01 -3.425178e-01 -2.412490e-01   -0.586198   \n",
       "50%    3.648897e-01  4.843221e-01 -3.425178e-01 -2.412490e-01   -0.320122   \n",
       "75%    3.648897e-01  4.843221e-01 -3.425178e-01 -2.412490e-01    0.065687   \n",
       "max    3.648897e-01  4.843221e-01  2.919556e+00  4.145096e+00    4.588971   \n",
       "\n",
       "       ...          hemo           pcv            wc            rc  \\\n",
       "count  ...  4.000000e+02  4.000000e+02  4.000000e+02  4.000000e+02   \n",
       "mean   ... -2.131628e-16 -4.263256e-16  1.776357e-17  5.329071e-16   \n",
       "std    ...  1.001252e+00  1.001252e+00  1.001252e+00  1.001252e+00   \n",
       "min    ... -3.480346e+00 -3.690182e+00 -2.382230e+00 -1.988208e+00   \n",
       "25%    ... -6.146124e-01 -6.234639e-01 -5.887512e-01 -2.090509e-01   \n",
       "50%    ...  3.962269e-02  1.125486e-01 -8.337213e-02 -2.090509e-01   \n",
       "75%    ...  7.675744e-01  6.032235e-01  6.069017e-01  9.770536e-01   \n",
       "max    ...  1.937826e+00  1.829911e+00  2.400381e+00  2.756210e+00   \n",
       "\n",
       "                htn            dm           cad       appet            pe  \\\n",
       "count  4.000000e+02  4.000000e+02  4.000000e+02  400.000000  4.000000e+02   \n",
       "mean   3.552714e-17 -7.105427e-17 -9.769963e-17    0.000000 -1.776357e-17   \n",
       "std    1.001252e+00  1.001252e+00  1.001252e+00    1.001252  1.001252e+00   \n",
       "min   -7.622517e-01 -7.217427e-01 -3.047887e-01   -1.969276 -4.843221e-01   \n",
       "25%   -7.622517e-01 -7.217427e-01 -3.047887e-01    0.507801 -4.843221e-01   \n",
       "50%   -7.622517e-01 -7.217427e-01 -3.047887e-01    0.507801 -4.843221e-01   \n",
       "75%    1.311903e+00  1.385535e+00 -3.047887e-01    0.507801 -4.843221e-01   \n",
       "max    1.311903e+00  1.385535e+00  3.280961e+00    0.507801  2.064742e+00   \n",
       "\n",
       "              ane  \n",
       "count  400.000000  \n",
       "mean     0.000000  \n",
       "std      1.001252  \n",
       "min     -0.420084  \n",
       "25%     -0.420084  \n",
       "50%     -0.420084  \n",
       "75%     -0.420084  \n",
       "max      2.380476  \n",
       "\n",
       "[8 rows x 24 columns]"
      ]
     },
     "execution_count": 196,
     "metadata": {},
     "output_type": "execute_result"
    }
   ],
   "source": [
    "X_scaled_df.describe()"
   ]
  },
  {
   "cell_type": "code",
   "execution_count": 197,
   "id": "2873b255",
   "metadata": {},
   "outputs": [],
   "source": [
    "# combine Scaled Features and Target into a Final DataFrame\n",
    "\n",
    "final_df =pd.concat([X_scaled_df,Y],axis=1)\n"
   ]
  },
  {
   "cell_type": "code",
   "execution_count": 198,
   "id": "9e76d3b1",
   "metadata": {},
   "outputs": [
    {
     "data": {
      "text/html": [
       "<div>\n",
       "<style scoped>\n",
       "    .dataframe tbody tr th:only-of-type {\n",
       "        vertical-align: middle;\n",
       "    }\n",
       "\n",
       "    .dataframe tbody tr th {\n",
       "        vertical-align: top;\n",
       "    }\n",
       "\n",
       "    .dataframe thead th {\n",
       "        text-align: right;\n",
       "    }\n",
       "</style>\n",
       "<table border=\"1\" class=\"dataframe\">\n",
       "  <thead>\n",
       "    <tr style=\"text-align: right;\">\n",
       "      <th></th>\n",
       "      <th>age</th>\n",
       "      <th>bp</th>\n",
       "      <th>sg</th>\n",
       "      <th>al</th>\n",
       "      <th>su</th>\n",
       "      <th>rbc</th>\n",
       "      <th>pc</th>\n",
       "      <th>pcc</th>\n",
       "      <th>ba</th>\n",
       "      <th>bgr</th>\n",
       "      <th>...</th>\n",
       "      <th>pcv</th>\n",
       "      <th>wc</th>\n",
       "      <th>rc</th>\n",
       "      <th>htn</th>\n",
       "      <th>dm</th>\n",
       "      <th>cad</th>\n",
       "      <th>appet</th>\n",
       "      <th>pe</th>\n",
       "      <th>ane</th>\n",
       "      <th>classification</th>\n",
       "    </tr>\n",
       "  </thead>\n",
       "  <tbody>\n",
       "    <tr>\n",
       "      <th>0</th>\n",
       "      <td>-0.210031</td>\n",
       "      <td>0.381013</td>\n",
       "      <td>0.421486</td>\n",
       "      <td>0.076249</td>\n",
       "      <td>-0.380269</td>\n",
       "      <td>0.36489</td>\n",
       "      <td>0.484322</td>\n",
       "      <td>-0.342518</td>\n",
       "      <td>-0.241249</td>\n",
       "      <td>-0.320122</td>\n",
       "      <td>...</td>\n",
       "      <td>0.603224</td>\n",
       "      <td>-0.181983</td>\n",
       "      <td>0.977054</td>\n",
       "      <td>1.311903</td>\n",
       "      <td>1.385535</td>\n",
       "      <td>-0.304789</td>\n",
       "      <td>0.507801</td>\n",
       "      <td>-0.484322</td>\n",
       "      <td>-0.420084</td>\n",
       "      <td>1</td>\n",
       "    </tr>\n",
       "    <tr>\n",
       "      <th>1</th>\n",
       "      <td>-2.627234</td>\n",
       "      <td>-1.900504</td>\n",
       "      <td>0.421486</td>\n",
       "      <td>2.363728</td>\n",
       "      <td>-0.380269</td>\n",
       "      <td>0.36489</td>\n",
       "      <td>0.484322</td>\n",
       "      <td>-0.342518</td>\n",
       "      <td>-0.241249</td>\n",
       "      <td>-0.320122</td>\n",
       "      <td>...</td>\n",
       "      <td>-0.132789</td>\n",
       "      <td>-1.069478</td>\n",
       "      <td>-0.209051</td>\n",
       "      <td>-0.762252</td>\n",
       "      <td>-0.721743</td>\n",
       "      <td>-0.304789</td>\n",
       "      <td>0.507801</td>\n",
       "      <td>-0.484322</td>\n",
       "      <td>-0.420084</td>\n",
       "      <td>1</td>\n",
       "    </tr>\n",
       "    <tr>\n",
       "      <th>2</th>\n",
       "      <td>0.615355</td>\n",
       "      <td>0.381013</td>\n",
       "      <td>-1.421074</td>\n",
       "      <td>0.838742</td>\n",
       "      <td>2.507853</td>\n",
       "      <td>0.36489</td>\n",
       "      <td>0.484322</td>\n",
       "      <td>-0.342518</td>\n",
       "      <td>-0.241249</td>\n",
       "      <td>3.697618</td>\n",
       "      <td>...</td>\n",
       "      <td>-0.991470</td>\n",
       "      <td>-0.329898</td>\n",
       "      <td>-0.209051</td>\n",
       "      <td>-0.762252</td>\n",
       "      <td>1.385535</td>\n",
       "      <td>-0.304789</td>\n",
       "      <td>-1.969276</td>\n",
       "      <td>-0.484322</td>\n",
       "      <td>2.380476</td>\n",
       "      <td>1</td>\n",
       "    </tr>\n",
       "    <tr>\n",
       "      <th>3</th>\n",
       "      <td>-0.210031</td>\n",
       "      <td>-0.531594</td>\n",
       "      <td>-2.342354</td>\n",
       "      <td>2.363728</td>\n",
       "      <td>-0.380269</td>\n",
       "      <td>0.36489</td>\n",
       "      <td>-2.064742</td>\n",
       "      <td>2.919556</td>\n",
       "      <td>-0.241249</td>\n",
       "      <td>-0.373337</td>\n",
       "      <td>...</td>\n",
       "      <td>-0.868801</td>\n",
       "      <td>-0.724341</td>\n",
       "      <td>-1.395155</td>\n",
       "      <td>1.311903</td>\n",
       "      <td>-0.721743</td>\n",
       "      <td>-0.304789</td>\n",
       "      <td>-1.969276</td>\n",
       "      <td>2.064742</td>\n",
       "      <td>2.380476</td>\n",
       "      <td>1</td>\n",
       "    </tr>\n",
       "    <tr>\n",
       "      <th>4</th>\n",
       "      <td>-0.033163</td>\n",
       "      <td>0.381013</td>\n",
       "      <td>-1.421074</td>\n",
       "      <td>0.838742</td>\n",
       "      <td>-0.380269</td>\n",
       "      <td>0.36489</td>\n",
       "      <td>0.484322</td>\n",
       "      <td>-0.342518</td>\n",
       "      <td>-0.241249</td>\n",
       "      <td>-0.519679</td>\n",
       "      <td>...</td>\n",
       "      <td>-0.500795</td>\n",
       "      <td>-0.428509</td>\n",
       "      <td>-0.209051</td>\n",
       "      <td>-0.762252</td>\n",
       "      <td>-0.721743</td>\n",
       "      <td>-0.304789</td>\n",
       "      <td>0.507801</td>\n",
       "      <td>-0.484322</td>\n",
       "      <td>-0.420084</td>\n",
       "      <td>1</td>\n",
       "    </tr>\n",
       "  </tbody>\n",
       "</table>\n",
       "<p>5 rows × 25 columns</p>\n",
       "</div>"
      ],
      "text/plain": [
       "        age        bp        sg        al        su      rbc        pc  \\\n",
       "0 -0.210031  0.381013  0.421486  0.076249 -0.380269  0.36489  0.484322   \n",
       "1 -2.627234 -1.900504  0.421486  2.363728 -0.380269  0.36489  0.484322   \n",
       "2  0.615355  0.381013 -1.421074  0.838742  2.507853  0.36489  0.484322   \n",
       "3 -0.210031 -0.531594 -2.342354  2.363728 -0.380269  0.36489 -2.064742   \n",
       "4 -0.033163  0.381013 -1.421074  0.838742 -0.380269  0.36489  0.484322   \n",
       "\n",
       "        pcc        ba       bgr  ...       pcv        wc        rc       htn  \\\n",
       "0 -0.342518 -0.241249 -0.320122  ...  0.603224 -0.181983  0.977054  1.311903   \n",
       "1 -0.342518 -0.241249 -0.320122  ... -0.132789 -1.069478 -0.209051 -0.762252   \n",
       "2 -0.342518 -0.241249  3.697618  ... -0.991470 -0.329898 -0.209051 -0.762252   \n",
       "3  2.919556 -0.241249 -0.373337  ... -0.868801 -0.724341 -1.395155  1.311903   \n",
       "4 -0.342518 -0.241249 -0.519679  ... -0.500795 -0.428509 -0.209051 -0.762252   \n",
       "\n",
       "         dm       cad     appet        pe       ane  classification  \n",
       "0  1.385535 -0.304789  0.507801 -0.484322 -0.420084               1  \n",
       "1 -0.721743 -0.304789  0.507801 -0.484322 -0.420084               1  \n",
       "2  1.385535 -0.304789 -1.969276 -0.484322  2.380476               1  \n",
       "3 -0.721743 -0.304789 -1.969276  2.064742  2.380476               1  \n",
       "4 -0.721743 -0.304789  0.507801 -0.484322 -0.420084               1  \n",
       "\n",
       "[5 rows x 25 columns]"
      ]
     },
     "execution_count": 198,
     "metadata": {},
     "output_type": "execute_result"
    }
   ],
   "source": [
    "final_df.head()"
   ]
  },
  {
   "cell_type": "code",
   "execution_count": 199,
   "id": "caedd237",
   "metadata": {},
   "outputs": [],
   "source": [
    "final_df.to_csv('kidney_disease_preprocessed.csv', index =False)"
   ]
  }
 ],
 "metadata": {
  "kernelspec": {
   "display_name": "base",
   "language": "python",
   "name": "python3"
  },
  "language_info": {
   "codemirror_mode": {
    "name": "ipython",
    "version": 3
   },
   "file_extension": ".py",
   "mimetype": "text/x-python",
   "name": "python",
   "nbconvert_exporter": "python",
   "pygments_lexer": "ipython3",
   "version": "3.12.4"
  }
 },
 "nbformat": 4,
 "nbformat_minor": 5
}
